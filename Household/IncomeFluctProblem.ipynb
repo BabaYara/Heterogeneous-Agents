{
 "cells": [
  {
   "cell_type": "markdown",
   "metadata": {},
   "source": [
    "This notebook solves a household problem with stochastic income fluctuation.\n",
    "Model\n",
    "--\n",
    "The household chooses its consumption and savings while being constraint by its budget set. Savings pay a constant interest rate.\n",
    "\n",
    "The sequence problem:\n",
    "$$\\underset{ \\left(c_t, a_{t+1}\\right)_{t=0}^\\infty } {max} \\sum_{t=0}^\\infty \\beta^t \\, u( c_t )$$\n",
    "s.t.\n",
    "$$a_{t+1} = (1+r) a_t + y(s_t) - c_t \\quad \\forall t$$\n",
    "$$a_t \\geq \\underline{a}\\quad\\forall t$$\n",
    "$$a_0 \\, \\text{given}$$\n",
    "\n",
    "can be written recursively as:\n",
    "\n",
    "$$V(a, s) = \\underset{ a' \\geq \\underline{a} } {max} \\, u\\big( (1+r) a + y(s) - a'  \\big) + \\beta \\, \\mathbb{E} \\Big[ V \\big(a', s' \\big) \\, \\big| \\,\\theta \\Big]$$\n",
    "The solution of this Bellman equation is a policy function $a'(a, s)$ for consumption."
   ]
  },
  {
   "cell_type": "code",
   "execution_count": 1,
   "metadata": {},
   "outputs": [
    {
     "name": "stderr",
     "output_type": "stream",
     "text": [
      "\u001b[1m\u001b[33mWARNING: \u001b[39m\u001b[22m\u001b[33mNo working GUI backend found for matplotlib\u001b[39m\n"
     ]
    }
   ],
   "source": [
    "using Parameters\n",
    "using BasisMatrices\n",
    "using LaTeXStrings\n",
    "using Plots; pyplot();\n",
    "using QuantEcon"
   ]
  },
  {
   "cell_type": "code",
   "execution_count": 2,
   "metadata": {
    "scrolled": false
   },
   "outputs": [
    {
     "data": {
      "text/plain": [
       "u_crra_prime_inv (generic function with 1 method)"
      ]
     },
     "execution_count": 2,
     "metadata": {},
     "output_type": "execute_result"
    }
   ],
   "source": [
    "@with_kw immutable HHwIncomeFluct\n",
    "    β::Float64                           # discount factor\n",
    "    γ::Float64                           # RRA\n",
    "    Π::Array{Float64,2}                  # transition probabilities\n",
    "    Y::Vector{Float64}                   # income grid\n",
    "    r::Float64                           # interest rate\n",
    "end\n",
    "\n",
    "household = HHwIncomeFluct(β = 0.95, γ = 2, Π = [0.95 0.05 0.0; 0.10 0.70 0.20; 0.0 0.25 0.75], \n",
    "    Y = [0.25, 0.75, 1.0], r = 0.02);\n",
    "\n",
    "u_crra(c, γ) = c.^(1-γ) ./ (1-γ)\n",
    "u_crra_prime(c, γ) = c.^-γ\n",
    "u_crra_prime_inv(u, γ) = u.^(-1/γ)"
   ]
  },
  {
   "cell_type": "code",
   "execution_count": 3,
   "metadata": {
    "collapsed": true
   },
   "outputs": [],
   "source": [
    "@unpack β, γ, Π, Y, r = household\n",
    "\n",
    "basis = Basis(ChebParams(12, 0, 20), LinParams(Y, 0))\n",
    "#basis = Basis(SplineParams(linspace(0.1,20,10), 0, 3), LinParams(Y, 0))\n",
    "\n",
    "Ψ = BasisMatrix(basis, Expanded()).vals[1]\n",
    "S, (A, Y) = nodes(basis);"
   ]
  },
  {
   "cell_type": "code",
   "execution_count": 4,
   "metadata": {
    "collapsed": true
   },
   "outputs": [],
   "source": [
    "V0 = vcat(3+log.(A+10), 3.1+log.(A+15), 3.2+log.(A+20))\n",
    "c0 = Ψ \\ V0;"
   ]
  },
  {
   "cell_type": "markdown",
   "metadata": {},
   "source": [
    "Numerical Method: Envelope Condition\n",
    "--"
   ]
  },
  {
   "cell_type": "code",
   "execution_count": 17,
   "metadata": {
    "scrolled": false
   },
   "outputs": [
    {
     "ename": "LoadError",
     "evalue": "DomainError:\nExponentiation yielding a complex result requires a complex argument.\nReplace x^y with (x+0im)^y, Complex(x)^y, or similar.",
     "output_type": "error",
     "traceback": [
      "DomainError:\nExponentiation yielding a complex result requires a complex argument.\nReplace x^y with (x+0im)^y, Complex(x)^y, or similar.",
      "",
      "Stacktrace:",
      " [1] \u001b[1mnan_dom_err\u001b[22m\u001b[22m at \u001b[1m.\\math.jl:300\u001b[22m\u001b[22m [inlined]",
      " [2] \u001b[1m^\u001b[22m\u001b[22m at \u001b[1m.\\math.jl:699\u001b[22m\u001b[22m [inlined]",
      " [3] \u001b[1mmacro expansion\u001b[22m\u001b[22m at \u001b[1m.\\broadcast.jl:153\u001b[22m\u001b[22m [inlined]",
      " [4] \u001b[1mmacro expansion\u001b[22m\u001b[22m at \u001b[1m.\\simdloop.jl:73\u001b[22m\u001b[22m [inlined]",
      " [5] \u001b[1mmacro expansion\u001b[22m\u001b[22m at \u001b[1m.\\broadcast.jl:147\u001b[22m\u001b[22m [inlined]",
      " [6] \u001b[1m_broadcast!\u001b[22m\u001b[22m\u001b[1m(\u001b[22m\u001b[22m::Base.#^, ::Array{Float64,1}, ::Tuple{Tuple{Bool},Tuple{}}, ::Tuple{Tuple{Int64},Tuple{}}, ::Array{Float64,1}, ::Tuple{Float64}, ::Type{Val{1}}, ::CartesianRange{CartesianIndex{1}}\u001b[1m)\u001b[22m\u001b[22m at \u001b[1m.\\broadcast.jl:139\u001b[22m\u001b[22m",
      " [7] \u001b[1mbroadcast_t\u001b[22m\u001b[22m\u001b[1m(\u001b[22m\u001b[22m::Function, ::Type{T} where T, ::Tuple{Base.OneTo{Int64}}, ::CartesianRange{CartesianIndex{1}}, ::Array{Float64,1}, ::Float64\u001b[1m)\u001b[22m\u001b[22m at \u001b[1m.\\broadcast.jl:268\u001b[22m\u001b[22m",
      " [8] \u001b[1mbroadcast_c\u001b[22m\u001b[22m at \u001b[1m.\\broadcast.jl:314\u001b[22m\u001b[22m [inlined]",
      " [9] \u001b[1mbroadcast\u001b[22m\u001b[22m\u001b[1m(\u001b[22m\u001b[22m::Function, ::Array{Float64,1}, ::Float64\u001b[1m)\u001b[22m\u001b[22m at \u001b[1m.\\broadcast.jl:434\u001b[22m\u001b[22m",
      " [10] \u001b[1mmacro expansion\u001b[22m\u001b[22m at \u001b[1m.\\In[17]:18\u001b[22m\u001b[22m [inlined]",
      " [11] \u001b[1manonymous\u001b[22m\u001b[22m at \u001b[1m.\\<missing>:?\u001b[22m\u001b[22m"
     ]
    }
   ],
   "source": [
    "c = copy(c0)\n",
    "V = copy(V0)\n",
    "\n",
    "V_old = zeros(V0)\n",
    "uprime = zeros(V0)\n",
    "stop = false\n",
    "iteration = 0\n",
    "\n",
    "#plot(A, BasisMatrix(basis, Expanded(), hcat(collect(A), 0.75*ones(A))).vals[1] * c, label = iteration)\n",
    "plot(A, reshape(V[1:12], 12,1), label = iteration)\n",
    "\n",
    "while !stop\n",
    "    \n",
    "    V_old = copy(V)\n",
    "    uprime = BasisMatrix(basis, Expanded(), S, [1 0]).vals[1] * c ./ (1+r)\n",
    "#    uprime = ifelse.(uprime .> 0, uprime, vcat(uprime[1], uprime[1:35]))\n",
    "    \n",
    "    cons = u_crra_prime_inv(uprime, γ) \n",
    "    \n",
    "    aprime = S[:,2] + (1+r) * S[:,1] - cons\n",
    "    \n",
    "    binding = aprime .< A[1]\n",
    "    \n",
    "    cons = ifelse.(binding, (1+r)*S[:,1] + S[:,2] - A[1], cons)\n",
    "    aprime = ifelse.(binding, A[1], aprime)\n",
    "    \n",
    "    V = (u_crra(cons, γ) + β * sum(kron(Π, fill(1,12)) .* \n",
    "            hcat([(BasisMatrix(basis, Expanded(), hcat(aprime, fill(y,length(aprime)))).vals[1] * c) for y in Y]...),2))[:,1]\n",
    "    \n",
    "    c = Ψ \\ V;\n",
    "    \n",
    "    if (maximum(abs.(V-V_old)) < 1e-10 || iteration == 2)\n",
    "        stop = true\n",
    "    end\n",
    "    \n",
    "    iteration += 1\n",
    "    if (iteration % 1 == 0) \n",
    "        #plot!(A, BasisMatrix(basis, Expanded(), hcat(collect(A), 0.75*ones(A))).vals[1] * c, label = iteration)\n",
    "        plot!(A, reshape(V[1:12], 12,1), label = iteration)\n",
    "    end\n",
    "end\n",
    "\n",
    "#plot!(A, BasisMatrix(basis, Expanded(), hcat(collect(A), 0.75*ones(A))).vals[1] * c, label = iteration)\n",
    "plot!(A, reshape(V[1:12], 12,1), label = iteration)"
   ]
  },
  {
   "cell_type": "code",
   "execution_count": 18,
   "metadata": {
    "scrolled": false
   },
   "outputs": [
    {
     "data": {
      "text/html": [
       "<img src=\"data:image/png;base64,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\" />"
      ]
     },
     "execution_count": 18,
     "metadata": {},
     "output_type": "execute_result"
    }
   ],
   "source": [
    "plot(A, reshape(V, 12,3), label = iteration, alpha = 0.3)\n",
    "plot!(A, reshape(BasisMatrix(basis, Expanded(), S, [0 0]).vals[1] * c, 12,3))"
   ]
  },
  {
   "cell_type": "code",
   "execution_count": 19,
   "metadata": {},
   "outputs": [
    {
     "data": {
      "text/html": [
       "<img src=\"data:image/png;base64,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\" />"
      ]
     },
     "execution_count": 19,
     "metadata": {},
     "output_type": "execute_result"
    }
   ],
   "source": [
    "plot(A, reshape(BasisMatrix(basis, Expanded(), S, [1 0]).vals[1] * c, 12, 3), label = iteration)"
   ]
  },
  {
   "cell_type": "markdown",
   "metadata": {},
   "source": [
    "Numerical Method: Collocation\n",
    "--"
   ]
  },
  {
   "cell_type": "code",
   "execution_count": 8,
   "metadata": {
    "collapsed": true
   },
   "outputs": [],
   "source": [
    "using Parameters\n",
    "using BasisMatrices\n",
    "using LaTeXStrings\n",
    "using Plots; pyplot();\n",
    "using QuantEcon"
   ]
  },
  {
   "cell_type": "code",
   "execution_count": null,
   "metadata": {
    "collapsed": true
   },
   "outputs": [],
   "source": [
    "@with_kw mutable struct HHwIncomeFluct\n",
    "    β::Float64                           # discount factor\n",
    "    γ::Float64                           # RRA\n",
    "\n",
    "    # income\n",
    "    Y_chain::MarkovChain{Float64, Matrix{Float64}, Vector{Float64}} # Markov chain of income\n",
    "    \n",
    "    # assets\n",
    "    r::Float64                           # interest rate\n",
    "    A::Vector{Float64}\n",
    "    \n",
    "    basis::Basis                         # main Basis type\n",
    "    bs::BasisMatrix                      # main basis matrix (Direct)\n",
    "    Φ::SparseMatrixCSC                   # main basis matric (Expanded)\n",
    "    Emat::SparseMatrixCSC                # transition matrix times basis matrix\n",
    "    Φy::SparseMatrixCSC                  # income part of the basis matrix\n",
    "end\n",
    "\n",
    "household = HHwIncomeFluct(β = 0.95, γ = 2, Π = [0.95 0.05 0.0; 0.10 0.70 0.20; 0.0 0.25 0.75], \n",
    "    Y = [0.25, 0.75, 1.0], r = 0.02);\n",
    "\n",
    "u_crra(c, γ) = c.^(1-γ) ./ (1-γ)\n",
    "u_crra_prime(c, γ) = c.^-γ\n",
    "u_crra_prime_inv(u, γ) = u.^(-1/γ)"
   ]
  },
  {
   "cell_type": "code",
   "execution_count": 5,
   "metadata": {
    "collapsed": true
   },
   "outputs": [],
   "source": [
    "Emat = kron(Π, speye(length(A)))*Ψ;"
   ]
  },
  {
   "cell_type": "code",
   "execution_count": 6,
   "metadata": {},
   "outputs": [
    {
     "ename": "LoadError",
     "evalue": "\u001b[91mMethodError: First argument to `convert` must be a Type, got BasisMatrix{BasisMatrices.Direct} of order [0 0]\u001b[39m",
     "output_type": "error",
     "traceback": [
      "\u001b[91mMethodError: First argument to `convert` must be a Type, got BasisMatrix{BasisMatrices.Direct} of order [0 0]\u001b[39m",
      ""
     ]
    }
   ],
   "source": [
    "@unpack β, γ, Π, Y, r = household\n",
    "\n",
    "basis = Basis(SplineParams(linspace(0.1,20,10), 0, 3), LinParams(Y, 0))\n",
    "\n",
    "bs = BasisMatrix(basis, Direct())\n",
    "Φ = convert(bs, Expanded())\n",
    "S, (A, Y) = nodes(basis)\n",
    "Emat = kron(Π, speye(Na))*Φ\n",
    "Φy = bs.vals[2] \n",
    "\n",
    "c = copy(c0)\n",
    "V = copy(V0)\n",
    "\n",
    "cE = copy(c0)\n",
    "VE = copy(V0)\n",
    "\n",
    "V_old = zeros(V0)\n",
    "stop = false\n",
    "iteration = 0\n",
    "\n",
    "function evaluate(aprime, h::HHwIncomeFluct) \n",
    "    \n",
    "end\n",
    "\n",
    "while !stop\n",
    "    \n",
    "    \n",
    "    \n",
    "    lower_bound = zeros(size(S, 1), )\n",
    "    upper_bound = (1 + r).*S[:, 1] + S[:, 2]\n",
    "    f(ap::Vector{Float64}) = value(h, s, ap; other_pols=false)\n",
    "    ap, v1 = golden_method(f, lower_bound, upper_bound)\n",
    "    v1, Φapy = value(h, s, ap; other_pols=true)\n",
    "\n",
    "    # Compute expected value function\n",
    "    v2 = h.Emat*h.c1\n",
    "    \n",
    "end"
   ]
  },
  {
   "cell_type": "code",
   "execution_count": 7,
   "metadata": {},
   "outputs": [
    {
     "name": "stdout",
     "output_type": "stream",
     "text": [
      "search: \u001b[1mg\u001b[22m\u001b[1mo\u001b[22m\u001b[1ml\u001b[22m\u001b[1md\u001b[22m\u001b[1me\u001b[22m\u001b[1mn\u001b[22m\u001b[1m_\u001b[22m\u001b[1mm\u001b[22m\u001b[1me\u001b[22m\u001b[1mt\u001b[22m\u001b[1mh\u001b[22m\u001b[1mo\u001b[22m\u001b[1md\u001b[22m\n",
      "\n"
     ]
    },
    {
     "data": {
      "text/markdown": [
       "No documentation found.\n",
       "\n",
       "`QuantEcon.golden_method` is a `Function`.\n",
       "\n",
       "```\n",
       "# 2 methods for generic function \"golden_method\":\n",
       "golden_method(f::Function, a::AbstractArray{T,1} where T, b::AbstractArray{T,1} where T; tol, maxit) in QuantEcon at C:\\\\\\\\\\\\\\\\\\\\\\\\\\\\\\\\\\\\\\\\\\\\\\\\\\\\\\\\\\\\\\\\\\\\\\\\\\\\\\\\\\\\\\\\\\\\\\\\\\\\\\\\\\\\\\\\\\Users\\Max\\AppData\\Local\\JuliaPro-0.6.0.1\\pkgs-0.6.0.1\\v0.6\\QuantEcon\\src\\optimization.jl:3\n",
       "golden_method(f::Function, a::Real, b::Real; tol, maxit) in QuantEcon at C:\\\\\\\\\\\\\\\\\\\\\\\\\\\\\\\\\\\\\\\\\\\\\\\\\\\\\\\\\\\\\\\\\\\\\\\\\\\\\\\\\\\\\\\\\\\\\\\\\\\\\\\\\\\\\\\\\\Users\\Max\\AppData\\Local\\JuliaPro-0.6.0.1\\pkgs-0.6.0.1\\v0.6\\QuantEcon\\src\\optimization.jl:48\n",
       "```\n"
      ],
      "text/plain": [
       "No documentation found.\n",
       "\n",
       "`QuantEcon.golden_method` is a `Function`.\n",
       "\n",
       "```\n",
       "# 2 methods for generic function \"golden_method\":\n",
       "golden_method(f::Function, a::AbstractArray{T,1} where T, b::AbstractArray{T,1} where T; tol, maxit) in QuantEcon at C:\\\\\\\\\\\\\\\\\\\\\\\\\\\\\\\\\\\\\\\\\\\\\\\\\\\\\\\\\\\\\\\\\\\\\\\\\\\\\\\\\\\\\\\\\\\\\\\\\\\\\\\\\\\\\\\\\\Users\\Max\\AppData\\Local\\JuliaPro-0.6.0.1\\pkgs-0.6.0.1\\v0.6\\QuantEcon\\src\\optimization.jl:3\n",
       "golden_method(f::Function, a::Real, b::Real; tol, maxit) in QuantEcon at C:\\\\\\\\\\\\\\\\\\\\\\\\\\\\\\\\\\\\\\\\\\\\\\\\\\\\\\\\\\\\\\\\\\\\\\\\\\\\\\\\\\\\\\\\\\\\\\\\\\\\\\\\\\\\\\\\\\Users\\Max\\AppData\\Local\\JuliaPro-0.6.0.1\\pkgs-0.6.0.1\\v0.6\\QuantEcon\\src\\optimization.jl:48\n",
       "```\n"
      ]
     },
     "execution_count": 7,
     "metadata": {},
     "output_type": "execute_result"
    }
   ],
   "source": [
    "?golden_method"
   ]
  },
  {
   "cell_type": "code",
   "execution_count": null,
   "metadata": {
    "collapsed": true
   },
   "outputs": [],
   "source": []
  }
 ],
 "metadata": {
  "kernelspec": {
   "display_name": "Julia 0.6.0",
   "language": "julia",
   "name": "julia-0.6"
  },
  "language_info": {
   "file_extension": ".jl",
   "mimetype": "application/julia",
   "name": "julia",
   "version": "0.6.0"
  }
 },
 "nbformat": 4,
 "nbformat_minor": 2
}
