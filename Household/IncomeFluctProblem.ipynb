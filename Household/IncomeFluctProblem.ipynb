{
 "cells": [
  {
   "cell_type": "markdown",
   "metadata": {},
   "source": [
    "This notebook solves a household problem with stochastic income fluctuation.\n",
    "Model\n",
    "--\n",
    "The household chooses its consumption and savings while being constraint by its budget set. Savings pay a constant interest rate.\n",
    "\n",
    "The sequence problem:\n",
    "$$\\underset{ \\left(c_t, a_{t+1}\\right)_{t=0}^\\infty } {max} \\sum_{t=0}^\\infty \\beta^t \\, u( c_t )$$\n",
    "s.t.\n",
    "$$a_{t+1} = (1+r) a_t + y(s_t) - c_t \\quad \\forall t$$\n",
    "$$a_t \\geq \\underline{a}\\quad\\forall t$$\n",
    "$$a_0 \\, \\text{given}$$\n",
    "\n",
    "can be written recursively as:\n",
    "\n",
    "$$V(a, s) = \\underset{ a' \\geq \\underline{a} } {max} \\, u\\big( (1+r) a + y(s) - a'  \\big) + \\beta \\, \\mathbb{E} \\Big[ V \\big(a', s' \\big) \\, \\big| \\,\\theta \\Big]$$\n",
    "The solution of this Bellman equation is a policy function $a'(a, s)$ for consumption."
   ]
  },
  {
   "cell_type": "code",
   "execution_count": 1,
   "metadata": {},
   "outputs": [
    {
     "name": "stderr",
     "output_type": "stream",
     "text": [
      "\u001b[1m\u001b[33mWARNING: \u001b[39m\u001b[22m\u001b[33mNo working GUI backend found for matplotlib\u001b[39m\n"
     ]
    }
   ],
   "source": [
    "using Parameters\n",
    "using BasisMatrices\n",
    "using LaTeXStrings\n",
    "using Plots; pyplot();\n",
    "using QuantEcon"
   ]
  },
  {
   "cell_type": "code",
   "execution_count": 2,
   "metadata": {
    "scrolled": false
   },
   "outputs": [
    {
     "data": {
      "text/plain": [
       "u_crra_prime_inv (generic function with 1 method)"
      ]
     },
     "execution_count": 2,
     "metadata": {},
     "output_type": "execute_result"
    }
   ],
   "source": [
    "@with_kw immutable HHwIncomeFluct\n",
    "    β::Float64                           # discount factor\n",
    "    γ::Float64                           # RRA\n",
    "    Π::Array{Float64,2}                  # transition probabilities\n",
    "    Y::Vector{Float64}                   # income grid\n",
    "    r::Float64                           # interest rate\n",
    "end\n",
    "\n",
    "household = HHwIncomeFluct(β = 0.95, γ = 2, Π = [0.95 0.05 0.0; 0.10 0.70 0.20; 0.0 0.25 0.75], \n",
    "    Y = [0.25, 0.75, 1.0], r = 0.02);\n",
    "\n",
    "u_crra(c, γ) = c.^(1-γ)\n",
    "u_crra_prime(c, γ) = c.^-γ\n",
    "u_crra_prime_inv(u, γ) = u.^(-1/γ)"
   ]
  },
  {
   "cell_type": "code",
   "execution_count": 58,
   "metadata": {},
   "outputs": [],
   "source": [
    "@unpack β, γ, Π, Y, r = household\n",
    "\n",
    "#basis = Basis(ChebParams(10, 0, 20), LinParams(Y, 0))\n",
    "basis = Basis(SplineParams(linspace(0.1,20,10), 0, 3), LinParams(Y, 0))\n",
    "\n",
    "Ψ = BasisMatrix(basis, Expanded()).vals[1]\n",
    "S, (A, Y) = nodes(basis);"
   ]
  },
  {
   "cell_type": "code",
   "execution_count": 91,
   "metadata": {},
   "outputs": [],
   "source": [
    "V0 = vcat(3+log.(A+10), 3.1+log.(A+10), 3.2+log.(A+10))\n",
    "c0 = Ψ \\ V0;"
   ]
  },
  {
   "cell_type": "code",
   "execution_count": 92,
   "metadata": {},
   "outputs": [
    {
     "ename": "LoadError",
     "evalue": "DomainError:\nExponentiation yielding a complex result requires a complex argument.\nReplace x^y with (x+0im)^y, Complex(x)^y, or similar.",
     "output_type": "error",
     "traceback": [
      "DomainError:\nExponentiation yielding a complex result requires a complex argument.\nReplace x^y with (x+0im)^y, Complex(x)^y, or similar.",
      "",
      "Stacktrace:",
      " [1] \u001b[1mnan_dom_err\u001b[22m\u001b[22m at \u001b[1m.\\math.jl:300\u001b[22m\u001b[22m [inlined]",
      " [2] \u001b[1m^\u001b[22m\u001b[22m at \u001b[1m.\\math.jl:699\u001b[22m\u001b[22m [inlined]",
      " [3] \u001b[1mmacro expansion\u001b[22m\u001b[22m at \u001b[1m.\\broadcast.jl:153\u001b[22m\u001b[22m [inlined]",
      " [4] \u001b[1mmacro expansion\u001b[22m\u001b[22m at \u001b[1m.\\simdloop.jl:73\u001b[22m\u001b[22m [inlined]",
      " [5] \u001b[1mmacro expansion\u001b[22m\u001b[22m at \u001b[1m.\\broadcast.jl:147\u001b[22m\u001b[22m [inlined]",
      " [6] \u001b[1m_broadcast!\u001b[22m\u001b[22m\u001b[1m(\u001b[22m\u001b[22m::Base.#^, ::Array{Float64,1}, ::Tuple{Tuple{Bool},Tuple{}}, ::Tuple{Tuple{Int64},Tuple{}}, ::Array{Float64,1}, ::Tuple{Float64}, ::Type{Val{1}}, ::CartesianRange{CartesianIndex{1}}\u001b[1m)\u001b[22m\u001b[22m at \u001b[1m.\\broadcast.jl:139\u001b[22m\u001b[22m",
      " [7] \u001b[1mbroadcast_t\u001b[22m\u001b[22m\u001b[1m(\u001b[22m\u001b[22m::Function, ::Type{T} where T, ::Tuple{Base.OneTo{Int64}}, ::CartesianRange{CartesianIndex{1}}, ::Array{Float64,1}, ::Float64\u001b[1m)\u001b[22m\u001b[22m at \u001b[1m.\\broadcast.jl:268\u001b[22m\u001b[22m",
      " [8] \u001b[1mbroadcast_c\u001b[22m\u001b[22m at \u001b[1m.\\broadcast.jl:314\u001b[22m\u001b[22m [inlined]",
      " [9] \u001b[1mbroadcast\u001b[22m\u001b[22m\u001b[1m(\u001b[22m\u001b[22m::Function, ::Array{Float64,1}, ::Float64\u001b[1m)\u001b[22m\u001b[22m at \u001b[1m.\\broadcast.jl:434\u001b[22m\u001b[22m",
      " [10] \u001b[1mmacro expansion\u001b[22m\u001b[22m at \u001b[1m.\\In[92]:13\u001b[22m\u001b[22m [inlined]",
      " [11] \u001b[1manonymous\u001b[22m\u001b[22m at \u001b[1m.\\<missing>:?\u001b[22m\u001b[22m"
     ]
    }
   ],
   "source": [
    "c = copy(c0)\n",
    "V = copy(V0)\n",
    "\n",
    "V_old = zeros(V0)\n",
    "stop = false\n",
    "iteration = 0\n",
    "\n",
    "plot(A, BasisMatrix(basis, Expanded(), hcat(collect(A), 0.75*ones(A))).vals[1] * c, label = iteration)\n",
    "\n",
    "while !stop\n",
    "    \n",
    "    V_old = copy(V)\n",
    "    cons = u_crra_prime_inv(BasisMatrix(basis, Expanded(), S, [1 0]).vals[1] * c ./ (1+r), γ) \n",
    "    \n",
    "    aprime = S[:,2] + (1+r) * S[:,1] - cons\n",
    "    \n",
    "    binding = aprime .< A[1]\n",
    "    \n",
    "    cons = ifelse.(binding, (1+r)*S[:,1] + S[:,2] - A[1], cons)\n",
    "    aprime = ifelse.(binding, A[1], aprime)\n",
    "    \n",
    "    V = (u_crra(cons, γ) + β * sum(kron(Π, fill(1,12)) .* \n",
    "            hcat([(BasisMatrix(basis, Expanded(), hcat(aprime, fill(y,length(aprime)))).vals[1] * c) for y in Y]...),2))[:,1]\n",
    "    \n",
    "    c = Ψ \\ V;\n",
    "    \n",
    "    if (maximum(abs.(V-V_old)) < 1e-10 || iteration == 2)\n",
    "        stop = true\n",
    "    end\n",
    "    \n",
    "    iteration += 1\n",
    "    if (iteration % 10 == 0) \n",
    "        plot!(A, BasisMatrix(basis, Expanded(), hcat(collect(A), 0.75*ones(A))).vals[1] * c, label = iteration)\n",
    "    end\n",
    "end\n",
    "\n",
    "plot!(A, BasisMatrix(basis, Expanded(), hcat(collect(A), 0.75*ones(A))).vals[1] * c, label = iteration)"
   ]
  },
  {
   "cell_type": "code",
   "execution_count": null,
   "metadata": {
    "collapsed": true
   },
   "outputs": [],
   "source": []
  }
 ],
 "metadata": {
  "kernelspec": {
   "display_name": "Julia 0.6.0",
   "language": "julia",
   "name": "julia-0.6"
  },
  "language_info": {
   "file_extension": ".jl",
   "mimetype": "application/julia",
   "name": "julia",
   "version": "0.6.0"
  }
 },
 "nbformat": 4,
 "nbformat_minor": 2
}
