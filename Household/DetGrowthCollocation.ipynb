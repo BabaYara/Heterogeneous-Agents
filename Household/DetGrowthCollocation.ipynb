{
 "cells": [
  {
   "cell_type": "markdown",
   "metadata": {},
   "source": [
    "This notebook solves a household problem in a deterministic growth economy using a collocation method.\n",
    "Model\n",
    "--\n",
    "The household chooses its consumption and savings while being constraint by its budget set. Saved capital is used for production next period. Produced goods and leftover capital are returned to the household.\n",
    "\n",
    "The sequence problem:\n",
    "$$\\underset{ \\left(c_t, k_{t+1}\\right)_{t=0}^\\infty } {max} \\sum_{t=0}^\\infty \\beta^t \\, u( c_t )$$\n",
    "s.t.\n",
    "$$k_{t+1} = f(k_t) + (1-\\delta) k_t - c_t \\quad \\forall t$$\n",
    "$$k_0 \\, \\text{given}$$\n",
    "\n",
    "can be written recursively as:\n",
    "\n",
    "$$V(k) = \\underset{ c } {max} \\, u( c ) + \\beta \\, V \\big( f(k) + (1-\\delta) k -c \\big)$$\n",
    "The solution of this Bellman equation is a policy function $c(k)$ for consumption."
   ]
  },
  {
   "cell_type": "markdown",
   "metadata": {},
   "source": [
    "Using the first-order condition and the envelope theorem yields:\n",
    "$$u'(c(k))=\\beta \\, u'\\Big( c\\big( f(k) +(1- \\delta)k- c(k)\\big) \\Big) \\, \\Big( f'\\big(f(k) +(1- \\delta)k - c(k) \\big) + (1-\\delta) \\Big)\\quad\\forall k$$\n",
    "or with invertible utility function\n",
    "$$c(k)=(u')^{-1}\\Bigg( \\beta \\, u'\\Big( c\\big(f(k) +(1- \\delta)k - c(k)\\big) \\Big) \\Big( f'\\big(f(k) + (1- \\delta)k - c(k) \\big) + (1-\\delta) \\Big) \\Bigg)\\quad\\forall k$$"
   ]
  },
  {
   "cell_type": "markdown",
   "metadata": {},
   "source": [
    "Numerical Method\n",
    "--\n",
    "The goal of the collocation method is to find an approximate function, $\\hat{c}(k)$, that solves the above equation exactly at finitly many $k_i\\in[\\underline{k}, \\bar{k}]$ with $i=1, ..., n$ and is close everywhere else.\n",
    "This $\\hat{c}(k)$ is an element of a family of functions of the form $\\sum_{j=1}^m \\Phi_j\\big(k\\big) \\, c_j$ and is identified by a vector of coefficients, $c_j$ with $j=1,...,m$. The basis functions, $\\Phi_j$, can be Chebyshev polynomials, B-Splines, piecewise linear, etc.\n",
    "\n",
    "The values of the basis functions at the grid points, $K$, are collected in the matrix $\\Psi$, with $\\Psi_{ij} = \\Phi_j \\big(k_i\\big)$. \n",
    "\n",
    "Finding the coefficients is easy in a ordinary interpolation exercise, where $\\hat{c}(K)=\\sum_{j=1}^m \\Phi_j\\big(K\\big) \\, c_j=\\Psi \\cdot c=f(K)$ amounts to an matrix inversion. Since $\\hat{c}(k)$ appears on the right-hand side of the optimality condition we employ an iterative procedure with naive initial coefficients."
   ]
  },
  {
   "cell_type": "markdown",
   "metadata": {},
   "source": [
    "Implementation\n",
    "--"
   ]
  },
  {
   "cell_type": "code",
   "execution_count": 1,
   "metadata": {},
   "outputs": [
    {
     "name": "stderr",
     "output_type": "stream",
     "text": [
      "\u001b[1m\u001b[33mWARNING: \u001b[39m\u001b[22m\u001b[33mNo working GUI backend found for matplotlib\u001b[39m\n"
     ]
    }
   ],
   "source": [
    "using Parameters\n",
    "using BasisMatrices\n",
    "using LaTeXStrings\n",
    "using Plots; pyplot();"
   ]
  },
  {
   "cell_type": "markdown",
   "metadata": {},
   "source": [
    "The model and its functions are:"
   ]
  },
  {
   "cell_type": "code",
   "execution_count": 2,
   "metadata": {},
   "outputs": [
    {
     "data": {
      "text/plain": [
       "u_crra_prime_inv (generic function with 1 method)"
      ]
     },
     "execution_count": 2,
     "metadata": {},
     "output_type": "execute_result"
    }
   ],
   "source": [
    "@with_kw immutable GrowthModel\n",
    "    β::Float64                           # discount factor\n",
    "    δ::Float64                           # depreciation of capital\n",
    "    α::Float64                           # capital share\n",
    "    A::Float64                           # productivity\n",
    "    γ::Float64                           # RRA\n",
    "end\n",
    "\n",
    "model = GrowthModel(β = 0.95, δ = 0.05, α = 0.3, A = 1, γ = 2)\n",
    "\n",
    "function steady_state_k(model::GrowthModel)\n",
    "    @unpack β, α, A, δ = model\n",
    "    ((1/β-(1-δ))/(A*α))^(1/(α-1))\n",
    "end\n",
    "\n",
    "function f(model::GrowthModel, k)\n",
    "    @unpack α, A, δ = model\n",
    "    A*k.^α\n",
    "end\n",
    "\n",
    "function f_prime(model::GrowthModel, k)\n",
    "    @unpack α, A, δ = model\n",
    "    A*α*k.^(α-1)\n",
    "end\n",
    "\n",
    "u_crra_prime(c, γ) = c.^-γ\n",
    "u_crra_prime_inv(u, γ) = u.^(-1/γ)"
   ]
  },
  {
   "cell_type": "code",
   "execution_count": 3,
   "metadata": {},
   "outputs": [
    {
     "data": {
      "text/html": [
       "4.628988089138438"
      ],
      "text/plain": [
       "4.628988089138438"
      ]
     },
     "execution_count": 3,
     "metadata": {},
     "output_type": "execute_result"
    }
   ],
   "source": [
    "k_stst = steady_state_k(model)"
   ]
  },
  {
   "cell_type": "markdown",
   "metadata": {},
   "source": [
    "The basis functions of the interpolation are 10 Chebyshev polynomials on a grid that is spanned around the steady state of capital."
   ]
  },
  {
   "cell_type": "code",
   "execution_count": 4,
   "metadata": {},
   "outputs": [
    {
     "data": {
      "text/plain": [
       "1 dimensional Basis on the hypercube formed by (0.9257976178276875,) × (9.257976178276875,).\n",
       "Basis families are Cheb\n"
      ]
     },
     "execution_count": 4,
     "metadata": {},
     "output_type": "execute_result"
    }
   ],
   "source": [
    "basis = Basis(ChebParams(10, 0.2*k_stst, 2*k_stst))"
   ]
  },
  {
   "cell_type": "code",
   "execution_count": 5,
   "metadata": {
    "collapsed": true
   },
   "outputs": [],
   "source": [
    "@unpack β, α, A, δ, γ = model\n",
    "Ψ = BasisMatrix(basis, Expanded()).vals[1]\n",
    "K = nodes(basis)[1];"
   ]
  },
  {
   "cell_type": "code",
   "execution_count": null,
   "metadata": {},
   "outputs": [],
   "source": [
    "#initial coefficients\n",
    "a = [1, 0, 0, 0, 0, 0, 0, 0, 0, 0];\n",
    "\n",
    "stop = false\n",
    "iteration = 0\n",
    "a_old = zeros(a)\n",
    "\n",
    "Kdense = linspace(0.2*k_stst, 2*k_stst, 200)\n",
    "plot(Kdense, BasisMatrix(basis, Expanded(), Kdense).vals[1] * a, label = iteration)\n",
    "\n",
    "while !stop\n",
    "     \n",
    "    a_old = a\n",
    "    #right-hand side of the optimality condition\n",
    "    Y = u_crra_prime_inv(β*u_crra_prime(BasisMatrix(basis, Expanded(), f(model,K) + (1-δ)*K - Ψ*a).vals[1]*a, γ) .* \n",
    "            (f_prime(model, f(model,K) + (1-δ)*K - Ψ*a) + 1-δ), γ)\n",
    "    \n",
    "    a = Ψ \\ Y\n",
    "        \n",
    "    if maximum(abs.(u_crra_prime(Y, γ)./u_crra_prime(Ψ*a_old, γ) - 1)) < 1e-10\n",
    "        stop = true\n",
    "    end\n",
    "    \n",
    "    iteration += 1\n",
    "    if (iteration % 10 == 0) \n",
    "        plot!(Kdense, BasisMatrix(basis, Expanded(), Kdense).vals[1] * a, label = iteration)\n",
    "    end\n",
    "end\n",
    "\n",
    "plot!(Kdense, BasisMatrix(basis, Expanded(), Kdense).vals[1] * a, label = iteration)"
   ]
  },
  {
   "cell_type": "code",
   "execution_count": null,
   "metadata": {},
   "outputs": [],
   "source": [
    "plot(Kdense,BasisMatrix(basis, Expanded(), Kdense).vals[1]*a, ylab=\"consumption\", xlab=\"capital\", label = \"consumption policy\")"
   ]
  },
  {
   "cell_type": "markdown",
   "metadata": {},
   "source": [
    "Accuracy\n",
    "--\n",
    "We determine the accuracy of the approxiamte policy function $\\hat{c}(k)$ by means of the relative approximation error $\\mu(k)$. It measures by how many percent the consumption is off from the truth. \n",
    "$$u'\\Big(\\hat{c}(k)\\big(1-\\mu(k)\\big)\\Big) = \\beta \\, u'\\Big( \\hat{c}\\big(f(k) + (1- \\delta)k - \\hat{c}(k)\\big) \\Big) \\Big( f'\\big(f(k) + (1- \\delta)k - \\hat{c}(k) \\big) + (1-\\delta) \\Big)$$\n",
    "\n",
    "$$\\mu(k)=1-\\frac{(u')^{-1}\\Bigg( \\beta \\, u'\\Big( \\hat{c}\\big(f(k) + (1- \\delta)k - \\hat{c}(k)\\big) \\Big) \\Big( f'\\big(f(k) + (1- \\delta)k - \\hat{c}(k) \\big) + (1-\\delta) \\Big) \\Bigg)}{\\hat{c}(k)}$$\n",
    "\n",
    "This means that a positive error of $0.01$ indicates that the household consumes 1 percent too many goods."
   ]
  },
  {
   "cell_type": "code",
   "execution_count": null,
   "metadata": {},
   "outputs": [],
   "source": [
    "#evaluate on a broader grid\n",
    "Kdense = linspace(0.05*k_stst, 2.5*k_stst, 200)\n",
    "\n",
    "#consumption on a dense grid of capital\n",
    "Cdense = BasisMatrix(basis, Expanded(), Kdense).vals[1]*a\n",
    "\n",
    "μdense = 1 - u_crra_prime_inv(β*u_crra_prime(BasisMatrix(basis, Expanded(), f(model,Kdense) + (1-δ)*Kdense - Cdense).vals[1] * a, γ) .* \n",
    "        (f_prime(model, f(model,Kdense) + (1-δ)*Kdense - Cdense) + 1-δ), γ) ./ Cdense\n",
    "\n",
    "plot(Kdense, μdense,  label = \"EE error\")\n",
    "vline!([0.2*k_stst 2*k_stst], c=:orange, label = [L\"$\\underbar{k}$\" L\"$\\bar{k}$\"])"
   ]
  },
  {
   "cell_type": "markdown",
   "metadata": {},
   "source": [
    "Within $\\underline{k}$ and $\\bar{k}$ the approximate policy function solves the Euler Equation very accurately, but even outside the solution is not too bad. An agent with almost no capital would only consume 5 percent too much compared to the optimal policy."
   ]
  },
  {
   "cell_type": "markdown",
   "metadata": {},
   "source": [
    "Performance\n",
    "--"
   ]
  },
  {
   "cell_type": "code",
   "execution_count": null,
   "metadata": {
    "scrolled": true
   },
   "outputs": [],
   "source": [
    "using Benchmarks\n",
    "\n",
    "function solve_collocation(model)\n",
    "    @unpack β, α, A, δ, γ = model\n",
    "\n",
    "    k_stst = steady_state_k(model)\n",
    "\n",
    "    basis = Basis(ChebParams(10, 0.2*k_stst, 2*k_stst))\n",
    "\n",
    "    Ψ = BasisMatrix(basis, Expanded()).vals[1]\n",
    "    K = nodes(basis)[1]\n",
    "\n",
    "    a = [1, 0, 0, 0, 0, 0, 0, 0, 0, 0]\n",
    "    a_old = zeros(a)\n",
    "    \n",
    "    stop = false\n",
    "    \n",
    "    while !stop\n",
    "\n",
    "        a_old = a\n",
    "    \n",
    "        Y = u_crra_prime_inv(β*u_crra_prime(BasisMatrix(basis, Expanded(), f(model,K) + (1-δ)*K - Ψ*a).vals[1]*a, γ) .* \n",
    "                (f_prime(model, f(model,K) + (1-δ)*K - Ψ*a) + 1-δ), γ)\n",
    "\n",
    "        a = Ψ \\ Y\n",
    "\n",
    "        if maximum(abs.(u_crra_prime(Y, γ)./u_crra_prime(Ψ*a_old, γ) - 1)) < 1e-10\n",
    "            stop = true\n",
    "        end\n",
    "    end\n",
    "end\n",
    "\n",
    "@benchmark solve_collocation(model)"
   ]
  }
 ],
 "metadata": {
  "kernelspec": {
   "display_name": "Julia 0.6.0",
   "language": "julia",
   "name": "julia-0.6"
  },
  "language_info": {
   "file_extension": ".jl",
   "mimetype": "application/julia",
   "name": "julia",
   "version": "0.6.0"
  }
 },
 "nbformat": 4,
 "nbformat_minor": 2
}
