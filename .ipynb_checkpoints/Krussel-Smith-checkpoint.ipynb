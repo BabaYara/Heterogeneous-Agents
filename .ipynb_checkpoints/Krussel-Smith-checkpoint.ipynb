{
 "cells": [
  {
   "cell_type": "markdown",
   "metadata": {},
   "source": []
  },
  {
   "cell_type": "code",
   "execution_count": 1,
   "metadata": {
    "collapsed": true
   },
   "outputs": [],
   "source": [
    "using Parameters\n",
    "using BasisMatrices\n",
    "using LaTeXStrings\n",
    "using Plots; pyplot();\n",
    "using QuantEcon\n",
    "using FastGaussQuadrature"
   ]
  },
  {
   "cell_type": "code",
   "execution_count": 4,
   "metadata": {},
   "outputs": [
    {
     "data": {
      "text/plain": [
       "Household"
      ]
     },
     "execution_count": 4,
     "metadata": {},
     "output_type": "execute_result"
    }
   ],
   "source": [
    "@with_kw immutable KrusselSmithAdjCost\n",
    "    β::Float64                            # discount factor\n",
    "    δ::Float64                            # depreciation of capital\n",
    "    α::Float64                            # capital share\n",
    "    γ::Float64                            # RRA\n",
    "    ρz::Float64                           # AR coefficient on individual productivity\n",
    "    σz::Float64                           # std dev of innovation on individual productivity\n",
    "    ρA::Float64                           # AR coefficient on productivity\n",
    "    σA::Float64                           # std dev of innovation of productivity process\n",
    "    F::Float64                            # Fixed cost of adjustment    \n",
    "end\n",
    "\n",
    "@with_kw struct Household\n",
    "\n",
    "    model::KrusselSmithAdjCost\n",
    "\n",
    "    # Solution\n",
    "\n",
    "    c::Vector{Float64}                    # coefficients on approximate value function\n",
    "    cE::Vector{Float64}                   # coefficients on approximate expected value function\n",
    "\n",
    "    Nk::Int64                             # number of nodes for capital\n",
    "    Nz::Int64                             # number of nodes for individual productivity\n",
    "    \n",
    "    gridk::Vector{Float64}                # grid for capital\n",
    "    gridz::Vector{Float64}                # grid for individual productivity\n",
    "\n",
    "    s::Matrix{Float64}                    # full state space\n",
    "    Ns::Int64                             # number of states\n",
    "\n",
    "    basis::Basis                          # basis of approximate function\n",
    "    bs::BasisMatrix                       # basis direct matrix\n",
    "    Φ::SparseMatrixCSC                    # basis expanded matrix\n",
    "    ΦE::SparseMatrixCSC                   # cE = ΦE * c\n",
    "end\n",
    "\n",
    "function Household(model, Nk = 45, Nz = 30)\n",
    "    \n",
    "    gridk = 500*linspace(0, 1, Nk) .^ 2.5\n",
    "    gridz = linspace(-5*√(1/(1 - model.ρz^2))*model.σz, 5*√(1/(1 - model.ρz^2))*model.σz, Nz)\n",
    "    \n",
    "    basis = Basis(SplineParams(gridk, 0, 3), SplineParams(gridz, 0, 3))\n",
    "    \n",
    "    # the basis functions might need additional nodes at the boundaries\n",
    "    s, (gridk, gridz) = nodes(basis)\n",
    "    Ns, Na, Ny = size(s, 1), size(gridk, 1), size(gridz, 1)\n",
    "    \n",
    "    bs = BasisMatrix(basis, Direct())\n",
    "    Φ = convert(Expanded, bs).vals[1]\n",
    "    \n",
    "    (e, w) = gausshermite(50)\n",
    "    e = model.σz * e\n",
    "    ΦE = spzeros(Ns, Ns)\n",
    "    \n",
    "    for j in 1:length(e)\n",
    "        zprime = max.(min.(model.ρz*s[:,2] + e[j], maximum(gridz)), minimum(gridz))\n",
    "        ΦE += w[j] * BasisMatrix(basis, Expanded(), hcat(s[:, 1], zprime)).vals[1]\n",
    "    end\n",
    "    \n",
    "    ΦE = Φ \\ ΦE\n",
    "    \n",
    "    return Household(model, zeros(Ns), zeros(Ns), Nk, Nz, gridk, gridz, s, Ns, basis, bs, Φ, ΦE)\n",
    "end"
   ]
  },
  {
   "cell_type": "code",
   "execution_count": 5,
   "metadata": {},
   "outputs": [
    {
     "ename": "LoadError",
     "evalue": "\u001b[91mMethodError: no method matching A_ldiv_B!(::Base.SparseArrays.UMFPACK.UmfpackLU{Float64,Int64}, ::SparseMatrixCSC{Float64,Int64})\u001b[0m\nClosest candidates are:\n  A_ldiv_B!(\u001b[91m::Base.LinAlg.LU{T,Tridiagonal{T}}\u001b[39m, ::Union{AbstractArray{T,1}, AbstractArray{T,2}} where T) where T at linalg\\lu.jl:413\n  A_ldiv_B!(\u001b[91m::Diagonal{T}\u001b[39m, ::AbstractArray{T,2}) where T at linalg\\diagonal.jl:253\n  A_ldiv_B!(\u001b[91m::Union{Base.LinAlg.AbstractTriangular, Bidiagonal}\u001b[39m, ::AbstractArray{T,2} where T) at linalg\\bidiag.jl:511\n  ...\u001b[39m",
     "output_type": "error",
     "traceback": [
      "\u001b[91mMethodError: no method matching A_ldiv_B!(::Base.SparseArrays.UMFPACK.UmfpackLU{Float64,Int64}, ::SparseMatrixCSC{Float64,Int64})\u001b[0m\nClosest candidates are:\n  A_ldiv_B!(\u001b[91m::Base.LinAlg.LU{T,Tridiagonal{T}}\u001b[39m, ::Union{AbstractArray{T,1}, AbstractArray{T,2}} where T) where T at linalg\\lu.jl:413\n  A_ldiv_B!(\u001b[91m::Diagonal{T}\u001b[39m, ::AbstractArray{T,2}) where T at linalg\\diagonal.jl:253\n  A_ldiv_B!(\u001b[91m::Union{Base.LinAlg.AbstractTriangular, Bidiagonal}\u001b[39m, ::AbstractArray{T,2} where T) at linalg\\bidiag.jl:511\n  ...\u001b[39m",
      "",
      "Stacktrace:",
      " [1] \u001b[1m\\\u001b[22m\u001b[22m\u001b[1m(\u001b[22m\u001b[22m::SparseMatrixCSC{Float64,Int64}, ::SparseMatrixCSC{Float64,Int64}\u001b[1m)\u001b[22m\u001b[22m at \u001b[1m.\\sparse\\linalg.jl:871\u001b[22m\u001b[22m",
      " [2] \u001b[1mHousehold\u001b[22m\u001b[22m\u001b[1m(\u001b[22m\u001b[22m::KrusselSmithAdjCost, ::Int64, ::Int64\u001b[1m)\u001b[22m\u001b[22m at \u001b[1m.\\In[4]:60\u001b[22m\u001b[22m",
      " [3] \u001b[1mHousehold\u001b[22m\u001b[22m\u001b[1m(\u001b[22m\u001b[22m::KrusselSmithAdjCost\u001b[1m)\u001b[22m\u001b[22m at \u001b[1m.\\In[4]:39\u001b[22m\u001b[22m"
     ]
    }
   ],
   "source": [
    "model = KrusselSmithAdjCost(β = 0.98, δ = 0.025, α = 1/3, γ = 2, ρz = 0.98, σz = 0.1, ρA = 0.95, σA = 0.007, F = 0);\n",
    "hh = Household(model);"
   ]
  },
  {
   "cell_type": "code",
   "execution_count": 26,
   "metadata": {},
   "outputs": [],
   "source": [
    "Nk = 45; Nz = 30   \n",
    "gridk = 500*linspace(0, 1, Nk) .^ 2.5\n",
    "    gridz = linspace(-5*√(1/(1 - model.ρz^2))*model.σz, 5*√(1/(1 - model.ρz^2))*model.σz, Nz)\n",
    "    \n",
    "    basis = Basis(SplineParams(gridk, 0, 3), SplineParams(gridz, 0, 3))\n",
    "    \n",
    "    # the basis functions might need additional nodes at the boundaries\n",
    "    s, (gridk, gridz) = nodes(basis)\n",
    "    Ns, Na, Ny = size(s, 1), size(gridk, 1), size(gridz, 1)\n",
    "    \n",
    "    bs = BasisMatrix(basis, Direct())\n",
    "    Φ = convert(Expanded, bs).vals[1]\n",
    "    \n",
    "    (e, w) = gausshermite(50)\n",
    "    e = model.σz * e\n",
    "    ΦE = spzeros(Ns, Ns)\n",
    "    \n",
    "    for j in 1:length(e)\n",
    "        zprime = max.(min.(model.ρz*s[:,2] + e[j], maximum(gridz)), minimum(gridz))\n",
    "        ΦE += w[j] * BasisMatrix(basis, Expanded(), hcat(s[:, 1], zprime)).vals[1]\n",
    "    end"
   ]
  },
  {
   "cell_type": "code",
   "execution_count": 107,
   "metadata": {},
   "outputs": [
    {
     "data": {
      "text/plain": [
       "1504×1504 SparseMatrixCSC{Float64,Int64} with 2061344 stored entries:\n",
       "  [1   ,    1]  =  0.820109\n",
       "  [2   ,    1]  =  -1.32353e-16\n",
       "  [3   ,    1]  =  6.10613e-17\n",
       "  [4   ,    1]  =  -2.48283e-17\n",
       "  [5   ,    1]  =  8.83069e-18\n",
       "  [6   ,    1]  =  -2.91738e-18\n",
       "  [7   ,    1]  =  9.22095e-19\n",
       "  [8   ,    1]  =  -2.83079e-19\n",
       "  [9   ,    1]  =  8.51384e-20\n",
       "  [10  ,    1]  =  -2.52196e-20\n",
       "  ⋮\n",
       "  [1494, 1504]  =  1.76892e-21\n",
       "  [1495, 1504]  =  -6.74216e-21\n",
       "  [1496, 1504]  =  2.56826e-20\n",
       "  [1497, 1504]  =  -9.77785e-20\n",
       "  [1498, 1504]  =  3.72069e-19\n",
       "  [1499, 1504]  =  -1.41511e-18\n",
       "  [1500, 1504]  =  5.37965e-18\n",
       "  [1501, 1504]  =  -2.04421e-17\n",
       "  [1502, 1504]  =  7.76451e-17\n",
       "  [1503, 1504]  =  -1.66362e-16\n",
       "  [1504, 1504]  =  0.820109"
      ]
     },
     "execution_count": 107,
     "metadata": {},
     "output_type": "execute_result"
    }
   ],
   "source": [
    "convert(SparseMatrixCSC, full(Φ) \\ full(ΦE))"
   ]
  },
  {
   "cell_type": "code",
   "execution_count": null,
   "metadata": {
    "collapsed": true
   },
   "outputs": [],
   "source": []
  }
 ],
 "metadata": {
  "kernelspec": {
   "display_name": "Julia 0.6.0",
   "language": "julia",
   "name": "julia-0.6"
  },
  "language_info": {
   "file_extension": ".jl",
   "mimetype": "application/julia",
   "name": "julia",
   "version": "0.6.0"
  }
 },
 "nbformat": 4,
 "nbformat_minor": 2
}
