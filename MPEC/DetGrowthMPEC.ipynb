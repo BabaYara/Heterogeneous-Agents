{
 "cells": [
  {
   "cell_type": "markdown",
   "metadata": {},
   "source": [
    "#### This notebook solves a household problem in a deterministic growth economy using am MPEC method.\n",
    "Model\n",
    "--\n",
    "The household chooses its consumption and savings while being constraint by its budget set. Saved capital is used for production next period. Produced goods and leftover capital are returned to the household.\n",
    "\n",
    "The sequence problem:\n",
    "$$\\underset{ \\left(c_t, k_{t+1}\\right)_{t=0}^\\infty } {max} \\sum_{t=0}^\\infty \\beta^t \\, u( c_t )$$\n",
    "s.t.\n",
    "$$k_{t+1} = f(k_t) + (1-\\delta) k_t - c_t \\quad \\forall t$$\n",
    "$$k_0 \\, \\text{given}$$\n",
    "\n",
    "can be written recursively as:\n",
    "\n",
    "$$V(k) = \\underset{ c } {max} \\, u( c ) + \\beta \\, V \\big( f(k) + (1-\\delta) k -c \\big)$$\n",
    "The solution of this Bellman equation is a policy function $c(k)$ for consumption."
   ]
  },
  {
   "cell_type": "markdown",
   "metadata": {},
   "source": [
    "Using the first-order condition and the envelope theorem yields:\n",
    "$$u'\\Big(\\Psi(k) \\cdot \\theta\\Big) =\\beta \\, u'\\Big( \\Psi \\big( f(k) +(1- \\delta)k- \\Psi(k) \\cdot \\theta\\big)\\cdot \\theta \\Big)  \\, \\Big( f'\\big(f(k) +(1- \\delta)k - \\Psi(k) \\cdot \\theta \\big) + (1-\\delta) \\Big)\\quad\\forall k$$\n"
   ]
  },
  {
   "cell_type": "markdown",
   "metadata": {},
   "source": [
    "Numerical Method\n",
    "--\n"
   ]
  },
  {
   "cell_type": "markdown",
   "metadata": {},
   "source": [
    "## Collocation Method and Simulation"
   ]
  },
  {
   "cell_type": "code",
   "execution_count": 1,
   "metadata": {},
   "outputs": [],
   "source": [
    "using Parameters\n",
    "using BasisMatrices\n",
    "using LaTeXStrings\n",
    "using Plots; pyplot();"
   ]
  },
  {
   "cell_type": "code",
   "execution_count": 9,
   "metadata": {},
   "outputs": [
    {
     "data": {
      "text/plain": [
       "u_crra_prime_inv (generic function with 1 method)"
      ]
     },
     "execution_count": 9,
     "metadata": {},
     "output_type": "execute_result"
    }
   ],
   "source": [
    "@with_kw immutable GrowthModel\n",
    "    β::Float64                           # discount factor\n",
    "    δ::Float64                           # depreciation of capital\n",
    "    α::Float64                           # capital share\n",
    "    A::Float64                           # productivity\n",
    "    γ::Float64                           # RRA\n",
    "end\n",
    "\n",
    "model = GrowthModel(β = 0.95, δ = 0.05, α = 0.3, A = 1, γ = 2)\n",
    "\n",
    "function steady_state_k(model::GrowthModel)\n",
    "    @unpack β, α, A, δ = model\n",
    "    ((1/β-(1-δ))/(A*α))^(1/(α-1))\n",
    "end\n",
    "\n",
    "function f(model::GrowthModel, k)\n",
    "    @unpack α, A, δ = model\n",
    "    A*k.^α\n",
    "end\n",
    "\n",
    "function f_prime(model::GrowthModel, k)\n",
    "    @unpack α, A, δ = model\n",
    "    A*α*k.^(α-1)\n",
    "end\n",
    "\n",
    "u_crra_prime(c, γ) = c.^-γ\n",
    "u_crra(c, γ) = c.^(1-γ)/(1-γ)\n",
    "u_crra_prime_inv(u, γ) = u.^(-1/γ)"
   ]
  },
  {
   "cell_type": "code",
   "execution_count": 3,
   "metadata": {},
   "outputs": [
    {
     "data": {
      "text/html": [
       "4.628988089138438"
      ],
      "text/plain": [
       "4.628988089138438"
      ]
     },
     "execution_count": 3,
     "metadata": {},
     "output_type": "execute_result"
    }
   ],
   "source": [
    "k_stst = steady_state_k(model)"
   ]
  },
  {
   "cell_type": "code",
   "execution_count": 4,
   "metadata": {},
   "outputs": [
    {
     "data": {
      "text/plain": [
       "solve_and_simulate (generic function with 1 method)"
      ]
     },
     "execution_count": 4,
     "metadata": {},
     "output_type": "execute_result"
    }
   ],
   "source": [
    "function solve_and_simulate(model, N; k0=1.)\n",
    "    @unpack β, α, A, δ, γ = model\n",
    "    \n",
    "    #solve\n",
    "\n",
    "    k_stst = steady_state_k(model)\n",
    "\n",
    "    basis = Basis(ChebParams(10, 0.2*k_stst, 2*k_stst))\n",
    "\n",
    "    Ψ = BasisMatrix(basis, Expanded()).vals[1]\n",
    "    K = nodes(basis)[1]\n",
    "\n",
    "    a = [1, 0, 0, 0, 0, 0, 0, 0, 0, 0]\n",
    "    a_old = zeros(a)\n",
    "    \n",
    "    stop = false\n",
    "    \n",
    "    @time while !stop\n",
    "\n",
    "        a_old = a\n",
    "    \n",
    "        Y = u_crra_prime_inv(β*u_crra_prime(BasisMatrix(basis, Expanded(), f(model,K) + (1-δ)*K - Ψ*a).vals[1]*a, γ) .* \n",
    "                (f_prime(model, f(model,K) + (1-δ)*K - Ψ*a) + 1-δ), γ)\n",
    "\n",
    "        a = Ψ \\ Y\n",
    "\n",
    "        if maximum(abs.(u_crra_prime(Y, γ)./u_crra_prime(Ψ*a_old, γ) - 1)) < 1e-10\n",
    "            stop = true\n",
    "        end\n",
    "    end\n",
    "    \n",
    "    #simulate\n",
    "    simK = zeros(N)\n",
    "    simC = zeros(N)\n",
    "    \n",
    "    simK[1] = k0\n",
    "    \n",
    "    \n",
    "    for t in 1:N-1\n",
    "        simC[t] = (BasisMatrix(basis, Expanded(), [simK[t]]).vals[1] * a)[1]\n",
    "        simK[t+1] = f(model,simK[t]) + (1-δ)*simK[t] - simC[t]\n",
    "    end\n",
    "    \n",
    "    simC[N] = (BasisMatrix(basis, Expanded(), [simK[N]]).vals[1] * a)[1]\n",
    "    \n",
    "    return (simK, simC, a)\n",
    "end\n"
   ]
  },
  {
   "cell_type": "code",
   "execution_count": 5,
   "metadata": {},
   "outputs": [
    {
     "name": "stdout",
     "output_type": "stream",
     "text": [
      "  0.109033 seconds (10.03 k allocations: 1.933 MiB)\n"
     ]
    },
    {
     "data": {
      "text/plain": [
       "10-element Array{Float64,1}:\n",
       "  1.35054    \n",
       "  0.544286   \n",
       " -0.0634735  \n",
       "  0.0167686  \n",
       " -0.00554682 \n",
       "  0.00203287 \n",
       " -0.000791507\n",
       "  0.000351972\n",
       " -0.000172349\n",
       "  5.71702e-5 "
      ]
     },
     "execution_count": 5,
     "metadata": {},
     "output_type": "execute_result"
    }
   ],
   "source": [
    "(dataK, dataC, true_coeff) = solve_and_simulate(model, 100; k0=1.)\n",
    "true_coeff"
   ]
  },
  {
   "cell_type": "code",
   "execution_count": 6,
   "metadata": {},
   "outputs": [
    {
     "data": {
      "text/html": [
       "<img src=\"data:image/png;base64,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\" />"
      ]
     },
     "execution_count": 6,
     "metadata": {},
     "output_type": "execute_result"
    }
   ],
   "source": [
    "plot(dataK, label=\"capital\")\n",
    "plot!(dataC, label=\"consumption\")"
   ]
  },
  {
   "cell_type": "code",
   "execution_count": 7,
   "metadata": {},
   "outputs": [
    {
     "data": {
      "text/plain": [
       "10-element Array{Float64,1}:\n",
       " 1.19027\n",
       " 1.58223\n",
       " 2.31211\n",
       " 3.30116\n",
       " 4.45398\n",
       " 5.66037\n",
       " 6.80466\n",
       " 7.77679\n",
       " 8.48254\n",
       " 8.85344"
      ]
     },
     "execution_count": 7,
     "metadata": {},
     "output_type": "execute_result"
    }
   ],
   "source": [
    "basis = Basis(ChebParams(10, 0.2*k_stst, 2*k_stst))\n",
    "K = nodes(basis)[1]\n",
    "Ψ = BasisMatrix(basis, Expanded()).vals[1]\n",
    "f(model,K) + (1-model.δ)*K - Ψ * true_coeff"
   ]
  },
  {
   "cell_type": "code",
   "execution_count": 25,
   "metadata": {},
   "outputs": [
    {
     "data": {
      "text/plain": [
       "10-element Array{Float64,1}:\n",
       " 0.731039\n",
       " 0.830067\n",
       " 0.984055\n",
       " 1.15697 \n",
       " 1.32812 \n",
       " 1.48555 \n",
       " 1.62093 \n",
       " 1.72778 \n",
       " 1.80161 \n",
       " 1.8393  "
      ]
     },
     "execution_count": 25,
     "metadata": {},
     "output_type": "execute_result"
    }
   ],
   "source": [
    "Ψ * true_coeff"
   ]
  },
  {
   "cell_type": "code",
   "execution_count": 23,
   "metadata": {},
   "outputs": [],
   "source": [
    "ν = zeros(10)\n",
    "\n",
    "for t in 1:10000\n",
    "    ν = Ψ \\ (u_crra(Ψ * true_coeff, model.γ) + \n",
    "        model.β * BasisMatrix(basis, Expanded(), f(model,K) + (1-model.δ)*K - Ψ * true_coeff).vals[1] * ν)\n",
    "end"
   ]
  },
  {
   "cell_type": "code",
   "execution_count": 24,
   "metadata": {},
   "outputs": [
    {
     "data": {
      "text/html": [
       "<img src=\"data:image/png;base64,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\" />"
      ]
     },
     "execution_count": 24,
     "metadata": {},
     "output_type": "execute_result"
    }
   ],
   "source": [
    "plot(K, Ψ * ν, label=\"Value Function\")"
   ]
  },
  {
   "cell_type": "code",
   "execution_count": 27,
   "metadata": {},
   "outputs": [
    {
     "data": {
      "text/plain": [
       "10-element Array{Float64,1}:\n",
       " -18.6612\n",
       " -17.8533\n",
       " -16.7777\n",
       " -15.7588\n",
       " -14.9034\n",
       " -14.2155\n",
       " -13.6825\n",
       " -13.2976\n",
       " -13.0469\n",
       " -12.9235"
      ]
     },
     "execution_count": 27,
     "metadata": {},
     "output_type": "execute_result"
    }
   ],
   "source": [
    "Ψ * ν"
   ]
  },
  {
   "cell_type": "code",
   "execution_count": 26,
   "metadata": {},
   "outputs": [
    {
     "data": {
      "text/plain": [
       "10-element Array{Float64,1}:\n",
       " -15.112     \n",
       "   2.69213   \n",
       "  -0.640543  \n",
       "   0.208069  \n",
       "  -0.0777003 \n",
       "   0.0304588 \n",
       "  -0.0123556 \n",
       "   0.00602886\n",
       "  -0.00329544\n",
       "   0.00114639"
      ]
     },
     "execution_count": 26,
     "metadata": {},
     "output_type": "execute_result"
    }
   ],
   "source": [
    "ν"
   ]
  },
  {
   "cell_type": "markdown",
   "metadata": {},
   "source": [
    "## MPEC"
   ]
  },
  {
   "cell_type": "code",
   "execution_count": 8,
   "metadata": {},
   "outputs": [],
   "source": [
    "using JuMP\n",
    "using Ipopt"
   ]
  },
  {
   "cell_type": "code",
   "execution_count": 9,
   "metadata": {},
   "outputs": [
    {
     "data": {
      "text/plain": [
       "f_prime (generic function with 2 methods)"
      ]
     },
     "execution_count": 9,
     "metadata": {},
     "output_type": "execute_result"
    }
   ],
   "source": [
    "function f(k, α, A)\n",
    "    A*k^α\n",
    "end\n",
    "\n",
    "function f_prime(k, α, A)\n",
    "    A*α*k^(α-1)\n",
    "end"
   ]
  },
  {
   "cell_type": "code",
   "execution_count": 10,
   "metadata": {},
   "outputs": [
    {
     "data": {
      "text/plain": [
       "1 dimensional Basis on the hypercube formed by (0.9257976178276875,) × (9.257976178276875,).\n",
       "Basis families are Cheb\n"
      ]
     },
     "execution_count": 10,
     "metadata": {},
     "output_type": "execute_result"
    }
   ],
   "source": [
    "basis = Basis(ChebParams(10, 0.2*k_stst, 2*k_stst))"
   ]
  },
  {
   "cell_type": "code",
   "execution_count": 11,
   "metadata": {},
   "outputs": [],
   "source": [
    "K = nodes(basis)[1]\n",
    "Ψ = BasisMatrix(basis, Expanded(), K).vals[1];"
   ]
  },
  {
   "cell_type": "markdown",
   "metadata": {},
   "source": [
    "### Variante A\n",
    "\n",
    "EE on a grid as a constraint is problematic since next period's capital is a function of deep parameters!\n",
    "filling in realized consumption next period is infeasible (or maybe some form of rational expectations?!) in stochastic models!"
   ]
  },
  {
   "cell_type": "code",
   "execution_count": 12,
   "metadata": {},
   "outputs": [],
   "source": [
    "m = Model(solver=IpoptSolver(print_level=5, max_iter = 500))\n",
    "\n",
    "@variable(m, β, start = 1)\n",
    "@variable(m, δ, start = 1)\n",
    "@variable(m, α, start = 0.6)\n",
    "@variable(m, A, start = 1)\n",
    "@variable(m, γ, start = 1)\n",
    "\n",
    "@variable(m, coeff[1:10], start = 0)\n",
    "setvalue(coeff[1], 1)\n",
    "\n",
    "@variable(m, predictedK[2:100], start = 1)\n",
    "@variable(m, predictedC[1:100], start = 1)\n",
    "@variable(m, EEerror[1:99])\n",
    "\n",
    "JuMP.register(m, :u_crra_prime, 2, u_crra_prime, autodiff=true)\n",
    "JuMP.register(m, :f, 3, f, autodiff=true)\n",
    "JuMP.register(m, :f_prime, 3, f_prime, autodiff=true)\n",
    "\n",
    "Φ = BasisMatrix(basis, Expanded(), dataK).vals[1];"
   ]
  },
  {
   "cell_type": "code",
   "execution_count": 13,
   "metadata": {},
   "outputs": [],
   "source": [
    "@NLconstraint(m, LOM[t=2:100], predictedK[t] == f(dataK[t-1], α, A) + (1-δ)*dataK[t-1] - dataC[t-1]);\n",
    "@NLconstraint(m, consumption[t=1:100], predictedC[t] == sum(Φ[t, k] * coeff[k] for k in 1:10))\n",
    "\n",
    "@NLconstraint(m, fixedpoint[t=1:99], EEerror[t] == u_crra_prime(predictedC[t], γ) -\n",
    "    β * u_crra_prime(dataC[t+1], γ) * (f_prime(predictedK[t+1], α, A) + 1-δ));"
   ]
  },
  {
   "cell_type": "code",
   "execution_count": 14,
   "metadata": {},
   "outputs": [],
   "source": [
    "@NLobjective(m, Min, sum((dataC[t] - predictedC[t])^2 for t in 1:100) + \n",
    "    sum((dataK[t] - predictedK[t])^2 for t in 2:100) + sum(EEerror[t]^2 for t in 1:99))"
   ]
  },
  {
   "cell_type": "code",
   "execution_count": 15,
   "metadata": {
    "scrolled": true
   },
   "outputs": [
    {
     "name": "stdout",
     "output_type": "stream",
     "text": [
      "\n",
      "******************************************************************************\n",
      "This program contains Ipopt, a library for large-scale nonlinear optimization.\n",
      " Ipopt is released as open source code under the Eclipse Public License (EPL).\n",
      "         For more information visit http://projects.coin-or.org/Ipopt\n",
      "******************************************************************************\n",
      "\n",
      "This is Ipopt version 3.12.1, running with linear solver mumps.\n",
      "NOTE: Other linear solvers might be more efficient (see Ipopt documentation).\n",
      "\n",
      "Number of nonzeros in equality constraint Jacobian...:     2288\n",
      "Number of nonzeros in inequality constraint Jacobian.:        0\n",
      "Number of nonzeros in Lagrangian Hessian.............:        0\n",
      "\n",
      "Total number of variables............................:      313\n",
      "                     variables with only lower bounds:        0\n",
      "                variables with lower and upper bounds:        0\n",
      "                     variables with only upper bounds:        0\n",
      "Total number of equality constraints.................:      298\n",
      "Total number of inequality constraints...............:        0\n",
      "        inequality constraints with only lower bounds:        0\n",
      "   inequality constraints with lower and upper bounds:        0\n",
      "        inequality constraints with only upper bounds:        0\n",
      "\n",
      "iter    objective    inf_pr   inf_du lg(mu)  ||d||  lg(rg) alpha_du alpha_pr  ls\n",
      "   0  1.0420591e+03 7.37e-01 7.24e+00   0.0 0.00e+00    -  0.00e+00 0.00e+00   0\n",
      "   1  1.0404834e+03 2.75e+00 8.40e+00 -11.0 7.23e+00    -  1.00e+00 1.00e+00f  1\n",
      "   2  4.6943390e-01 1.19e+00 7.23e-01 -11.0 3.63e+00    -  1.00e+00 1.00e+00f  1\n",
      "   3  1.7764636e-01 1.80e-01 7.33e-01 -11.0 2.26e-01    -  1.00e+00 1.00e+00h  1\n",
      "   4  7.4315647e-02 9.23e-02 4.16e-01 -11.0 2.20e-01    -  1.00e+00 1.00e+00h  1\n",
      "   5  1.7205362e-02 1.17e-01 1.38e-01 -11.0 1.97e-01    -  1.00e+00 1.00e+00h  1\n",
      "   6  1.0629804e-02 1.60e-01 1.43e-01 -11.0 5.92e-01    -  1.00e+00 2.50e-01h  3\n",
      "   7  2.1228932e-03 8.98e-03 1.16e-01 -11.0 6.82e-02    -  1.00e+00 1.00e+00h  1\n",
      "   8  1.4035773e-03 6.20e-03 1.32e-02 -11.0 5.36e-02    -  1.00e+00 1.00e+00h  1\n",
      "   9  7.8591898e-04 7.11e-04 3.86e-03 -11.0 1.58e-02    -  1.00e+00 1.00e+00h  1\n",
      "iter    objective    inf_pr   inf_du lg(mu)  ||d||  lg(rg) alpha_du alpha_pr  ls\n",
      "  10  7.4178296e-04 7.64e-06 5.04e-03 -11.0 3.78e-03    -  1.00e+00 1.00e+00h  1\n",
      "  11  6.3735198e-04 2.27e-04 8.68e-03 -11.0 3.08e-02    -  1.00e+00 1.00e+00h  1\n",
      "  12  6.3496988e-04 4.20e-04 9.98e-03 -11.0 4.91e-02    -  1.00e+00 1.00e+00h  1\n",
      "  13  1.2516970e-03 2.36e-05 3.81e-02 -11.0 2.62e-02    -  1.00e+00 1.00e+00H  1\n",
      "  14  4.9683481e-04 5.87e-04 2.31e-03 -11.0 3.88e-02    -  1.00e+00 1.00e+00h  1\n",
      "  15  4.6023954e-04 2.11e-05 2.17e-03 -11.0 1.42e-02    -  1.00e+00 1.00e+00h  1\n",
      "  16  3.3981264e-04 7.90e-04 8.07e-03 -11.0 3.78e+00    -  1.00e+00 3.12e-02h  6\n",
      "  17  2.7212081e-04 9.39e-04 8.75e-03 -11.0 3.95e+00    -  1.00e+00 3.12e-02h  6\n",
      "  18  1.3777483e-03 4.53e-06 3.88e-02 -11.0 2.65e-01    -  1.00e+00 1.00e+00H  1\n",
      "  19  6.8368611e-03 3.65e-07 3.11e-02 -11.0 1.72e-01    -  1.00e+00 1.00e+00H  1\n",
      "iter    objective    inf_pr   inf_du lg(mu)  ||d||  lg(rg) alpha_du alpha_pr  ls\n",
      "  20  1.0287566e-03 1.12e-06 3.44e-02 -11.0 2.85e-01    -  1.00e+00 1.00e+00F  1\n",
      "  21  9.9690852e-04 1.01e-06 3.39e-02 -11.0 9.68e-02    -  1.00e+00 7.81e-03h  8\n",
      "  22  2.3761989e-04 3.05e-03 8.80e-03 -11.0 7.22e-02    -  1.00e+00 5.00e-01h  2\n",
      "  23  3.3978396e-05 1.53e-03 4.49e-03 -11.0 4.06e-02    -  1.00e+00 5.00e-01h  2\n",
      "  24  1.3751376e-05 5.44e-05 4.33e-03 -11.0 6.08e-03    -  1.00e+00 1.00e+00h  1\n",
      "  25  8.7006458e-06 1.06e-05 1.50e-03 -11.0 2.91e-03    -  1.00e+00 1.00e+00h  1\n",
      "  26  6.6466703e-06 4.08e-06 1.38e-04 -11.0 2.01e-03    -  1.00e+00 1.00e+00h  1\n",
      "  27  6.4570863e-06 7.95e-08 1.16e-04 -11.0 1.03e-03    -  1.00e+00 1.00e+00h  1\n",
      "  28  1.8660968e-05 3.94e-07 2.00e-03 -11.0 1.97e-02    -  1.00e+00 1.00e+00H  1\n",
      "  29  1.8777778e-05 1.45e-08 2.00e-03 -11.0 4.82e-03    -  1.00e+00 1.00e+00H  1\n",
      "iter    objective    inf_pr   inf_du lg(mu)  ||d||  lg(rg) alpha_du alpha_pr  ls\n",
      "  30  9.3241684e-06 1.38e-07 9.26e-04 -11.0 1.28e-02    -  1.00e+00 1.00e+00H  1\n",
      "  31  8.1830365e-06 4.78e-08 6.31e-04 -11.0 9.22e-03    -  1.00e+00 1.00e+00H  1\n",
      "  32  8.0294731e-05 3.65e-10 4.29e-03 -11.0 2.09e-02    -  1.00e+00 1.00e+00H  1\n",
      "  33  5.7566197e-06 5.20e-05 1.75e-04 -11.0 2.20e-02    -  1.00e+00 1.00e+00f  1\n",
      "  34  5.7532029e-06 3.89e-05 3.32e-04 -11.0 8.48e-04    -  1.00e+00 2.50e-01h  3\n",
      "  35  5.5088582e-06 5.13e-08 4.95e-05 -11.0 5.45e-04    -  1.00e+00 1.00e+00h  1\n",
      "  36  5.4870000e-06 1.08e-08 6.19e-05 -11.0 5.13e-04    -  1.00e+00 1.00e+00h  1\n",
      "  37  1.0022080e-05 2.92e-09 1.22e-03 -11.0 2.09e-02    -  1.00e+00 1.00e+00H  1\n",
      "  38  8.7528967e-05 3.11e-09 3.31e-03 -11.0 1.01e-01    -  1.00e+00 1.00e+00H  1\n",
      "  39  8.7475088e-05 3.12e-09 3.31e-03 -11.0 3.63e-02    -  1.00e+00 2.44e-04h 13\n",
      "iter    objective    inf_pr   inf_du lg(mu)  ||d||  lg(rg) alpha_du alpha_pr  ls\n",
      "  40  8.7427084e-05 3.16e-09 3.31e-03 -11.0 1.07e-01    -  1.00e+00 2.44e-04h 13\n",
      "  41  8.7371568e-05 3.12e-09 3.31e-03 -11.0 1.05e+00    -  1.00e+00 3.05e-05h 16\n",
      "  42  8.7368051e-05 3.12e-09 3.31e-03 -11.0 2.50e-01    -  1.00e+00 1.53e-05h 17\n",
      "  43  8.7359716e-05 3.12e-09 3.31e-03 -11.0 7.48e-01    -  1.00e+00 7.63e-06h 18\n",
      "  44  8.6795528e-05 1.75e-04 6.77e-03 -11.0 3.78e-01    -  1.00e+00 1.25e-01f  4\n",
      "  45  7.5229829e-05 3.75e-04 8.38e-03 -11.0 2.02e-01    -  1.00e+00 2.50e-01h  3\n",
      "  46  5.5720857e-05 3.81e-04 9.79e-03 -11.0 3.91e-02    -  1.00e+00 1.25e-01h  4\n",
      "  47  4.6238777e-06 3.67e-04 1.29e-03 -11.0 1.14e-02    -  1.00e+00 1.00e+00h  1\n",
      "  48  5.0906422e-06 2.73e-06 2.94e-04 -11.0 7.50e-03    -  1.00e+00 1.00e+00h  1\n",
      "  49  1.1218698e-05 1.23e-06 1.80e-03 -11.0 3.66e-02    -  1.00e+00 1.00e+00H  1\n",
      "iter    objective    inf_pr   inf_du lg(mu)  ||d||  lg(rg) alpha_du alpha_pr  ls\n",
      "  50  1.0869739e-05 6.10e-07 1.97e-03 -11.0 1.20e-01    -  1.00e+00 6.25e-02h  5\n",
      "  51  1.2863697e-04 4.20e-10 5.62e-03 -11.0 5.80e-02    -  1.00e+00 1.00e+00H  1\n",
      "  52  9.1229027e-05 1.17e-10 4.13e-03 -11.0 4.01e-02    -  1.00e+00 1.00e+00F  1\n",
      "  53  8.3670174e-05 1.00e-07 4.11e-03 -11.0 5.69e-02    -  1.00e+00 1.56e-02f  7\n",
      "  54  6.8944662e-05 3.27e-07 8.42e-03 -11.0 9.68e-02    -  1.00e+00 1.00e+00H  1\n",
      "  55  6.2487773e-05 6.35e-07 7.77e-03 -11.0 3.92e-01    -  1.00e+00 3.91e-03h  9\n",
      "  56  3.0557350e-05 2.24e-04 1.53e-03 -11.0 5.49e-02    -  1.00e+00 1.00e+00h  1\n",
      "  57  6.2226109e-03 2.31e-07 5.18e-02 -11.0 2.22e-01    -  1.00e+00 1.00e+00H  1\n",
      "  58  1.9977225e-05 8.07e-03 2.60e-03 -11.0 2.12e-01    -  1.00e+00 1.00e+00f  1\n",
      "  59  1.2591031e-05 6.06e-03 1.27e-03 -11.0 1.66e-02    -  1.00e+00 2.50e-01h  3\n",
      "iter    objective    inf_pr   inf_du lg(mu)  ||d||  lg(rg) alpha_du alpha_pr  ls\n",
      "  60  6.8056344e-06 1.03e-05 1.49e-03 -11.0 2.00e-03    -  1.00e+00 1.00e+00h  1\n",
      "  61  4.6061314e-06 8.71e-07 6.05e-04 -11.0 3.66e-03    -  1.00e+00 1.00e+00h  1\n",
      "  62  6.0238568e-06 1.98e-08 7.66e-04 -11.0 7.86e-03    -  1.00e+00 1.00e+00H  1\n",
      "  63  5.7792005e-06 8.49e-07 4.85e-04 -11.0 2.40e-03    -  1.00e+00 1.00e+00h  1\n",
      "  64  6.8550866e-06 8.22e-11 6.45e-04 -11.0 6.60e-03    -  1.00e+00 1.00e+00H  1\n",
      "  65  5.3026825e-06 1.28e-06 6.86e-04 -11.0 4.21e-03    -  1.00e+00 1.00e+00h  1\n",
      "  66  1.5969572e-05 9.41e-13 2.56e-03 -11.0 9.41e-03    -  1.00e+00 1.00e+00H  1\n",
      "  67  4.6036263e-06 2.20e-08 2.69e-04 -11.0 6.62e-03    -  1.00e+00 1.00e+00F  1\n",
      "  68  7.6254496e-06 2.09e-13 6.91e-04 -11.0 6.96e-03    -  1.00e+00 1.00e+00H  1\n",
      "  69  5.4199160e-06 3.40e-09 5.93e-04 -11.0 3.54e-03    -  1.00e+00 1.00e+00F  1\n",
      "iter    objective    inf_pr   inf_du lg(mu)  ||d||  lg(rg) alpha_du alpha_pr  ls\n",
      "  70  5.8004410e-06 1.04e-10 7.47e-04 -11.0 5.40e-03    -  1.00e+00 1.00e+00H  1\n",
      "  71  4.9794906e-06 1.12e-09 5.03e-04 -11.0 2.19e-03    -  1.00e+00 1.00e+00H  1\n",
      "  72  4.9562321e-06 2.73e-09 3.85e-04 -11.0 2.65e-03    -  1.00e+00 1.00e+00H  1\n",
      "  73  4.4442486e-06 2.39e-07 2.88e-04 -11.0 1.10e-03    -  1.00e+00 1.00e+00h  1\n",
      "  74  4.2745519e-06 4.84e-07 2.11e-04 -11.0 9.89e-04    -  1.00e+00 1.00e+00h  1\n",
      "  75  4.2938660e-06 1.33e-08 1.48e-04 -11.0 1.78e-04    -  1.00e+00 1.00e+00h  1\n",
      "  76  4.2272565e-06 2.42e-08 2.89e-05 -11.0 2.11e-04    -  1.00e+00 1.00e+00h  1\n",
      "  77  4.2244711e-06 1.28e-09 2.42e-05 -11.0 2.84e-05    -  1.00e+00 1.00e+00h  1\n",
      "  78  4.1978129e-06 1.84e-07 1.47e-04 -11.0 5.59e-04    -  1.00e+00 1.00e+00h  1\n",
      "  79  8.2745589e-06 2.33e-11 9.42e-04 -11.0 6.97e-03    -  1.00e+00 1.00e+00H  1\n",
      "iter    objective    inf_pr   inf_du lg(mu)  ||d||  lg(rg) alpha_du alpha_pr  ls\n",
      "  80  9.8782560e-06 4.24e-12 1.73e-03 -11.0 1.31e-02    -  1.00e+00 1.00e+00H  1\n",
      "  81  9.8722195e-06 6.39e-12 1.73e-03 -11.0 2.81e-02    -  1.00e+00 1.22e-04h 14\n",
      "  82  5.4944652e-06 6.52e-10 6.01e-04 -11.0 1.84e-02    -  1.00e+00 1.00e+00H  1\n",
      "  83  5.4226164e-06 8.34e-10 5.96e-04 -11.0 1.73e-02    -  1.00e+00 3.91e-03h  9\n",
      "  84  3.7801714e-06 1.23e-06 2.41e-04 -11.0 7.06e-03    -  1.00e+00 1.00e+00h  1\n",
      "  85  3.5583445e-06 2.70e-06 4.42e-04 -11.0 1.22e-01    -  1.00e+00 6.25e-02h  5\n",
      "  86  3.3375731e-06 3.39e-06 3.68e-04 -11.0 8.93e-01    -  1.00e+00 7.81e-03h  8\n",
      "  87  3.1943071e-06 4.90e-06 5.94e-04 -11.0 9.78e-01    -  1.00e+00 7.81e-03h  8\n",
      "  88  3.1319242e-06 1.03e-05 1.04e-03 -11.0 1.63e+00    -  1.00e+00 7.81e-03h  8\n",
      "  89  3.1924181e-06 9.96e-06 9.96e-04 -11.0 8.51e-02    -  1.00e+00 3.12e-02h  6\n",
      "iter    objective    inf_pr   inf_du lg(mu)  ||d||  lg(rg) alpha_du alpha_pr  ls\n",
      "  90  3.1664837e-06 9.37e-06 9.00e-04 -11.0 2.30e-02    -  1.00e+00 6.25e-02h  5\n",
      "  91  3.1623359e-06 8.79e-06 7.11e-04 -11.0 4.23e-02    -  1.00e+00 1.25e-01h  4\n",
      "  92  3.0788008e-06 9.28e-06 7.11e-04 -11.0 4.67e-01    -  1.00e+00 7.81e-03h  8\n",
      "  93  3.0143351e-06 9.55e-06 6.08e-04 -11.0 5.40e-01    -  1.00e+00 7.81e-03h  8\n",
      "  94  2.9878501e-06 1.05e-05 5.10e-04 -11.0 1.58e+00    -  1.00e+00 3.91e-03h  9\n",
      "  95  1.5922074e-02 3.99e-02 9.58e-02 -11.0 1.18e+00    -  1.00e+00 1.00e+00w  1\n",
      "  96  1.5353265e-03 7.10e-02 2.72e-02 -11.0 1.10e+00    -  1.00e+00 1.00e+00w  1\n",
      "  97  4.1811145e+01 8.79e+05 5.75e+05 -11.0 1.56e+01    -  1.00e+00 1.00e+00w  1\n",
      "  98  2.8761283e-06 1.13e-05 3.60e-04 -11.0 2.83e+00    -  1.00e+00 3.91e-03h  8\n",
      "  99  2.7885454e-06 9.13e-07 4.53e-04 -11.0 4.61e-03    -  1.00e+00 1.00e+00h  1\n",
      "iter    objective    inf_pr   inf_du lg(mu)  ||d||  lg(rg) alpha_du alpha_pr  ls\n",
      " 100  2.7235310e-06 1.13e-06 5.42e-04 -11.0 2.34e+00    -  1.00e+00 9.77e-04h 11\n",
      " 101  2.6880615e-06 1.18e-06 5.39e-04 -11.0 2.47e-01    -  1.00e+00 3.91e-03h  9\n",
      " 102  5.5681211e-06 2.29e-11 6.22e-04 -11.0 4.59e-03    -  1.00e+00 1.00e+00H  1\n",
      " 103  6.6842803e-06 1.15e-12 1.32e-03 -11.0 4.92e-03    -  1.00e+00 1.00e+00H  1\n",
      " 104  6.6739231e-06 1.53e-11 1.32e-03 -11.0 3.26e-02    -  1.00e+00 4.88e-04h 12\n",
      " 105  6.6662567e-06 1.71e-11 1.31e-03 -11.0 4.13e-02    -  1.00e+00 1.22e-04h 14\n",
      " 106  2.4641110e-06 3.90e-06 1.10e-04 -11.0 7.99e-03    -  1.00e+00 1.00e+00h  1\n",
      " 107  5.4866728e-05 5.81e-14 2.93e-03 -11.0 9.41e-03    -  1.00e+00 1.00e+00H  1\n",
      " 108  2.4331033e-06 4.72e-06 6.18e-05 -11.0 8.18e-03    -  1.00e+00 1.00e+00f  1\n",
      " 109  2.7594281e-06 5.37e-08 3.51e-04 -11.0 2.11e-04    -  1.00e+00 1.00e+00h  1\n",
      "iter    objective    inf_pr   inf_du lg(mu)  ||d||  lg(rg) alpha_du alpha_pr  ls\n",
      " 110  2.4068599e-06 4.58e-08 5.20e-05 -11.0 2.57e-04    -  1.00e+00 1.00e+00h  1\n",
      " 111  2.4014967e-06 2.70e-11 5.25e-05 -11.0 1.00e-04    -  1.00e+00 1.00e+00h  1\n",
      " 112  2.3641400e-06 1.81e-07 3.30e-04 -11.0 2.38e-01    -  1.00e+00 3.12e-02h  6\n",
      " 113  2.3081026e-06 1.76e-07 3.13e-04 -11.0 6.56e-01    -  1.00e+00 3.91e-03h  9\n",
      " 114  2.1211004e-06 8.91e-07 3.79e-04 -11.0 4.06e-01    -  1.00e+00 3.12e-02h  6\n",
      " 115  2.0883289e-06 9.47e-07 3.84e-04 -11.0 4.94e-01    -  1.00e+00 3.91e-03h  9\n",
      " 116  2.0571232e-06 9.81e-07 3.83e-04 -11.0 9.22e-02    -  1.00e+00 1.56e-02h  7\n",
      " 117  1.5435502e-06 5.46e-06 8.64e-04 -11.0 1.46e+00    -  1.00e+00 3.12e-02h  6\n",
      " 118  1.5487991e-06 5.45e-06 9.78e-04 -11.0 1.49e+00    -  1.00e+00 9.77e-04h 11\n",
      " 119  1.5786019e-06 5.29e-06 7.82e-04 -11.0 1.41e-01    -  1.00e+00 6.25e-02h  5\n",
      "iter    objective    inf_pr   inf_du lg(mu)  ||d||  lg(rg) alpha_du alpha_pr  ls\n",
      " 120  1.5373450e-06 5.65e-06 6.62e-04 -11.0 2.14e-01    -  1.00e+00 1.56e-02h  7\n",
      " 121  4.8089700e-07 2.40e-05 7.11e-04 -11.0 1.92e-01    -  1.00e+00 1.25e-01h  4\n",
      " 122  3.4949456e-02 9.83e-02 1.10e-01 -11.0 1.58e+00    -  1.00e+00 1.00e+00w  1\n",
      " 123  2.7596691e-03 6.12e-02 2.77e-02 -11.0 1.14e+00    -  1.00e+00 1.00e+00w  1\n",
      " 124  1.7966085e+00 1.09e+01 9.61e-01 -11.0 6.66e+00    -  1.00e+00 1.00e+00w  1\n",
      " 125  3.4570062e-07 2.61e-05 8.18e-04 -11.0 1.97e+00    -  1.00e+00 3.91e-03h  8\n",
      " 126  3.8757226e-07 2.54e-05 7.40e-04 -11.0 4.97e-02    -  1.00e+00 3.12e-02h  6\n",
      " 127  5.8547518e-07 2.33e-05 7.35e-04 -11.0 3.22e-02    -  1.00e+00 1.25e-01h  4\n",
      " 128  9.8931767e-07 2.80e-05 7.08e-04 -11.0 9.32e-02    -  1.00e+00 1.25e-01h  4\n",
      " 129  9.4885283e-07 2.83e-05 7.14e-04 -11.0 5.61e-01    -  1.00e+00 7.81e-03h  8\n",
      "iter    objective    inf_pr   inf_du lg(mu)  ||d||  lg(rg) alpha_du alpha_pr  ls\n",
      " 130  9.0934290e-07 2.83e-05 7.67e-04 -11.0 3.11e-01    -  1.00e+00 3.91e-03h  9\n",
      " 131  2.5364636e-07 1.20e-05 3.93e-04 -11.0 1.28e-02    -  1.00e+00 1.00e+00h  1\n",
      " 132  2.0931336e-07 1.20e-05 2.20e-04 -11.0 4.46e-01    -  1.00e+00 3.91e-03h  9\n",
      " 133  2.7359610e-06 8.14e-12 7.20e-04 -11.0 1.90e-02    -  1.00e+00 1.00e+00H  1\n",
      " 134  2.7340588e-06 8.59e-12 7.20e-04 -11.0 2.17e-02    -  1.00e+00 2.44e-04h 13\n",
      " 135  1.2964616e-07 2.65e-05 7.39e-05 -11.0 1.98e-02    -  1.00e+00 1.00e+00h  1\n",
      " 136  1.9130734e-07 2.61e-05 2.11e-04 -11.0 5.24e-02    -  1.00e+00 1.56e-02h  7\n",
      " 137  3.3792046e-07 1.09e-07 1.83e-04 -11.0 1.23e-03    -  1.00e+00 1.00e+00h  1\n",
      " 138  5.7282513e-07 1.78e-09 3.35e-04 -11.0 3.70e-03    -  1.00e+00 1.00e+00H  1\n",
      " 139  9.0581566e-07 5.81e-09 4.84e-04 -11.0 4.68e-03    -  1.00e+00 1.00e+00H  1\n",
      "iter    objective    inf_pr   inf_du lg(mu)  ||d||  lg(rg) alpha_du alpha_pr  ls\n",
      " 140  8.9159634e-07 6.01e-09 4.77e-04 -11.0 3.74e-02    -  1.00e+00 1.95e-03h 10\n",
      " 141  2.0478866e-06 1.05e-09 9.62e-04 -11.0 2.13e-03    -  1.00e+00 1.00e+00H  1\n",
      " 142  1.2753816e-06 5.54e-10 7.84e-04 -11.0 1.06e-03    -  1.00e+00 1.00e+00H  1\n",
      " 143  1.3796606e-07 5.12e-07 9.61e-05 -11.0 1.94e-03    -  1.00e+00 1.00e+00h  1\n",
      " 144  4.2767981e-07 4.75e-10 2.12e-04 -11.0 2.15e-03    -  1.00e+00 1.00e+00H  1\n",
      " 145  9.6647592e-07 4.61e-12 6.79e-04 -11.0 2.27e-03    -  1.00e+00 1.00e+00H  1\n",
      " 146  2.4826601e-06 4.10e-15 5.55e-04 -11.0 2.82e-03    -  1.00e+00 1.00e+00H  1\n",
      " 147  5.7105120e-07 7.24e-10 3.24e-04 -11.0 1.61e-03    -  1.00e+00 1.00e+00F  1\n",
      " 148  1.0967769e-06 1.94e-14 4.77e-04 -11.0 2.74e-03    -  1.00e+00 1.00e+00H  1\n",
      " 149  5.3334590e-07 2.24e-10 4.14e-04 -11.0 1.39e-03    -  1.00e+00 1.00e+00F  1\n",
      "iter    objective    inf_pr   inf_du lg(mu)  ||d||  lg(rg) alpha_du alpha_pr  ls\n",
      " 150  1.3533311e-06 3.08e-14 7.97e-04 -11.0 4.08e-03    -  1.00e+00 1.00e+00H  1\n",
      " 151  1.3528210e-06 1.02e-13 7.96e-04 -11.0 9.42e-03    -  1.00e+00 1.22e-04h 14\n",
      " 152  8.4986779e-07 7.30e-08 5.95e-04 -11.0 2.29e-03    -  1.00e+00 2.50e-01h  3\n",
      " 153  2.2536459e-07 2.50e-07 4.30e-04 -11.0 1.04e-03    -  1.00e+00 1.00e+00h  1\n",
      " 154  1.3378493e-07 6.29e-08 6.12e-05 -11.0 5.34e-04    -  1.00e+00 1.00e+00h  1\n",
      " 155  2.8542822e-07 4.10e-11 1.96e-04 -11.0 8.76e-04    -  1.00e+00 1.00e+00H  1\n",
      " 156  1.1494638e-07 9.25e-08 2.91e-05 -11.0 7.07e-04    -  1.00e+00 1.00e+00h  1\n",
      " 157  1.1872354e-07 7.13e-08 3.61e-05 -11.0 4.74e-04    -  1.00e+00 2.50e-01h  3\n",
      " 158  1.0849579e-07 2.26e-09 1.06e-05 -11.0 1.10e-04    -  1.00e+00 1.00e+00h  1\n",
      " 159  1.0840382e-07 9.67e-11 1.05e-05 -11.0 3.29e-05    -  1.00e+00 1.00e+00h  1\n",
      "iter    objective    inf_pr   inf_du lg(mu)  ||d||  lg(rg) alpha_du alpha_pr  ls\n",
      " 160  1.0767588e-07 6.26e-11 1.03e-05 -11.0 4.95e-05    -  1.00e+00 1.00e+00h  1\n",
      " 161  1.2610518e-07 1.72e-11 8.10e-05 -11.0 7.01e-04    -  1.00e+00 1.00e+00H  1\n",
      " 162  1.1475695e-07 1.17e-11 6.17e-05 -11.0 1.03e-03    -  1.00e+00 1.00e+00H  1\n",
      " 163  8.5096025e-07 5.48e-13 5.27e-04 -11.0 6.75e-04    -  1.00e+00 1.00e+00H  1\n",
      " 164  9.4329948e-08 4.43e-07 2.91e-05 -11.0 1.01e-03    -  1.00e+00 1.00e+00h  1\n",
      " 165  9.2145992e-08 3.31e-09 1.68e-05 -11.0 3.42e-04    -  1.00e+00 1.00e+00h  1\n",
      " 166  9.1363018e-08 1.79e-07 6.34e-05 -11.0 6.39e-02    -  1.00e+00 3.12e-02h  6\n",
      " 167  9.0882049e-08 1.80e-07 7.35e-05 -11.0 1.85e-02    -  1.00e+00 7.81e-03h  8\n",
      " 168  9.0049268e-08 1.01e-08 2.08e-05 -11.0 2.11e-04    -  1.00e+00 1.00e+00h  1\n",
      " 169  8.9835104e-08 7.78e-08 4.56e-05 -11.0 9.09e-04    -  1.00e+00 1.00e+00h  1\n",
      "iter    objective    inf_pr   inf_du lg(mu)  ||d||  lg(rg) alpha_du alpha_pr  ls\n",
      " 170  2.1370903e-06 2.66e-15 8.21e-04 -11.0 7.27e-03    -  1.00e+00 1.00e+00H  1\n",
      " 171  9.2075207e-08 1.28e-08 5.33e-05 -11.0 7.55e-03    -  1.00e+00 1.00e+00F  1\n",
      " 172  3.4865275e-06 1.78e-15 1.42e-03 -11.0 1.74e-03    -  1.00e+00 1.00e+00H  1\n",
      " 173  8.4781586e-08 3.40e-07 2.10e-05 -11.0 1.62e-03    -  1.00e+00 1.00e+00f  1\n",
      " 174  8.4563975e-08 1.68e-10 5.68e-06 -11.0 3.48e-05    -  1.00e+00 1.00e+00h  1\n",
      " 175  8.5350264e-08 2.04e-13 1.22e-05 -11.0 1.19e-04    -  1.00e+00 1.00e+00H  1\n",
      " 176  8.9543931e-08 1.78e-15 3.20e-05 -11.0 9.00e-05    -  1.00e+00 1.00e+00H  1\n",
      " 177  8.3760691e-08 1.21e-08 1.53e-05 -11.0 1.12e-04    -  1.00e+00 1.00e+00h  1\n",
      " 178  8.3954268e-08 6.40e-09 2.44e-05 -11.0 5.99e-05    -  1.00e+00 5.00e-01h  2\n",
      " 179  8.2992308e-08 2.76e-10 4.34e-06 -11.0 4.15e-05    -  1.00e+00 1.00e+00h  1\n",
      "iter    objective    inf_pr   inf_du lg(mu)  ||d||  lg(rg) alpha_du alpha_pr  ls\n",
      " 180  8.2486658e-08 5.36e-10 1.31e-05 -11.0 8.42e-05    -  1.00e+00 1.00e+00h  1\n",
      " 181  1.6728438e-07 2.66e-15 1.83e-04 -11.0 2.33e-03    -  1.00e+00 1.00e+00H  1\n",
      " 182  7.0120820e-06 1.78e-15 1.00e-03 -11.0 1.30e-02    -  1.00e+00 1.00e+00H  1\n",
      " 183  7.0119743e-06 1.78e-15 1.00e-03 -11.0 6.05e-03    -  1.00e+00 7.63e-06h 18\n",
      " 184  7.0119147e-06 1.78e-15 1.00e-03 -11.0 9.07e-03    -  1.00e+00 3.81e-06h 19\n",
      " 185  7.0118659e-06 2.66e-15 1.00e-03 -11.0 1.08e-02    -  1.00e+00 9.54e-07h 21\n",
      " 186  2.7723200e-07 1.78e-15 3.15e-04 -11.0 2.13e-03    -  1.00e+00 1.00e+00F  1\n",
      " 187  7.4046473e-08 9.11e-08 2.97e-04 -11.0 3.97e-03    -  1.00e+00 5.00e-01f  2\n",
      " 188  5.6762044e-08 1.51e-07 1.73e-04 -11.0 1.15e-02    -  1.00e+00 6.25e-02h  5\n",
      " 189  4.1219651e-08 2.06e-07 2.21e-04 -11.0 4.19e-03    -  1.00e+00 1.25e-01h  4\n",
      "iter    objective    inf_pr   inf_du lg(mu)  ||d||  lg(rg) alpha_du alpha_pr  ls\n",
      " 190  3.9588069e-08 1.10e-07 1.06e-04 -11.0 1.16e-03    -  1.00e+00 5.00e-01h  2\n",
      " 191  3.7785484e-08 9.56e-08 1.55e-04 -11.0 2.02e-03    -  1.00e+00 1.25e-01h  4\n",
      " 192  3.8475119e-08 4.23e-11 6.29e-05 -11.0 2.85e-04    -  1.00e+00 1.00e+00H  1\n",
      " 193  5.4732593e-08 4.57e-14 5.75e-05 -11.0 2.11e-04    -  1.00e+00 1.00e+00H  1\n",
      " 194  1.8673310e-08 9.47e-08 5.56e-05 -11.0 1.87e-04    -  1.00e+00 1.00e+00h  1\n",
      " 195  1.9712421e-08 7.87e-09 6.14e-05 -11.0 8.71e-05    -  1.00e+00 1.00e+00h  1\n",
      " 196  1.6729175e-08 9.91e-10 1.60e-05 -11.0 4.24e-05    -  1.00e+00 1.00e+00h  1\n",
      " 197  1.6029290e-08 9.08e-10 4.72e-06 -11.0 2.02e-05    -  1.00e+00 1.00e+00h  1\n",
      " 198  1.5934022e-08 4.57e-11 4.62e-06 -11.0 5.45e-06    -  1.00e+00 1.00e+00h  1\n",
      " 199  1.5889799e-08 1.21e-11 4.54e-06 -11.0 7.71e-06    -  1.00e+00 1.00e+00h  1\n",
      "iter    objective    inf_pr   inf_du lg(mu)  ||d||  lg(rg) alpha_du alpha_pr  ls\n",
      " 200  1.6729165e-08 5.40e-13 1.32e-05 -11.0 2.00e-04    -  1.00e+00 1.00e+00H  1\n",
      " 201  2.8264238e-08 1.78e-15 7.07e-05 -11.0 4.90e-04    -  1.00e+00 1.00e+00H  1\n",
      " 202  2.6287923e-08 1.97e-15 6.36e-05 -11.0 3.60e-04    -  1.00e+00 1.00e+00H  1\n",
      " 203  1.4146160e-08 6.39e-08 3.28e-05 -11.0 4.75e-04    -  1.00e+00 1.00e+00h  1\n",
      " 204  1.3947473e-08 5.66e-08 2.85e-05 -11.0 3.94e-04    -  1.00e+00 1.25e-01h  4\n",
      " 205  1.3097549e-08 2.31e-09 4.82e-06 -11.0 1.81e-04    -  1.00e+00 1.00e+00h  1\n",
      " 206  1.2917178e-08 3.09e-09 6.79e-06 -11.0 7.77e-04    -  1.00e+00 6.25e-02h  5\n",
      " 207  1.3305223e-08 2.69e-13 1.74e-05 -11.0 2.12e-04    -  1.00e+00 1.00e+00H  1\n",
      " 208  2.1238298e-08 1.37e-14 9.58e-05 -11.0 9.01e-04    -  1.00e+00 1.00e+00H  1\n",
      " 209  2.1227540e-08 1.04e-13 9.56e-05 -11.0 3.52e-03    -  1.00e+00 2.44e-04h 13\n",
      "iter    objective    inf_pr   inf_du lg(mu)  ||d||  lg(rg) alpha_du alpha_pr  ls\n",
      " 210  2.1202323e-08 9.82e-14 9.55e-05 -11.0 2.42e-04    -  1.00e+00 9.77e-04h 11\n",
      " 211  2.2367698e-08 2.66e-15 9.76e-05 -11.0 2.95e-04    -  1.00e+00 1.00e+00H  1\n",
      " 212  2.1991401e-08 1.78e-15 9.86e-05 -11.0 2.39e-04    -  1.00e+00 1.00e+00H  1\n",
      " 213  2.5062390e-08 1.78e-15 5.68e-05 -11.0 2.63e-04    -  1.00e+00 1.00e+00H  1\n",
      " 214  1.3724657e-08 2.66e-15 1.96e-05 -11.0 2.53e-04    -  1.00e+00 1.00e+00H  1\n",
      " 215  2.2322922e-08 1.78e-15 5.03e-05 -11.0 9.79e-05    -  1.00e+00 1.00e+00H  1\n",
      " 216  1.1978430e-08 8.69e-10 5.90e-06 -11.0 2.95e-05    -  1.00e+00 1.00e+00h  1\n",
      " 217  1.1954573e-08 2.49e-11 6.22e-07 -11.0 1.03e-05    -  1.00e+00 1.00e+00h  1\n",
      " 218  1.1950082e-08 4.12e-13 6.15e-07 -11.0 3.19e-06    -  1.00e+00 1.00e+00h  1\n",
      " 219  1.1860564e-08 7.22e-10 7.61e-06 -11.0 3.14e-03    -  1.00e+00 6.25e-02h  5\n",
      "iter    objective    inf_pr   inf_du lg(mu)  ||d||  lg(rg) alpha_du alpha_pr  ls\n",
      " 220  1.1832365e-08 1.24e-09 1.49e-05 -11.0 3.99e-03    -  1.00e+00 3.12e-02h  6\n",
      " 221  1.1803770e-08 1.27e-09 1.43e-05 -11.0 3.42e-03    -  1.00e+00 7.81e-03h  8\n",
      " 222  1.1708962e-08 1.28e-10 9.31e-06 -11.0 1.33e-04    -  1.00e+00 1.00e+00h  1\n",
      " 223  1.1490784e-08 2.30e-10 6.57e-06 -11.0 3.62e-03    -  1.00e+00 3.12e-02h  6\n",
      " 224  1.1422307e-08 1.01e-09 1.44e-05 -11.0 6.57e-03    -  1.00e+00 1.56e-02h  7\n",
      " 225  1.1374904e-08 1.01e-09 1.82e-05 -11.0 3.07e-03    -  1.00e+00 1.56e-02h  7\n",
      " 226  1.1294936e-08 1.18e-09 1.34e-05 -11.0 1.84e-03    -  1.00e+00 1.25e-01h  4\n",
      " 227  1.1169682e-08 5.99e-09 1.82e-05 -11.0 5.81e-02    -  1.00e+00 3.12e-02h  6\n",
      " 228  1.0876560e-08 6.78e-09 1.61e-05 -11.0 4.62e-01    -  1.00e+00 9.77e-04h 11\n",
      " 229  1.0730711e-08 8.29e-09 1.10e-05 -11.0 2.00e-01    -  1.00e+00 1.95e-03h 10\n",
      "iter    objective    inf_pr   inf_du lg(mu)  ||d||  lg(rg) alpha_du alpha_pr  ls\n",
      " 230  1.0814724e-08 8.27e-09 8.69e-06 -11.0 1.00e-02    -  1.00e+00 7.81e-03h  8\n",
      " 231  1.0752181e-08 7.95e-09 1.98e-05 -11.0 2.88e-03    -  1.00e+00 6.25e-02h  5\n",
      " 232  1.0693170e-08 8.07e-09 8.18e-06 -11.0 4.92e-02    -  1.00e+00 3.91e-03h  9\n",
      " 233  5.1829796e-06 3.26e-06 1.65e-03 -11.0 1.19e-02    -  1.00e+00 1.00e+00w  1\n",
      " 234  9.0262247e-07 3.17e-06 7.36e-04 -11.0 7.87e-03    -  1.00e+00 1.00e+00w  1\n",
      " 235  6.0224982e-04 1.28e-03 1.63e-02 -11.0 2.47e-01    -  1.00e+00 1.00e+00w  1\n",
      " 236  1.0734024e-08 8.06e-09 9.56e-06 -11.0 5.13e-02    -  1.00e+00 7.81e-03h  7\n",
      " 237  1.0600648e-08 8.00e-09 1.56e-05 -11.0 1.75e-02    -  1.00e+00 7.81e-03h  8\n",
      " 238  1.0562675e-08 7.89e-09 1.58e-05 -11.0 1.11e-02    -  1.00e+00 1.56e-02h  7\n",
      " 239  1.0577489e-08 7.82e-09 9.23e-06 -11.0 9.00e-03    -  1.00e+00 1.56e-02h  7\n",
      "iter    objective    inf_pr   inf_du lg(mu)  ||d||  lg(rg) alpha_du alpha_pr  ls\n",
      " 240  1.0340470e-08 4.65e-09 5.30e-06 -11.0 1.89e-03    -  1.00e+00 5.00e-01h  2\n",
      " 241  1.0236486e-08 4.64e-09 5.17e-06 -11.0 1.01e-01    -  1.00e+00 4.88e-04h 12\n",
      " 242  1.0218489e-08 7.75e-10 6.72e-06 -11.0 1.07e-04    -  1.00e+00 1.00e+00h  1\n",
      " 243  1.0190412e-08 8.15e-10 4.28e-06 -11.0 1.95e-03    -  1.00e+00 6.25e-02h  5\n",
      " 244  1.0177106e-08 8.02e-10 4.44e-06 -11.0 1.95e-03    -  1.00e+00 1.56e-02h  7\n",
      " 245  1.0153753e-08 9.02e-10 1.10e-05 -11.0 7.37e-04    -  1.00e+00 6.25e-02h  5\n",
      " 246  1.0121334e-08 9.38e-10 4.46e-06 -11.0 3.81e-04    -  1.00e+00 3.12e-02h  6\n",
      " 247  9.9885275e-09 4.15e-10 2.07e-06 -11.0 4.77e-05    -  1.00e+00 1.00e+00h  1\n",
      " 248  1.7596544e-08 1.78e-15 2.63e-05 -11.0 1.39e-04    -  1.00e+00 1.00e+00H  1\n",
      " 249  9.9349444e-09 8.22e-10 3.05e-07 -11.0 7.81e-05    -  1.00e+00 1.00e+00h  1\n",
      "iter    objective    inf_pr   inf_du lg(mu)  ||d||  lg(rg) alpha_du alpha_pr  ls\n",
      " 250  9.9360832e-09 1.56e-13 4.20e-07 -11.0 7.07e-06    -  1.00e+00 1.00e+00h  1\n",
      " 251  1.0009532e-08 1.78e-15 1.07e-05 -11.0 1.62e-05    -  1.00e+00 1.00e+00H  1\n",
      " 252  9.9339824e-09 2.75e-11 1.54e-07 -11.0 1.32e-05    -  1.00e+00 1.00e+00h  1\n",
      " 253  9.9351557e-09 1.65e-13 6.60e-07 -11.0 2.15e-06    -  1.00e+00 1.00e+00h  1\n",
      " 254  9.9337191e-09 4.06e-13 2.60e-07 -11.0 3.02e-06    -  1.00e+00 1.00e+00h  1\n",
      " 255  9.9679281e-09 1.78e-15 4.63e-06 -11.0 1.09e-05    -  1.00e+00 1.00e+00H  1\n",
      " 256  9.9334872e-09 4.32e-12 1.15e-07 -11.0 6.57e-06    -  1.00e+00 1.00e+00h  1\n",
      " 257  9.9359549e-09 2.60e-13 3.58e-07 -11.0 8.21e-07    -  1.00e+00 1.00e+00h  1\n",
      " 258  9.9333164e-09 1.51e-13 5.90e-08 -11.0 2.24e-07    -  1.00e+00 1.00e+00h  1\n",
      " 259  9.9332982e-09 1.78e-15 5.82e-08 -11.0 3.96e-07    -  1.00e+00 1.00e+00h  1\n",
      "iter    objective    inf_pr   inf_du lg(mu)  ||d||  lg(rg) alpha_du alpha_pr  ls\n",
      " 260  9.9330950e-09 1.57e-12 6.89e-07 -11.0 2.20e-03    -  1.00e+00 7.81e-03h  8\n",
      " 261  9.9329670e-09 1.52e-12 6.67e-07 -11.0 3.07e-03    -  1.00e+00 3.91e-03h  9\n",
      " 262  9.9329016e-09 3.55e-12 6.56e-07 -11.0 2.82e-03    -  1.00e+00 3.91e-03h  9\n",
      " 263  1.0536690e-08 1.78e-15 3.15e-05 -11.0 7.07e-05    -  1.00e+00 1.00e+00H  1\n",
      " 264  9.9337361e-09 1.78e-15 1.00e-06 -11.0 6.40e-05    -  1.00e+00 1.00e+00H  1\n",
      " 265  1.0038044e-08 1.78e-15 8.85e-06 -11.0 1.19e-04    -  1.00e+00 1.00e+00H  1\n",
      " 266  1.0038023e-08 1.78e-15 8.85e-06 -11.0 1.04e-03    -  1.00e+00 6.10e-05h 15\n",
      " 267  1.0037963e-08 1.78e-15 8.85e-06 -11.0 1.79e-03    -  1.00e+00 1.22e-04h 14\n",
      " 268  1.0037958e-08 1.78e-15 8.85e-06 -11.0 1.38e-01    -  1.00e+00 1.19e-07h 24\n",
      "Restoration phase is called at almost feasible point,\n",
      "  but acceptable point from iteration 262 could be restored.\n",
      "\n",
      "Number of Iterations....: 268\n",
      "\n",
      "                                   (scaled)                 (unscaled)\n",
      "Objective...............:   9.9329016310000795e-09    9.9329016310000795e-09\n",
      "Dual infeasibility......:   6.5611882668121339e-07    6.5611882668121339e-07\n",
      "Constraint violation....:   3.5500491435414006e-12    3.5500491435414006e-12\n",
      "Complementarity.........:   0.0000000000000000e+00    0.0000000000000000e+00\n",
      "Overall NLP error.......:   6.5611882668121339e-07    6.5611882668121339e-07\n",
      "\n",
      "\n",
      "Number of objective function evaluations             = 1538\n",
      "Number of objective gradient evaluations             = 270\n",
      "Number of equality constraint evaluations            = 1538\n",
      "Number of inequality constraint evaluations          = 0\n",
      "Number of equality constraint Jacobian evaluations   = 270\n",
      "Number of inequality constraint Jacobian evaluations = 0\n",
      "Number of Lagrangian Hessian evaluations             = 0\n",
      "Total CPU secs in IPOPT (w/o function evaluations)   =      1.296\n",
      "Total CPU secs in NLP function evaluations           =      1.436\n",
      "\n",
      "EXIT: Solved To Acceptable Level.\n"
     ]
    },
    {
     "data": {
      "text/plain": [
       ":Optimal"
      ]
     },
     "execution_count": 15,
     "metadata": {},
     "output_type": "execute_result"
    }
   ],
   "source": [
    "solve(m)"
   ]
  },
  {
   "cell_type": "code",
   "execution_count": 16,
   "metadata": {},
   "outputs": [
    {
     "data": {
      "text/plain": [
       "99-element Array{Float64,1}:\n",
       " 1.21283\n",
       " 1.42073\n",
       " 1.62156\n",
       " 1.81408\n",
       " 1.99759\n",
       " 2.17174\n",
       " 2.33639\n",
       " 2.49163\n",
       " 2.63764\n",
       " 2.77471\n",
       " 2.90316\n",
       " 3.02337\n",
       " 3.13576\n",
       " ⋮      \n",
       " 4.62445\n",
       " 4.62483\n",
       " 4.62519\n",
       " 4.62551\n",
       " 4.62582\n",
       " 4.6261 \n",
       " 4.62636\n",
       " 4.6266 \n",
       " 4.62682\n",
       " 4.62703\n",
       " 4.62722\n",
       " 4.6274 "
      ]
     },
     "execution_count": 16,
     "metadata": {},
     "output_type": "execute_result"
    }
   ],
   "source": [
    "getvalue(predictedK).innerArray"
   ]
  },
  {
   "cell_type": "code",
   "execution_count": 17,
   "metadata": {},
   "outputs": [
    {
     "data": {
      "text/plain": [
       "5-element Array{Float64,1}:\n",
       " 0.950001 \n",
       " 0.0499987\n",
       " 0.299998 \n",
       " 0.999999 \n",
       " 1.99991  "
      ]
     },
     "execution_count": 17,
     "metadata": {},
     "output_type": "execute_result"
    }
   ],
   "source": [
    "[getvalue(β), getvalue(δ), getvalue(α), getvalue(A), getvalue(γ)]"
   ]
  },
  {
   "cell_type": "code",
   "execution_count": 18,
   "metadata": {},
   "outputs": [
    {
     "data": {
      "text/plain": [
       "10-element Array{Float64,1}:\n",
       " -0.236393  \n",
       " -0.400215  \n",
       " -0.225332  \n",
       " -0.0429154 \n",
       "  0.0695975 \n",
       "  0.0957278 \n",
       "  0.0692258 \n",
       "  0.0331543 \n",
       "  0.0103012 \n",
       "  0.00170368"
      ]
     },
     "execution_count": 18,
     "metadata": {},
     "output_type": "execute_result"
    }
   ],
   "source": [
    "getvalue(coeff) - true_coeff"
   ]
  },
  {
   "cell_type": "code",
   "execution_count": 19,
   "metadata": {},
   "outputs": [
    {
     "data": {
      "text/html": [
       "<img src=\"data:image/png;base64,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\" />"
      ]
     },
     "execution_count": 19,
     "metadata": {},
     "output_type": "execute_result"
    }
   ],
   "source": [
    "plot(hcat(getvalue(predictedC), dataC))"
   ]
  },
  {
   "cell_type": "code",
   "execution_count": 20,
   "metadata": {},
   "outputs": [
    {
     "data": {
      "text/html": [
       "<img src=\"data:image/png;base64,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\" />"
      ]
     },
     "execution_count": 20,
     "metadata": {},
     "output_type": "execute_result"
    }
   ],
   "source": [
    "plot(K, hcat(Ψ * true_coeff, Ψ * getvalue(coeff)))"
   ]
  },
  {
   "cell_type": "markdown",
   "metadata": {},
   "source": [
    "The approximation is only good within the actually observed data, that is very bad! Macro is about what agent think can happen and what they would do."
   ]
  },
  {
   "cell_type": "markdown",
   "metadata": {},
   "source": [
    "### Variante B\n",
    "use 10 EE as constraints and gap between predition and data as objective function!\n",
    "makes more sense in order to target moments of data more easily\n",
    "but auto will not be able to differentiate through the function that creats the basis matrix!"
   ]
  },
  {
   "cell_type": "code",
   "execution_count": 22,
   "metadata": {},
   "outputs": [
    {
     "data": {
      "text/plain": [
       "f_prime (generic function with 2 methods)"
      ]
     },
     "execution_count": 22,
     "metadata": {},
     "output_type": "execute_result"
    }
   ],
   "source": [
    "u_crra_prime(c, γ) = begin\n",
    "    if (c <= 0)\n",
    "        return -1000000.\n",
    "        else\n",
    "        return c.^-γ\n",
    "    end\n",
    "end\n",
    "\n",
    "u_crra_prime_inv(u, γ) = begin\n",
    "    if (u <= 0)\n",
    "        return -100000.\n",
    "    else\n",
    "        return u.^(-1/γ) \n",
    "    end\n",
    "end\n",
    "\n",
    "function f(k, α, A)\n",
    "    A*k^α\n",
    "end\n",
    "\n",
    "function f_prime(k, α, A)\n",
    "    if (k <= 0)\n",
    "        return zero(k)\n",
    "    else\n",
    "        A*α*k^(α-1)\n",
    "    end\n",
    "end"
   ]
  },
  {
   "cell_type": "code",
   "execution_count": 23,
   "metadata": {},
   "outputs": [],
   "source": [
    "k_stst = 4.628988089138438 #reference point of the grid\n",
    "basis = Basis(ChebParams(10, 0.2*k_stst, 2*k_stst))\n",
    "K = nodes(basis)[1] #grid\n",
    "Ψ = BasisMatrix(basis, Expanded(), K).vals[1] #\\Psi(k)\n",
    "Φ = BasisMatrix(basis, Expanded(), dataK).vals[1]\n",
    "\n",
    "m = Model(solver=IpoptSolver(print_level=5, max_iter=500))\n",
    "\n",
    "@variable(m, 0 <= β <= 1, start = 0.95)\n",
    "@variable(m, 0 <= δ <= 1, start = 0.05)\n",
    "@variable(m, 0 <= α <= 1, start = 0.3)\n",
    "@variable(m, A >= 0, start = 1)\n",
    "@variable(m, γ >= 0, start = 2)\n",
    "\n",
    "#@variable(m, 0 <= β <= 1, start = 0.0)\n",
    "#@variable(m, 0 <= δ <= 1, start = 0.00)\n",
    "#@variable(m, 0 <= α <= 1, start = 0.9)\n",
    "#@variable(m, A >= 0, start = 5)\n",
    "#@variable(m, γ >= 0, start = 10)\n",
    "\n",
    "@variable(m, θ[1:10], start = 0)\n",
    "setvalue(θ[1], 0.4)\n",
    "\n",
    "@variable(m, modelC[i=1:10], start = 1)\n",
    "@variable(m, modelCprime[i=1:10], start = 1)\n",
    "@variable(m, modelKprime[i=1:10], start = 1)\n",
    "\n",
    "JuMP.register(m, :u_crra_prime, 2, u_crra_prime, autodiff=true)\n",
    "JuMP.register(m, :f, 3, f, autodiff=true)\n",
    "JuMP.register(m, :f_prime, 3, f_prime, autodiff=true)\n",
    "JuMP.register(m, :u_crra_prime_inv, 2, u_crra_prime_inv, autodiff=true)"
   ]
  },
  {
   "cell_type": "code",
   "execution_count": 24,
   "metadata": {},
   "outputs": [
    {
     "data": {
      "text/plain": [
       "Ψprime (generic function with 1 method)"
      ]
     },
     "execution_count": 24,
     "metadata": {},
     "output_type": "execute_result"
    }
   ],
   "source": [
    "function Ψprime(x, order)\n",
    "    k_stst = 4.628988089138438\n",
    "    a = 0.2*k_stst\n",
    "    b = 2*k_stst\n",
    "        \n",
    "    z = (2/(b-a)) * (x-(a+b)/2)\n",
    "    \n",
    "    if (order == 1)\n",
    "        return 1.\n",
    "    elseif (order == 2)\n",
    "        return z\n",
    "    else\n",
    "\n",
    "        out1 = 1.\n",
    "        out2 = z\n",
    "        out3 = 0.\n",
    "\n",
    "        for j in 3:order\n",
    "            out3 = 2. * z * out2 - out1\n",
    "            out1 = out2\n",
    "            out2 = out3\n",
    "        end\n",
    "\n",
    "        return out3\n",
    "    end\n",
    "end"
   ]
  },
  {
   "cell_type": "code",
   "execution_count": 25,
   "metadata": {},
   "outputs": [],
   "source": [
    "JuMP.register(m, :Ψprime, 2, Ψprime, autodiff=true)"
   ]
  },
  {
   "cell_type": "code",
   "execution_count": 26,
   "metadata": {},
   "outputs": [],
   "source": [
    "@NLconstraint(m, a[i=1:10], modelC[i] == sum(Ψ[i, k] * θ[k] for k in 1:10))\n",
    "@NLconstraint(m, b[i=1:10], modelCprime[i] == sum(Ψprime(modelKprime[i], k) * θ[k] for k in 1:10))\n",
    "@NLconstraint(m, c[i=1:10], modelKprime[i] == f(K[i], α, A) + (1-δ)*K[i] - modelC[i])\n",
    "\n",
    "@NLconstraint(m, EE[i=1:10], modelC[i] == u_crra_prime_inv(\n",
    "    β * u_crra_prime(modelCprime[i], γ) * (f_prime(modelKprime[i], α, A) + 1-δ), γ));"
   ]
  },
  {
   "cell_type": "code",
   "execution_count": 27,
   "metadata": {},
   "outputs": [],
   "source": [
    "@NLexpression(m, predictedK[t=2:100], f(dataK[t-1], α, A) + (1-δ)*dataK[t-1] - dataC[t-1])\n",
    "@NLexpression(m, predictedC[t=1:100], sum(Φ[t, k] * θ[k] for k in 1:10));"
   ]
  },
  {
   "cell_type": "code",
   "execution_count": 28,
   "metadata": {},
   "outputs": [],
   "source": [
    "@NLobjective(m, Min, sum((dataC[t] - predictedC[t])^2 for t in 1:100) +\n",
    "    sum((dataK[t] - predictedK[t])^2 for t in 2:100))"
   ]
  },
  {
   "cell_type": "code",
   "execution_count": 29,
   "metadata": {},
   "outputs": [],
   "source": [
    "#@NLobjective(m, Min, (β-0.95)^2 + (δ-0.05)^2 + (α-0.3)^2 + (A-1)^2 + (γ-2)^2)"
   ]
  },
  {
   "cell_type": "code",
   "execution_count": 30,
   "metadata": {
    "scrolled": true
   },
   "outputs": [
    {
     "name": "stdout",
     "output_type": "stream",
     "text": [
      "This is Ipopt version 3.12.1, running with linear solver mumps.\n",
      "NOTE: Other linear solvers might be more efficient (see Ipopt documentation).\n",
      "\n",
      "Number of nonzeros in equality constraint Jacobian...:      360\n",
      "Number of nonzeros in inequality constraint Jacobian.:        0\n",
      "Number of nonzeros in Lagrangian Hessian.............:        0\n",
      "\n",
      "Total number of variables............................:       45\n",
      "                     variables with only lower bounds:        2\n",
      "                variables with lower and upper bounds:        3\n",
      "                     variables with only upper bounds:        0\n",
      "Total number of equality constraints.................:       40\n",
      "Total number of inequality constraints...............:        0\n",
      "        inequality constraints with only lower bounds:        0\n",
      "   inequality constraints with lower and upper bounds:        0\n",
      "        inequality constraints with only upper bounds:        0\n",
      "\n",
      "iter    objective    inf_pr   inf_du lg(mu)  ||d||  lg(rg) alpha_du alpha_pr  ls\n",
      "   0  7.8348819e+01 8.69e+00 4.73e+00   0.0 0.00e+00    -  0.00e+00 0.00e+00   0\n",
      "   1  9.6287612e+01 9.79e+00 2.73e+02   1.9 8.57e+01    -  2.69e-02 4.04e-03f  2\n",
      "   2  1.5609828e+02 5.98e+00 4.81e+02   0.4 8.25e-01    -  4.09e-01 6.13e-01h  1\n",
      "   3  8.1278014e+01 5.91e+00 6.10e+03   1.0 1.09e+00    -  8.51e-01 6.29e-01f  1\n",
      "   4  5.8891808e+02 2.22e+00 3.92e+03   0.6 3.53e-01    -  1.00e+00 1.00e+00h  1\n",
      "   5  7.0001141e+02 1.50e+00 1.82e+03   0.5 3.56e-01    -  1.00e+00 3.36e-01h  1\n",
      "   6  8.7235811e+02 3.65e-02 2.75e+03  -0.5 4.76e-01    -  1.00e+00 1.00e+00h  1\n",
      "   7  4.3094242e+02 2.33e-01 8.18e+03   1.8 2.16e+00    -  8.84e-01 1.00e+00f  1\n",
      "   8  1.4559222e+02 2.21e-01 1.45e+03   1.5 2.98e+00    -  9.86e-01 1.00e+00f  1\n",
      "   9  7.9878952e+01 8.36e-02 1.47e+02   1.1 1.01e+00    -  9.97e-01 1.00e+00f  1\n",
      "iter    objective    inf_pr   inf_du lg(mu)  ||d||  lg(rg) alpha_du alpha_pr  ls\n",
      "  10  6.2457191e+00 1.13e-01 1.21e+03   0.4 1.83e+00    -  9.59e-01 1.00e+00f  1\n",
      "  11  1.8823046e+00 1.03e-02 2.10e+01  -0.3 3.03e-01    -  1.00e+00 1.00e+00f  1\n",
      "  12  2.8813904e-01 1.59e-03 1.24e+01  -1.6 3.08e-01    -  1.00e+00 1.00e+00f  1\n",
      "  13  2.0438214e+00 1.46e-03 5.36e+01  -0.6 1.45e-01    -  9.57e-01 1.00e+00H  1\n",
      "  14  1.1158307e-01 3.82e-02 1.86e+00  -1.4 1.48e-01    -  1.00e+00 1.00e+00f  1\n",
      "  15  1.0304825e-01 1.70e-03 2.29e+00  -2.3 1.66e-02    -  9.99e-01 1.00e+00h  1\n",
      "  16  9.3599882e-02 3.23e-04 8.33e-01  -4.0 1.23e-02    -  1.00e+00 1.00e+00h  1\n",
      "  17  9.1047495e-02 2.83e-03 3.34e+00  -4.5 8.94e-02    -  1.00e+00 1.00e+00H  1\n",
      "  18  8.4093487e-02 1.17e-02 1.43e+00  -5.4 4.68e-02    -  1.00e+00 1.00e+00h  1\n",
      "  19  8.0980278e-02 7.99e-04 1.18e-01  -6.3 1.01e-02    -  1.00e+00 1.00e+00h  1\n",
      "iter    objective    inf_pr   inf_du lg(mu)  ||d||  lg(rg) alpha_du alpha_pr  ls\n",
      "  20  8.0278924e-02 3.40e-03 1.97e+00  -7.6 1.92e-02    -  1.00e+00 1.00e+00h  1\n",
      "  21  7.9089844e-02 3.24e-04 8.18e-01  -8.7 6.76e-03    -  1.00e+00 1.00e+00h  1\n",
      "  22  7.8011584e-02 9.38e-04 2.13e-01  -9.6 1.39e-02    -  1.00e+00 1.00e+00h  1\n",
      "  23  7.5802426e-02 5.58e-03 1.06e+00 -10.4 1.29e-01    -  1.00e+00 2.50e-01h  3\n",
      "  24  7.3784813e-02 4.00e-03 2.01e+00 -11.0 5.39e-02    -  1.00e+00 1.00e+00h  1\n",
      "  25  8.0336742e-02 5.32e-04 2.05e+00 -11.0 8.87e-02    -  1.00e+00 1.00e+00h  1\n",
      "  26  7.0187524e-02 3.40e-05 3.23e-01 -11.0 2.80e-02    -  1.00e+00 1.00e+00h  1\n",
      "  27  6.9588182e-02 2.42e-03 1.71e+00 -11.0 3.88e-02    -  1.00e+00 1.00e+00h  1\n",
      "  28  6.6513060e-02 3.29e-05 8.73e-01 -11.0 1.57e-01    -  1.00e+00 1.00e+00h  1\n",
      "  29  6.6266805e-02 1.39e-03 1.73e+00  -9.0 6.41e+00    -  1.00e+00 3.66e-02h  5\n",
      "iter    objective    inf_pr   inf_du lg(mu)  ||d||  lg(rg) alpha_du alpha_pr  ls\n",
      "  30  6.6062993e-02 1.90e-03 1.72e+00  -8.1 1.40e+00    -  1.00e+00 6.69e-03h  6\n",
      "  31  6.0459121e-02 7.49e-04 1.89e+00  -9.5 9.19e-01    -  1.00e+00 1.00e+00h  1\n",
      "  32  4.4728061e-02 1.06e-02 4.88e+00  -7.4 5.67e+01    -  1.00e+00 5.32e-02f  2\n",
      "  33  3.7642323e-02 2.62e-02 2.29e+00  -5.4 2.20e+01    -  1.00e+00 6.92e-02h  2\n",
      "  34  3.4829170e-02 2.78e-02 3.90e+00  -4.9 7.02e+00    -  1.00e+00 6.25e-02h  5\n",
      "  35  4.8164597e+00 6.77e-03 9.73e+01  -5.5 2.44e-01    -  9.92e-01 1.00e+00H  1\n",
      "  36  1.8273872e-01 8.91e-03 1.28e+01  -5.7 1.89e-01    -  2.83e-01 1.00e+00f  1\n",
      "  37  2.9015880e-02 1.60e-03 2.77e+00  -5.7 4.20e-02    -  1.00e+00 1.00e+00h  1\n",
      "  38  1.8768441e-02 7.49e-05 3.50e-01  -7.2 6.80e-03    -  1.00e+00 1.00e+00h  1\n",
      "  39  9.7584193e-03 2.50e-04 5.35e-01  -8.7 9.42e-03    -  1.00e+00 1.00e+00h  1\n",
      "iter    objective    inf_pr   inf_du lg(mu)  ||d||  lg(rg) alpha_du alpha_pr  ls\n",
      "  40  2.4276949e-03 7.87e-05 2.21e-01 -10.1 1.85e-02    -  1.00e+00 1.00e+00h  1\n",
      "  41  1.7509697e-04 2.43e-04 4.42e-01 -11.0 1.65e-02    -  1.00e+00 1.00e+00h  1\n",
      "  42  8.4475243e-05 3.59e-06 1.68e-02 -11.0 2.28e-03    -  1.00e+00 1.00e+00h  1\n",
      "  43  7.2827508e-05 2.85e-06 1.01e-02 -11.0 1.24e-03    -  1.00e+00 1.00e+00h  1\n",
      "  44  2.3777231e-04 2.31e-07 6.30e-01 -11.0 1.51e-02    -  1.00e+00 1.00e+00H  1\n",
      "  45  1.5995312e-04 1.31e-04 1.86e-01 -11.0 3.25e-02    -  1.00e+00 2.50e-01h  3\n",
      "  46  5.8564733e-05 9.84e-04 1.09e-01 -11.0 1.91e-02    -  1.00e+00 1.00e+00h  1\n",
      "  47  1.3500387e-04 1.06e-05 1.03e-01 -11.0 4.93e-03    -  1.00e+00 1.00e+00h  1\n",
      "  48  2.1104177e-05 1.88e-04 3.22e-02 -11.0 7.86e-03    -  1.00e+00 1.00e+00h  1\n",
      "  49  2.1844713e-05 3.71e-05 5.19e-02 -11.0 2.69e-03    -  1.00e+00 1.00e+00h  1\n",
      "iter    objective    inf_pr   inf_du lg(mu)  ||d||  lg(rg) alpha_du alpha_pr  ls\n",
      "  50  3.8840857e-05 2.19e-06 4.28e-02 -11.0 1.60e-03    -  1.00e+00 1.00e+00h  1\n",
      "  51  1.6640593e-05 5.78e-06 4.58e-03 -11.0 2.63e-03    -  1.00e+00 1.00e+00h  1\n",
      "  52  1.6363767e-05 7.21e-08 3.22e-04 -11.0 4.01e-04    -  1.00e+00 1.00e+00h  1\n",
      "  53  4.8050036e-05 6.80e-09 9.52e-03 -11.0 6.98e-03    -  1.00e+00 1.00e+00H  1\n",
      "  54  1.3138901e-05 4.97e-05 1.18e-02 -11.0 5.86e-03    -  1.00e+00 1.00e+00h  1\n",
      "  55  1.1730469e-05 1.61e-05 1.31e-02 -11.0 4.27e-03    -  1.00e+00 1.00e+00h  1\n",
      "  56  3.6944193e-05 3.03e-06 5.58e-02 -11.0 2.07e-02    -  1.00e+00 1.00e+00H  1\n",
      "  57  1.4534433e-04 2.28e-06 2.82e-01 -11.0 9.21e-02    -  1.00e+00 1.00e+00H  1\n",
      "  58  1.3567325e-04 2.24e-06 2.88e-01 -11.0 1.16e+00    -  1.00e+00 7.81e-03h  8\n",
      "  59  4.0637939e-04 1.95e-07 8.84e-01 -11.0 5.23e-02    -  1.00e+00 1.00e+00H  1\n",
      "iter    objective    inf_pr   inf_du lg(mu)  ||d||  lg(rg) alpha_du alpha_pr  ls\n",
      "  60  1.5074671e-04 3.68e-07 5.77e-02 -11.0 7.83e-02    -  1.00e+00 1.00e+00H  1\n",
      "  61  1.4458470e-04 1.86e-06 5.52e-02 -11.0 5.63e-01    -  1.00e+00 7.81e-03h  8\n",
      "  62  1.4343644e-04 2.71e-06 5.40e-02 -11.0 1.52e+00    -  1.83e-01 9.77e-04h 11\n",
      "  63  1.4045892e-04 2.77e-06 5.41e-02 -11.0 4.60e-01    -  1.00e+00 9.77e-04h 11\n",
      "  64  3.1141829e-05 1.90e-05 1.65e-01 -11.0 5.50e-02    -  1.00e+00 1.00e+00h  1\n",
      "  65  2.9641243e-05 2.50e-05 1.54e-01 -11.0 4.51e-01    -  1.00e+00 6.25e-02h  5\n",
      "  66  1.6277189e-03 8.10e-09 6.87e-02 -11.0 1.67e-01    -  1.00e+00 1.00e+00H  1\n",
      "  67  1.6133402e-03 2.27e-07 6.64e-02 -11.0 2.82e+00    -  1.00e+00 5.72e-04f 10\n",
      "  68  1.6124305e-03 2.36e-07 6.64e-02 -11.0 1.06e+01    -  1.03e-01 1.58e-05h 12\n",
      "  69  1.6116848e-03 2.39e-07 6.62e-02 -11.0 4.59e-01    -  1.00e+00 6.72e-05h 13\n",
      "iter    objective    inf_pr   inf_du lg(mu)  ||d||  lg(rg) alpha_du alpha_pr  ls\n",
      "  70  1.6108482e-03 2.40e-07 6.62e-02 -11.0 3.85e-01    -  1.00e+00 2.44e-04h 13\n",
      "  71  1.5545108e-03 4.57e-04 6.70e-02 -11.0 4.41e-01    -  4.06e-01 6.25e-02h  5\n",
      "  72  2.6793880e-04 3.04e-03 1.29e+00 -11.0 1.48e-01    -  1.00e+00 5.00e-01h  2\n",
      "  73  1.4502340e-04 3.56e-03 3.71e-01 -11.0 4.68e-01    -  1.00e+00 2.50e-01h  3\n",
      "  74  4.4721636e-05 3.98e-03 7.06e-01 -11.0 1.20e+00    -  7.73e-02 1.19e-02h  6\n",
      "  75  9.5637298e-05 2.83e-03 8.32e-02 -11.0 1.30e-01    -  1.00e+00 5.00e-01h  2\n",
      "  76  7.0512588e-05 2.99e-03 2.90e-01 -11.0 2.95e+00    -  1.72e-01 1.56e-02h  7\n",
      "  77  4.0414734e-04 2.71e-03 2.76e-01 -11.0 9.03e-02    -  1.00e+00 1.00e+00h  1\n",
      "  78  4.2440476e-04 2.59e-03 6.65e-01 -11.0 4.47e-01    -  1.00e+00 1.25e-01h  4\n",
      "  79  2.4803513e-04 2.79e-03 2.05e-01 -11.0 1.40e+00    -  1.00e+00 2.97e-02h  5\n",
      "iter    objective    inf_pr   inf_du lg(mu)  ||d||  lg(rg) alpha_du alpha_pr  ls\n",
      "  80  3.3850447e-04 6.84e-05 1.74e-01 -11.0 9.57e-02    -  1.00e+00 1.00e+00h  1\n",
      "  81  1.8067871e-04 1.43e-04 1.78e-01 -11.0 2.09e-01    -  1.00e+00 2.50e-01h  3\n",
      "  82  5.4861925e-04 5.70e-06 6.58e-01 -11.0 5.06e-02    -  1.00e+00 1.00e+00H  1\n",
      "  83  4.7071582e-04 3.58e-05 5.58e-01 -11.0 2.30e-01    -  1.00e+00 6.25e-02h  5\n",
      "  84  4.2588650e-04 5.90e-05 6.02e-01 -11.0 2.07e+00    -  2.60e-01 7.19e-03h  8\n",
      "  85  4.1261782e-04 7.05e-05 5.80e-01 -11.0 3.04e+01    -  1.20e-01 3.27e-04h  7\n",
      "  86  3.9956843e-04 8.15e-05 5.55e-01 -11.0 3.41e+01    -  2.31e-01 2.86e-04h  7\n",
      "  87  3.8692888e-04 9.22e-05 5.26e-01 -11.0 1.65e+06    -  2.21e-06 5.79e-09f  7\n",
      "  88  9.0649248e-03 2.01e-05 4.30e+00 -11.0 2.42e-01    -  1.00e+00 1.00e+00H  1\n",
      "  89  2.8718802e-03 1.90e-05 1.03e+00 -11.0 5.18e-01    -  3.58e-01 1.00e+00H  1\n",
      "Warning: Cutting back alpha due to evaluation error\n",
      "iter    objective    inf_pr   inf_du lg(mu)  ||d||  lg(rg) alpha_du alpha_pr  ls\n",
      "  90  2.1214238e-03 5.37e-05 8.29e-01 -11.0 4.33e+00    -  1.00e+00 1.72e-02h  6\n",
      "  91  1.4315652e-03 5.25e-05 2.50e-01 -11.0 1.88e+00    -  7.25e-01 3.91e-03h  9\n",
      "  92  1.6464372e-04 2.91e-04 3.91e-01 -11.0 1.80e-01    -  1.00e+00 1.00e+00h  1\n",
      "  93  1.2871105e-04 2.81e-04 3.31e-01 -11.0 5.27e-01    -  1.00e+00 6.25e-02h  5\n",
      "  94  1.1734574e-04 2.72e-04 7.98e-02 -11.0 5.19e-01    -  7.75e-01 1.56e-02h  7\n",
      "  95  9.4982103e-05 2.87e-05 6.65e-02 -11.0 8.37e-03    -  1.00e+00 1.00e+00h  1\n",
      "  96  5.7354652e-05 1.95e-03 4.14e-01 -11.0 1.07e-01    -  1.00e+00 1.00e+00h  1\n",
      "  97  1.8486445e-05 2.18e-04 7.64e-02 -11.0 3.81e-02    -  1.00e+00 1.00e+00h  1\n",
      "  98  1.3026906e-03 2.32e-05 4.86e-01 -11.0 1.58e-01    -  1.00e+00 1.00e+00H  1\n",
      "  99  2.4080964e-04 1.18e-05 1.32e-01 -11.0 2.51e-01    -  1.00e+00 1.00e+00H  1\n",
      "iter    objective    inf_pr   inf_du lg(mu)  ||d||  lg(rg) alpha_du alpha_pr  ls\n",
      " 100  2.1434347e-04 7.32e-06 9.30e-02 -11.0 1.57e+00    -  2.90e-01 1.26e-02h  6\n",
      " 101  9.4367989e-05 5.72e-05 7.29e-02 -11.0 3.70e-01    -  1.00e+00 1.25e-01h  4\n",
      " 102  7.4627247e-05 1.98e-04 7.21e-02 -11.0 1.72e+01    -  6.61e-02 6.56e-04h  5\n",
      " 103  1.4749817e-05 2.23e-04 1.95e-01 -11.0 6.85e-02    -  1.00e+00 1.00e+00h  1\n",
      " 104  4.4412783e-05 2.23e-04 1.81e-01 -11.0 3.42e+00    -  5.85e-01 7.81e-03h  8\n",
      " 105  1.8401279e-07 3.94e-06 3.93e-03 -11.0 2.37e-02    -  1.00e+00 1.00e+00h  1\n",
      " 106  1.7363275e-04 1.71e-06 3.86e-01 -11.0 1.04e-01    -  1.00e+00 1.00e+00H  1\n",
      " 107  1.1366838e-06 1.36e-03 1.01e-02 -11.0 8.99e-02    -  1.00e+00 1.00e+00h  1\n",
      " 108  1.3707082e-04 1.36e-03 1.09e-01 -11.0 5.58e-01    -  1.00e+00 1.25e-01h  4\n",
      " 109  2.9984005e-06 2.27e-04 1.13e-02 -11.0 6.54e-02    -  1.00e+00 1.00e+00h  1\n",
      "iter    objective    inf_pr   inf_du lg(mu)  ||d||  lg(rg) alpha_du alpha_pr  ls\n",
      " 110  1.0683142e-06 2.37e-04 5.29e-03 -11.0 7.13e-02    -  1.00e+00 3.12e-02h  6\n",
      " 111  1.1975805e-05 4.40e-05 1.23e-01 -11.0 2.24e-02    -  1.00e+00 1.00e+00h  1\n",
      " 112  2.5801513e-03 8.82e-08 3.41e-02 -11.0 2.44e-02    -  1.00e+00 1.00e+00H  1\n",
      " 113  9.9994737e-04 2.65e-07 1.19e+00 -11.0 2.00e-01    -  1.00e+00 1.00e+00F  1\n",
      " 114  9.3698181e-04 6.76e-07 1.14e+00 -11.0 5.46e+00    -  8.62e-01 4.47e-04f 10\n",
      " 115  2.1332307e-04 2.33e-07 7.79e-02 -11.0 3.73e-02    -  1.00e+00 1.00e+00H  1\n",
      " 116  1.9464169e-04 5.95e-08 5.00e-03 -11.0 7.01e-03    -  1.00e+00 1.00e+00H  1\n",
      " 117  3.0790969e-04 3.56e-08 1.50e-02 -11.0 5.01e-02    -  1.00e+00 1.00e+00H  1\n",
      " 118  1.5543932e-04 1.36e-03 2.58e-01 -11.0 7.61e-02    -  1.00e+00 5.00e-01h  2\n",
      " 119  1.0853961e-04 1.27e-03 4.82e-02 -11.0 7.01e-01    -  1.00e+00 6.25e-02h  5\n",
      "iter    objective    inf_pr   inf_du lg(mu)  ||d||  lg(rg) alpha_du alpha_pr  ls\n",
      " 120  8.5138843e-04 2.63e-08 2.86e-02 -11.0 1.99e-01    -  1.00e+00 1.00e+00H  1\n",
      " 121  8.4948873e-04 2.69e-08 2.86e-02 -11.0 1.29e+00    -  4.36e-01 2.44e-04h 13\n",
      " 122  8.4788152e-04 2.76e-08 2.86e-02 -11.0 3.28e+00    -  1.00e+00 1.14e-04h 12\n",
      " 123  8.4760273e-04 2.78e-08 2.85e-02 -11.0 1.92e+01    -  1.69e-01 1.09e-05h 12\n",
      " 124  4.4494126e-05 2.22e-04 2.91e-02 -11.0 1.49e-01    -  1.00e+00 1.00e+00f  1\n",
      " 125  4.3603976e-05 2.20e-04 2.38e-01 -11.0 1.38e+00    -  1.00e+00 1.56e-02h  7\n",
      " 126  3.8351415e-05 2.89e-04 1.38e-01 -11.0 7.73e-02    -  1.00e+00 6.25e-02h  5\n",
      " 127  2.4241328e-06 2.52e-04 4.00e-02 -11.0 2.22e-02    -  1.00e+00 1.00e+00h  1\n",
      " 128  2.1883111e-06 2.52e-04 4.69e-02 -11.0 3.24e-01    -  1.00e+00 1.56e-02h  7\n",
      " 129  1.4392892e-06 2.56e-04 3.24e-02 -11.0 2.94e-01    -  1.00e+00 1.55e-02h  7\n",
      "iter    objective    inf_pr   inf_du lg(mu)  ||d||  lg(rg) alpha_du alpha_pr  ls\n",
      " 130  9.8351523e-08 1.07e-06 5.69e-03 -11.0 8.28e-03    -  1.00e+00 1.00e+00h  1\n",
      " 131  4.5300689e-07 6.36e-08 1.12e-03 -11.0 2.38e-03    -  1.00e+00 1.00e+00h  1\n",
      " 132  3.6445644e-06 2.73e-09 1.29e-03 -11.0 1.03e-02    -  1.00e+00 1.00e+00H  1\n",
      " 133  1.6793058e-05 8.74e-11 5.27e-03 -11.0 7.93e-03    -  1.00e+00 1.00e+00H  1\n",
      " 134  1.1564988e-08 5.90e-06 9.02e-04 -11.0 1.59e-02    -  1.00e+00 1.00e+00h  1\n",
      " 135  2.3322075e-07 4.33e-06 5.37e-03 -11.0 5.38e-03    -  1.00e+00 1.00e+00h  1\n",
      " 136  1.9525367e-05 5.59e-07 5.80e-02 -11.0 1.58e-02    -  1.00e+00 1.00e+00H  1\n",
      " 137  3.2925191e-06 6.42e-07 4.37e-02 -11.0 1.05e-02    -  1.00e+00 1.00e+00H  1\n",
      " 138  1.8751695e-06 1.79e-06 1.95e-02 -11.0 5.58e-01    -  1.00e+00 7.81e-03h  8\n",
      " 139  1.1883963e-06 2.85e-06 2.45e-02 -11.0 5.03e-01    -  1.00e+00 7.81e-03h  8\n",
      "iter    objective    inf_pr   inf_du lg(mu)  ||d||  lg(rg) alpha_du alpha_pr  ls\n",
      " 140  5.4039112e-09 7.99e-07 1.33e-03 -11.0 3.87e-03    -  1.00e+00 1.00e+00h  1\n",
      " 141  3.1375418e-05 4.05e-08 7.81e-03 -11.0 1.84e-02    -  1.00e+00 1.00e+00H  1\n",
      " 142  1.1453450e-05 2.77e-04 1.13e-02 -11.0 5.63e-02    -  1.00e+00 1.00e+00h  1\n",
      " 143  5.4698374e-06 4.18e-04 6.10e-02 -11.0 1.72e+00    -  2.35e-01 1.56e-02h  7\n",
      " 144  9.6400406e-06 2.53e-04 1.20e-01 -11.0 3.00e-02    -  1.00e+00 5.00e-01h  2\n",
      " 145  1.4930998e-03 2.11e-08 6.59e-02 -11.0 1.75e-01    -  1.00e+00 1.00e+00H  1\n",
      " 146  1.4905990e-03 2.48e-08 6.59e-02 -11.0 1.32e+00    -  1.00e+00 2.14e-04h 12\n",
      "Warning: Cutting back alpha due to evaluation error\n",
      " 147  1.4896794e-03 2.48e-08 6.59e-02 -11.0 4.87e+00    -  1.00e+00 5.47e-05h 14\n",
      " 148  1.4887839e-03 2.57e-08 6.58e-02 -11.0 5.20e+00    -  1.00e+00 1.79e-05h 14\n",
      " 149  1.3620821e-03 1.56e-03 1.61e-01 -11.0 3.13e-01    -  6.26e-01 2.50e-01f  3\n",
      "iter    objective    inf_pr   inf_du lg(mu)  ||d||  lg(rg) alpha_du alpha_pr  ls\n",
      " 150  1.0269963e-03 1.87e-02 5.42e-01 -11.0 1.04e+00    -  1.00e+00 4.54e-01h  2\n",
      " 151  6.9825916e-04 1.88e-02 6.69e-01 -11.0 2.93e+00    -  4.29e-02 5.87e-03h  7\n",
      " 152  2.9777545e-04 9.35e-03 6.42e-01 -11.0 5.25e-02    -  1.00e+00 5.00e-01h  2\n",
      " 153  1.6283225e-04 2.16e-04 6.79e-02 -11.0 1.44e-01    -  1.00e+00 1.00e+00h  1\n",
      " 154  1.3683827e-04 2.53e-04 2.30e-01 -11.0 2.09e-01    -  3.70e-01 3.12e-02h  6\n",
      " 155  9.0560814e-05 1.02e-04 1.84e-01 -11.0 4.21e-02    -  1.00e+00 1.00e+00h  1\n",
      " 156  5.8901293e-05 1.06e-04 1.02e-01 -11.0 1.12e+00    -  3.05e-01 1.12e-02h  7\n",
      " 157  1.4192595e-05 1.74e-04 9.22e-02 -11.0 5.37e-02    -  1.00e+00 1.00e+00h  1\n",
      " 158  1.3845594e-05 3.42e-04 4.94e-02 -11.0 6.48e+00    -  6.66e-02 4.74e-03h  8\n",
      " 159  5.1685777e-04 2.02e-05 8.44e-01 -11.0 1.31e-01    -  1.00e+00 1.00e+00H  1\n",
      "iter    objective    inf_pr   inf_du lg(mu)  ||d||  lg(rg) alpha_du alpha_pr  ls\n",
      " 160  4.7517155e-04 4.09e-05 4.24e-01 -11.0 2.62e-02    -  1.00e+00 1.00e+00H  1\n",
      " 161  1.2878642e-03 9.02e-06 9.48e-01 -11.0 3.86e-01    -  1.00e+00 1.00e+00H  1\n",
      " 162  1.2640208e-03 7.05e-06 7.96e-01 -11.0 1.30e+00    -  2.76e-01 7.81e-03h  8\n",
      " 163  1.2930578e-03 4.13e-06 4.45e-01 -11.0 3.09e-01    -  1.00e+00 1.00e+00H  1\n",
      " 164  1.0400506e-03 1.07e-05 3.81e-01 -11.0 1.45e-01    -  1.00e+00 6.25e-02h  5\n",
      " 165  2.5156366e-04 2.00e-05 5.69e-01 -11.0 2.19e-01    -  1.00e+00 1.00e+00H  1\n",
      " 166  2.3665064e-04 5.59e-05 3.01e-01 -11.0 3.05e-01    -  1.00e+00 1.25e-01h  4\n",
      " 167  1.9285136e-04 6.31e-05 8.58e-02 -11.0 3.57e-01    -  7.63e-01 6.25e-02h  5\n",
      " 168  2.8950433e-04 9.82e-06 1.46e-01 -11.0 1.09e-01    -  1.00e+00 1.00e+00H  1\n",
      " 169  2.7929883e-04 1.21e-05 1.37e-01 -11.0 5.23e-01    -  7.99e-01 1.56e-02h  7\n",
      "iter    objective    inf_pr   inf_du lg(mu)  ||d||  lg(rg) alpha_du alpha_pr  ls\n",
      " 170  2.3392945e-04 4.55e-05 1.42e-01 -11.0 6.41e+00    -  5.15e-01 3.29e-03h  6\n",
      " 171  2.2188230e-04 4.92e-05 1.12e-01 -11.0 1.14e+00    -  1.19e-01 1.19e-03h 10\n",
      " 172  4.2571223e-05 6.03e-05 2.68e-02 -11.0 1.95e-02    -  1.00e+00 1.00e+00H  1\n",
      " 173  1.2217010e-05 1.13e-04 5.28e-02 -11.0 8.27e-02    -  1.00e+00 6.25e-02h  5\n",
      " 174  1.1611215e-05 1.66e-04 1.06e-01 -11.0 3.09e-01    -  1.00e+00 6.25e-02h  5\n",
      " 175  7.1074426e-06 3.15e-04 5.16e-02 -11.0 7.80e-01    -  1.00e+00 3.24e-02h  5\n",
      " 176  5.8225338e-06 3.09e-04 5.28e-02 -11.0 3.66e-01    -  9.03e-01 6.25e-02h  5\n",
      " 177  7.0404322e-06 1.49e-05 4.09e-02 -11.0 2.11e-03    -  1.00e+00 1.00e+00h  1\n",
      " 178  1.1671488e-05 2.60e-06 2.71e-02 -11.0 1.07e-02    -  1.00e+00 1.00e+00H  1\n",
      " 179  1.1091313e-05 3.01e-06 6.47e-02 -11.0 1.04e-02    -  1.00e+00 1.00e+00H  1\n",
      "iter    objective    inf_pr   inf_du lg(mu)  ||d||  lg(rg) alpha_du alpha_pr  ls\n",
      " 180  1.5642080e-05 1.40e-08 2.45e-03 -11.0 1.03e-02    -  1.00e+00 1.00e+00H  1\n",
      " 181  3.9759687e-06 8.23e-06 5.03e-02 -11.0 2.01e-02    -  1.00e+00 1.00e+00h  1\n",
      " 182  3.3251247e-05 5.58e-09 4.84e-03 -11.0 2.18e-02    -  1.00e+00 1.00e+00H  1\n",
      " 183  1.4585485e-04 2.68e-09 1.97e-02 -11.0 1.15e-02    -  1.00e+00 1.00e+00H  1\n",
      " 184  1.4507159e-04 4.31e-09 1.96e-02 -11.0 1.38e-02    -  1.00e+00 1.95e-03h 10\n",
      " 185  1.4459088e-04 5.11e-09 1.96e-02 -11.0 5.22e-02    -  1.00e+00 9.77e-04h 11\n",
      " 186  1.4444781e-04 5.30e-09 1.96e-02 -11.0 4.53e-02    -  1.00e+00 2.44e-04h 13\n",
      " 187  1.4382221e-04 5.50e-09 1.95e-02 -11.0 8.99e-02    -  1.00e+00 9.77e-04h 11\n",
      " 188  1.4334940e-04 5.65e-09 1.95e-02 -11.0 1.90e-02    -  1.00e+00 9.77e-04h 11\n",
      " 189  1.0928735e-05 2.93e-04 2.57e-02 -11.0 2.76e-02    -  1.00e+00 1.00e+00h  1\n",
      "iter    objective    inf_pr   inf_du lg(mu)  ||d||  lg(rg) alpha_du alpha_pr  ls\n",
      " 190  3.4160802e-05 2.76e-04 7.40e-02 -11.0 5.31e-02    -  1.00e+00 1.00e+00h  1\n",
      " 191  3.2454827e-05 2.79e-04 7.12e-02 -11.0 2.16e+00    -  2.08e-01 1.95e-03h 10\n",
      " 192  6.3097073e-05 2.78e-04 1.87e-01 -11.0 1.45e-02    -  1.00e+00 2.50e-01h  3\n",
      " 193  6.8393301e-07 2.74e-04 2.42e-03 -11.0 3.14e-02    -  1.00e+00 1.00e+00h  1\n",
      " 194  7.2241797e-05 1.96e-04 2.76e-02 -11.0 1.26e-01    -  1.00e+00 2.50e-01h  3\n",
      " 195  1.3989935e-07 7.50e-06 1.13e-02 -11.0 2.18e-02    -  1.00e+00 1.00e+00h  1\n",
      " 196  5.6365478e-06 5.53e-06 6.02e-02 -11.0 1.58e-02    -  1.00e+00 1.00e+00h  1\n",
      " 197  5.4149142e-06 6.47e-06 2.97e-02 -11.0 1.22e-01    -  1.00e+00 3.12e-02h  6\n",
      " 198  2.3732469e-05 1.42e-06 9.54e-02 -11.0 1.26e-02    -  1.00e+00 1.00e+00H  1\n",
      " 199  2.0941096e-05 2.98e-06 8.85e-02 -11.0 1.33e-01    -  1.00e+00 3.12e-02h  6\n",
      "iter    objective    inf_pr   inf_du lg(mu)  ||d||  lg(rg) alpha_du alpha_pr  ls\n",
      " 200  2.0539951e-05 5.82e-06 9.18e-02 -11.0 1.70e+00    -  2.24e-01 1.95e-03h 10\n",
      " 201  1.1280627e-05 2.07e-07 3.88e-02 -11.0 4.60e-03    -  1.00e+00 1.00e+00H  1\n",
      " 202  8.2177065e-08 1.68e-06 8.33e-03 -11.0 1.39e-02    -  1.00e+00 1.00e+00h  1\n",
      " 203  7.0457164e-06 9.51e-07 1.96e-02 -11.0 8.16e-03    -  1.00e+00 1.00e+00h  1\n",
      " 204  1.5104173e-04 2.12e-09 1.50e-02 -11.0 2.05e-02    -  1.00e+00 1.00e+00H  1\n",
      " 205  1.5830722e-05 2.31e-08 2.68e-03 -11.0 3.42e-02    -  1.00e+00 1.00e+00F  1\n",
      " 206  5.7144838e-06 1.63e-06 3.86e-02 -11.0 1.50e-02    -  1.00e+00 1.00e+00H  1\n",
      " 207  9.5553158e-05 2.00e-09 9.18e-03 -11.0 1.19e-02    -  1.00e+00 1.00e+00H  1\n",
      " 208  9.5032369e-05 1.90e-08 9.14e-03 -11.0 1.27e-01    -  1.00e+00 1.95e-03h 10\n",
      " 209  9.2019208e-05 4.35e-06 2.33e-02 -11.0 6.04e-02    -  1.00e+00 1.56e-02h  7\n",
      "iter    objective    inf_pr   inf_du lg(mu)  ||d||  lg(rg) alpha_du alpha_pr  ls\n",
      " 210  1.8668421e-05 8.15e-04 1.69e-01 -11.0 3.23e-02    -  1.00e+00 1.00e+00h  1\n",
      " 211  4.4213645e-05 5.84e-04 2.04e-01 -11.0 7.14e-02    -  1.00e+00 1.00e+00h  1\n",
      " 212  4.3123142e-05 5.87e-04 1.63e-01 -11.0 7.00e-01    -  1.00e+00 1.56e-02h  7\n",
      " 213  4.1164656e-05 5.88e-04 2.23e-01 -11.0 1.44e-01    -  1.00e+00 1.03e-02h  7\n",
      " 214  3.1734372e-06 1.30e-04 5.55e-02 -11.0 4.90e-02    -  1.00e+00 1.00e+00h  1\n",
      " 215  6.3572489e-06 6.32e-07 6.81e-02 -11.0 3.19e-02    -  1.00e+00 1.00e+00H  1\n",
      " 216  6.4374796e-06 6.36e-07 7.79e-02 -11.0 3.12e-01    -  1.00e+00 7.81e-03h  8\n",
      " 217  2.9495716e-07 1.16e-04 1.82e-02 -11.0 2.58e-02    -  1.00e+00 1.00e+00h  1\n",
      " 218  3.6016697e-07 2.84e-06 5.39e-03 -11.0 4.83e-03    -  1.00e+00 1.00e+00h  1\n",
      " 219  1.6602275e-05 2.35e-07 6.53e-02 -11.0 4.13e-02    -  1.00e+00 1.00e+00H  1\n",
      "iter    objective    inf_pr   inf_du lg(mu)  ||d||  lg(rg) alpha_du alpha_pr  ls\n",
      " 220  1.6386463e-05 2.32e-07 3.39e-02 -11.0 1.00e-01    -  1.00e+00 7.81e-03h  8\n",
      " 221  5.7561405e-07 1.37e-06 6.05e-03 -11.0 4.33e-02    -  1.00e+00 1.00e+00H  1\n",
      " 222  2.9762308e-07 9.90e-06 1.21e-02 -11.0 1.22e+00    -  2.53e-01 3.91e-03h  9\n",
      " 223  1.1715655e-03 7.55e-11 4.23e-02 -11.0 3.70e-02    -  1.00e+00 1.00e+00H  1\n",
      " 224  8.2093664e-05 2.40e-08 1.03e-02 -11.0 2.90e-02    -  1.00e+00 1.00e+00F  1\n",
      " 225  8.0280482e-05 1.33e-07 1.01e-02 -11.0 4.52e-01    -  1.00e+00 1.95e-03h 10\n",
      " 226  7.8020745e-05 1.68e-07 9.92e-03 -11.0 8.19e-02    -  1.00e+00 1.95e-03h 10\n",
      " 227  7.7534224e-05 2.13e-07 1.02e-02 -11.0 2.80e-01    -  1.00e+00 1.95e-03h 10\n",
      " 228  7.5521951e-05 8.31e-04 4.50e-01 -11.0 3.04e+00    -  9.53e-01 2.67e-02h  4\n",
      " 229  6.2865865e-05 8.03e-04 5.12e-01 -11.0 7.59e-01    -  1.00e+00 3.12e-02h  6\n",
      "iter    objective    inf_pr   inf_du lg(mu)  ||d||  lg(rg) alpha_du alpha_pr  ls\n",
      " 230  1.0805167e-04 1.47e-08 1.25e-02 -11.0 6.38e-02    -  1.00e+00 1.00e+00H  1\n",
      " 231  7.3763211e-05 4.13e-05 6.60e-02 -11.0 1.61e-01    -  6.37e-01 3.12e-02h  6\n",
      " 232  4.1240054e-05 9.01e-04 1.04e-01 -11.0 1.78e-01    -  1.00e+00 5.00e-01h  2\n",
      " 233  3.0061317e-05 9.58e-04 7.88e-02 -11.0 6.27e-01    -  6.53e-01 3.12e-02h  6\n",
      " 234  1.6201124e-05 9.64e-04 2.68e-01 -11.0 2.26e-01    -  1.00e+00 1.25e-01h  4\n",
      " 235  8.5707592e-06 9.00e-05 2.35e-02 -11.0 1.64e-02    -  1.00e+00 1.00e+00h  1\n",
      " 236  4.1098394e-06 1.01e-04 3.08e-02 -11.0 6.46e-01    -  1.00e+00 3.12e-02h  6\n",
      " 237  2.9676489e-05 3.01e-05 3.11e-02 -11.0 3.29e-02    -  1.00e+00 1.00e+00H  1\n",
      " 238  2.7160621e-05 4.03e-05 1.37e-02 -11.0 3.45e-01    -  1.00e+00 3.12e-02h  6\n",
      " 239  1.4149068e-06 5.26e-04 3.55e-02 -11.0 3.76e-02    -  1.00e+00 1.00e+00h  1\n",
      "iter    objective    inf_pr   inf_du lg(mu)  ||d||  lg(rg) alpha_du alpha_pr  ls\n",
      " 240  2.4238185e-06 4.61e-04 2.31e-02 -11.0 4.44e-03    -  1.00e+00 1.25e-01h  4\n",
      " 241  1.6844078e-05 2.64e-06 1.77e-01 -11.0 1.04e-02    -  1.00e+00 1.00e+00h  1\n",
      " 242  1.5613518e-06 3.45e-06 3.32e-02 -11.0 6.87e-03    -  1.00e+00 1.00e+00h  1\n",
      " 243  5.1487191e-06 3.03e-06 5.03e-02 -11.0 2.40e-02    -  1.00e+00 1.00e+00H  1\n",
      " 244  4.1945481e-06 1.45e-06 5.25e-02 -11.0 1.80e-01    -  1.00e+00 6.25e-02h  5\n",
      " 245  4.4778845e-06 9.47e-07 5.44e-02 -11.0 1.48e-01    -  1.00e+00 3.12e-02h  6\n",
      " 246  1.6873164e-05 2.70e-07 1.06e-01 -11.0 4.50e-03    -  1.00e+00 1.00e+00H  1\n",
      " 247  1.4404526e-06 4.96e-06 2.23e-02 -11.0 1.55e-02    -  1.00e+00 1.00e+00H  1\n",
      " 248  7.9485325e-05 8.89e-08 1.27e-02 -11.0 4.24e-02    -  1.00e+00 1.00e+00H  1\n",
      " 249  7.8930550e-05 1.26e-07 1.27e-02 -11.0 8.82e+00    -  4.60e-02 4.97e-05h 14\n",
      "iter    objective    inf_pr   inf_du lg(mu)  ||d||  lg(rg) alpha_du alpha_pr  ls\n",
      " 250  7.8314825e-05 1.62e-07 1.27e-02 -11.0 1.47e+00    -  1.00e+00 4.88e-04h 12\n",
      " 251  7.6786060e-05 2.35e-07 1.21e-02 -11.0 4.13e-02    -  1.00e+00 3.91e-03h  9\n",
      " 252  7.6761256e-04 1.17e-08 2.51e-02 -11.0 6.46e-02    -  1.00e+00 1.00e+00H  1\n",
      " 253  7.6046094e-04 5.56e-08 2.49e-02 -11.0 1.54e-01    -  1.00e+00 3.91e-03h  9\n",
      " 254  7.5674560e-04 8.08e-08 2.51e-02 -11.0 2.82e-01    -  6.91e-01 3.37e-04h 11\n",
      " 255  7.4167405e-04 1.45e-07 2.49e-02 -11.0 1.03e-01    -  1.00e+00 7.81e-03h  8\n",
      " 256  6.9963577e-04 6.86e-08 2.40e-02 -11.0 6.02e-02    -  1.00e+00 1.56e-02h  7\n",
      " 257  9.9489352e-05 8.74e-08 4.85e-03 -11.0 4.58e-02    -  1.00e+00 1.00e+00F  1\n",
      " 258  3.0207508e-05 3.45e-04 2.58e-01 -11.0 8.28e-02    -  1.00e+00 1.00e+00h  1\n",
      " 259  1.7271462e-05 4.33e-04 1.60e-01 -11.0 8.55e-01    -  2.92e-01 1.56e-02h  7\n",
      "iter    objective    inf_pr   inf_du lg(mu)  ||d||  lg(rg) alpha_du alpha_pr  ls\n",
      " 260  1.4499208e-05 4.33e-04 8.72e-02 -11.0 2.33e-01    -  1.00e+00 6.25e-02h  5\n",
      " 261  1.6813676e-05 4.15e-04 8.17e-02 -11.0 6.51e-01    -  1.00e+00 3.12e-02h  6\n",
      " 262  1.6020293e-06 9.44e-06 3.07e-02 -11.0 3.18e-02    -  1.00e+00 1.00e+00h  1\n",
      " 263  9.3606086e-07 9.43e-06 1.74e-02 -11.0 3.17e-01    -  1.00e+00 1.56e-02h  7\n",
      " 264  5.2447020e-08 1.92e-07 3.95e-03 -11.0 4.40e-03    -  1.00e+00 1.00e+00h  1\n",
      " 265  1.9429136e-05 1.79e-07 4.84e-02 -11.0 4.36e-03    -  1.00e+00 1.00e+00H  1\n",
      " 266  6.3800338e-08 9.35e-06 7.41e-03 -11.0 6.75e-03    -  1.00e+00 1.00e+00h  1\n",
      " 267  5.2843266e-06 7.34e-06 8.96e-02 -11.0 2.95e-03    -  1.00e+00 2.50e-01h  3\n",
      " 268  1.0276536e-08 9.77e-08 6.90e-04 -11.0 1.10e-03    -  1.00e+00 1.00e+00h  1\n",
      " 269  1.8376640e-09 7.20e-08 1.13e-05 -11.0 6.36e-04    -  1.00e+00 1.00e+00h  1\n",
      "iter    objective    inf_pr   inf_du lg(mu)  ||d||  lg(rg) alpha_du alpha_pr  ls\n",
      " 270  1.1224279e-07 1.80e-09 2.23e-04 -11.0 2.44e-03    -  1.00e+00 1.00e+00H  1\n",
      " 271  6.7850188e-08 1.94e-09 1.55e-04 -11.0 4.19e-04    -  1.00e+00 1.00e+00h  1\n",
      " 272  2.8788038e-07 1.27e-11 2.77e-04 -11.0 5.67e-03    -  1.00e+00 1.00e+00H  1\n",
      " 273  6.8936258e-06 1.21e-13 1.90e-03 -11.0 1.02e-02    -  1.00e+00 1.00e+00H  1\n",
      " 274  5.8523606e-06 2.47e-06 3.50e-02 -11.0 1.30e-02    -  1.00e+00 1.00e+00f  1\n",
      " 275  9.4871263e-04 6.73e-07 9.92e-01 -11.0 3.54e-02    -  1.00e+00 1.00e+00H  1\n",
      " 276  7.0332927e-06 5.07e-07 7.44e-02 -11.0 3.12e-02    -  1.00e+00 1.00e+00H  1\n",
      " 277  1.3463535e-05 3.86e-08 3.55e-03 -11.0 1.35e-02    -  1.00e+00 1.00e+00H  1\n",
      " 278  5.2329765e-05 8.78e-09 7.70e-03 -11.0 1.50e-02    -  1.00e+00 1.00e+00H  1\n",
      " 279  7.2474409e-05 1.93e-09 4.18e-03 -11.0 4.76e-02    -  1.00e+00 1.00e+00H  1\n",
      "iter    objective    inf_pr   inf_du lg(mu)  ||d||  lg(rg) alpha_du alpha_pr  ls\n",
      " 280  7.2245642e-05 6.68e-09 4.17e-03 -11.0 4.36e-01    -  1.00e+00 4.88e-04h 12\n",
      " 281  7.1565537e-05 4.40e-09 4.21e-03 -11.0 3.40e-01    -  1.00e+00 1.95e-03h 10\n",
      " 282  7.1340110e-05 4.68e-09 4.20e-03 -11.0 4.92e-02    -  1.00e+00 2.44e-04h 13\n",
      " 283  1.6359476e-06 2.05e-05 4.24e-02 -11.0 4.73e-02    -  1.00e+00 1.00e+00h  1\n",
      " 284  4.5352721e-07 2.06e-05 1.34e-02 -11.0 1.11e+00    -  1.00e+00 6.81e-03h  7\n",
      " 285  3.9434273e-07 2.03e-05 6.77e-03 -11.0 1.14e-01    -  1.00e+00 1.56e-02h  7\n",
      " 286  1.1550792e-06 4.92e-07 2.62e-02 -11.0 1.60e-02    -  1.00e+00 1.00e+00H  1\n",
      " 287  1.0058589e-06 2.45e-07 7.94e-03 -11.0 7.61e-02    -  1.00e+00 7.81e-03h  8\n",
      " 288  7.3920342e-08 1.12e-05 4.91e-03 -11.0 1.11e-02    -  1.00e+00 1.00e+00h  1\n",
      " 289  1.4342912e-08 1.13e-05 4.17e-04 -11.0 9.74e-02    -  1.00e+00 7.81e-03h  8\n",
      "iter    objective    inf_pr   inf_du lg(mu)  ||d||  lg(rg) alpha_du alpha_pr  ls\n",
      " 290  4.1714952e-09 3.43e-08 7.70e-05 -11.0 1.09e-03    -  1.00e+00 1.00e+00h  1\n",
      " 291  3.1822130e-09 7.32e-08 5.38e-05 -11.0 3.87e-02    -  1.00e+00 7.81e-03h  8\n",
      " 292  6.2954669e-08 3.36e-09 1.97e-04 -11.0 2.30e-03    -  1.00e+00 1.00e+00H  1\n",
      " 293  6.1588525e-07 1.22e-10 2.50e-04 -11.0 3.99e-03    -  1.00e+00 1.00e+00H  1\n",
      " 294  5.8937695e-07 5.09e-07 3.99e-03 -11.0 4.13e-02    -  1.00e+00 3.12e-02h  6\n",
      " 295  8.4621404e-06 2.00e-12 1.45e-03 -11.0 1.10e-02    -  1.00e+00 1.00e+00H  1\n",
      " 296  8.4546130e-06 3.69e-11 1.45e-03 -11.0 8.52e-02    -  1.00e+00 2.44e-04h 13\n",
      " 297  8.4313452e-06 5.58e-11 1.45e-03 -11.0 7.07e-02    -  1.00e+00 4.88e-04h 12\n",
      " 298  8.2076544e-06 1.05e-10 1.47e-03 -11.0 1.63e-02    -  1.00e+00 9.77e-04h 11\n",
      " 299  8.2021164e-06 1.11e-10 1.47e-03 -11.0 2.25e-02    -  1.00e+00 2.44e-04h 13\n",
      "iter    objective    inf_pr   inf_du lg(mu)  ||d||  lg(rg) alpha_du alpha_pr  ls\n",
      " 300  6.8274266e-06 3.53e-06 2.45e-02 -11.0 3.12e-01    -  1.00e+00 3.12e-02h  6\n",
      " 301  6.6952352e-06 5.14e-06 1.52e-02 -11.0 2.94e-01    -  1.00e+00 7.81e-03h  8\n",
      " 302  9.2258151e-07 7.74e-05 3.16e-02 -11.0 2.04e-02    -  1.00e+00 1.00e+00h  1\n",
      " 303  8.6878183e-07 7.81e-05 2.68e-02 -11.0 1.53e-01    -  1.00e+00 3.12e-02h  6\n",
      " 304  3.9309760e-06 5.99e-05 2.78e-02 -11.0 2.19e-02    -  1.00e+00 2.50e-01h  3\n",
      " 305  2.4733974e-06 4.55e-05 2.94e-02 -11.0 2.65e-02    -  1.00e+00 1.00e+00h  1\n",
      " 306  1.4663214e-05 1.52e-11 5.35e-03 -11.0 2.92e-02    -  1.00e+00 1.00e+00H  1\n",
      " 307  1.4654456e-05 3.06e-11 5.34e-03 -11.0 3.12e-01    -  1.00e+00 1.22e-04h 14\n",
      " 308  1.4649415e-05 7.06e-11 5.34e-03 -11.0 1.86e+00    -  1.73e-01 6.08e-06h 18\n",
      " 309  2.0520178e-05 2.33e-13 5.12e-03 -11.0 1.39e-02    -  1.00e+00 1.00e+00H  1\n",
      "iter    objective    inf_pr   inf_du lg(mu)  ||d||  lg(rg) alpha_du alpha_pr  ls\n",
      " 310  2.0514984e-05 7.67e-12 5.12e-03 -11.0 1.30e-01    -  1.00e+00 6.10e-05h 15\n",
      " 311  1.1112746e-05 2.60e-06 1.80e-01 -11.0 1.13e-01    -  1.00e+00 1.25e-01f  4\n",
      " 312  9.6725574e-06 2.72e-06 2.09e-01 -11.0 1.25e-01    -  1.00e+00 6.25e-02h  5\n",
      " 313  2.4500697e-05 9.14e-14 3.78e-03 -11.0 5.55e-03    -  1.00e+00 1.00e+00H  1\n",
      " 314  1.4848745e-07 6.37e-05 1.97e-02 -11.0 1.47e-02    -  1.00e+00 1.00e+00f  1\n",
      " 315  6.6678672e-06 4.38e-05 2.51e-02 -11.0 8.69e-03    -  1.00e+00 5.00e-01h  2\n",
      " 316  2.6983116e-08 1.07e-05 7.66e-04 -11.0 4.01e-03    -  1.00e+00 1.00e+00h  1\n",
      " 317  1.4793146e-07 4.38e-06 5.74e-03 -11.0 5.34e-03    -  1.00e+00 1.00e+00h  1\n",
      " 318  2.5078363e-06 3.16e-08 2.35e-03 -11.0 1.28e-03    -  1.00e+00 1.00e+00H  1\n",
      " 319  6.3161897e-07 1.42e-06 2.82e-02 -11.0 1.24e-03    -  1.00e+00 1.00e+00h  1\n",
      "iter    objective    inf_pr   inf_du lg(mu)  ||d||  lg(rg) alpha_du alpha_pr  ls\n",
      " 320  4.7212378e-06 2.09e-08 1.26e-03 -11.0 1.41e-02    -  1.00e+00 1.00e+00H  1\n",
      " 321  8.8856312e-06 7.70e-10 1.22e-03 -11.0 3.32e-02    -  1.00e+00 1.00e+00H  1\n",
      " 322  8.7738420e-06 1.55e-08 1.16e-03 -11.0 7.15e-01    -  7.09e-01 4.88e-04h 12\n",
      " 323  8.7253119e-06 2.13e-08 1.20e-03 -11.0 8.77e-02    -  1.00e+00 4.88e-04h 12\n",
      " 324  9.7805876e-07 4.27e-08 8.64e-04 -11.0 2.87e-02    -  1.00e+00 1.00e+00H  1\n",
      " 325  5.2095875e-07 2.06e-06 1.02e-02 -11.0 7.89e-02    -  1.00e+00 3.12e-02h  6\n",
      " 326  4.9824565e-07 2.09e-06 9.19e-03 -11.0 7.84e-03    -  1.00e+00 3.12e-02h  6\n",
      " 327  2.7379005e-09 1.87e-06 2.33e-03 -11.0 5.34e-03    -  1.00e+00 1.00e+00h  1\n",
      " 328  5.4925204e-09 4.49e-08 3.04e-05 -11.0 1.02e-03    -  1.00e+00 1.00e+00h  1\n",
      " 329  4.5339397e-09 5.25e-08 2.19e-05 -11.0 1.81e-02    -  1.00e+00 7.81e-03h  8\n",
      "iter    objective    inf_pr   inf_du lg(mu)  ||d||  lg(rg) alpha_du alpha_pr  ls\n",
      " 330  1.1979176e-06 2.41e-09 4.43e-04 -11.0 4.83e-03    -  1.00e+00 1.00e+00H  1\n",
      " 331  1.4384924e-09 8.01e-06 2.56e-04 -11.0 5.02e-03    -  1.00e+00 1.00e+00h  1\n",
      " 332  1.7405115e-05 1.95e-10 3.13e-03 -11.0 1.82e-02    -  1.00e+00 1.00e+00H  1\n",
      " 333  1.7270785e-05 6.65e-10 3.18e-03 -11.0 6.64e-03    -  1.00e+00 3.91e-03h  9\n",
      " 334  1.7238879e-05 7.50e-10 3.17e-03 -11.0 3.66e-02    -  1.00e+00 4.88e-04h 12\n",
      " 335  7.6966142e-07 8.56e-10 4.95e-04 -11.0 9.22e-03    -  1.00e+00 1.00e+00H  1\n",
      " 336  7.3210530e-07 2.48e-08 5.03e-04 -11.0 2.25e-02    -  1.00e+00 1.56e-02h  7\n",
      " 337  2.9014805e-07 2.09e-06 2.82e-02 -11.0 5.11e-01    -  1.00e+00 1.56e-02h  7\n",
      " 338  6.7534600e-06 3.11e-10 1.16e-03 -11.0 7.22e-03    -  1.00e+00 1.00e+00H  1\n",
      " 339  4.6763344e-07 3.64e-07 2.69e-02 -11.0 1.20e-02    -  1.00e+00 1.00e+00H  1\n",
      "iter    objective    inf_pr   inf_du lg(mu)  ||d||  lg(rg) alpha_du alpha_pr  ls\n",
      " 340  4.1447667e-07 3.54e-07 3.85e-03 -11.0 2.14e-01    -  1.00e+00 1.56e-02h  7\n",
      " 341  2.9929825e-08 2.60e-06 1.55e-03 -11.0 1.00e-03    -  1.00e+00 1.00e+00h  1\n",
      " 342  2.0932093e-06 5.30e-10 7.92e-04 -11.0 7.59e-03    -  1.00e+00 1.00e+00H  1\n",
      " 343  1.0355846e-07 3.10e-09 1.23e-04 -11.0 1.02e-02    -  1.00e+00 1.00e+00H  1\n",
      " 344  1.0079146e-07 8.58e-07 9.30e-03 -11.0 2.12e-01    -  1.00e+00 1.56e-02h  7\n",
      " 345  1.5213276e-04 3.06e-11 1.12e-02 -11.0 4.12e-02    -  1.00e+00 1.00e+00H  1\n",
      " 346  3.0839431e-06 1.60e-11 1.93e-03 -11.0 5.25e-02    -  1.00e+00 1.00e+00F  1\n",
      " 347  3.0508209e-06 4.31e-10 1.92e-03 -11.0 1.72e+00    -  2.96e-01 3.05e-05h 16\n",
      " 348  3.0444137e-06 5.48e-10 1.92e-03 -11.0 1.39e-02    -  1.00e+00 4.88e-04h 12\n",
      " 349  1.5847158e-07 3.33e-11 5.57e-04 -11.0 1.22e-02    -  1.00e+00 1.00e+00H  1\n",
      "iter    objective    inf_pr   inf_du lg(mu)  ||d||  lg(rg) alpha_du alpha_pr  ls\n",
      " 350  4.6330672e-07 7.35e-13 3.11e-04 -11.0 7.35e-03    -  1.00e+00 1.00e+00H  1\n",
      " 351  4.0437326e-07 1.18e-07 6.15e-04 -11.0 1.01e-01    -  1.00e+00 1.56e-02h  7\n",
      " 352  3.6397932e-07 4.89e-07 3.35e-03 -11.0 3.84e-02    -  1.00e+00 6.25e-02h  5\n",
      " 353  3.9145828e-05 5.68e-13 3.84e-03 -11.0 4.25e-03    -  1.00e+00 1.00e+00H  1\n",
      " 354  2.8119955e-07 5.47e-06 8.54e-03 -11.0 1.40e-02    -  1.00e+00 1.00e+00f  1\n",
      " 355  1.0392470e-07 1.08e-05 5.45e-03 -11.0 2.51e-02    -  1.00e+00 1.25e-01h  4\n",
      " 356  7.0535741e-08 5.72e-06 7.78e-03 -11.0 5.79e-03    -  1.00e+00 5.00e-01h  2\n",
      " 357  4.3750656e-08 5.92e-06 9.06e-03 -11.0 2.32e-02    -  1.00e+00 6.25e-02h  5\n",
      " 358  2.7989928e-08 5.93e-06 2.92e-03 -11.0 1.22e-01    -  1.00e+00 1.95e-03h 10\n",
      " 359  2.2957671e-08 2.45e-07 1.87e-03 -11.0 2.38e-03    -  1.00e+00 1.00e+00h  1\n",
      "iter    objective    inf_pr   inf_du lg(mu)  ||d||  lg(rg) alpha_du alpha_pr  ls\n",
      " 360  1.2728933e-08 2.75e-07 7.46e-04 -11.0 1.25e-02    -  1.00e+00 1.56e-02h  7\n",
      " 361  1.9178204e-12 4.05e-08 1.14e-06 -11.0 1.04e-03    -  1.00e+00 1.00e+00h  1\n",
      " 362  8.7682287e-08 1.29e-08 2.49e-04 -11.0 1.04e-03    -  1.00e+00 1.00e+00h  1\n",
      " 363  1.2577709e-13 1.34e-08 5.74e-07 -11.0 1.04e-03    -  1.00e+00 1.00e+00h  1\n",
      " 364  8.4634781e-13 1.06e-13 1.61e-06 -11.0 3.08e-06    -  1.00e+00 1.00e+00h  1\n",
      " 365  1.0812837e-13 9.72e-13 1.08e-07 -11.0 2.91e-06    -  1.00e+00 1.00e+00h  1\n",
      " 366  3.8302376e-12 1.78e-15 1.42e-06 -11.0 1.12e-05    -  1.00e+00 1.00e+00H  1\n",
      " 367  1.6839418e-12 1.78e-15 7.21e-07 -11.0 7.48e-06    -  1.00e+00 1.00e+00H  1\n",
      " 368  3.0400761e-10 8.88e-16 4.33e-06 -11.0 4.87e-05    -  1.00e+00 1.00e+00H  1\n",
      " 369  3.0400757e-10 8.88e-16 4.33e-06 -11.0 2.72e-05    -  1.00e+00 5.96e-08h 25\n",
      "iter    objective    inf_pr   inf_du lg(mu)  ||d||  lg(rg) alpha_du alpha_pr  ls\n",
      " 370  3.0392887e-10 8.88e-16 4.33e-06 -11.0 2.28e-04    -  1.00e+00 1.22e-04h 14\n",
      " 371  3.0385278e-10 1.78e-15 4.33e-06 -11.0 1.05e-03    -  1.00e+00 3.81e-06h 19\n",
      " 372  9.0142595e-10 8.88e-16 4.73e-05 -11.0 3.13e-05    -  1.00e+00 1.00e+00H  1\n",
      "Restoration phase is called at almost feasible point,\n",
      "  but acceptable point from iteration 367 could be restored.\n",
      "\n",
      "Number of Iterations....: 372\n",
      "\n",
      "                                   (scaled)                 (unscaled)\n",
      "Objective...............:   9.6236771985386017e-13    1.6839417664646199e-12\n",
      "Dual infeasibility......:   7.2053481323443278e-07    1.2607848758492197e-06\n",
      "Constraint violation....:   1.7763568394002505e-15    1.7763568394002505e-15\n",
      "Complementarity.........:   9.9999999999993273e-12    1.7497903677818919e-11\n",
      "Overall NLP error.......:   7.2053481323443278e-07    1.2607848758492197e-06\n",
      "\n",
      "\n",
      "Number of objective function evaluations             = 2243\n",
      "Number of objective gradient evaluations             = 374\n",
      "Number of equality constraint evaluations            = 2245\n",
      "Number of inequality constraint evaluations          = 0\n",
      "Number of equality constraint Jacobian evaluations   = 374\n",
      "Number of inequality constraint Jacobian evaluations = 0\n",
      "Number of Lagrangian Hessian evaluations             = 0\n",
      "Total CPU secs in IPOPT (w/o function evaluations)   =      0.580\n",
      "Total CPU secs in NLP function evaluations           =      1.128\n",
      "\n",
      "EXIT: Solved To Acceptable Level.\n"
     ]
    },
    {
     "data": {
      "text/plain": [
       ":Optimal"
      ]
     },
     "execution_count": 30,
     "metadata": {},
     "output_type": "execute_result"
    }
   ],
   "source": [
    "solve(m)"
   ]
  },
  {
   "cell_type": "code",
   "execution_count": 31,
   "metadata": {},
   "outputs": [
    {
     "data": {
      "text/html": [
       "<img src=\"data:image/png;base64,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\" />"
      ]
     },
     "execution_count": 31,
     "metadata": {},
     "output_type": "execute_result"
    }
   ],
   "source": [
    "plot(K, hcat(Ψ * true_coeff, Ψ * getvalue(θ)))"
   ]
  },
  {
   "cell_type": "code",
   "execution_count": 32,
   "metadata": {},
   "outputs": [
    {
     "data": {
      "text/plain": [
       "(0.950000112562481, 0.05000066738305679, 0.3000008897589999, 1.0000005236181664, 2.0000023699700993)"
      ]
     },
     "execution_count": 32,
     "metadata": {},
     "output_type": "execute_result"
    }
   ],
   "source": [
    "getvalue(β), getvalue(δ), getvalue(α), getvalue(A), getvalue(γ)"
   ]
  },
  {
   "cell_type": "code",
   "execution_count": 33,
   "metadata": {},
   "outputs": [],
   "source": [
    "d = JuMP.NLPEvaluator(m)\n",
    "MathProgBase.initialize(d, [:Grad, :Jac])"
   ]
  },
  {
   "cell_type": "code",
   "execution_count": 34,
   "metadata": {},
   "outputs": [],
   "source": [
    "g = zeros(40)\n",
    "MathProgBase.eval_g(d, g, m.colVal)"
   ]
  },
  {
   "cell_type": "code",
   "execution_count": 35,
   "metadata": {},
   "outputs": [
    {
     "data": {
      "text/plain": [
       "10-element Array{Float64,1}:\n",
       "  0.0        \n",
       " -1.11022e-16\n",
       "  0.0        \n",
       "  0.0        \n",
       "  0.0        \n",
       " -2.22045e-16\n",
       "  0.0        \n",
       " -4.44089e-16\n",
       " -2.22045e-16\n",
       " -2.22045e-16"
      ]
     },
     "execution_count": 35,
     "metadata": {},
     "output_type": "execute_result"
    }
   ],
   "source": [
    "g[31:end]"
   ]
  },
  {
   "cell_type": "code",
   "execution_count": 36,
   "metadata": {},
   "outputs": [
    {
     "data": {
      "text/plain": [
       "10-element Array{Float64,1}:\n",
       "  1.11022e-16\n",
       " -1.11022e-16\n",
       "  1.11022e-16\n",
       "  4.44089e-16\n",
       "  4.44089e-16\n",
       " -6.66134e-16\n",
       "  2.22045e-16\n",
       " -4.44089e-16\n",
       "  2.22045e-16\n",
       " -2.22045e-16"
      ]
     },
     "execution_count": 36,
     "metadata": {},
     "output_type": "execute_result"
    }
   ],
   "source": [
    "Ψ * getvalue(θ) .- u_crra_prime_inv.(\n",
    "    getvalue(β) * u_crra_prime.(getvalue(modelCprime), getvalue(γ)) .* (f_prime.(getvalue(modelKprime), getvalue(α), getvalue(A)) + 1-getvalue(δ)), getvalue(γ))"
   ]
  },
  {
   "cell_type": "code",
   "execution_count": 37,
   "metadata": {},
   "outputs": [
    {
     "data": {
      "text/plain": [
       "10-element Array{Float64,1}:\n",
       "  1.35054    \n",
       "  0.544286   \n",
       " -0.0634736  \n",
       "  0.0167686  \n",
       " -0.00554683 \n",
       "  0.00203288 \n",
       " -0.000791508\n",
       "  0.000351973\n",
       " -0.000172349\n",
       "  5.71703e-5 "
      ]
     },
     "execution_count": 37,
     "metadata": {},
     "output_type": "execute_result"
    }
   ],
   "source": [
    "getvalue(θ)"
   ]
  },
  {
   "cell_type": "code",
   "execution_count": 38,
   "metadata": {},
   "outputs": [
    {
     "data": {
      "text/plain": [
       "10-element Array{Float64,1}:\n",
       "  1.35054    \n",
       "  0.544286   \n",
       " -0.0634736  \n",
       "  0.0167686  \n",
       " -0.00554683 \n",
       "  0.00203288 \n",
       " -0.000791508\n",
       "  0.000351973\n",
       " -0.000172349\n",
       "  5.71703e-5 "
      ]
     },
     "execution_count": 38,
     "metadata": {},
     "output_type": "execute_result"
    }
   ],
   "source": [
    "a = getvalue(θ)"
   ]
  },
  {
   "cell_type": "code",
   "execution_count": 39,
   "metadata": {},
   "outputs": [
    {
     "data": {
      "text/plain": [
       "10-element Array{Float64,1}:\n",
       " 0.977089\n",
       " 1.37987 \n",
       " 2.14602 \n",
       " 3.20052 \n",
       " 4.44017 \n",
       " 5.74361 \n",
       " 6.98325 \n",
       " 8.03776 \n",
       " 8.8039  \n",
       " 9.20668 "
      ]
     },
     "execution_count": 39,
     "metadata": {},
     "output_type": "execute_result"
    }
   ],
   "source": [
    "#solve\n",
    "\n",
    "    k_stst = steady_state_k(model)\n",
    "\n",
    "    basis = Basis(ChebParams(10, 0.2*k_stst, 2*k_stst))\n",
    "\n",
    "    Ψ = BasisMatrix(basis, Expanded()).vals[1]\n",
    "    K = nodes(basis)[1]"
   ]
  },
  {
   "cell_type": "code",
   "execution_count": 40,
   "metadata": {},
   "outputs": [
    {
     "data": {
      "text/plain": [
       "(β, α, A, δ, γ)"
      ]
     },
     "execution_count": 40,
     "metadata": {},
     "output_type": "execute_result"
    }
   ],
   "source": [
    "β, α, A, δ, γ"
   ]
  },
  {
   "cell_type": "code",
   "execution_count": null,
   "metadata": {},
   "outputs": [],
   "source": []
  }
 ],
 "metadata": {
  "kernelspec": {
   "display_name": "Julia 0.6.0",
   "language": "julia",
   "name": "julia-0.6"
  },
  "language_info": {
   "file_extension": ".jl",
   "mimetype": "application/julia",
   "name": "julia",
   "version": "0.6.0"
  }
 },
 "nbformat": 4,
 "nbformat_minor": 2
}
