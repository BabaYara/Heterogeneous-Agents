{
 "cells": [
  {
   "cell_type": "markdown",
   "metadata": {},
   "source": [
    "This notebook solves a household problem in a deterministic growth economy using a MPEC method.\n",
    "Model\n",
    "--\n",
    "The household chooses its consumption and savings while being constraint by its budget set. Saved capital is used for production next period. Produced goods and leftover capital are returned to the household.\n",
    "\n",
    "The sequence problem:\n",
    "$$\\underset{ \\left(c_t, k_{t+1}\\right)_{t=0}^\\infty } {max} \\sum_{t=0}^\\infty \\beta^t \\, u( c_t )$$\n",
    "s.t.\n",
    "$$k_{t+1} = f(k_t) + (1-\\delta) k_t - c_t \\quad \\forall t$$\n",
    "$$k_0 \\, \\text{given}$$\n",
    "\n",
    "can be written recursively as:\n",
    "\n",
    "$$V(k) = \\underset{ c } {max} \\, u( c ) + \\beta \\, V \\big( f(k) + (1-\\delta) k -c \\big)$$\n",
    "The solution of this Bellman equation is a policy function $c(k)$ for consumption."
   ]
  },
  {
   "cell_type": "markdown",
   "metadata": {},
   "source": [
    "Using the first-order condition and the envelope theorem yields:\n",
    "$$u'\\Big(\\Psi(k) \\cdot \\theta\\Big) =\\beta \\, u'\\Big( \\Psi \\big( f(k) +(1- \\delta)k- \\Psi(k) \\cdot \\theta\\big)\\cdot \\theta \\Big)  \\, \\Big( f'\\big(f(k) +(1- \\delta)k - \\Psi(k) \\cdot \\theta \\big) + (1-\\delta) \\Big)\\quad\\forall k$$\n"
   ]
  },
  {
   "cell_type": "markdown",
   "metadata": {},
   "source": [
    "Numerical Method\n",
    "--\n"
   ]
  },
  {
   "cell_type": "markdown",
   "metadata": {},
   "source": [
    "## Collocation Method and Simulation"
   ]
  },
  {
   "cell_type": "code",
   "execution_count": 1,
   "metadata": {},
   "outputs": [],
   "source": [
    "using Parameters\n",
    "using BasisMatrices\n",
    "using LaTeXStrings\n",
    "using Plots; pyplot();"
   ]
  },
  {
   "cell_type": "code",
   "execution_count": 2,
   "metadata": {},
   "outputs": [
    {
     "data": {
      "text/plain": [
       "u_crra_prime_inv (generic function with 1 method)"
      ]
     },
     "execution_count": 2,
     "metadata": {},
     "output_type": "execute_result"
    }
   ],
   "source": [
    "@with_kw immutable GrowthModel\n",
    "    β::Float64                           # discount factor\n",
    "    δ::Float64                           # depreciation of capital\n",
    "    α::Float64                           # capital share\n",
    "    A::Float64                           # productivity\n",
    "    γ::Float64                           # RRA\n",
    "end\n",
    "\n",
    "model = GrowthModel(β = 0.95, δ = 0.05, α = 0.3, A = 1, γ = 2)\n",
    "\n",
    "function steady_state_k(model::GrowthModel)\n",
    "    @unpack β, α, A, δ = model\n",
    "    ((1/β-(1-δ))/(A*α))^(1/(α-1))\n",
    "end\n",
    "\n",
    "function f(model::GrowthModel, k)\n",
    "    @unpack α, A, δ = model\n",
    "    A*k.^α\n",
    "end\n",
    "\n",
    "function f_prime(model::GrowthModel, k)\n",
    "    @unpack α, A, δ = model\n",
    "    A*α*k.^(α-1)\n",
    "end\n",
    "\n",
    "u_crra_prime(c, γ) = c.^-γ\n",
    "u_crra_prime_inv(u, γ) = u.^(-1/γ)"
   ]
  },
  {
   "cell_type": "code",
   "execution_count": 3,
   "metadata": {},
   "outputs": [
    {
     "data": {
      "text/html": [
       "4.628988089138438"
      ],
      "text/plain": [
       "4.628988089138438"
      ]
     },
     "execution_count": 3,
     "metadata": {},
     "output_type": "execute_result"
    }
   ],
   "source": [
    "k_stst = steady_state_k(model)"
   ]
  },
  {
   "cell_type": "code",
   "execution_count": 4,
   "metadata": {},
   "outputs": [
    {
     "data": {
      "text/plain": [
       "solve_and_simulate (generic function with 1 method)"
      ]
     },
     "execution_count": 4,
     "metadata": {},
     "output_type": "execute_result"
    }
   ],
   "source": [
    "function solve_and_simulate(model, N; k0=1.)\n",
    "    @unpack β, α, A, δ, γ = model\n",
    "    \n",
    "    #solve\n",
    "\n",
    "    k_stst = steady_state_k(model)\n",
    "\n",
    "    basis = Basis(ChebParams(10, 0.2*k_stst, 2*k_stst))\n",
    "\n",
    "    Ψ = BasisMatrix(basis, Expanded()).vals[1]\n",
    "    K = nodes(basis)[1]\n",
    "\n",
    "    a = [1, 0, 0, 0, 0, 0, 0, 0, 0, 0]\n",
    "    a_old = zeros(a)\n",
    "    \n",
    "    stop = false\n",
    "    \n",
    "    @time while !stop\n",
    "\n",
    "        a_old = a\n",
    "    \n",
    "        Y = u_crra_prime_inv(β*u_crra_prime(BasisMatrix(basis, Expanded(), f(model,K) + (1-δ)*K - Ψ*a).vals[1]*a, γ) .* \n",
    "                (f_prime(model, f(model,K) + (1-δ)*K - Ψ*a) + 1-δ), γ)\n",
    "\n",
    "        a = Ψ \\ Y\n",
    "\n",
    "        if maximum(abs.(u_crra_prime(Y, γ)./u_crra_prime(Ψ*a_old, γ) - 1)) < 1e-10\n",
    "            stop = true\n",
    "        end\n",
    "    end\n",
    "    \n",
    "    #simulate\n",
    "    simK = zeros(N)\n",
    "    simC = zeros(N)\n",
    "    \n",
    "    simK[1] = k0\n",
    "    \n",
    "    \n",
    "    for t in 1:N-1\n",
    "        simC[t] = (BasisMatrix(basis, Expanded(), [simK[t]]).vals[1] * a)[1]\n",
    "        simK[t+1] = f(model,simK[t]) + (1-δ)*simK[t] - simC[t]\n",
    "    end\n",
    "    \n",
    "    simC[N] = (BasisMatrix(basis, Expanded(), [simK[N]]).vals[1] * a)[1]\n",
    "    \n",
    "    return (simK, simC, a)\n",
    "end\n"
   ]
  },
  {
   "cell_type": "code",
   "execution_count": 5,
   "metadata": {},
   "outputs": [
    {
     "name": "stdout",
     "output_type": "stream",
     "text": [
      "  0.098297 seconds (10.03 k allocations: 1.933 MiB)\n"
     ]
    },
    {
     "data": {
      "text/plain": [
       "10-element Array{Float64,1}:\n",
       "  1.35054    \n",
       "  0.544286   \n",
       " -0.0634735  \n",
       "  0.0167686  \n",
       " -0.00554682 \n",
       "  0.00203287 \n",
       " -0.000791507\n",
       "  0.000351972\n",
       " -0.000172349\n",
       "  5.71702e-5 "
      ]
     },
     "execution_count": 5,
     "metadata": {},
     "output_type": "execute_result"
    }
   ],
   "source": [
    "(dataK, dataC, true_coeff) = solve_and_simulate(model, 100; k0=1.);\n",
    "true_coeff"
   ]
  },
  {
   "cell_type": "code",
   "execution_count": 6,
   "metadata": {},
   "outputs": [
    {
     "data": {
      "text/html": [
       "<img src=\"data:image/png;base64,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\" />"
      ]
     },
     "execution_count": 6,
     "metadata": {},
     "output_type": "execute_result"
    }
   ],
   "source": [
    "plot(dataK, label=\"capital\")\n",
    "plot!(dataC, label=\"consumption\")"
   ]
  },
  {
   "cell_type": "markdown",
   "metadata": {},
   "source": [
    "## MPEC"
   ]
  },
  {
   "cell_type": "code",
   "execution_count": 7,
   "metadata": {},
   "outputs": [],
   "source": [
    "using JuMP\n",
    "using Ipopt"
   ]
  },
  {
   "cell_type": "code",
   "execution_count": 8,
   "metadata": {},
   "outputs": [
    {
     "data": {
      "text/plain": [
       "f_prime (generic function with 2 methods)"
      ]
     },
     "execution_count": 8,
     "metadata": {},
     "output_type": "execute_result"
    }
   ],
   "source": [
    "function f(k, α, A)\n",
    "    A*k^α\n",
    "end\n",
    "\n",
    "function f_prime(k, α, A)\n",
    "    A*α*k^(α-1)\n",
    "end"
   ]
  },
  {
   "cell_type": "code",
   "execution_count": 9,
   "metadata": {},
   "outputs": [
    {
     "data": {
      "text/plain": [
       "1 dimensional Basis on the hypercube formed by (0.9257976178276875,) × (9.257976178276875,).\n",
       "Basis families are Cheb\n"
      ]
     },
     "execution_count": 9,
     "metadata": {},
     "output_type": "execute_result"
    }
   ],
   "source": [
    "basis = Basis(ChebParams(10, 0.2*k_stst, 2*k_stst))"
   ]
  },
  {
   "cell_type": "code",
   "execution_count": 10,
   "metadata": {},
   "outputs": [],
   "source": [
    "K = nodes(basis)[1]\n",
    "Ψ = BasisMatrix(basis, Expanded(), K).vals[1];"
   ]
  },
  {
   "cell_type": "markdown",
   "metadata": {},
   "source": [
    "### Variante A\n",
    "\n",
    "EE on a grid as a constraint is problematic since next period's capital is a function of deep parameters!\n",
    "filling in realized consumption next period is infeasible (or maybe some form of rational expectations?!) in stochastic models!"
   ]
  },
  {
   "cell_type": "code",
   "execution_count": 11,
   "metadata": {},
   "outputs": [],
   "source": [
    "m = Model(solver=IpoptSolver(print_level=5))\n",
    "\n",
    "@variable(m, β, start = 1)\n",
    "@variable(m, δ, start = 1)\n",
    "@variable(m, α, start = 1)\n",
    "@variable(m, A, start = 1)\n",
    "@variable(m, γ, start = 1)\n",
    "\n",
    "@variable(m, coeff[1:10], start = 0)\n",
    "setvalue(coeff[1], 1)\n",
    "\n",
    "@variable(m, predictedK[2:100], start = 1)\n",
    "@variable(m, predictedC[1:100], start = 1)\n",
    "@variable(m, EEerror[1:99])\n",
    "\n",
    "JuMP.register(m, :u_crra_prime, 2, u_crra_prime, autodiff=true)\n",
    "JuMP.register(m, :f, 3, f, autodiff=true)\n",
    "JuMP.register(m, :f_prime, 3, f_prime, autodiff=true)\n",
    "\n",
    "Φ = BasisMatrix(basis, Expanded(), dataK).vals[1];"
   ]
  },
  {
   "cell_type": "code",
   "execution_count": 12,
   "metadata": {},
   "outputs": [],
   "source": [
    "@NLconstraint(m, LOM[t=2:100], predictedK[t] == f(dataK[t-1], α, A) + (1-δ)*dataK[t-1] - dataC[t-1]);\n",
    "@NLconstraint(m, consumption[t=1:100], predictedC[t] == sum(Φ[t, k] * coeff[k] for k in 1:10))\n",
    "\n",
    "@NLconstraint(m, fixedpoint[t=1:99], EEerror[t] == u_crra_prime(predictedC[t], γ) -\n",
    "    β * u_crra_prime(dataC[t+1], γ) * (f_prime(predictedK[t+1], α, A) + 1-δ));"
   ]
  },
  {
   "cell_type": "code",
   "execution_count": 13,
   "metadata": {},
   "outputs": [],
   "source": [
    "@NLobjective(m, Min, sum((dataC[t] - predictedC[t])^2 for t in 1:100) + \n",
    "    sum((dataK[t] - predictedK[t])^2 for t in 2:100) + sum(EEerror[t]^2 for t in 1:99))"
   ]
  },
  {
   "cell_type": "code",
   "execution_count": 14,
   "metadata": {
    "scrolled": true
   },
   "outputs": [
    {
     "name": "stdout",
     "output_type": "stream",
     "text": [
      "\n",
      "******************************************************************************\n",
      "This program contains Ipopt, a library for large-scale nonlinear optimization.\n",
      " Ipopt is released as open source code under the Eclipse Public License (EPL).\n",
      "         For more information visit http://projects.coin-or.org/Ipopt\n",
      "******************************************************************************\n",
      "\n",
      "This is Ipopt version 3.12.1, running with linear solver mumps.\n",
      "NOTE: Other linear solvers might be more efficient (see Ipopt documentation).\n",
      "\n",
      "Number of nonzeros in equality constraint Jacobian...:     2288\n",
      "Number of nonzeros in inequality constraint Jacobian.:        0\n",
      "Number of nonzeros in Lagrangian Hessian.............:        0\n",
      "\n",
      "Total number of variables............................:      313\n",
      "                     variables with only lower bounds:        0\n",
      "                variables with lower and upper bounds:        0\n",
      "                     variables with only upper bounds:        0\n",
      "Total number of equality constraints.................:      298\n",
      "Total number of inequality constraints...............:        0\n",
      "        inequality constraints with only lower bounds:        0\n",
      "   inequality constraints with lower and upper bounds:        0\n",
      "        inequality constraints with only upper bounds:        0\n",
      "\n",
      "iter    objective    inf_pr   inf_du lg(mu)  ||d||  lg(rg) alpha_du alpha_pr  ls\n",
      "   0  1.0420591e+03 2.28e+00 7.29e+00   0.0 0.00e+00    -  0.00e+00 0.00e+00   0\n",
      "   1  1.0378153e+03 3.12e+00 7.26e+00 -11.0 7.26e+00    -  1.00e+00 1.00e+00f  1\n",
      "   2  1.0770123e-01 8.67e-01 9.37e-01 -11.0 3.65e+00    -  1.00e+00 1.00e+00f  1\n",
      "   3  5.8769851e-02 8.37e-02 8.59e-01 -11.0 5.08e-01    -  1.00e+00 1.00e+00h  1\n",
      "   4  5.9943708e-02 1.80e-02 7.42e-02 -11.0 1.30e-01    -  1.00e+00 1.00e+00h  1\n",
      "   5  4.4485556e-02 1.02e-03 6.10e-02 -11.0 2.62e-02    -  1.00e+00 1.00e+00h  1\n",
      "   6  4.0144283e-02 2.61e-03 4.14e-02 -11.0 3.72e-02    -  1.00e+00 1.00e+00h  1\n",
      "   7  2.0757892e-02 5.62e-01 1.01e-01 -11.0 5.51e-01    -  1.00e+00 1.00e+00h  1\n",
      "   8  3.7691314e-02 2.87e-01 1.33e-01 -11.0 1.94e-01    -  1.00e+00 5.00e-01h  2\n",
      "   9  1.4629964e-02 8.82e-02 1.48e-01 -11.0 2.55e-01    -  1.00e+00 1.00e+00h  1\n",
      "iter    objective    inf_pr   inf_du lg(mu)  ||d||  lg(rg) alpha_du alpha_pr  ls\n",
      "  10  9.7162770e-03 3.35e-01 1.12e-01 -11.0 5.94e-01    -  1.00e+00 5.00e-01h  2\n",
      "  11  1.3577975e-02 3.59e-03 9.08e-02 -11.0 7.07e-02    -  1.00e+00 1.00e+00h  1\n",
      "  12  3.5502612e-04 1.67e-02 3.97e-02 -11.0 7.69e-02    -  1.00e+00 1.00e+00h  1\n",
      "  13  1.0769585e-04 1.08e-04 1.08e-02 -11.0 8.53e-03    -  1.00e+00 1.00e+00h  1\n",
      "  14  8.5871608e-05 9.75e-07 2.22e-03 -11.0 2.10e-03    -  1.00e+00 1.00e+00h  1\n",
      "  15  7.7264543e-05 2.39e-05 4.90e-03 -11.0 1.14e-02    -  1.00e+00 1.00e+00h  1\n",
      "  16  5.8280986e-05 4.19e-06 2.00e-03 -11.0 3.12e-03    -  1.00e+00 1.00e+00h  1\n",
      "  17  4.5893220e-05 2.87e-06 5.93e-04 -11.0 3.49e-03    -  1.00e+00 1.00e+00h  1\n",
      "  18  4.6146384e-05 4.14e-09 4.90e-04 -11.0 1.39e-03    -  1.00e+00 1.00e+00H  1\n",
      "  19  4.4727658e-05 9.39e-08 4.75e-04 -11.0 6.98e-04    -  1.00e+00 1.00e+00h  1\n",
      "iter    objective    inf_pr   inf_du lg(mu)  ||d||  lg(rg) alpha_du alpha_pr  ls\n",
      "  20  4.4192324e-05 1.09e-07 4.86e-04 -11.0 1.19e-03    -  1.00e+00 1.00e+00h  1\n",
      "  21  5.3640535e-05 1.86e-09 2.47e-03 -11.0 1.95e-02    -  1.00e+00 1.00e+00H  1\n",
      "  22  3.9415546e-05 3.13e-05 2.12e-03 -11.0 1.37e-02    -  1.00e+00 1.00e+00h  1\n",
      "  23  7.7276924e-05 5.09e-11 3.68e-03 -11.0 1.05e-02    -  1.00e+00 1.00e+00H  1\n",
      "  24  2.8618418e-05 4.51e-06 1.22e-03 -11.0 2.19e-03    -  1.00e+00 1.00e+00f  1\n",
      "  25  2.2775585e-05 1.44e-05 7.21e-04 -11.0 1.30e-02    -  1.00e+00 1.00e+00h  1\n",
      "  26  1.5511131e-05 7.82e-05 1.71e-03 -11.0 1.42e+00    -  1.00e+00 3.12e-02h  6\n",
      "  27  9.2167560e-06 1.09e-04 2.32e-03 -11.0 4.05e+00    -  1.00e+00 7.81e-03h  8\n",
      "  28  8.5578701e-06 1.11e-04 2.43e-03 -11.0 5.99e-01    -  1.00e+00 1.56e-02h  7\n",
      "  29  7.9710048e-06 1.09e-04 2.63e-03 -11.0 1.30e-01    -  1.00e+00 1.56e-02h  7\n",
      "iter    objective    inf_pr   inf_du lg(mu)  ||d||  lg(rg) alpha_du alpha_pr  ls\n",
      "  30  4.8157888e-06 2.25e-05 1.99e-04 -11.0 1.30e-02    -  1.00e+00 1.00e+00h  1\n",
      "  31  8.2813668e-06 1.36e-07 9.88e-04 -11.0 1.10e-03    -  1.00e+00 1.00e+00h  1\n",
      "  32  4.7929718e-06 5.05e-07 3.02e-05 -11.0 1.88e-03    -  1.00e+00 1.00e+00h  1\n",
      "  33  4.7856464e-06 4.05e-09 2.76e-05 -11.0 3.28e-04    -  1.00e+00 1.00e+00h  1\n",
      "  34  7.9977015e-06 1.09e-10 6.86e-04 -11.0 8.87e-03    -  1.00e+00 1.00e+00H  1\n",
      "  35  5.4886237e-06 1.54e-10 4.14e-04 -11.0 8.07e-03    -  1.00e+00 1.00e+00H  1\n",
      "  36  1.3623338e-04 2.61e-12 6.53e-03 -11.0 1.40e-02    -  1.00e+00 1.00e+00H  1\n",
      "  37  4.9248062e-06 1.15e-10 3.77e-04 -11.0 1.31e-02    -  1.00e+00 1.00e+00F  1\n",
      "  38  1.9076090e-05 1.18e-12 2.48e-03 -11.0 5.71e-03    -  1.00e+00 1.00e+00H  1\n",
      "  39  4.5912208e-06 2.52e-06 4.20e-05 -11.0 4.21e-03    -  1.00e+00 1.00e+00f  1\n",
      "iter    objective    inf_pr   inf_du lg(mu)  ||d||  lg(rg) alpha_du alpha_pr  ls\n",
      "  40  4.5787158e-06 3.75e-09 3.56e-05 -11.0 1.76e-04    -  1.00e+00 1.00e+00h  1\n",
      "  41  4.5054393e-06 1.08e-08 1.02e-04 -11.0 1.12e-03    -  1.00e+00 1.00e+00h  1\n",
      "  42  1.1218957e-04 1.09e-10 4.04e-03 -11.0 1.09e-01    -  1.00e+00 1.00e+00H  1\n",
      "  43  1.1217418e-04 1.07e-10 4.04e-03 -11.0 3.94e-01    -  1.00e+00 6.10e-05h 15\n",
      "  44  1.1213530e-04 1.25e-10 4.04e-03 -11.0 1.61e+00    -  1.00e+00 1.53e-05h 17\n",
      "  45  1.1213034e-04 1.25e-10 4.04e-03 -11.0 6.56e-01    -  1.00e+00 3.81e-06h 19\n",
      "  46  1.1212550e-04 1.25e-10 4.04e-03 -11.0 9.78e-01    -  1.00e+00 1.91e-06h 20\n",
      "  47  1.0560449e-04 1.73e-05 2.33e-03 -11.0 2.67e-01    -  1.00e+00 1.25e-01f  4\n",
      "  48  2.8455556e-05 1.17e-04 2.02e-03 -11.0 2.63e-01    -  1.00e+00 2.50e-01h  3\n",
      "  49  1.7342597e-05 1.52e-04 7.72e-03 -11.0 7.95e-01    -  1.00e+00 1.56e-02h  7\n",
      "iter    objective    inf_pr   inf_du lg(mu)  ||d||  lg(rg) alpha_du alpha_pr  ls\n",
      "  50  2.1493685e-04 1.89e-11 1.17e-02 -11.0 2.40e-02    -  1.00e+00 1.00e+00H  1\n",
      "  51  9.6679133e-06 3.41e-04 1.24e-03 -11.0 4.83e-02    -  1.00e+00 1.00e+00f  1\n",
      "  52  1.3615306e-05 3.24e-04 2.26e-03 -11.0 5.07e-02    -  1.00e+00 6.25e-02h  5\n",
      "  53  1.2906558e-06 1.99e-06 4.10e-04 -11.0 5.75e-03    -  1.00e+00 1.00e+00h  1\n",
      "  54  1.3308873e-05 1.81e-06 2.49e-03 -11.0 3.69e-03    -  1.00e+00 1.00e+00h  1\n",
      "  55  9.1257266e-07 1.91e-06 1.85e-04 -11.0 3.24e-03    -  1.00e+00 1.00e+00h  1\n",
      "  56  1.0116555e-06 8.65e-09 1.18e-04 -11.0 1.00e-04    -  1.00e+00 1.00e+00h  1\n",
      "  57  8.9304827e-07 1.86e-09 2.98e-05 -11.0 1.29e-04    -  1.00e+00 1.00e+00h  1\n",
      "  58  8.8992597e-07 3.27e-10 3.01e-05 -11.0 4.55e-05    -  1.00e+00 1.00e+00h  1\n",
      "  59  9.5602147e-07 2.16e-11 1.81e-04 -11.0 1.36e-03    -  1.00e+00 1.00e+00H  1\n",
      "iter    objective    inf_pr   inf_du lg(mu)  ||d||  lg(rg) alpha_du alpha_pr  ls\n",
      "  60  1.3883942e-06 1.44e-13 3.83e-04 -11.0 1.04e-03    -  1.00e+00 1.00e+00H  1\n",
      "  61  9.5603137e-07 3.05e-11 1.78e-04 -11.0 9.07e-04    -  1.00e+00 1.00e+00H  1\n",
      "  62  8.2051545e-07 6.25e-07 1.13e-04 -11.0 4.44e-04    -  1.00e+00 1.00e+00h  1\n",
      "  63  8.0986160e-07 6.30e-09 5.30e-05 -11.0 2.48e-04    -  1.00e+00 1.00e+00h  1\n",
      "  64  8.1179054e-07 3.50e-11 2.22e-04 -11.0 1.11e-03    -  1.00e+00 1.00e+00H  1\n",
      "  65  2.9221584e-06 2.66e-15 5.64e-04 -11.0 2.36e-03    -  1.00e+00 1.00e+00H  1\n",
      "  66  7.8566109e-07 2.20e-06 2.22e-04 -11.0 1.84e-03    -  1.00e+00 1.00e+00f  1\n",
      "  67  7.3582066e-07 1.72e-06 1.03e-04 -11.0 1.23e-03    -  1.00e+00 2.50e-01h  3\n",
      "  68  6.9177067e-07 5.91e-08 1.01e-04 -11.0 8.33e-04    -  1.00e+00 1.00e+00h  1\n",
      "  69  6.7380092e-07 5.75e-07 1.74e-04 -11.0 5.94e-02    -  1.00e+00 6.25e-02h  5\n",
      "iter    objective    inf_pr   inf_du lg(mu)  ||d||  lg(rg) alpha_du alpha_pr  ls\n",
      "  70  6.5304925e-07 8.18e-07 2.52e-04 -11.0 7.76e-02    -  1.00e+00 3.12e-02h  6\n",
      "  71  6.1467456e-07 2.49e-06 5.24e-04 -11.0 2.10e-01    -  1.00e+00 3.12e-02h  6\n",
      "  72  5.3991059e-07 3.54e-06 6.32e-04 -11.0 1.01e+00    -  1.00e+00 7.81e-03h  8\n",
      "  73  5.3009430e-07 3.51e-06 6.08e-04 -11.0 3.69e-01    -  1.00e+00 3.91e-03h  9\n",
      "  74  4.9871880e-07 3.44e-06 5.53e-04 -11.0 2.30e-02    -  1.00e+00 3.12e-02h  6\n",
      "  75  5.2277085e-07 2.74e-06 4.33e-04 -11.0 4.60e-03    -  1.00e+00 2.50e-01h  3\n",
      "  76  4.7802156e-07 2.85e-06 4.24e-04 -11.0 5.99e-02    -  1.00e+00 6.25e-02h  5\n",
      "  77  4.7373118e-07 3.40e-06 3.51e-04 -11.0 5.39e-01    -  1.00e+00 7.81e-03h  8\n",
      "  78  4.4567519e-07 3.85e-06 2.97e-04 -11.0 8.25e-01    -  1.00e+00 3.91e-03h  9\n",
      "  79  9.4225476e-04 1.29e-03 2.30e-02 -11.0 3.02e-01    -  1.00e+00 1.00e+00w  1\n",
      "iter    objective    inf_pr   inf_du lg(mu)  ||d||  lg(rg) alpha_du alpha_pr  ls\n",
      "  80  1.5226834e-04 1.28e-03 6.86e-03 -11.0 2.83e-01    -  1.00e+00 1.00e+00w  1\n",
      "  81  6.6169403e+00 5.89e+01 1.46e+00 -11.0 1.06e+01    -  1.00e+00 1.00e+00w  1\n",
      "  82  4.3329912e-07 3.84e-06 2.19e-04 -11.0 1.19e+00    -  1.00e+00 3.91e-03h  8\n",
      "  83  4.1279181e-07 4.15e-06 1.85e-04 -11.0 8.56e-02    -  1.00e+00 3.12e-02h  6\n",
      "  84  3.8427762e-07 4.29e-06 2.06e-04 -11.0 3.13e-01    -  1.00e+00 7.81e-03h  8\n",
      "  85  3.6537514e-07 4.40e-06 2.67e-04 -11.0 4.37e-01    -  1.00e+00 3.91e-03h  9\n",
      "  86  3.6658284e-07 4.36e-06 2.70e-04 -11.0 7.74e-02    -  1.00e+00 7.81e-03h  8\n",
      "  87  3.9273488e-07 4.10e-06 3.37e-04 -11.0 2.22e-02    -  1.00e+00 6.25e-02h  5\n",
      "  88  1.2911893e-06 1.14e-12 2.50e-04 -11.0 1.51e-02    -  1.00e+00 1.00e+00H  1\n",
      "  89  1.2900279e-06 3.53e-11 2.50e-04 -11.0 1.21e-01    -  1.00e+00 2.44e-04h 13\n",
      "iter    objective    inf_pr   inf_du lg(mu)  ||d||  lg(rg) alpha_du alpha_pr  ls\n",
      "  90  1.2886755e-06 4.27e-11 2.49e-04 -11.0 4.54e-02    -  1.00e+00 2.44e-04h 13\n",
      "  91  4.0579497e-05 1.23e-12 2.34e-03 -11.0 3.27e-02    -  1.00e+00 1.00e+00H  1\n",
      "  92  4.0536323e-05 6.39e-12 2.34e-03 -11.0 3.71e-02    -  1.00e+00 4.88e-04h 12\n",
      "  93  4.0527417e-05 1.54e-11 2.34e-03 -11.0 7.73e-01    -  1.00e+00 1.53e-05h 17\n",
      "  94  4.0526164e-05 1.55e-11 2.34e-03 -11.0 3.90e-01    -  1.00e+00 9.54e-07h 21\n",
      "  95  9.9236787e-07 1.80e-04 1.01e-03 -11.0 5.25e-02    -  1.00e+00 1.00e+00f  1\n",
      "  96  9.0510640e-07 1.79e-04 9.48e-04 -11.0 8.66e-02    -  1.00e+00 7.81e-03h  8\n",
      "  97  2.1115646e-07 2.83e-07 1.63e-04 -11.0 2.17e-03    -  1.00e+00 1.00e+00h  1\n",
      "  98  1.6587872e-07 2.35e-06 3.37e-04 -11.0 6.67e-02    -  1.00e+00 1.25e-01h  4\n",
      "  99  1.1931092e-07 2.49e-06 5.67e-04 -11.0 6.97e-01    -  1.00e+00 3.91e-03h  9\n",
      "iter    objective    inf_pr   inf_du lg(mu)  ||d||  lg(rg) alpha_du alpha_pr  ls\n",
      " 100  1.4711956e-04 4.71e-14 7.51e-03 -11.0 9.53e-03    -  1.00e+00 1.00e+00H  1\n",
      " 101  4.4210428e-08 9.00e-05 6.38e-05 -11.0 6.85e-03    -  1.00e+00 1.00e+00f  1\n",
      " 102  4.3169107e-08 1.89e-08 3.46e-05 -11.0 2.22e-04    -  1.00e+00 1.00e+00h  1\n",
      " 103  6.3413993e-07 5.44e-10 8.00e-04 -11.0 4.08e-03    -  1.00e+00 1.00e+00H  1\n",
      " 104  2.6962355e-07 6.92e-10 2.62e-04 -11.0 5.07e-04    -  1.00e+00 1.00e+00H  1\n",
      " 105  1.9753986e-07 2.64e-10 1.88e-04 -11.0 2.44e-03    -  1.00e+00 1.00e+00H  1\n",
      " 106  4.1258799e-06 3.16e-12 1.03e-03 -11.0 1.33e-02    -  1.00e+00 1.00e+00H  1\n",
      " 107  4.1231681e-06 3.63e-12 1.03e-03 -11.0 5.27e-02    -  1.00e+00 2.44e-04h 13\n",
      " 108  4.1154155e-06 3.06e-12 1.03e-03 -11.0 6.48e-02    -  1.00e+00 2.44e-04h 13\n",
      " 109  3.5473064e-06 5.09e-06 8.51e-04 -11.0 4.77e-01    -  1.00e+00 1.56e-02f  7\n",
      "iter    objective    inf_pr   inf_du lg(mu)  ||d||  lg(rg) alpha_du alpha_pr  ls\n",
      " 110  7.0827201e-06 3.69e-12 9.41e-04 -11.0 1.16e-02    -  1.00e+00 1.00e+00H  1\n",
      " 111  7.0756814e-06 3.42e-12 9.41e-04 -11.0 1.95e-02    -  1.00e+00 1.22e-04h 14\n",
      " 112  3.7195189e-07 9.80e-06 7.30e-04 -11.0 1.19e-02    -  1.00e+00 1.00e+00h  1\n",
      " 113  5.8703881e-07 1.08e-05 7.75e-04 -11.0 8.90e-02    -  1.00e+00 6.25e-02h  5\n",
      " 114  3.1560953e-06 1.26e-05 1.14e-03 -11.0 2.71e-02    -  1.00e+00 2.50e-01h  3\n",
      " 115  2.3097520e-06 5.07e-06 1.41e-03 -11.0 4.64e-03    -  1.00e+00 1.00e+00h  1\n",
      " 116  8.4341167e-06 4.08e-12 2.05e-03 -11.0 2.80e-02    -  1.00e+00 1.00e+00H  1\n",
      " 117  8.4329535e-06 4.73e-12 2.05e-03 -11.0 2.74e-01    -  1.00e+00 1.53e-05h 17\n",
      " 118  8.3532825e-06 1.91e-13 2.24e-03 -11.0 1.66e-02    -  1.00e+00 1.00e+00F  1\n",
      " 119  8.3512957e-06 6.78e-13 2.24e-03 -11.0 1.18e-01    -  1.00e+00 1.53e-05h 17\n",
      "iter    objective    inf_pr   inf_du lg(mu)  ||d||  lg(rg) alpha_du alpha_pr  ls\n",
      " 120  3.7278067e-06 3.92e-06 9.38e-04 -11.0 9.85e-03    -  1.00e+00 5.00e-01f  2\n",
      " 121  3.7289583e-07 5.02e-06 4.10e-04 -11.0 2.31e-02    -  1.00e+00 1.25e-01h  4\n",
      " 122  1.6454051e-06 7.75e-10 3.94e-04 -11.0 1.89e-03    -  1.00e+00 1.00e+00H  1\n",
      " 123  1.6170361e-07 2.89e-07 2.89e-04 -11.0 8.34e-04    -  1.00e+00 1.00e+00h  1\n",
      " 124  9.2429605e-08 8.99e-08 1.41e-04 -11.0 4.45e-04    -  1.00e+00 1.00e+00h  1\n",
      " 125  3.8925904e-08 2.40e-08 6.17e-05 -11.0 1.43e-04    -  1.00e+00 1.00e+00h  1\n",
      " 126  4.0025944e-08 1.94e-09 7.45e-05 -11.0 6.37e-05    -  1.00e+00 1.00e+00h  1\n",
      " 127  3.5509564e-08 1.44e-09 5.11e-06 -11.0 3.47e-05    -  1.00e+00 1.00e+00h  1\n",
      " 128  3.5424961e-08 6.14e-12 4.06e-06 -11.0 3.64e-06    -  1.00e+00 1.00e+00h  1\n",
      " 129  3.5388909e-08 2.24e-12 4.08e-06 -11.0 2.64e-06    -  1.00e+00 1.00e+00h  1\n",
      "iter    objective    inf_pr   inf_du lg(mu)  ||d||  lg(rg) alpha_du alpha_pr  ls\n",
      " 130  3.5580408e-08 5.96e-15 1.31e-05 -11.0 4.68e-05    -  1.00e+00 1.00e+00H  1\n",
      " 131  3.4908991e-08 8.66e-10 1.29e-05 -11.0 8.89e-05    -  1.00e+00 1.00e+00h  1\n",
      " 132  4.2543726e-08 1.78e-15 3.60e-05 -11.0 1.15e-04    -  1.00e+00 1.00e+00H  1\n",
      " 133  3.4108195e-08 1.27e-09 5.87e-06 -11.0 7.01e-05    -  1.00e+00 1.00e+00h  1\n",
      " 134  3.3695366e-08 9.86e-11 5.33e-06 -11.0 5.78e-05    -  1.00e+00 1.00e+00h  1\n",
      " 135  3.2733985e-08 9.02e-09 2.35e-05 -11.0 2.84e-02    -  1.00e+00 1.56e-02h  7\n",
      " 136  3.1617263e-08 1.06e-08 1.28e-05 -11.0 1.97e-02    -  1.00e+00 1.56e-02h  7\n",
      " 137  1.9687371e-07 1.78e-15 1.94e-04 -11.0 2.77e-03    -  1.00e+00 1.00e+00H  1\n",
      " 138  1.9687288e-07 1.78e-15 1.94e-04 -11.0 8.59e-03    -  1.00e+00 1.91e-06h 20\n",
      " 139  1.9687068e-07 1.78e-15 1.94e-04 -11.0 2.71e-02    -  1.00e+00 9.54e-07h 21\n",
      "iter    objective    inf_pr   inf_du lg(mu)  ||d||  lg(rg) alpha_du alpha_pr  ls\n",
      " 140  1.9687067e-07 1.78e-15 1.94e-04 -11.0 3.68e-02    -  1.00e+00 3.73e-09h 29\n",
      " 141  1.9687066e-07 2.66e-15 1.94e-04 -11.0 2.96e-02    -  1.00e+00 9.31e-10h 31\n",
      " 142  6.7816472e-08 2.64e-07 2.09e-04 -11.0 3.81e-04    -  1.00e+00 1.00e+00h  1\n",
      " 143  8.3227883e-08 7.80e-08 1.79e-04 -11.0 9.15e-04    -  1.00e+00 1.00e+00h  1\n",
      " 144  1.9548211e-07 1.17e-09 1.45e-04 -11.0 3.85e-03    -  1.00e+00 1.00e+00H  1\n",
      " 145  1.7884685e-07 4.87e-09 1.27e-04 -11.0 2.87e-03    -  1.00e+00 3.12e-02h  6\n",
      " 146  2.6059027e-07 1.78e-15 2.02e-04 -11.0 6.24e-03    -  1.00e+00 1.00e+00H  1\n",
      " 147  2.6058928e-07 1.78e-15 2.02e-04 -11.0 1.01e-01    -  1.00e+00 2.38e-07h 23\n",
      " 148  2.6058928e-07 1.78e-15 2.02e-04 -11.0 1.53e-02    -  1.00e+00 3.64e-12h 39\n",
      " 149  2.6058918e-07 1.78e-15 2.02e-04 -11.0 2.53e-02    -  1.00e+00 2.98e-08h 26\n",
      "iter    objective    inf_pr   inf_du lg(mu)  ||d||  lg(rg) alpha_du alpha_pr  ls\n",
      " 150  2.1139644e-07 5.75e-08 1.84e-04 -11.0 1.30e-03    -  1.00e+00 1.25e-01h  4\n",
      " 151  4.1852429e-08 5.96e-08 5.14e-05 -11.0 8.01e-04    -  1.00e+00 1.00e+00h  1\n",
      " 152  7.0601101e-07 1.78e-15 4.75e-04 -11.0 5.70e-03    -  1.00e+00 1.00e+00H  1\n",
      " 153  7.0601101e-07 1.78e-15 4.75e-04 -11.0 1.78e-02    -  1.00e+00 1.82e-12h 40\n",
      " 154  7.0601101e-07 1.78e-15 4.75e-04 -11.0 1.97e-01    -  1.00e+00 1.16e-10h 34\n",
      " 155  7.0601101e-07 1.78e-15 4.75e-04 -11.0 2.08e-02    -  1.00e+00 3.55e-15h 49\n",
      " 156  7.0601101e-07 1.78e-15 4.75e-04 -11.0 2.08e-02    -  1.00e+00 8.88e-16h 51\n",
      " 157  6.9128715e-07 2.39e-07 4.41e-04 -11.0 2.08e-02    -  1.00e+00 6.25e-02f  5\n",
      " 158  4.9187905e-07 8.43e-08 3.15e-04 -11.0 3.15e-04    -  1.00e+00 1.00e+00h  1\n",
      " 159  1.0844858e-07 1.49e-08 6.42e-05 -11.0 1.21e-04    -  1.00e+00 1.00e+00h  1\n",
      "iter    objective    inf_pr   inf_du lg(mu)  ||d||  lg(rg) alpha_du alpha_pr  ls\n",
      " 160  1.0208532e-07 3.44e-11 5.03e-05 -11.0 3.07e-05    -  1.00e+00 1.00e+00h  1\n",
      " 161  1.4024131e-07 4.53e-12 1.30e-04 -11.0 4.10e-04    -  1.00e+00 1.00e+00H  1\n",
      " 162  9.3174217e-08 9.26e-09 5.38e-05 -11.0 1.34e-04    -  1.00e+00 1.00e+00h  1\n",
      " 163  6.9507448e-08 1.41e-09 1.38e-05 -11.0 2.15e-04    -  1.00e+00 1.00e+00h  1\n",
      " 164  7.3101240e-08 2.63e-10 3.51e-05 -11.0 4.75e-05    -  1.00e+00 1.00e+00h  1\n",
      " 165  6.8858744e-08 1.83e-10 1.38e-05 -11.0 2.27e-05    -  1.00e+00 1.00e+00h  1\n",
      " 166  6.8577058e-08 1.92e-11 1.38e-05 -11.0 1.74e-05    -  1.00e+00 1.00e+00h  1\n",
      " 167  2.6306503e-07 4.79e-13 2.15e-04 -11.0 2.06e-03    -  1.00e+00 1.00e+00H  1\n",
      " 168  6.7122423e-08 9.61e-09 7.03e-05 -11.0 1.19e-04    -  1.00e+00 1.00e+00h  1\n",
      " 169  4.9455361e-08 1.54e-08 6.44e-05 -11.0 1.00e-04    -  1.00e+00 1.00e+00h  1\n",
      "iter    objective    inf_pr   inf_du lg(mu)  ||d||  lg(rg) alpha_du alpha_pr  ls\n",
      " 170  4.3802076e-08 5.86e-08 3.73e-05 -11.0 6.09e-04    -  1.00e+00 1.00e+00h  1\n",
      " 171  4.1117853e-08 6.60e-08 5.22e-05 -11.0 6.44e-03    -  1.00e+00 6.25e-02h  5\n",
      " 172  3.9893607e-08 1.41e-07 7.55e-05 -11.0 3.36e-03    -  1.00e+00 5.00e-01h  2\n",
      " 173  4.2533250e-08 1.55e-07 8.76e-05 -11.0 3.12e-02    -  1.00e+00 1.56e-02h  7\n",
      " 174  4.5839594e-08 1.79e-11 4.67e-05 -11.0 8.55e-04    -  1.00e+00 1.00e+00H  1\n",
      " 175  2.7006389e-07 1.78e-15 2.53e-04 -11.0 1.28e-03    -  1.00e+00 1.00e+00H  1\n",
      " 176  4.4058847e-08 6.16e-08 4.23e-05 -11.0 8.18e-04    -  1.00e+00 1.00e+00h  1\n",
      " 177  3.8181457e-08 4.82e-08 3.49e-05 -11.0 1.04e-03    -  1.00e+00 2.50e-01h  3\n",
      " 178  3.7975068e-08 2.66e-09 2.81e-05 -11.0 6.63e-05    -  1.00e+00 1.00e+00h  1\n",
      " 179  3.7103373e-08 9.65e-10 1.46e-05 -11.0 7.17e-05    -  1.00e+00 1.00e+00h  1\n",
      "iter    objective    inf_pr   inf_du lg(mu)  ||d||  lg(rg) alpha_du alpha_pr  ls\n",
      " 180  3.6464284e-08 9.07e-10 2.16e-06 -11.0 4.74e-05    -  1.00e+00 1.00e+00h  1\n",
      " 181  3.6415166e-08 9.07e-11 1.55e-06 -11.0 6.06e-06    -  1.00e+00 1.00e+00h  1\n",
      " 182  3.6437372e-08 2.66e-15 3.70e-06 -11.0 2.11e-05    -  1.00e+00 1.00e+00H  1\n",
      " 183  3.6245731e-08 6.65e-11 4.57e-06 -11.0 3.52e-05    -  1.00e+00 1.00e+00h  1\n",
      " 184  4.4672627e-08 2.66e-15 5.83e-05 -11.0 2.97e-04    -  1.00e+00 1.00e+00H  1\n",
      " 185  3.7020368e-08 2.66e-15 2.47e-05 -11.0 2.06e-04    -  1.00e+00 1.00e+00H  1\n",
      " 186  5.6459881e-08 1.78e-15 7.75e-05 -11.0 1.50e-04    -  1.00e+00 1.00e+00H  1\n",
      " 187  3.4869872e-08 1.56e-08 1.10e-05 -11.0 1.59e-04    -  1.00e+00 1.00e+00h  1\n",
      " 188  3.4553742e-08 7.80e-10 4.50e-06 -11.0 5.07e-05    -  1.00e+00 1.00e+00h  1\n",
      " 189  3.4103254e-08 3.16e-09 9.54e-06 -11.0 1.53e-03    -  1.00e+00 1.25e-01h  4\n",
      "iter    objective    inf_pr   inf_du lg(mu)  ||d||  lg(rg) alpha_du alpha_pr  ls\n",
      " 190  3.3247754e-08 8.36e-09 8.19e-06 -11.0 1.16e-02    -  1.00e+00 3.12e-02h  6\n",
      " 191  3.2482823e-08 1.74e-08 8.16e-06 -11.0 6.49e-02    -  1.00e+00 7.81e-03h  8\n",
      " 192  3.2192836e-08 1.75e-08 8.33e-06 -11.0 3.14e-02    -  1.00e+00 3.91e-03h  9\n",
      " 193  3.1675901e-08 1.98e-08 5.30e-06 -11.0 5.42e-03    -  1.00e+00 6.25e-02h  5\n",
      " 194  3.1762702e-08 1.92e-08 8.69e-06 -11.0 1.11e-03    -  1.00e+00 3.12e-02h  6\n",
      " 195  3.0747910e-08 4.43e-09 4.12e-06 -11.0 3.28e-04    -  1.00e+00 1.00e+00h  1\n",
      " 196  3.0664796e-08 4.28e-09 8.40e-06 -11.0 4.70e-03    -  1.00e+00 7.81e-03h  8\n",
      " 197  2.9519612e-08 1.32e-09 8.05e-06 -11.0 1.52e-04    -  1.00e+00 1.00e+00h  1\n",
      " 198  2.8750393e-08 1.51e-09 6.48e-06 -11.0 2.02e-02    -  1.00e+00 7.81e-03h  8\n",
      " 199  2.7377756e-08 8.75e-09 1.86e-05 -11.0 7.84e-03    -  1.00e+00 6.25e-02h  5\n",
      "iter    objective    inf_pr   inf_du lg(mu)  ||d||  lg(rg) alpha_du alpha_pr  ls\n",
      " 200  2.7209980e-08 9.65e-09 1.89e-05 -11.0 2.41e-02    -  1.00e+00 7.81e-03h  8\n",
      " 201  6.6673926e-08 3.06e-15 7.14e-05 -11.0 3.51e-03    -  1.00e+00 1.00e+00H  1\n",
      " 202  6.6673926e-08 2.74e-15 7.14e-05 -11.0 1.45e-02    -  1.00e+00 9.09e-13h 41\n",
      " 203  6.6673926e-08 2.74e-15 7.14e-05 -11.0 1.45e-02    -  1.00e+00 4.44e-16h 52\n",
      "Restoration phase is called at point that is almost feasible,\n",
      "  with constraint violation 7.411432e-14. Abort.\n",
      "\n",
      "Number of Iterations....: 203\n",
      "\n",
      "                                   (scaled)                 (unscaled)\n",
      "Objective...............:   6.6673925708033978e-08    6.6673925708033978e-08\n",
      "Dual infeasibility......:   7.1380615279035563e-05    7.1380615279035563e-05\n",
      "Constraint violation....:   2.7427773865041499e-15    2.7427773865041499e-15\n",
      "Complementarity.........:   0.0000000000000000e+00    0.0000000000000000e+00\n",
      "Overall NLP error.......:   7.1380615279035563e-05    7.1380615279035563e-05\n",
      "\n",
      "\n",
      "Number of objective function evaluations             = 1559\n",
      "Number of objective gradient evaluations             = 205\n",
      "Number of equality constraint evaluations            = 1559\n",
      "Number of inequality constraint evaluations          = 0\n",
      "Number of equality constraint Jacobian evaluations   = 205\n",
      "Number of inequality constraint Jacobian evaluations = 0\n",
      "Number of Lagrangian Hessian evaluations             = 0\n",
      "Total CPU secs in IPOPT (w/o function evaluations)   =      1.036\n",
      "Total CPU secs in NLP function evaluations           =      1.424\n",
      "\n",
      "EXIT: Restoration Failed!\n"
     ]
    },
    {
     "name": "stderr",
     "output_type": "stream",
     "text": [
      "\u001b[33mNot solved to optimality, status: Error\u001b[39m\n",
      "\u001b[1m\u001b[33mWARNING: \u001b[39m\u001b[22m\u001b[33mIpopt finished with status Restoration_Failed\u001b[39m\n",
      "\u001b[1m\u001b[33mWARNING: \u001b[39m\u001b[22m"
     ]
    },
    {
     "data": {
      "text/plain": [
       ":Error"
      ]
     },
     "execution_count": 14,
     "metadata": {},
     "output_type": "execute_result"
    }
   ],
   "source": [
    "solve(m)"
   ]
  },
  {
   "cell_type": "code",
   "execution_count": 15,
   "metadata": {},
   "outputs": [
    {
     "data": {
      "text/plain": [
       "99-element Array{Float64,1}:\n",
       " 1.21283\n",
       " 1.42072\n",
       " 1.62154\n",
       " 1.81406\n",
       " 1.99757\n",
       " 2.17171\n",
       " 2.33637\n",
       " 2.49161\n",
       " 2.63762\n",
       " 2.77468\n",
       " 2.90313\n",
       " 3.02335\n",
       " 3.13574\n",
       " ⋮      \n",
       " 4.62447\n",
       " 4.62485\n",
       " 4.62521\n",
       " 4.62553\n",
       " 4.62584\n",
       " 4.62612\n",
       " 4.62638\n",
       " 4.62662\n",
       " 4.62684\n",
       " 4.62705\n",
       " 4.62724\n",
       " 4.62742"
      ]
     },
     "execution_count": 15,
     "metadata": {},
     "output_type": "execute_result"
    }
   ],
   "source": [
    "getvalue(predictedK).innerArray"
   ]
  },
  {
   "cell_type": "code",
   "execution_count": 16,
   "metadata": {},
   "outputs": [
    {
     "data": {
      "text/plain": [
       "5-element Array{Float64,1}:\n",
       " 0.949971 \n",
       " 0.0499095\n",
       " 0.299898 \n",
       " 0.999904 \n",
       " 1.99693  "
      ]
     },
     "execution_count": 16,
     "metadata": {},
     "output_type": "execute_result"
    }
   ],
   "source": [
    "[getvalue(β), getvalue(δ), getvalue(α), getvalue(A), getvalue(γ)]"
   ]
  },
  {
   "cell_type": "code",
   "execution_count": 17,
   "metadata": {},
   "outputs": [
    {
     "data": {
      "text/plain": [
       "10-element Array{Float64,1}:\n",
       " -0.238684  \n",
       " -0.402364  \n",
       " -0.223057  \n",
       " -0.0390384 \n",
       "  0.0706098 \n",
       "  0.0924607 \n",
       "  0.0640022 \n",
       "  0.029009  \n",
       "  0.00836289\n",
       "  0.00124221"
      ]
     },
     "execution_count": 17,
     "metadata": {},
     "output_type": "execute_result"
    }
   ],
   "source": [
    "getvalue(coeff) - true_coeff"
   ]
  },
  {
   "cell_type": "code",
   "execution_count": 18,
   "metadata": {},
   "outputs": [
    {
     "data": {
      "text/html": [
       "<img src=\"data:image/png;base64,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\" />"
      ]
     },
     "execution_count": 18,
     "metadata": {},
     "output_type": "execute_result"
    }
   ],
   "source": [
    "plot(hcat(getvalue(predictedC), dataC))"
   ]
  },
  {
   "cell_type": "code",
   "execution_count": 19,
   "metadata": {},
   "outputs": [
    {
     "data": {
      "text/html": [
       "<img src=\"data:image/png;base64,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\" />"
      ]
     },
     "execution_count": 19,
     "metadata": {},
     "output_type": "execute_result"
    }
   ],
   "source": [
    "plot(K, hcat(Ψ * true_coeff, Ψ * getvalue(coeff)))"
   ]
  },
  {
   "cell_type": "markdown",
   "metadata": {},
   "source": [
    "The approximation is only good within the actually observed data, that is very bad! Macro is about what agent think can happen and what they would do."
   ]
  },
  {
   "cell_type": "markdown",
   "metadata": {},
   "source": [
    "### Variante B\n",
    "use 10 EE as constraints and gap between predition and data as objective function!\n",
    "makes more sense in order to target moments of data more easily\n",
    "but auto will not be able to differentiate through the function that creats the basis matrix!"
   ]
  },
  {
   "cell_type": "code",
   "execution_count": 130,
   "metadata": {},
   "outputs": [],
   "source": [
    "k_stst = 4.628988089138438 #reference point of the grid\n",
    "basis = Basis(ChebParams(10, 0.2*k_stst, 2*k_stst))\n",
    "K = nodes(basis)[1] #grid\n",
    "Ψ = BasisMatrix(basis, Expanded(), K).vals[1] #\\Psi(k)\n",
    "\n",
    "m = Model(solver=IpoptSolver(print_level=5))\n",
    "\n",
    "@variable(m, β, start = 1)\n",
    "@variable(m, δ, start = 1)\n",
    "@variable(m, α, start = 1)\n",
    "@variable(m, A, start = 1)\n",
    "@variable(m, γ, start = 1)\n",
    "\n",
    "@variable(m, θ[1:10], start = 0)\n",
    "setvalue(θ[1], 0.001)\n",
    "\n",
    "@variable(m, Kprime[1:10], start = 1)\n",
    "\n",
    "JuMP.register(m, :u_crra_prime, 2, u_crra_prime, autodiff=true)\n",
    "JuMP.register(m, :f, 3, f, autodiff=true)\n",
    "JuMP.register(m, :f_prime, 3, f_prime, autodiff=true)"
   ]
  },
  {
   "cell_type": "code",
   "execution_count": 131,
   "metadata": {},
   "outputs": [],
   "source": [
    "@NLconstraint(m, calcKprime[i=1:10], Kprime[i] == f(K[i], α, A) + (1-δ)*K[i] - sum(Ψ[i, k] * θ[k] for k in 1:10));"
   ]
  },
  {
   "cell_type": "markdown",
   "metadata": {},
   "source": [
    "manual:"
   ]
  },
  {
   "cell_type": "code",
   "execution_count": 132,
   "metadata": {},
   "outputs": [
    {
     "data": {
      "text/plain": [
       "Ψprime (generic function with 1 method)"
      ]
     },
     "execution_count": 132,
     "metadata": {},
     "output_type": "execute_result"
    }
   ],
   "source": [
    "function Ψprime(x)\n",
    "    k_stst = 4.628988089138438\n",
    "    order = 1:10\n",
    "    a = 0.2*k_stst\n",
    "    b = 2*k_stst\n",
    "    n = 10\n",
    "    \n",
    "    z = (2/(b-a)) * (x-(a+b)/2)\n",
    "\n",
    "    out = Array{JuMP.NonlinearExpression}(n)\n",
    "\n",
    "    @inbounds out[1] = 1.0\n",
    "    @inbounds out[2] = z\n",
    "\n",
    "    z = z * 2.\n",
    "\n",
    "    @inbounds for j in 3:n\n",
    "            out[j] = z * out[j-1] - out[j-2]\n",
    "    end\n",
    "    \n",
    "    return out\n",
    "end"
   ]
  },
  {
   "cell_type": "code",
   "execution_count": 133,
   "metadata": {},
   "outputs": [],
   "source": [
    "JuMP.register(m, :Ψprime, 1, Ψprime, autodiff=true)"
   ]
  },
  {
   "cell_type": "code",
   "execution_count": 134,
   "metadata": {},
   "outputs": [
    {
     "ename": "LoadError",
     "evalue": "\u001b[91mMethodError: Cannot `convert` an object of type Float64 to an object of type JuMP.NonlinearExpression\nThis may have arisen from a call to the constructor JuMP.NonlinearExpression(...),\nsince type constructors fall back to convert methods.\u001b[39m",
     "output_type": "error",
     "traceback": [
      "\u001b[91mMethodError: Cannot `convert` an object of type Float64 to an object of type JuMP.NonlinearExpression\nThis may have arisen from a call to the constructor JuMP.NonlinearExpression(...),\nsince type constructors fall back to convert methods.\u001b[39m",
      "",
      "Stacktrace:",
      " [1] \u001b[1mΨprime\u001b[22m\u001b[22m\u001b[1m(\u001b[22m\u001b[22m::JuMP.Variable\u001b[1m)\u001b[22m\u001b[22m at \u001b[1m./In[132]:12\u001b[22m\u001b[22m",
      " [2] \u001b[1mmacro expansion\u001b[22m\u001b[22m at \u001b[1m/home/juser/.julia/v0.6/JuMP/src/parseExpr_staged.jl:489\u001b[22m\u001b[22m [inlined]",
      " [3] \u001b[1mmacro expansion\u001b[22m\u001b[22m at \u001b[1m/home/juser/.julia/v0.6/JuMP/src/parsenlp.jl:88\u001b[22m\u001b[22m [inlined]",
      " [4] \u001b[1mmacro expansion\u001b[22m\u001b[22m at \u001b[1m/home/juser/.julia/v0.6/JuMP/src/macros.jl:1196\u001b[22m\u001b[22m [inlined]",
      " [5] \u001b[1manonymous\u001b[22m\u001b[22m at \u001b[1m./<missing>:?\u001b[22m\u001b[22m",
      " [6] \u001b[1minclude_string\u001b[22m\u001b[22m\u001b[1m(\u001b[22m\u001b[22m::String, ::String\u001b[1m)\u001b[22m\u001b[22m at \u001b[1m./loading.jl:515\u001b[22m\u001b[22m"
     ]
    }
   ],
   "source": [
    "@NLconstraint(m, EE[i=1:10], u_crra_prime(sum(Ψ[i, k] * θ[k] for k in 1:10), γ) == \n",
    "    β*u_crra_prime(sum(Ψprime(Kprime[i])[k] * θ[k] for k in 1:10), γ) * \n",
    "    (f_prime(Kprime[i], α, A)))"
   ]
  },
  {
   "cell_type": "markdown",
   "metadata": {},
   "source": [
    "fail:"
   ]
  },
  {
   "cell_type": "code",
   "execution_count": 113,
   "metadata": {},
   "outputs": [
    {
     "data": {
      "text/plain": [
       "Ψprime (generic function with 1 method)"
      ]
     },
     "execution_count": 113,
     "metadata": {},
     "output_type": "execute_result"
    }
   ],
   "source": [
    "function Ψprime(k)\n",
    "    return BasisMatrix(Basis(ChebParams(10, 0.2*4.628988089138438, 2*4.628988089138438)), Expanded(), [k]).vals[1]\n",
    "end"
   ]
  },
  {
   "cell_type": "code",
   "execution_count": 114,
   "metadata": {},
   "outputs": [],
   "source": [
    "JuMP.register(m, :Ψprime, 1, Ψprime, autodiff=true)"
   ]
  },
  {
   "cell_type": "code",
   "execution_count": 115,
   "metadata": {
    "scrolled": true
   },
   "outputs": [
    {
     "ename": "LoadError",
     "evalue": "\u001b[91mMethodError: no method matching evalbasex!(::Array{Any,2}, ::Array{JuMP.NonlinearExpression,1}, ::BasisMatrices.ChebParams{Float64}, ::Array{JuMP.NonlinearExpression,1})\u001b[0m\nClosest candidates are:\n  evalbasex!(::AbstractArray{T,2} where T, \u001b[91m::AbstractArray{T<:Number,1}\u001b[39m, ::BasisMatrices.ChebParams, \u001b[91m::AbstractArray{T<:Number,1}\u001b[39m) where T<:Number at /home/juser/.julia/v0.6/BasisMatrices/src/cheb.jl:168\n  evalbasex!(::AbstractArray{T,2} where T, \u001b[91m::BasisMatrices.ChebParams\u001b[39m, ::Any) at /home/juser/.julia/v0.6/BasisMatrices/src/cheb.jl:194\u001b[39m",
     "output_type": "error",
     "traceback": [
      "\u001b[91mMethodError: no method matching evalbasex!(::Array{Any,2}, ::Array{JuMP.NonlinearExpression,1}, ::BasisMatrices.ChebParams{Float64}, ::Array{JuMP.NonlinearExpression,1})\u001b[0m\nClosest candidates are:\n  evalbasex!(::AbstractArray{T,2} where T, \u001b[91m::AbstractArray{T<:Number,1}\u001b[39m, ::BasisMatrices.ChebParams, \u001b[91m::AbstractArray{T<:Number,1}\u001b[39m) where T<:Number at /home/juser/.julia/v0.6/BasisMatrices/src/cheb.jl:168\n  evalbasex!(::AbstractArray{T,2} where T, \u001b[91m::BasisMatrices.ChebParams\u001b[39m, ::Any) at /home/juser/.julia/v0.6/BasisMatrices/src/cheb.jl:194\u001b[39m",
      "",
      "Stacktrace:",
      " [1] \u001b[1mevalbasex\u001b[22m\u001b[22m\u001b[1m(\u001b[22m\u001b[22m::BasisMatrices.ChebParams{Float64}, ::Array{JuMP.NonlinearExpression,1}\u001b[1m)\u001b[22m\u001b[22m at \u001b[1m/home/juser/.julia/v0.6/BasisMatrices/src/cheb.jl:202\u001b[22m\u001b[22m",
      " [2] \u001b[1mevalbase\u001b[22m\u001b[22m\u001b[1m(\u001b[22m\u001b[22m::BasisMatrices.ChebParams{Float64}, ::Array{JuMP.NonlinearExpression,1}, ::Int64, ::Int64\u001b[1m)\u001b[22m\u001b[22m at \u001b[1m/home/juser/.julia/v0.6/BasisMatrices/src/cheb.jl:119\u001b[22m\u001b[22m",
      " [3] \u001b[1mBasisMatrices.BasisMatrix\u001b[22m\u001b[22m\u001b[1m(\u001b[22m\u001b[22m::Type{Void}, ::BasisMatrices.Basis{1,Tuple{BasisMatrices.ChebParams{Float64}}}, ::BasisMatrices.Direct, ::Array{JuMP.NonlinearExpression,1}, ::Int64\u001b[1m)\u001b[22m\u001b[22m at \u001b[1m/home/juser/.julia/v0.6/BasisMatrices/src/basis_structure.jl:229\u001b[22m\u001b[22m",
      " [4] \u001b[1mType\u001b[22m\u001b[22m at \u001b[1m/home/juser/.julia/v0.6/BasisMatrices/src/basis_structure.jl:243\u001b[22m\u001b[22m [inlined]",
      " [5] \u001b[1mType\u001b[22m\u001b[22m at \u001b[1m/home/juser/.julia/v0.6/BasisMatrices/src/basis_structure.jl:302\u001b[22m\u001b[22m [inlined] (repeats 2 times)",
      " [6] \u001b[1mΨprime\u001b[22m\u001b[22m\u001b[1m(\u001b[22m\u001b[22m::JuMP.NonlinearExpression\u001b[1m)\u001b[22m\u001b[22m at \u001b[1m./In[113]:2\u001b[22m\u001b[22m",
      " [7] \u001b[1mmacro expansion\u001b[22m\u001b[22m at \u001b[1m/home/juser/.julia/v0.6/JuMP/src/parseExpr_staged.jl:489\u001b[22m\u001b[22m [inlined]",
      " [8] \u001b[1mmacro expansion\u001b[22m\u001b[22m at \u001b[1m/home/juser/.julia/v0.6/JuMP/src/parsenlp.jl:88\u001b[22m\u001b[22m [inlined]",
      " [9] \u001b[1mmacro expansion\u001b[22m\u001b[22m at \u001b[1m/home/juser/.julia/v0.6/JuMP/src/macros.jl:1196\u001b[22m\u001b[22m [inlined]",
      " [10] \u001b[1manonymous\u001b[22m\u001b[22m at \u001b[1m./<missing>:?\u001b[22m\u001b[22m",
      " [11] \u001b[1minclude_string\u001b[22m\u001b[22m\u001b[1m(\u001b[22m\u001b[22m::String, ::String\u001b[1m)\u001b[22m\u001b[22m at \u001b[1m./loading.jl:515\u001b[22m\u001b[22m"
     ]
    }
   ],
   "source": [
    "#Ψprime = BasisMatrix(basis, Expanded(), K).vals[1];\n",
    "\n",
    "@NLconstraint(m, EE[i=1:10], u_crra_prime(sum(Ψ[i, k] * θ[k] for k in 1:10), γ) == \n",
    "    β*u_crra_prime(sum(Ψprime(Kprime[i])[k] * θ[k] for k in 1:10), γ) * \n",
    "    (f_prime(Kprime[i], α, A)))"
   ]
  },
  {
   "cell_type": "code",
   "execution_count": 12,
   "metadata": {},
   "outputs": [
    {
     "ename": "LoadError",
     "evalue": "\u001b[91msyntax: \"(*(Ψ[i,k],coeff[k]) for k=1:10)\" is not a valid function argument name\u001b[39m",
     "output_type": "error",
     "traceback": [
      "\u001b[91msyntax: \"(*(Ψ[i,k],coeff[k]) for k=1:10)\" is not a valid function argument name\u001b[39m",
      "",
      "Stacktrace:",
      " [1] \u001b[1minclude_string\u001b[22m\u001b[22m\u001b[1m(\u001b[22m\u001b[22m::String, ::String\u001b[1m)\u001b[22m\u001b[22m at \u001b[1m./loading.jl:515\u001b[22m\u001b[22m"
     ]
    }
   ],
   "source": [
    "## use\n",
    "\n",
    "#basis matrix\n",
    "BasisMatrix(basis, Expanded(), ).vals[1]\n",
    "\n",
    "#function of deep parameters\n",
    "\n",
    "\n",
    "\n",
    "\n",
    "        \n",
    "\n",
    "@NLconstraint(m, LOM[t=1:99], dataK[t+1] == f(dataK[t], α, A) + (1-δ)*dataK[t] - dataC[t]);"
   ]
  },
  {
   "cell_type": "code",
   "execution_count": 16,
   "metadata": {},
   "outputs": [
    {
     "data": {
      "text/html": [
       "(::<b>Type{BasisMatrices.Basis}</b>)(params::<b>BasisMatrices.BasisParams...</b>) at <a href=\"https://github.com/QuantEcon/BasisMatrices.jl/tree/7165e2230f98146b5f72520fea77dce25503be11//src/basis.jl#L37\" target=\"_blank\">/home/juser/.julia/v0.6/BasisMatrices/src/basis.jl:37</a>"
      ],
      "text/plain": [
       "(::Type{BasisMatrices.Basis})(params::BasisMatrices.BasisParams...) in BasisMatrices at /home/juser/.julia/v0.6/BasisMatrices/src/basis.jl:37"
      ]
     },
     "execution_count": 16,
     "metadata": {},
     "output_type": "execute_result"
    }
   ],
   "source": [
    "@which Basis(ChebParams(10, 0.2*k_stst, 2*k_stst))"
   ]
  },
  {
   "cell_type": "code",
   "execution_count": 82,
   "metadata": {},
   "outputs": [],
   "source": [
    "Φ = BasisMatrix(basis, Expanded(), dataK).vals[1]\n",
    "\n",
    "@NLconstraint(m, equation[t=1:99], EEerror[t] == u_crra_prime(dataC[t], γ) -\n",
    "    β * u_crra_prime(sum(Φ[t, k] * a[k] for k in 1:10), γ) * (f_prime(dataK[t+1], α, A) + 1-δ));"
   ]
  },
  {
   "cell_type": "code",
   "execution_count": 83,
   "metadata": {},
   "outputs": [],
   "source": [
    "@NLobjective(m, Min, sum(EEerror[t] * EEerror[t] for t in 1:99))"
   ]
  },
  {
   "cell_type": "code",
   "execution_count": 84,
   "metadata": {},
   "outputs": [
    {
     "name": "stdout",
     "output_type": "stream",
     "text": [
      "This is Ipopt version 3.12.2, running with linear solver mumps.\n",
      "NOTE: Other linear solvers might be more efficient (see Ipopt documentation).\n",
      "\n",
      "Number of nonzeros in equality constraint Jacobian...:      891\n",
      "Number of nonzeros in inequality constraint Jacobian.:        0\n",
      "Number of nonzeros in Lagrangian Hessian.............:        0\n",
      "\n",
      "Exception of type: TOO_FEW_DOF in file \"IpIpoptApplication.cpp\" at line 887:\n",
      " Exception message: status != TOO_FEW_DEGREES_OF_FREEDOM evaluated false: Too few degrees of freedom (rethrown)!\n",
      "\n",
      "EXIT: Problem has too few degrees of freedom.\n"
     ]
    },
    {
     "name": "stderr",
     "output_type": "stream",
     "text": [
      "\u001b[1m\u001b[33mWARNING: \u001b[39m\u001b[22m\u001b[33mIpopt finished with status Not_Enough_Degrees_Of_Freedom\u001b[39m\n",
      "\u001b[1m\u001b[33mWARNING: \u001b[39m\u001b[22m\u001b[33mNot solved to optimality, status: Error\u001b[39m\n"
     ]
    },
    {
     "data": {
      "text/plain": [
       ":Error"
      ]
     },
     "execution_count": 84,
     "metadata": {},
     "output_type": "execute_result"
    }
   ],
   "source": [
    "solve(m)"
   ]
  },
  {
   "cell_type": "code",
   "execution_count": null,
   "metadata": {
    "collapsed": true
   },
   "outputs": [],
   "source": []
  }
 ],
 "metadata": {
  "kernelspec": {
   "display_name": "Julia 0.6.0",
   "language": "julia",
   "name": "julia-0.6"
  },
  "language_info": {
   "file_extension": ".jl",
   "mimetype": "application/julia",
   "name": "julia",
   "version": "0.6.0"
  }
 },
 "nbformat": 4,
 "nbformat_minor": 2
}
