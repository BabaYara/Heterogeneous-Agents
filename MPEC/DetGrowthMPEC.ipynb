{
 "cells": [
  {
   "cell_type": "markdown",
   "metadata": {},
   "source": [
    "This notebook solves a household problem in a deterministic growth economy using a MPEC method.\n",
    "Model\n",
    "--\n",
    "The household chooses its consumption and savings while being constraint by its budget set. Saved capital is used for production next period. Produced goods and leftover capital are returned to the household.\n",
    "\n",
    "The sequence problem:\n",
    "$$\\underset{ \\left(c_t, k_{t+1}\\right)_{t=0}^\\infty } {max} \\sum_{t=0}^\\infty \\beta^t \\, u( c_t )$$\n",
    "s.t.\n",
    "$$k_{t+1} = f(k_t) + (1-\\delta) k_t - c_t \\quad \\forall t$$\n",
    "$$k_0 \\, \\text{given}$$\n",
    "\n",
    "can be written recursively as:\n",
    "\n",
    "$$V(k) = \\underset{ c } {max} \\, u( c ) + \\beta \\, V \\big( f(k) + (1-\\delta) k -c \\big)$$\n",
    "The solution of this Bellman equation is a policy function $c(k)$ for consumption."
   ]
  },
  {
   "cell_type": "markdown",
   "metadata": {},
   "source": [
    "Using the first-order condition and the envelope theorem yields:\n",
    "$$u'(c(k))=\\beta \\, u'\\Big( c\\big( f(k) +(1- \\delta)k- c(k)\\big) \\Big) \\, \\Big( f'\\big(f(k) +(1- \\delta)k - c(k) \\big) + (1-\\delta) \\Big)\\quad\\forall k$$\n"
   ]
  },
  {
   "cell_type": "markdown",
   "metadata": {},
   "source": [
    "Numerical Method\n",
    "--\n"
   ]
  },
  {
   "cell_type": "markdown",
   "metadata": {},
   "source": [
    "## Collocation Method and Simulation"
   ]
  },
  {
   "cell_type": "code",
   "execution_count": 1,
   "metadata": {
    "collapsed": true
   },
   "outputs": [],
   "source": [
    "using Parameters\n",
    "using BasisMatrices\n",
    "using LaTeXStrings\n",
    "using Plots; pyplot();"
   ]
  },
  {
   "cell_type": "code",
   "execution_count": 2,
   "metadata": {},
   "outputs": [
    {
     "data": {
      "text/plain": [
       "u_crra_prime_inv (generic function with 1 method)"
      ]
     },
     "execution_count": 2,
     "metadata": {},
     "output_type": "execute_result"
    }
   ],
   "source": [
    "@with_kw immutable GrowthModel\n",
    "    β::Float64                           # discount factor\n",
    "    δ::Float64                           # depreciation of capital\n",
    "    α::Float64                           # capital share\n",
    "    A::Float64                           # productivity\n",
    "    γ::Float64                           # RRA\n",
    "end\n",
    "\n",
    "model = GrowthModel(β = 0.95, δ = 0.05, α = 0.3, A = 1, γ = 2)\n",
    "\n",
    "function steady_state_k(model::GrowthModel)\n",
    "    @unpack β, α, A, δ = model\n",
    "    ((1/β-(1-δ))/(A*α))^(1/(α-1))\n",
    "end\n",
    "\n",
    "function f(model::GrowthModel, k)\n",
    "    @unpack α, A, δ = model\n",
    "    A*k.^α\n",
    "end\n",
    "\n",
    "function f_prime(model::GrowthModel, k)\n",
    "    @unpack α, A, δ = model\n",
    "    A*α*k.^(α-1)\n",
    "end\n",
    "\n",
    "u_crra_prime(c, γ) = c.^-γ\n",
    "u_crra_prime_inv(u, γ) = u.^(-1/γ)"
   ]
  },
  {
   "cell_type": "code",
   "execution_count": 3,
   "metadata": {},
   "outputs": [
    {
     "data": {
      "text/html": [
       "4.628988089138438"
      ],
      "text/plain": [
       "4.628988089138438"
      ]
     },
     "execution_count": 3,
     "metadata": {},
     "output_type": "execute_result"
    }
   ],
   "source": [
    "k_stst = steady_state_k(model)"
   ]
  },
  {
   "cell_type": "code",
   "execution_count": 4,
   "metadata": {},
   "outputs": [
    {
     "data": {
      "text/plain": [
       "solve_and_simulate (generic function with 1 method)"
      ]
     },
     "execution_count": 4,
     "metadata": {},
     "output_type": "execute_result"
    }
   ],
   "source": [
    "function solve_and_simulate(model, N; k0=1.)\n",
    "    @unpack β, α, A, δ, γ = model\n",
    "    \n",
    "    #solve\n",
    "\n",
    "    k_stst = steady_state_k(model)\n",
    "\n",
    "    basis = Basis(ChebParams(10, 0.2*k_stst, 2*k_stst))\n",
    "\n",
    "    Ψ = BasisMatrix(basis, Expanded()).vals[1]\n",
    "    K = nodes(basis)[1]\n",
    "\n",
    "    a = [1, 0, 0, 0, 0, 0, 0, 0, 0, 0]\n",
    "    a_old = zeros(a)\n",
    "    \n",
    "    stop = false\n",
    "    \n",
    "    @time while !stop\n",
    "\n",
    "        a_old = a\n",
    "    \n",
    "        Y = u_crra_prime_inv(β*u_crra_prime(BasisMatrix(basis, Expanded(), f(model,K) + (1-δ)*K - Ψ*a).vals[1]*a, γ) .* \n",
    "                (f_prime(model, f(model,K) + (1-δ)*K - Ψ*a) + 1-δ), γ)\n",
    "\n",
    "        a = Ψ \\ Y\n",
    "\n",
    "        if maximum(abs.(u_crra_prime(Y, γ)./u_crra_prime(Ψ*a_old, γ) - 1)) < 1e-10\n",
    "            stop = true\n",
    "        end\n",
    "    end\n",
    "    \n",
    "    #simulate\n",
    "    simK = zeros(N)\n",
    "    simC = zeros(N)\n",
    "    \n",
    "    simK[1] = k0\n",
    "    \n",
    "    \n",
    "    for t in 1:N-1\n",
    "        simC[t] = (BasisMatrix(basis, Expanded(), [simK[t]]).vals[1] * a)[1]\n",
    "        simK[t+1] = f(model,simK[t]) + (1-δ)*simK[t] - simC[t]\n",
    "    end\n",
    "    \n",
    "    simC[N] = (BasisMatrix(basis, Expanded(), [simK[N]]).vals[1] * a)[1]\n",
    "    \n",
    "    return (simK, simC, a)\n",
    "end\n"
   ]
  },
  {
   "cell_type": "code",
   "execution_count": 5,
   "metadata": {},
   "outputs": [
    {
     "name": "stdout",
     "output_type": "stream",
     "text": [
      "  0.049377 seconds (10.03 k allocations: 1.933 MiB)\n"
     ]
    },
    {
     "data": {
      "text/plain": [
       "10-element Array{Float64,1}:\n",
       "  1.35054    \n",
       "  0.544286   \n",
       " -0.0634735  \n",
       "  0.0167686  \n",
       " -0.00554682 \n",
       "  0.00203287 \n",
       " -0.000791507\n",
       "  0.000351972\n",
       " -0.000172349\n",
       "  5.71702e-5 "
      ]
     },
     "execution_count": 5,
     "metadata": {},
     "output_type": "execute_result"
    }
   ],
   "source": [
    "(dataK, dataC, true_coeff) = solve_and_simulate(model, 100; k0=1.);\n",
    "true_coeff"
   ]
  },
  {
   "cell_type": "code",
   "execution_count": 6,
   "metadata": {},
   "outputs": [
    {
     "data": {
      "text/html": [
       "<img src=\"data:image/png;base64,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\" />"
      ]
     },
     "execution_count": 6,
     "metadata": {},
     "output_type": "execute_result"
    }
   ],
   "source": [
    "plot(dataK, label=\"capital\")\n",
    "plot!(dataC, label=\"consumption\")"
   ]
  },
  {
   "cell_type": "markdown",
   "metadata": {},
   "source": [
    "## MPEC"
   ]
  },
  {
   "cell_type": "code",
   "execution_count": 7,
   "metadata": {
    "collapsed": true
   },
   "outputs": [],
   "source": [
    "using JuMP\n",
    "using Ipopt"
   ]
  },
  {
   "cell_type": "code",
   "execution_count": 8,
   "metadata": {},
   "outputs": [
    {
     "data": {
      "text/plain": [
       "f_prime (generic function with 2 methods)"
      ]
     },
     "execution_count": 8,
     "metadata": {},
     "output_type": "execute_result"
    }
   ],
   "source": [
    "function f(k, α, A)\n",
    "    A*k^α\n",
    "end\n",
    "\n",
    "function f_prime(k, α, A)\n",
    "    A*α*k^(α-1)\n",
    "end"
   ]
  },
  {
   "cell_type": "code",
   "execution_count": 9,
   "metadata": {},
   "outputs": [
    {
     "data": {
      "text/plain": [
       "1 dimensional Basis on the hypercube formed by (0.9257976178276875,) × (9.257976178276875,).\n",
       "Basis families are Cheb\n"
      ]
     },
     "execution_count": 9,
     "metadata": {},
     "output_type": "execute_result"
    }
   ],
   "source": [
    "basis = Basis(ChebParams(10, 0.2*k_stst, 2*k_stst))"
   ]
  },
  {
   "cell_type": "code",
   "execution_count": 10,
   "metadata": {},
   "outputs": [],
   "source": [
    "K = nodes(basis)[1]\n",
    "Ψ = BasisMatrix(basis, Expanded(), K).vals[1];"
   ]
  },
  {
   "cell_type": "markdown",
   "metadata": {},
   "source": [
    "### Variante A\n",
    "\n",
    "EE on a grid as a constraint is problematic since next period's capital is a function of deep parameters!"
   ]
  },
  {
   "cell_type": "code",
   "execution_count": 11,
   "metadata": {},
   "outputs": [],
   "source": [
    "m = Model(solver=IpoptSolver(print_level=5))\n",
    "\n",
    "@variable(m, β, start = 1)\n",
    "@variable(m, δ, start = 1)\n",
    "@variable(m, α, start = 1)\n",
    "@variable(m, A, start = 1)\n",
    "@variable(m, γ, start = 1)\n",
    "\n",
    "@variable(m, coeff[1:10], start = 0)\n",
    "setvalue(coeff[1], 1)\n",
    "\n",
    "Φ = BasisMatrix(basis, Expanded(), dataK).vals[1]\n",
    "@variable(m, C[1:100] >= 0.0001, start = 1)\n",
    "@NLconstraint(m, consumption[t=1:100], C[t] == sum(Φ[t, k] * coeff[k] for k in 1:10))\n",
    "\n",
    "JuMP.register(m, :u_crra_prime, 2, u_crra_prime, autodiff=true)\n",
    "JuMP.register(m, :f, 3, f, autodiff=true)\n",
    "JuMP.register(m, :f_prime, 3, f_prime, autodiff=true)"
   ]
  },
  {
   "cell_type": "code",
   "execution_count": 17,
   "metadata": {},
   "outputs": [],
   "source": [
    "Φ = BasisMatrix(basis, Expanded(), dataK).vals[1]\n",
    "\n",
    "@NLconstraint(m, EEerror[t=1:10], u_crra_prime(C[t], γ) ==\n",
    "    β * u_crra_prime(C[t+1], γ) * (f_prime(dataK[t+1], α, A) + 1-δ));"
   ]
  },
  {
   "cell_type": "code",
   "execution_count": 18,
   "metadata": {
    "collapsed": true
   },
   "outputs": [],
   "source": [
    "@NLobjective(m, Min, sum((dataC[t] - C[t]) * (dataC[t] - C[t]) for t in 1:99))"
   ]
  },
  {
   "cell_type": "code",
   "execution_count": null,
   "metadata": {
    "scrolled": true
   },
   "outputs": [],
   "source": [
    "solve(m)"
   ]
  },
  {
   "cell_type": "code",
   "execution_count": 169,
   "metadata": {},
   "outputs": [
    {
     "data": {
      "text/plain": [
       "5-element Array{Float64,1}:\n",
       " 1.0\n",
       " 1.0\n",
       " 1.0\n",
       " 1.0\n",
       " 1.0"
      ]
     },
     "execution_count": 169,
     "metadata": {},
     "output_type": "execute_result"
    }
   ],
   "source": [
    "[getvalue(β), getvalue(δ), getvalue(α), getvalue(A), getvalue(γ)]"
   ]
  },
  {
   "cell_type": "code",
   "execution_count": 171,
   "metadata": {},
   "outputs": [
    {
     "data": {
      "text/plain": [
       "10-element Array{Float64,1}:\n",
       " -0.236641  \n",
       " -0.400241  \n",
       " -0.224628  \n",
       " -0.0423633 \n",
       "  0.0688837 \n",
       "  0.0936393 \n",
       "  0.0666997 \n",
       "  0.0312546 \n",
       "  0.0093832 \n",
       "  0.00144545"
      ]
     },
     "execution_count": 171,
     "metadata": {},
     "output_type": "execute_result"
    }
   ],
   "source": [
    "getvalue(coeff) - true_coeff"
   ]
  },
  {
   "cell_type": "code",
   "execution_count": 172,
   "metadata": {},
   "outputs": [
    {
     "data": {
      "text/plain": [
       "100-element Array{Float64,1}:\n",
       " -2.9577e-6 \n",
       "  9.89924e-6\n",
       " -5.17692e-6\n",
       " -8.13435e-6\n",
       " -1.67402e-6\n",
       "  4.95815e-6\n",
       "  7.09419e-6\n",
       "  4.85439e-6\n",
       "  5.49236e-7\n",
       " -3.46285e-6\n",
       " -5.76326e-6\n",
       " -5.9857e-6 \n",
       " -4.50667e-6\n",
       "  ⋮         \n",
       " -1.60805e-6\n",
       " -1.64682e-6\n",
       " -1.68292e-6\n",
       " -1.71654e-6\n",
       " -1.74782e-6\n",
       " -1.77693e-6\n",
       " -1.804e-6  \n",
       " -1.82918e-6\n",
       " -1.85258e-6\n",
       " -1.87433e-6\n",
       " -1.89455e-6\n",
       " -1.91332e-6"
      ]
     },
     "execution_count": 172,
     "metadata": {},
     "output_type": "execute_result"
    }
   ],
   "source": [
    "getvalue(C) - dataC"
   ]
  },
  {
   "cell_type": "markdown",
   "metadata": {},
   "source": [
    "### Variante B\n",
    "use 10 EE as constraints and gap between predition and data as objective function!\n",
    "makes more sense in order to target moments of data more easily"
   ]
  },
  {
   "cell_type": "code",
   "execution_count": 13,
   "metadata": {},
   "outputs": [],
   "source": [
    "m = Model(solver=IpoptSolver(print_level=5))\n",
    "\n",
    "@variable(m, β, start = 1)\n",
    "@variable(m, δ, start = 1)\n",
    "@variable(m, α, start = 1)\n",
    "@variable(m, A, start = 1)\n",
    "@variable(m, γ, start = 1)\n",
    "\n",
    "@variable(m, coeff[1:10], start = 0)\n",
    "setvalue(coeff[1], 1)\n",
    "\n",
    "JuMP.register(m, :u_crra_prime, 2, u_crra_prime, autodiff=true)\n",
    "JuMP.register(m, :f, 3, f, autodiff=true)\n",
    "JuMP.register(m, :f_prime, 3, f_prime, autodiff=true)"
   ]
  },
  {
   "cell_type": "code",
   "execution_count": 12,
   "metadata": {},
   "outputs": [
    {
     "ename": "LoadError",
     "evalue": "\u001b[91mUndefVarError: a not defined\u001b[39m",
     "output_type": "error",
     "traceback": [
      "\u001b[91mUndefVarError: a not defined\u001b[39m",
      "",
      "Stacktrace:",
      " [1] \u001b[1minclude_string\u001b[22m\u001b[22m\u001b[1m(\u001b[22m\u001b[22m::String, ::String\u001b[1m)\u001b[22m\u001b[22m at \u001b[1m.\\loading.jl:515\u001b[22m\u001b[22m"
     ]
    }
   ],
   "source": [
    "## use\n",
    "sum(Ψ[i, k] * coeff[k] for k in 1:10) = u_crra_prime_inv(β*u_crra_prime(BasisMatrix(basis, Expanded(), f(model,K) + (1-δ)*K - Ψ*a).vals[1]*a, γ) .* \n",
    "                (f_prime(model, f(model,K) + (1-δ)*K - Ψ*a) + 1-δ), γ)\n",
    "\n",
    "        \n",
    "\n",
    "@NLconstraint(m, LOM[t=1:99], dataK[t+1] == f(dataK[t], α, A) + (1-δ)*dataK[t] - dataC[t]);"
   ]
  },
  {
   "cell_type": "code",
   "execution_count": 82,
   "metadata": {},
   "outputs": [],
   "source": [
    "Φ = BasisMatrix(basis, Expanded(), dataK).vals[1]\n",
    "\n",
    "@NLconstraint(m, equation[t=1:99], EEerror[t] == u_crra_prime(dataC[t], γ) -\n",
    "    β * u_crra_prime(sum(Φ[t, k] * a[k] for k in 1:10), γ) * (f_prime(dataK[t+1], α, A) + 1-δ));"
   ]
  },
  {
   "cell_type": "code",
   "execution_count": 83,
   "metadata": {},
   "outputs": [],
   "source": [
    "@NLobjective(m, Min, sum(EEerror[t] * EEerror[t] for t in 1:99))"
   ]
  },
  {
   "cell_type": "code",
   "execution_count": 84,
   "metadata": {},
   "outputs": [
    {
     "name": "stdout",
     "output_type": "stream",
     "text": [
      "This is Ipopt version 3.12.2, running with linear solver mumps.\n",
      "NOTE: Other linear solvers might be more efficient (see Ipopt documentation).\n",
      "\n",
      "Number of nonzeros in equality constraint Jacobian...:      891\n",
      "Number of nonzeros in inequality constraint Jacobian.:        0\n",
      "Number of nonzeros in Lagrangian Hessian.............:        0\n",
      "\n",
      "Exception of type: TOO_FEW_DOF in file \"IpIpoptApplication.cpp\" at line 887:\n",
      " Exception message: status != TOO_FEW_DEGREES_OF_FREEDOM evaluated false: Too few degrees of freedom (rethrown)!\n",
      "\n",
      "EXIT: Problem has too few degrees of freedom.\n"
     ]
    },
    {
     "name": "stderr",
     "output_type": "stream",
     "text": [
      "\u001b[1m\u001b[33mWARNING: \u001b[39m\u001b[22m\u001b[33mIpopt finished with status Not_Enough_Degrees_Of_Freedom\u001b[39m\n",
      "\u001b[1m\u001b[33mWARNING: \u001b[39m\u001b[22m\u001b[33mNot solved to optimality, status: Error\u001b[39m\n"
     ]
    },
    {
     "data": {
      "text/plain": [
       ":Error"
      ]
     },
     "execution_count": 84,
     "metadata": {},
     "output_type": "execute_result"
    }
   ],
   "source": [
    "solve(m)"
   ]
  },
  {
   "cell_type": "code",
   "execution_count": null,
   "metadata": {
    "collapsed": true
   },
   "outputs": [],
   "source": []
  }
 ],
 "metadata": {
  "kernelspec": {
   "display_name": "Julia 0.6.0",
   "language": "julia",
   "name": "julia-0.6"
  },
  "language_info": {
   "file_extension": ".jl",
   "mimetype": "application/julia",
   "name": "julia",
   "version": "0.6.0"
  }
 },
 "nbformat": 4,
 "nbformat_minor": 2
}
