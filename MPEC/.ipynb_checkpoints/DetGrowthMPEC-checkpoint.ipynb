{
 "cells": [
  {
   "cell_type": "markdown",
   "metadata": {},
   "source": [
    "This notebook solves a household problem in a deterministic growth economy using a MPEC method.\n",
    "Model\n",
    "--\n",
    "The household chooses its consumption and savings while being constraint by its budget set. Saved capital is used for production next period. Produced goods and leftover capital are returned to the household.\n",
    "\n",
    "The sequence problem:\n",
    "$$\\underset{ \\left(c_t, k_{t+1}\\right)_{t=0}^\\infty } {max} \\sum_{t=0}^\\infty \\beta^t \\, u( c_t )$$\n",
    "s.t.\n",
    "$$k_{t+1} = f(k_t) + (1-\\delta) k_t - c_t \\quad \\forall t$$\n",
    "$$k_0 \\, \\text{given}$$\n",
    "\n",
    "can be written recursively as:\n",
    "\n",
    "$$V(k) = \\underset{ c } {max} \\, u( c ) + \\beta \\, V \\big( f(k) + (1-\\delta) k -c \\big)$$\n",
    "The solution of this Bellman equation is a policy function $c(k)$ for consumption."
   ]
  },
  {
   "cell_type": "markdown",
   "metadata": {},
   "source": [
    "Using the first-order condition and the envelope theorem yields:\n",
    "$$u'\\Big(\\Psi(k) \\cdot \\theta\\Big) =\\beta \\, u'\\Big( \\Psi \\big( f(k) +(1- \\delta)k- \\Psi(k) \\cdot \\theta\\big)\\cdot \\theta \\Big)  \\, \\Big( f'\\big(f(k) +(1- \\delta)k - \\Psi(k) \\cdot \\theta \\big) + (1-\\delta) \\Big)\\quad\\forall k$$\n"
   ]
  },
  {
   "cell_type": "markdown",
   "metadata": {},
   "source": [
    "Numerical Method\n",
    "--\n"
   ]
  },
  {
   "cell_type": "markdown",
   "metadata": {},
   "source": [
    "## Collocation Method and Simulation"
   ]
  },
  {
   "cell_type": "code",
   "execution_count": 1,
   "metadata": {},
   "outputs": [],
   "source": [
    "using Parameters\n",
    "using BasisMatrices\n",
    "using LaTeXStrings\n",
    "using Plots; pyplot();"
   ]
  },
  {
   "cell_type": "code",
   "execution_count": 2,
   "metadata": {},
   "outputs": [
    {
     "data": {
      "text/plain": [
       "u_crra_prime_inv (generic function with 1 method)"
      ]
     },
     "execution_count": 2,
     "metadata": {},
     "output_type": "execute_result"
    }
   ],
   "source": [
    "@with_kw immutable GrowthModel\n",
    "    β::Float64                           # discount factor\n",
    "    δ::Float64                           # depreciation of capital\n",
    "    α::Float64                           # capital share\n",
    "    A::Float64                           # productivity\n",
    "    γ::Float64                           # RRA\n",
    "end\n",
    "\n",
    "model = GrowthModel(β = 0.95, δ = 0.05, α = 0.3, A = 1, γ = 2)\n",
    "\n",
    "function steady_state_k(model::GrowthModel)\n",
    "    @unpack β, α, A, δ = model\n",
    "    ((1/β-(1-δ))/(A*α))^(1/(α-1))\n",
    "end\n",
    "\n",
    "function f(model::GrowthModel, k)\n",
    "    @unpack α, A, δ = model\n",
    "    A*k.^α\n",
    "end\n",
    "\n",
    "function f_prime(model::GrowthModel, k)\n",
    "    @unpack α, A, δ = model\n",
    "    A*α*k.^(α-1)\n",
    "end\n",
    "\n",
    "u_crra_prime(c, γ) = c.^-γ\n",
    "u_crra_prime_inv(u, γ) = u.^(-1/γ)"
   ]
  },
  {
   "cell_type": "code",
   "execution_count": 3,
   "metadata": {},
   "outputs": [
    {
     "data": {
      "text/html": [
       "4.628988089138438"
      ],
      "text/plain": [
       "4.628988089138438"
      ]
     },
     "execution_count": 3,
     "metadata": {},
     "output_type": "execute_result"
    }
   ],
   "source": [
    "k_stst = steady_state_k(model)"
   ]
  },
  {
   "cell_type": "code",
   "execution_count": 4,
   "metadata": {},
   "outputs": [
    {
     "data": {
      "text/plain": [
       "solve_and_simulate (generic function with 1 method)"
      ]
     },
     "execution_count": 4,
     "metadata": {},
     "output_type": "execute_result"
    }
   ],
   "source": [
    "function solve_and_simulate(model, N; k0=1.)\n",
    "    @unpack β, α, A, δ, γ = model\n",
    "    \n",
    "    #solve\n",
    "\n",
    "    k_stst = steady_state_k(model)\n",
    "\n",
    "    basis = Basis(ChebParams(10, 0.2*k_stst, 2*k_stst))\n",
    "\n",
    "    Ψ = BasisMatrix(basis, Expanded()).vals[1]\n",
    "    K = nodes(basis)[1]\n",
    "\n",
    "    a = [1, 0, 0, 0, 0, 0, 0, 0, 0, 0]\n",
    "    a_old = zeros(a)\n",
    "    \n",
    "    stop = false\n",
    "    \n",
    "    @time while !stop\n",
    "\n",
    "        a_old = a\n",
    "    \n",
    "        Y = u_crra_prime_inv(β*u_crra_prime(BasisMatrix(basis, Expanded(), f(model,K) + (1-δ)*K - Ψ*a).vals[1]*a, γ) .* \n",
    "                (f_prime(model, f(model,K) + (1-δ)*K - Ψ*a) + 1-δ), γ)\n",
    "\n",
    "        a = Ψ \\ Y\n",
    "\n",
    "        if maximum(abs.(u_crra_prime(Y, γ)./u_crra_prime(Ψ*a_old, γ) - 1)) < 1e-10\n",
    "            stop = true\n",
    "        end\n",
    "    end\n",
    "    \n",
    "    #simulate\n",
    "    simK = zeros(N)\n",
    "    simC = zeros(N)\n",
    "    \n",
    "    simK[1] = k0\n",
    "    \n",
    "    \n",
    "    for t in 1:N-1\n",
    "        simC[t] = (BasisMatrix(basis, Expanded(), [simK[t]]).vals[1] * a)[1]\n",
    "        simK[t+1] = f(model,simK[t]) + (1-δ)*simK[t] - simC[t]\n",
    "    end\n",
    "    \n",
    "    simC[N] = (BasisMatrix(basis, Expanded(), [simK[N]]).vals[1] * a)[1]\n",
    "    \n",
    "    return (simK, simC, a)\n",
    "end\n"
   ]
  },
  {
   "cell_type": "code",
   "execution_count": 5,
   "metadata": {},
   "outputs": [
    {
     "name": "stdout",
     "output_type": "stream",
     "text": [
      "  0.099623 seconds (10.03 k allocations: 1.933 MiB)\n"
     ]
    },
    {
     "data": {
      "text/plain": [
       "10-element Array{Float64,1}:\n",
       "  1.35054    \n",
       "  0.544286   \n",
       " -0.0634735  \n",
       "  0.0167686  \n",
       " -0.00554682 \n",
       "  0.00203287 \n",
       " -0.000791507\n",
       "  0.000351972\n",
       " -0.000172349\n",
       "  5.71702e-5 "
      ]
     },
     "execution_count": 5,
     "metadata": {},
     "output_type": "execute_result"
    }
   ],
   "source": [
    "(dataK, dataC, true_coeff) = solve_and_simulate(model, 100; k0=1.);\n",
    "true_coeff"
   ]
  },
  {
   "cell_type": "code",
   "execution_count": 6,
   "metadata": {},
   "outputs": [
    {
     "data": {
      "text/html": [
       "<img src=\"data:image/png;base64,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\" />"
      ]
     },
     "execution_count": 6,
     "metadata": {},
     "output_type": "execute_result"
    }
   ],
   "source": [
    "plot(dataK, label=\"capital\")\n",
    "plot!(dataC, label=\"consumption\")"
   ]
  },
  {
   "cell_type": "code",
   "execution_count": 7,
   "metadata": {},
   "outputs": [
    {
     "data": {
      "text/plain": [
       "10-element Array{Float64,1}:\n",
       " 1.19027\n",
       " 1.58223\n",
       " 2.31211\n",
       " 3.30116\n",
       " 4.45398\n",
       " 5.66037\n",
       " 6.80466\n",
       " 7.77679\n",
       " 8.48254\n",
       " 8.85344"
      ]
     },
     "execution_count": 7,
     "metadata": {},
     "output_type": "execute_result"
    }
   ],
   "source": [
    "basis = Basis(ChebParams(10, 0.2*k_stst, 2*k_stst))\n",
    "K = nodes(basis)[1]\n",
    "Ψ = BasisMatrix(basis, Expanded()).vals[1]\n",
    "f(model,K) + (1-model.δ)*K - Ψ * true_coeff"
   ]
  },
  {
   "cell_type": "markdown",
   "metadata": {},
   "source": [
    "## MPEC"
   ]
  },
  {
   "cell_type": "code",
   "execution_count": 8,
   "metadata": {},
   "outputs": [],
   "source": [
    "using JuMP\n",
    "using Ipopt"
   ]
  },
  {
   "cell_type": "code",
   "execution_count": 9,
   "metadata": {},
   "outputs": [
    {
     "data": {
      "text/plain": [
       "f_prime (generic function with 2 methods)"
      ]
     },
     "execution_count": 9,
     "metadata": {},
     "output_type": "execute_result"
    }
   ],
   "source": [
    "function f(k, α, A)\n",
    "    A*k^α\n",
    "end\n",
    "\n",
    "function f_prime(k, α, A)\n",
    "    A*α*k^(α-1)\n",
    "end"
   ]
  },
  {
   "cell_type": "code",
   "execution_count": 10,
   "metadata": {},
   "outputs": [
    {
     "data": {
      "text/plain": [
       "1 dimensional Basis on the hypercube formed by (0.9257976178276875,) × (9.257976178276875,).\n",
       "Basis families are Cheb\n"
      ]
     },
     "execution_count": 10,
     "metadata": {},
     "output_type": "execute_result"
    }
   ],
   "source": [
    "basis = Basis(ChebParams(10, 0.2*k_stst, 2*k_stst))"
   ]
  },
  {
   "cell_type": "code",
   "execution_count": 11,
   "metadata": {},
   "outputs": [],
   "source": [
    "K = nodes(basis)[1]\n",
    "Ψ = BasisMatrix(basis, Expanded(), K).vals[1];"
   ]
  },
  {
   "cell_type": "markdown",
   "metadata": {},
   "source": [
    "### Variante A\n",
    "\n",
    "EE on a grid as a constraint is problematic since next period's capital is a function of deep parameters!\n",
    "filling in realized consumption next period is infeasible (or maybe some form of rational expectations?!) in stochastic models!"
   ]
  },
  {
   "cell_type": "code",
   "execution_count": 12,
   "metadata": {},
   "outputs": [],
   "source": [
    "m = Model(solver=IpoptSolver(print_level=5, max_iter = 115))\n",
    "\n",
    "@variable(m, β, start = 1)\n",
    "@variable(m, δ, start = 1)\n",
    "@variable(m, α, start = 0.6)\n",
    "@variable(m, A, start = 1)\n",
    "@variable(m, γ, start = 1)\n",
    "\n",
    "@variable(m, coeff[1:10], start = 0)\n",
    "setvalue(coeff[1], 1)\n",
    "\n",
    "@variable(m, predictedK[2:100], start = 1)\n",
    "@variable(m, predictedC[1:100], start = 1)\n",
    "@variable(m, EEerror[1:99])\n",
    "\n",
    "JuMP.register(m, :u_crra_prime, 2, u_crra_prime, autodiff=true)\n",
    "JuMP.register(m, :f, 3, f, autodiff=true)\n",
    "JuMP.register(m, :f_prime, 3, f_prime, autodiff=true)\n",
    "\n",
    "Φ = BasisMatrix(basis, Expanded(), dataK).vals[1];"
   ]
  },
  {
   "cell_type": "code",
   "execution_count": 13,
   "metadata": {},
   "outputs": [],
   "source": [
    "@NLconstraint(m, LOM[t=2:100], predictedK[t] == f(dataK[t-1], α, A) + (1-δ)*dataK[t-1] - dataC[t-1]);\n",
    "@NLconstraint(m, consumption[t=1:100], predictedC[t] == sum(Φ[t, k] * coeff[k] for k in 1:10))\n",
    "\n",
    "@NLconstraint(m, fixedpoint[t=1:99], EEerror[t] == u_crra_prime(predictedC[t], γ) -\n",
    "    β * u_crra_prime(dataC[t+1], γ) * (f_prime(predictedK[t+1], α, A) + 1-δ));"
   ]
  },
  {
   "cell_type": "code",
   "execution_count": 14,
   "metadata": {},
   "outputs": [],
   "source": [
    "@NLobjective(m, Min, sum((dataC[t] - predictedC[t])^2 for t in 1:100) + \n",
    "    sum((dataK[t] - predictedK[t])^2 for t in 2:100) + sum(EEerror[t]^2 for t in 1:99))"
   ]
  },
  {
   "cell_type": "code",
   "execution_count": 15,
   "metadata": {
    "scrolled": true
   },
   "outputs": [
    {
     "name": "stdout",
     "output_type": "stream",
     "text": [
      "\n",
      "******************************************************************************\n",
      "This program contains Ipopt, a library for large-scale nonlinear optimization.\n",
      " Ipopt is released as open source code under the Eclipse Public License (EPL).\n",
      "         For more information visit http://projects.coin-or.org/Ipopt\n",
      "******************************************************************************\n",
      "\n",
      "This is Ipopt version 3.12.1, running with linear solver mumps.\n",
      "NOTE: Other linear solvers might be more efficient (see Ipopt documentation).\n",
      "\n",
      "Number of nonzeros in equality constraint Jacobian...:     2288\n",
      "Number of nonzeros in inequality constraint Jacobian.:        0\n",
      "Number of nonzeros in Lagrangian Hessian.............:        0\n",
      "\n",
      "Total number of variables............................:      313\n",
      "                     variables with only lower bounds:        0\n",
      "                variables with lower and upper bounds:        0\n",
      "                     variables with only upper bounds:        0\n",
      "Total number of equality constraints.................:      298\n",
      "Total number of inequality constraints...............:        0\n",
      "        inequality constraints with only lower bounds:        0\n",
      "   inequality constraints with lower and upper bounds:        0\n",
      "        inequality constraints with only upper bounds:        0\n",
      "\n",
      "iter    objective    inf_pr   inf_du lg(mu)  ||d||  lg(rg) alpha_du alpha_pr  ls\n",
      "   0  1.0420591e+03 7.37e-01 7.24e+00   0.0 0.00e+00    -  0.00e+00 0.00e+00   0\n",
      "   1  1.0404834e+03 2.75e+00 8.40e+00 -11.0 7.23e+00    -  1.00e+00 1.00e+00f  1\n",
      "   2  4.6943390e-01 1.19e+00 7.23e-01 -11.0 3.63e+00    -  1.00e+00 1.00e+00f  1\n",
      "   3  1.7764636e-01 1.80e-01 7.33e-01 -11.0 2.26e-01    -  1.00e+00 1.00e+00h  1\n",
      "   4  7.4315647e-02 9.23e-02 4.16e-01 -11.0 2.20e-01    -  1.00e+00 1.00e+00h  1\n",
      "   5  1.7205362e-02 1.17e-01 1.38e-01 -11.0 1.97e-01    -  1.00e+00 1.00e+00h  1\n",
      "   6  1.0629804e-02 1.60e-01 1.43e-01 -11.0 5.92e-01    -  1.00e+00 2.50e-01h  3\n",
      "   7  2.1228932e-03 8.98e-03 1.16e-01 -11.0 6.82e-02    -  1.00e+00 1.00e+00h  1\n",
      "   8  1.4035773e-03 6.20e-03 1.32e-02 -11.0 5.36e-02    -  1.00e+00 1.00e+00h  1\n",
      "   9  7.8591898e-04 7.11e-04 3.86e-03 -11.0 1.58e-02    -  1.00e+00 1.00e+00h  1\n",
      "iter    objective    inf_pr   inf_du lg(mu)  ||d||  lg(rg) alpha_du alpha_pr  ls\n",
      "  10  7.4178296e-04 7.64e-06 5.04e-03 -11.0 3.78e-03    -  1.00e+00 1.00e+00h  1\n",
      "  11  6.3735198e-04 2.27e-04 8.68e-03 -11.0 3.08e-02    -  1.00e+00 1.00e+00h  1\n",
      "  12  6.3496988e-04 4.20e-04 9.98e-03 -11.0 4.91e-02    -  1.00e+00 1.00e+00h  1\n",
      "  13  1.2516970e-03 2.36e-05 3.81e-02 -11.0 2.62e-02    -  1.00e+00 1.00e+00H  1\n",
      "  14  4.9683481e-04 5.87e-04 2.31e-03 -11.0 3.88e-02    -  1.00e+00 1.00e+00h  1\n",
      "  15  4.6023954e-04 2.11e-05 2.17e-03 -11.0 1.42e-02    -  1.00e+00 1.00e+00h  1\n",
      "  16  3.3981264e-04 7.90e-04 8.07e-03 -11.0 3.78e+00    -  1.00e+00 3.12e-02h  6\n",
      "  17  2.7212081e-04 9.39e-04 8.75e-03 -11.0 3.95e+00    -  1.00e+00 3.12e-02h  6\n",
      "  18  1.3777483e-03 4.53e-06 3.88e-02 -11.0 2.65e-01    -  1.00e+00 1.00e+00H  1\n",
      "  19  6.8368611e-03 3.65e-07 3.11e-02 -11.0 1.72e-01    -  1.00e+00 1.00e+00H  1\n",
      "iter    objective    inf_pr   inf_du lg(mu)  ||d||  lg(rg) alpha_du alpha_pr  ls\n",
      "  20  1.0287566e-03 1.12e-06 3.44e-02 -11.0 2.85e-01    -  1.00e+00 1.00e+00F  1\n",
      "  21  9.9690852e-04 1.01e-06 3.39e-02 -11.0 9.68e-02    -  1.00e+00 7.81e-03h  8\n",
      "  22  2.3761989e-04 3.05e-03 8.80e-03 -11.0 7.22e-02    -  1.00e+00 5.00e-01h  2\n",
      "  23  3.3978396e-05 1.53e-03 4.49e-03 -11.0 4.06e-02    -  1.00e+00 5.00e-01h  2\n",
      "  24  1.3751376e-05 5.44e-05 4.33e-03 -11.0 6.08e-03    -  1.00e+00 1.00e+00h  1\n",
      "  25  8.7006458e-06 1.06e-05 1.50e-03 -11.0 2.91e-03    -  1.00e+00 1.00e+00h  1\n",
      "  26  6.6466703e-06 4.08e-06 1.38e-04 -11.0 2.01e-03    -  1.00e+00 1.00e+00h  1\n",
      "  27  6.4570863e-06 7.95e-08 1.16e-04 -11.0 1.03e-03    -  1.00e+00 1.00e+00h  1\n",
      "  28  1.8660968e-05 3.94e-07 2.00e-03 -11.0 1.97e-02    -  1.00e+00 1.00e+00H  1\n",
      "  29  1.8777778e-05 1.45e-08 2.00e-03 -11.0 4.82e-03    -  1.00e+00 1.00e+00H  1\n",
      "iter    objective    inf_pr   inf_du lg(mu)  ||d||  lg(rg) alpha_du alpha_pr  ls\n",
      "  30  9.3241684e-06 1.38e-07 9.26e-04 -11.0 1.28e-02    -  1.00e+00 1.00e+00H  1\n",
      "  31  8.1830365e-06 4.78e-08 6.31e-04 -11.0 9.22e-03    -  1.00e+00 1.00e+00H  1\n",
      "  32  8.0294731e-05 3.65e-10 4.29e-03 -11.0 2.09e-02    -  1.00e+00 1.00e+00H  1\n",
      "  33  5.7566197e-06 5.20e-05 1.75e-04 -11.0 2.20e-02    -  1.00e+00 1.00e+00f  1\n",
      "  34  5.7532029e-06 3.89e-05 3.32e-04 -11.0 8.48e-04    -  1.00e+00 2.50e-01h  3\n",
      "  35  5.5088582e-06 5.13e-08 4.95e-05 -11.0 5.45e-04    -  1.00e+00 1.00e+00h  1\n",
      "  36  5.4870000e-06 1.08e-08 6.19e-05 -11.0 5.13e-04    -  1.00e+00 1.00e+00h  1\n",
      "  37  1.0022080e-05 2.92e-09 1.22e-03 -11.0 2.09e-02    -  1.00e+00 1.00e+00H  1\n",
      "  38  8.7528967e-05 3.11e-09 3.31e-03 -11.0 1.01e-01    -  1.00e+00 1.00e+00H  1\n",
      "  39  8.7475088e-05 3.12e-09 3.31e-03 -11.0 3.63e-02    -  1.00e+00 2.44e-04h 13\n",
      "iter    objective    inf_pr   inf_du lg(mu)  ||d||  lg(rg) alpha_du alpha_pr  ls\n",
      "  40  8.7427084e-05 3.16e-09 3.31e-03 -11.0 1.07e-01    -  1.00e+00 2.44e-04h 13\n",
      "  41  8.7371568e-05 3.12e-09 3.31e-03 -11.0 1.05e+00    -  1.00e+00 3.05e-05h 16\n",
      "  42  8.7368051e-05 3.12e-09 3.31e-03 -11.0 2.50e-01    -  1.00e+00 1.53e-05h 17\n",
      "  43  8.7359716e-05 3.12e-09 3.31e-03 -11.0 7.48e-01    -  1.00e+00 7.63e-06h 18\n",
      "  44  8.6795528e-05 1.75e-04 6.77e-03 -11.0 3.78e-01    -  1.00e+00 1.25e-01f  4\n",
      "  45  7.5229829e-05 3.75e-04 8.38e-03 -11.0 2.02e-01    -  1.00e+00 2.50e-01h  3\n",
      "  46  5.5720857e-05 3.81e-04 9.79e-03 -11.0 3.91e-02    -  1.00e+00 1.25e-01h  4\n",
      "  47  4.6238777e-06 3.67e-04 1.29e-03 -11.0 1.14e-02    -  1.00e+00 1.00e+00h  1\n",
      "  48  5.0906422e-06 2.73e-06 2.94e-04 -11.0 7.50e-03    -  1.00e+00 1.00e+00h  1\n",
      "  49  1.1218698e-05 1.23e-06 1.80e-03 -11.0 3.66e-02    -  1.00e+00 1.00e+00H  1\n",
      "iter    objective    inf_pr   inf_du lg(mu)  ||d||  lg(rg) alpha_du alpha_pr  ls\n",
      "  50  1.0869739e-05 6.10e-07 1.97e-03 -11.0 1.20e-01    -  1.00e+00 6.25e-02h  5\n",
      "  51  1.2863697e-04 4.20e-10 5.62e-03 -11.0 5.80e-02    -  1.00e+00 1.00e+00H  1\n",
      "  52  9.1229027e-05 1.17e-10 4.13e-03 -11.0 4.01e-02    -  1.00e+00 1.00e+00F  1\n",
      "  53  8.3670174e-05 1.00e-07 4.11e-03 -11.0 5.69e-02    -  1.00e+00 1.56e-02f  7\n",
      "  54  6.8944662e-05 3.27e-07 8.42e-03 -11.0 9.68e-02    -  1.00e+00 1.00e+00H  1\n",
      "  55  6.2487773e-05 6.35e-07 7.77e-03 -11.0 3.92e-01    -  1.00e+00 3.91e-03h  9\n",
      "  56  3.0557350e-05 2.24e-04 1.53e-03 -11.0 5.49e-02    -  1.00e+00 1.00e+00h  1\n",
      "  57  6.2226109e-03 2.31e-07 5.18e-02 -11.0 2.22e-01    -  1.00e+00 1.00e+00H  1\n",
      "  58  1.9977225e-05 8.07e-03 2.60e-03 -11.0 2.12e-01    -  1.00e+00 1.00e+00f  1\n",
      "  59  1.2591031e-05 6.06e-03 1.27e-03 -11.0 1.66e-02    -  1.00e+00 2.50e-01h  3\n",
      "iter    objective    inf_pr   inf_du lg(mu)  ||d||  lg(rg) alpha_du alpha_pr  ls\n",
      "  60  6.8056344e-06 1.03e-05 1.49e-03 -11.0 2.00e-03    -  1.00e+00 1.00e+00h  1\n",
      "  61  4.6061314e-06 8.71e-07 6.05e-04 -11.0 3.66e-03    -  1.00e+00 1.00e+00h  1\n",
      "  62  6.0238568e-06 1.98e-08 7.66e-04 -11.0 7.86e-03    -  1.00e+00 1.00e+00H  1\n",
      "  63  5.7792005e-06 8.49e-07 4.85e-04 -11.0 2.40e-03    -  1.00e+00 1.00e+00h  1\n",
      "  64  6.8550866e-06 8.22e-11 6.45e-04 -11.0 6.60e-03    -  1.00e+00 1.00e+00H  1\n",
      "  65  5.3026825e-06 1.28e-06 6.86e-04 -11.0 4.21e-03    -  1.00e+00 1.00e+00h  1\n",
      "  66  1.5969572e-05 9.41e-13 2.56e-03 -11.0 9.41e-03    -  1.00e+00 1.00e+00H  1\n",
      "  67  4.6036263e-06 2.20e-08 2.69e-04 -11.0 6.62e-03    -  1.00e+00 1.00e+00F  1\n",
      "  68  7.6254496e-06 2.09e-13 6.91e-04 -11.0 6.96e-03    -  1.00e+00 1.00e+00H  1\n",
      "  69  5.4199160e-06 3.40e-09 5.93e-04 -11.0 3.54e-03    -  1.00e+00 1.00e+00F  1\n",
      "iter    objective    inf_pr   inf_du lg(mu)  ||d||  lg(rg) alpha_du alpha_pr  ls\n",
      "  70  5.8004410e-06 1.04e-10 7.47e-04 -11.0 5.40e-03    -  1.00e+00 1.00e+00H  1\n",
      "  71  4.9794906e-06 1.12e-09 5.03e-04 -11.0 2.19e-03    -  1.00e+00 1.00e+00H  1\n",
      "  72  4.9562321e-06 2.73e-09 3.85e-04 -11.0 2.65e-03    -  1.00e+00 1.00e+00H  1\n",
      "  73  4.4442486e-06 2.39e-07 2.88e-04 -11.0 1.10e-03    -  1.00e+00 1.00e+00h  1\n",
      "  74  4.2745519e-06 4.84e-07 2.11e-04 -11.0 9.89e-04    -  1.00e+00 1.00e+00h  1\n",
      "  75  4.2938660e-06 1.33e-08 1.48e-04 -11.0 1.78e-04    -  1.00e+00 1.00e+00h  1\n",
      "  76  4.2272565e-06 2.42e-08 2.89e-05 -11.0 2.11e-04    -  1.00e+00 1.00e+00h  1\n",
      "  77  4.2244711e-06 1.28e-09 2.42e-05 -11.0 2.84e-05    -  1.00e+00 1.00e+00h  1\n",
      "  78  4.1978129e-06 1.84e-07 1.47e-04 -11.0 5.59e-04    -  1.00e+00 1.00e+00h  1\n",
      "  79  8.2745589e-06 2.33e-11 9.42e-04 -11.0 6.97e-03    -  1.00e+00 1.00e+00H  1\n",
      "iter    objective    inf_pr   inf_du lg(mu)  ||d||  lg(rg) alpha_du alpha_pr  ls\n",
      "  80  9.8782560e-06 4.24e-12 1.73e-03 -11.0 1.31e-02    -  1.00e+00 1.00e+00H  1\n",
      "  81  9.8722195e-06 6.39e-12 1.73e-03 -11.0 2.81e-02    -  1.00e+00 1.22e-04h 14\n",
      "  82  5.4944652e-06 6.52e-10 6.01e-04 -11.0 1.84e-02    -  1.00e+00 1.00e+00H  1\n",
      "  83  5.4226164e-06 8.34e-10 5.96e-04 -11.0 1.73e-02    -  1.00e+00 3.91e-03h  9\n",
      "  84  3.7801714e-06 1.23e-06 2.41e-04 -11.0 7.06e-03    -  1.00e+00 1.00e+00h  1\n",
      "  85  3.5583445e-06 2.70e-06 4.42e-04 -11.0 1.22e-01    -  1.00e+00 6.25e-02h  5\n",
      "  86  3.3375731e-06 3.39e-06 3.68e-04 -11.0 8.93e-01    -  1.00e+00 7.81e-03h  8\n",
      "  87  3.1943071e-06 4.90e-06 5.94e-04 -11.0 9.78e-01    -  1.00e+00 7.81e-03h  8\n",
      "  88  3.1319242e-06 1.03e-05 1.04e-03 -11.0 1.63e+00    -  1.00e+00 7.81e-03h  8\n",
      "  89  3.1924181e-06 9.96e-06 9.96e-04 -11.0 8.51e-02    -  1.00e+00 3.12e-02h  6\n",
      "iter    objective    inf_pr   inf_du lg(mu)  ||d||  lg(rg) alpha_du alpha_pr  ls\n",
      "  90  3.1664837e-06 9.37e-06 9.00e-04 -11.0 2.30e-02    -  1.00e+00 6.25e-02h  5\n",
      "  91  3.1623359e-06 8.79e-06 7.11e-04 -11.0 4.23e-02    -  1.00e+00 1.25e-01h  4\n",
      "  92  3.0788008e-06 9.28e-06 7.11e-04 -11.0 4.67e-01    -  1.00e+00 7.81e-03h  8\n",
      "  93  3.0143351e-06 9.55e-06 6.08e-04 -11.0 5.40e-01    -  1.00e+00 7.81e-03h  8\n",
      "  94  2.9878501e-06 1.05e-05 5.10e-04 -11.0 1.58e+00    -  1.00e+00 3.91e-03h  9\n",
      "  95  1.5922074e-02 3.99e-02 9.58e-02 -11.0 1.18e+00    -  1.00e+00 1.00e+00w  1\n",
      "  96  1.5353265e-03 7.10e-02 2.72e-02 -11.0 1.10e+00    -  1.00e+00 1.00e+00w  1\n",
      "  97  4.1811145e+01 8.79e+05 5.75e+05 -11.0 1.56e+01    -  1.00e+00 1.00e+00w  1\n",
      "  98  2.8761283e-06 1.13e-05 3.60e-04 -11.0 2.83e+00    -  1.00e+00 3.91e-03h  8\n",
      "  99  2.7885454e-06 9.13e-07 4.53e-04 -11.0 4.61e-03    -  1.00e+00 1.00e+00h  1\n",
      "iter    objective    inf_pr   inf_du lg(mu)  ||d||  lg(rg) alpha_du alpha_pr  ls\n",
      " 100  2.7235310e-06 1.13e-06 5.42e-04 -11.0 2.34e+00    -  1.00e+00 9.77e-04h 11\n",
      " 101  2.6880615e-06 1.18e-06 5.39e-04 -11.0 2.47e-01    -  1.00e+00 3.91e-03h  9\n",
      " 102  5.5681211e-06 2.29e-11 6.22e-04 -11.0 4.59e-03    -  1.00e+00 1.00e+00H  1\n",
      " 103  6.6842803e-06 1.15e-12 1.32e-03 -11.0 4.92e-03    -  1.00e+00 1.00e+00H  1\n",
      " 104  6.6739231e-06 1.53e-11 1.32e-03 -11.0 3.26e-02    -  1.00e+00 4.88e-04h 12\n",
      " 105  6.6662567e-06 1.71e-11 1.31e-03 -11.0 4.13e-02    -  1.00e+00 1.22e-04h 14\n",
      " 106  2.4641110e-06 3.90e-06 1.10e-04 -11.0 7.99e-03    -  1.00e+00 1.00e+00h  1\n",
      " 107  5.4866728e-05 5.81e-14 2.93e-03 -11.0 9.41e-03    -  1.00e+00 1.00e+00H  1\n",
      " 108  2.4331033e-06 4.72e-06 6.18e-05 -11.0 8.18e-03    -  1.00e+00 1.00e+00f  1\n",
      " 109  2.7594281e-06 5.37e-08 3.51e-04 -11.0 2.11e-04    -  1.00e+00 1.00e+00h  1\n",
      "iter    objective    inf_pr   inf_du lg(mu)  ||d||  lg(rg) alpha_du alpha_pr  ls\n",
      " 110  2.4068599e-06 4.58e-08 5.20e-05 -11.0 2.57e-04    -  1.00e+00 1.00e+00h  1\n",
      " 111  2.4014967e-06 2.70e-11 5.25e-05 -11.0 1.00e-04    -  1.00e+00 1.00e+00h  1\n",
      " 112  2.3641400e-06 1.81e-07 3.30e-04 -11.0 2.38e-01    -  1.00e+00 3.12e-02h  6\n",
      " 113  2.3081026e-06 1.76e-07 3.13e-04 -11.0 6.56e-01    -  1.00e+00 3.91e-03h  9\n",
      " 114  2.1211004e-06 8.91e-07 3.79e-04 -11.0 4.06e-01    -  1.00e+00 3.12e-02h  6\n",
      " 115  2.0883289e-06 9.47e-07 3.84e-04 -11.0 4.94e-01    -  1.00e+00 3.91e-03h  9\n",
      "\n",
      "Number of Iterations....: 115\n",
      "\n",
      "                                   (scaled)                 (unscaled)\n",
      "Objective...............:   2.0883288515321050e-06    2.0883288515321050e-06\n",
      "Dual infeasibility......:   3.8371923644514062e-04    3.8371923644514062e-04\n",
      "Constraint violation....:   9.4724453326960602e-07    9.4724453326960602e-07\n",
      "Complementarity.........:   0.0000000000000000e+00    0.0000000000000000e+00\n",
      "Overall NLP error.......:   3.8371923644514062e-04    3.8371923644514062e-04\n",
      "\n",
      "\n",
      "Number of objective function evaluations             = 595\n",
      "Number of objective gradient evaluations             = 116\n",
      "Number of equality constraint evaluations            = 595\n",
      "Number of inequality constraint evaluations          = 0\n",
      "Number of equality constraint Jacobian evaluations   = 116\n",
      "Number of inequality constraint Jacobian evaluations = 0\n",
      "Number of Lagrangian Hessian evaluations             = 0\n",
      "Total CPU secs in IPOPT (w/o function evaluations)   =      0.604\n",
      "Total CPU secs in NLP function evaluations           =      0.688\n",
      "\n",
      "EXIT: Maximum Number of Iterations Exceeded.\n"
     ]
    },
    {
     "name": "stderr",
     "output_type": "stream",
     "text": [
      "\u001b[1m\u001b[33mWARNING: \u001b[39m\u001b[22m\u001b[33mNot solved to optimality, status: UserLimit\u001b[39m\n"
     ]
    },
    {
     "data": {
      "text/plain": [
       ":UserLimit"
      ]
     },
     "execution_count": 15,
     "metadata": {},
     "output_type": "execute_result"
    }
   ],
   "source": [
    "solve(m)"
   ]
  },
  {
   "cell_type": "code",
   "execution_count": 16,
   "metadata": {},
   "outputs": [
    {
     "data": {
      "text/plain": [
       "99-element Array{Float64,1}:\n",
       " 1.21272\n",
       " 1.42068\n",
       " 1.62155\n",
       " 1.81411\n",
       " 1.99765\n",
       " 2.17181\n",
       " 2.33648\n",
       " 2.49173\n",
       " 2.63774\n",
       " 2.77481\n",
       " 2.90326\n",
       " 3.02348\n",
       " 3.13586\n",
       " ⋮      \n",
       " 4.62445\n",
       " 4.62483\n",
       " 4.62518\n",
       " 4.62551\n",
       " 4.62581\n",
       " 4.62609\n",
       " 4.62635\n",
       " 4.62659\n",
       " 4.62682\n",
       " 4.62702\n",
       " 4.62721\n",
       " 4.62739"
      ]
     },
     "execution_count": 16,
     "metadata": {},
     "output_type": "execute_result"
    }
   ],
   "source": [
    "getvalue(predictedK).innerArray"
   ]
  },
  {
   "cell_type": "code",
   "execution_count": 17,
   "metadata": {},
   "outputs": [
    {
     "data": {
      "text/plain": [
       "5-element Array{Float64,1}:\n",
       " 0.950166 \n",
       " 0.0504914\n",
       " 0.300686 \n",
       " 1.00038  \n",
       " 2.0203   "
      ]
     },
     "execution_count": 17,
     "metadata": {},
     "output_type": "execute_result"
    }
   ],
   "source": [
    "[getvalue(β), getvalue(δ), getvalue(α), getvalue(A), getvalue(γ)]"
   ]
  },
  {
   "cell_type": "code",
   "execution_count": 18,
   "metadata": {},
   "outputs": [
    {
     "data": {
      "text/plain": [
       "10-element Array{Float64,1}:\n",
       " -0.257492  \n",
       " -0.420344  \n",
       " -0.203631  \n",
       " -0.00707109\n",
       "  0.078371  \n",
       "  0.0647409 \n",
       "  0.0207784 \n",
       " -0.00460214\n",
       " -0.00691927\n",
       " -0.00223491"
      ]
     },
     "execution_count": 18,
     "metadata": {},
     "output_type": "execute_result"
    }
   ],
   "source": [
    "getvalue(coeff) - true_coeff"
   ]
  },
  {
   "cell_type": "code",
   "execution_count": 19,
   "metadata": {},
   "outputs": [
    {
     "data": {
      "text/html": [
       "<img src=\"data:image/png;base64,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\" />"
      ]
     },
     "execution_count": 19,
     "metadata": {},
     "output_type": "execute_result"
    }
   ],
   "source": [
    "plot(hcat(getvalue(predictedC), dataC))"
   ]
  },
  {
   "cell_type": "code",
   "execution_count": 20,
   "metadata": {},
   "outputs": [
    {
     "data": {
      "text/html": [
       "<img src=\"data:image/png;base64,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\" />"
      ]
     },
     "execution_count": 20,
     "metadata": {},
     "output_type": "execute_result"
    }
   ],
   "source": [
    "plot(K, hcat(Ψ * true_coeff, Ψ * getvalue(coeff)))"
   ]
  },
  {
   "cell_type": "markdown",
   "metadata": {},
   "source": [
    "The approximation is only good within the actually observed data, that is very bad! Macro is about what agent think can happen and what they would do."
   ]
  },
  {
   "cell_type": "markdown",
   "metadata": {},
   "source": [
    "### Variante B\n",
    "use 10 EE as constraints and gap between predition and data as objective function!\n",
    "makes more sense in order to target moments of data more easily\n",
    "but auto will not be able to differentiate through the function that creats the basis matrix!"
   ]
  },
  {
   "cell_type": "code",
   "execution_count": 64,
   "metadata": {},
   "outputs": [
    {
     "data": {
      "text/plain": [
       "u_crra_prime_inv (generic function with 1 method)"
      ]
     },
     "execution_count": 64,
     "metadata": {},
     "output_type": "execute_result"
    }
   ],
   "source": [
    "u_crra_prime(c, γ) = begin\n",
    "    if (c <= 0)\n",
    "        return -1000000.\n",
    "        else\n",
    "        return c.^-γ\n",
    "    end\n",
    "end\n",
    "u_crra_prime_inv(u, γ) = u.^(-1/γ)"
   ]
  },
  {
   "cell_type": "code",
   "execution_count": 177,
   "metadata": {},
   "outputs": [],
   "source": [
    "k_stst = 4.628988089138438 #reference point of the grid\n",
    "basis = Basis(ChebParams(10, 0.2*k_stst, 2*k_stst))\n",
    "K = nodes(basis)[1] #grid\n",
    "Ψ = BasisMatrix(basis, Expanded(), K).vals[1] #\\Psi(k)\n",
    "\n",
    "m = Model(solver=IpoptSolver(print_level=5, max_iter=200))\n",
    "\n",
    "@variable(m, 0 <= β <= 1, start = 1)\n",
    "@variable(m, 0 <= δ <= 1, start = 0)\n",
    "@variable(m, 0 <= α <= 1, start = 0.3)\n",
    "@variable(m, A >= 0, start = 1)\n",
    "@variable(m, γ >= 0, start = 2)\n",
    "\n",
    "@variable(m, θ[1:10], start = 0)\n",
    "setvalue(θ[1], true_coeff[1])\n",
    "\n",
    "@variable(m, Kprime[1:10] >= 0, start = 1)\n",
    "@variable(m, predictedK[2:100] >= 0, start = 0.01)\n",
    "@variable(m, predictedC[1:100] >= .001, start = 1)\n",
    "@variable(m, predictedCprime[1:10] >= .001, start = 1)\n",
    "\n",
    "JuMP.register(m, :u_crra_prime, 2, u_crra_prime, autodiff=true)\n",
    "JuMP.register(m, :f, 3, f, autodiff=true)\n",
    "JuMP.register(m, :f_prime, 3, f_prime, autodiff=true)"
   ]
  },
  {
   "cell_type": "code",
   "execution_count": 178,
   "metadata": {},
   "outputs": [
    {
     "data": {
      "text/plain": [
       "Ψprime (generic function with 1 method)"
      ]
     },
     "execution_count": 178,
     "metadata": {},
     "output_type": "execute_result"
    }
   ],
   "source": [
    "function Ψprime(x, order)\n",
    "    k_stst = 4.628988089138438\n",
    "    a = 0.2*k_stst\n",
    "    b = 2*k_stst\n",
    "        \n",
    "    z = (2/(b-a)) * (x-(a+b)/2)\n",
    "    \n",
    "    if (order == 1)\n",
    "        return 1.\n",
    "    elseif (order == 2)\n",
    "        return z\n",
    "    else\n",
    "\n",
    "        out1 = 1.\n",
    "        out2 = z\n",
    "        out3 = 0.\n",
    "\n",
    "        for j in 3:order\n",
    "            out3 = 2. * z * out2 - out1\n",
    "            out1 = out2\n",
    "            out2 = out3\n",
    "        end\n",
    "\n",
    "        return out3\n",
    "    end\n",
    "end"
   ]
  },
  {
   "cell_type": "code",
   "execution_count": 179,
   "metadata": {},
   "outputs": [],
   "source": [
    "JuMP.register(m, :Ψprime, 2, Ψprime, autodiff=true)"
   ]
  },
  {
   "cell_type": "code",
   "execution_count": 180,
   "metadata": {
    "scrolled": true
   },
   "outputs": [],
   "source": [
    "@NLconstraint(m, EE[i=1:10], u_crra_prime(sum(Ψ[i, k] * θ[k] for k in 1:10), γ) == \n",
    "    β*u_crra_prime(predictedCprime[i], γ) * \n",
    "    (f_prime(Kprime[i], α, A) + 1-δ));"
   ]
  },
  {
   "cell_type": "code",
   "execution_count": 181,
   "metadata": {},
   "outputs": [],
   "source": [
    "@NLconstraint(m, calcKprime[i=1:10], Kprime[i] == f(K[i], α, A) + (1-δ)*K[i] - sum(Ψ[i, k] * θ[k] for k in 1:10))\n",
    "@NLconstraint(m, LOM[t=2:100], predictedK[t] == f(dataK[t-1], α, A) + (1-δ)*dataK[t-1] - dataC[t-1])\n",
    "@NLconstraint(m, consumption[t=1:100], predictedC[t] == sum(Φ[t, k] * θ[k] for k in 1:10))\n",
    "@NLconstraint(m, consumptionprime[i=1:10], predictedCprime[i] == sum(Ψprime(Kprime[i], k) * θ[k] for k in 1:10));"
   ]
  },
  {
   "cell_type": "code",
   "execution_count": 182,
   "metadata": {},
   "outputs": [],
   "source": [
    "@NLobjective(m, Min, sum((dataC[t] - predictedC[t])^2 for t in 1:100) + \n",
    "    sum((dataK[t] - predictedK[t])^2 for t in 2:100))"
   ]
  },
  {
   "cell_type": "code",
   "execution_count": 183,
   "metadata": {
    "scrolled": true
   },
   "outputs": [
    {
     "name": "stdout",
     "output_type": "stream",
     "text": [
      "This is Ipopt version 3.12.1, running with linear solver mumps.\n",
      "NOTE: Other linear solvers might be more efficient (see Ipopt documentation).\n",
      "\n",
      "Number of nonzeros in equality constraint Jacobian...:     1926\n",
      "Number of nonzeros in inequality constraint Jacobian.:        0\n",
      "Number of nonzeros in Lagrangian Hessian.............:        0\n",
      "\n",
      "Total number of variables............................:      234\n",
      "                     variables with only lower bounds:      221\n",
      "                variables with lower and upper bounds:        3\n",
      "                     variables with only upper bounds:        0\n",
      "Total number of equality constraints.................:      229\n",
      "Total number of inequality constraints...............:        0\n",
      "        inequality constraints with only lower bounds:        0\n",
      "   inequality constraints with lower and upper bounds:        0\n",
      "        inequality constraints with only upper bounds:        0\n",
      "\n",
      "iter    objective    inf_pr   inf_du lg(mu)  ||d||  lg(rg) alpha_du alpha_pr  ls\n",
      "   0  1.7516951e+03 8.71e+00 9.23e+00   0.0 0.00e+00    -  0.00e+00 0.00e+00   0\n",
      "   1  1.0500512e+03 5.00e+00 3.63e+03   0.1 6.87e+00    -  8.23e-02 7.07e-01f  1\n",
      "   2  6.2726622e+02 6.96e+00 2.01e+03   0.9 8.33e+00    -  1.00e+00 1.37e-01f  1\n",
      "   3  3.4294961e+02 1.21e+01 2.46e+03   1.2 7.68e+00    -  7.40e-01 6.13e-01f  1\n",
      "   4  6.9645617e+01 2.71e+00 2.89e+03  -5.0 2.10e+00    -  4.21e-01 1.00e+00f  1\n",
      "   5  4.0813056e+01 1.62e+00 1.77e+03  -5.3 3.16e+00    -  4.03e-01 4.02e-01f  1\n",
      "   6  2.6067006e+01 7.96e-01 2.93e+02  -0.1 3.57e+00    -  1.00e+00 4.75e-01f  1\n",
      "   7  2.0291782e+01 9.03e-01 2.95e+03   0.3 9.39e-01    -  1.00e+00 1.00e+00f  1\n",
      "   8  1.7258003e+00 1.80e-01 3.05e+01  -5.7 5.24e-01    -  6.33e-01 1.00e+00f  1\n",
      "   9  2.6187493e+00 1.27e-02 9.20e+00  -0.4 2.54e-01    -  8.52e-01 1.00e+00f  1\n",
      "iter    objective    inf_pr   inf_du lg(mu)  ||d||  lg(rg) alpha_du alpha_pr  ls\n",
      "  10  8.6270049e-01 2.41e-02 8.00e+00  -1.9 2.02e-01    -  9.96e-01 1.00e+00f  1\n",
      "  11  3.9499687e-01 3.26e-02 2.23e+00  -2.2 3.56e-01    -  1.00e+00 1.00e+00f  1\n",
      "  12  1.1391877e-01 1.86e-01 1.16e+00  -2.8 6.83e-01    -  1.00e+00 1.00e+00h  1\n",
      "  13  5.9463249e-02 1.29e+00 9.92e-01  -2.3 6.88e-01    -  1.00e+00 1.00e+00h  1\n",
      "  14  6.0563734e-02 2.32e-01 8.08e-01  -2.4 3.12e-01    -  1.00e+00 1.00e+00h  1\n",
      "  15  2.1320654e-02 1.62e-01 4.58e-01  -2.0 3.38e-01    -  9.35e-01 1.00e+00h  1\n",
      "  16  6.7123061e-01 6.15e-02 4.70e-01  -2.7 2.34e-01    -  9.96e-01 1.00e+00h  1\n",
      "  17  8.7240565e-03 1.99e-01 2.09e-01  -2.8 3.73e-01    -  1.00e+00 1.00e+00f  1\n",
      "  18  5.5807750e-03 1.39e-03 5.22e-02  -3.6 5.46e-02    -  1.00e+00 1.00e+00h  1\n",
      "  19  5.6626126e-03 4.28e-04 2.41e-02  -5.2 3.25e-02    -  1.00e+00 1.00e+00h  1\n",
      "iter    objective    inf_pr   inf_du lg(mu)  ||d||  lg(rg) alpha_du alpha_pr  ls\n",
      "  20  5.0432102e-03 1.13e-04 3.01e-02  -6.7 5.46e-02    -  1.00e+00 1.00e+00h  1\n",
      "  21  3.9480041e-03 1.47e-02 1.51e-01  -7.8 6.66e-01    -  1.00e+00 1.00e+00h  1\n",
      "  22  2.2105385e-03 5.07e-02 2.87e-01  -5.8 1.32e+01    -  1.00e+00 4.36e-02h  2\n",
      "  23  1.3319981e-04 2.01e-03 1.33e-01  -6.5 3.12e-01    -  1.00e+00 1.00e+00h  1\n",
      "  24  2.2651845e-05 1.07e-03 4.31e-03  -8.0 7.39e-02    -  1.00e+00 1.00e+00h  1\n",
      "  25  9.0866461e-06 1.20e-03 7.85e-03  -6.0 2.99e-01    -  1.00e+00 4.91e-02h  5\n",
      "  26  1.3679189e-06 8.43e-07 1.22e-03  -7.7 2.69e-03    -  1.00e+00 1.00e+00h  1\n",
      "  27  7.5505399e-09 1.80e-05 1.44e-03  -9.2 9.73e-03    -  1.00e+00 1.00e+00h  1\n",
      "  28  9.1590474e-07 4.43e-07 1.87e-04 -11.0 1.49e-03    -  1.00e+00 1.00e+00h  1\n",
      "  29  2.4655861e-11 1.88e-07 1.55e-05 -11.0 9.44e-04    -  1.00e+00 1.00e+00h  1\n",
      "iter    objective    inf_pr   inf_du lg(mu)  ||d||  lg(rg) alpha_du alpha_pr  ls\n",
      "  30  5.2005860e-13 9.81e-12 1.91e-07 -11.0 2.57e-06    -  1.00e+00 1.00e+00h  1\n",
      "  31  3.2245731e-13 3.40e-14 1.40e-07 -11.0 6.66e-07    -  1.00e+00 1.00e+00h  1\n",
      "  32  7.4296891e-13 1.78e-15 2.43e-07 -11.0 1.22e-05    -  1.00e+00 1.00e+00H  1\n",
      "  33  4.0595792e-13 1.92e-12 1.68e-07 -11.0 6.27e-06    -  1.00e+00 2.50e-01h  3\n",
      "  34  2.0008607e-14 2.48e-12 3.44e-08 -11.0 7.17e-06    -  1.00e+00 1.00e+00h  1\n",
      "  35  3.3828677e-15 2.60e-12 1.54e-08 -11.0 3.13e-05    -  1.00e+00 3.12e-02h  6\n",
      "  36  5.0074667e-14 9.06e-14 4.45e-08 -11.0 9.31e-07    -  1.00e+00 1.00e+00h  1\n",
      "  37  4.9576341e-14 2.84e-14 8.24e-08 -11.0 9.55e-08    -  1.00e+00 1.00e+00h  1\n",
      "  38  1.7367564e-17 1.24e-13 7.74e-10 -11.0 5.32e-07    -  1.00e+00 1.00e+00h  1\n",
      "\n",
      "Number of Iterations....: 38\n",
      "\n",
      "                                   (scaled)                 (unscaled)\n",
      "Objective...............:   1.7367563733279656e-17    1.7367563733279656e-17\n",
      "Dual infeasibility......:   7.7384629709279146e-10    7.7384629709279146e-10\n",
      "Constraint violation....:   1.2434497875801753e-13    1.2434497875801753e-13\n",
      "Complementarity.........:   1.0000000000000001e-11    1.0000000000000001e-11\n",
      "Overall NLP error.......:   7.7384629709279146e-10    7.7384629709279146e-10\n",
      "\n",
      "\n",
      "Number of objective function evaluations             = 62\n",
      "Number of objective gradient evaluations             = 39\n",
      "Number of equality constraint evaluations            = 62\n",
      "Number of inequality constraint evaluations          = 0\n",
      "Number of equality constraint Jacobian evaluations   = 39\n",
      "Number of inequality constraint Jacobian evaluations = 0\n",
      "Number of Lagrangian Hessian evaluations             = 0\n",
      "Total CPU secs in IPOPT (w/o function evaluations)   =      0.092\n",
      "Total CPU secs in NLP function evaluations           =      0.044\n",
      "\n",
      "EXIT: Optimal Solution Found.\n"
     ]
    },
    {
     "data": {
      "text/plain": [
       ":Optimal"
      ]
     },
     "execution_count": 183,
     "metadata": {},
     "output_type": "execute_result"
    }
   ],
   "source": [
    "solve(m)"
   ]
  },
  {
   "cell_type": "code",
   "execution_count": 184,
   "metadata": {},
   "outputs": [
    {
     "data": {
      "text/html": [
       "<img src=\"data:image/png;base64,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\" />"
      ]
     },
     "execution_count": 184,
     "metadata": {},
     "output_type": "execute_result"
    }
   ],
   "source": [
    "plot(K, hcat(Ψ * true_coeff, Ψ * getvalue(θ)))"
   ]
  },
  {
   "cell_type": "code",
   "execution_count": 167,
   "metadata": {},
   "outputs": [
    {
     "ename": "LoadError",
     "evalue": "\u001b[91msyntax: invalid assignment location \"1\"\u001b[39m",
     "output_type": "error",
     "traceback": [
      "\u001b[91msyntax: invalid assignment location \"1\"\u001b[39m",
      "",
      "Stacktrace:",
      " [1] \u001b[1minclude_string\u001b[22m\u001b[22m\u001b[1m(\u001b[22m\u001b[22m::String, ::String\u001b[1m)\u001b[22m\u001b[22m at \u001b[1m./loading.jl:515\u001b[22m\u001b[22m"
     ]
    }
   ],
   "source": [
    "β = 0.95, δ = 0.05, α = 0.3, A = 1, γ = 2"
   ]
  },
  {
   "cell_type": "code",
   "execution_count": 168,
   "metadata": {},
   "outputs": [
    {
     "data": {
      "text/plain": [
       "(0.9204239232243249, 0.9244387082657856, 0.7717463826664657, 1.7233671800320947, 50.01902436307449)"
      ]
     },
     "execution_count": 168,
     "metadata": {},
     "output_type": "execute_result"
    }
   ],
   "source": [
    "getvalue(β), getvalue(δ), getvalue(α), getvalue(A), getvalue(γ)"
   ]
  },
  {
   "cell_type": "code",
   "execution_count": 54,
   "metadata": {},
   "outputs": [
    {
     "data": {
      "text/plain": [
       "10-element Array{Float64,1}:\n",
       " 1.21105\n",
       " 1.59224\n",
       " 2.31383\n",
       " 3.28128\n",
       " 4.44915\n",
       " 5.86838\n",
       " 7.27359\n",
       " 8.42925\n",
       " 9.26641\n",
       " 9.70374"
      ]
     },
     "execution_count": 54,
     "metadata": {},
     "output_type": "execute_result"
    }
   ],
   "source": [
    "getvalue(Kprime)"
   ]
  },
  {
   "cell_type": "code",
   "execution_count": 55,
   "metadata": {},
   "outputs": [
    {
     "data": {
      "text/plain": [
       "10-element Array{Float64,1}:\n",
       " 0.977089\n",
       " 1.37987 \n",
       " 2.14602 \n",
       " 3.20052 \n",
       " 4.44017 \n",
       " 5.74361 \n",
       " 6.98325 \n",
       " 8.03776 \n",
       " 8.8039  \n",
       " 9.20668 "
      ]
     },
     "execution_count": 55,
     "metadata": {},
     "output_type": "execute_result"
    }
   ],
   "source": [
    "K"
   ]
  },
  {
   "cell_type": "code",
   "execution_count": null,
   "metadata": {},
   "outputs": [],
   "source": []
  }
 ],
 "metadata": {
  "kernelspec": {
   "display_name": "Julia 0.6.0",
   "language": "julia",
   "name": "julia-0.6"
  },
  "language_info": {
   "file_extension": ".jl",
   "mimetype": "application/julia",
   "name": "julia",
   "version": "0.6.0"
  }
 },
 "nbformat": 4,
 "nbformat_minor": 2
}
