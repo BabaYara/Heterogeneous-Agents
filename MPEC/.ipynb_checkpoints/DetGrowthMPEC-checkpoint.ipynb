{
 "cells": [
  {
   "cell_type": "markdown",
   "metadata": {},
   "source": [
    "This notebook solves a household problem in a deterministic growth economy using a MPEC method.\n",
    "Model\n",
    "--\n",
    "The household chooses its consumption and savings while being constraint by its budget set. Saved capital is used for production next period. Produced goods and leftover capital are returned to the household.\n",
    "\n",
    "The sequence problem:\n",
    "$$\\underset{ \\left(c_t, k_{t+1}\\right)_{t=0}^\\infty } {max} \\sum_{t=0}^\\infty \\beta^t \\, u( c_t )$$\n",
    "s.t.\n",
    "$$k_{t+1} = f(k_t) + (1-\\delta) k_t - c_t \\quad \\forall t$$\n",
    "$$k_0 \\, \\text{given}$$\n",
    "\n",
    "can be written recursively as:\n",
    "\n",
    "$$V(k) = \\underset{ c } {max} \\, u( c ) + \\beta \\, V \\big( f(k) + (1-\\delta) k -c \\big)$$\n",
    "The solution of this Bellman equation is a policy function $c(k)$ for consumption."
   ]
  },
  {
   "cell_type": "markdown",
   "metadata": {},
   "source": [
    "Using the first-order condition and the envelope theorem yields:\n",
    "$$u'\\Big(\\Psi(k) \\cdot \\theta\\Big) =\\beta \\, u'\\Big( \\Psi \\big( f(k) +(1- \\delta)k- \\Psi(k) \\cdot \\theta\\big)\\cdot \\theta \\Big)  \\, \\Big( f'\\big(f(k) +(1- \\delta)k - \\Psi(k) \\cdot \\theta \\big) + (1-\\delta) \\Big)\\quad\\forall k$$\n"
   ]
  },
  {
   "cell_type": "markdown",
   "metadata": {},
   "source": [
    "Numerical Method\n",
    "--\n"
   ]
  },
  {
   "cell_type": "markdown",
   "metadata": {},
   "source": [
    "## Collocation Method and Simulation"
   ]
  },
  {
   "cell_type": "code",
   "execution_count": 90,
   "metadata": {
    "collapsed": true
   },
   "outputs": [],
   "source": [
    "using Parameters\n",
    "using BasisMatrices\n",
    "using LaTeXStrings\n",
    "using Plots; pyplot();"
   ]
  },
  {
   "cell_type": "code",
   "execution_count": 91,
   "metadata": {},
   "outputs": [
    {
     "data": {
      "text/plain": [
       "u_crra_prime_inv (generic function with 1 method)"
      ]
     },
     "execution_count": 91,
     "metadata": {},
     "output_type": "execute_result"
    }
   ],
   "source": [
    "@with_kw immutable GrowthModel\n",
    "    β::Float64                           # discount factor\n",
    "    δ::Float64                           # depreciation of capital\n",
    "    α::Float64                           # capital share\n",
    "    A::Float64                           # productivity\n",
    "    γ::Float64                           # RRA\n",
    "end\n",
    "\n",
    "model = GrowthModel(β = 0.95, δ = 0.05, α = 0.3, A = 1, γ = 2)\n",
    "\n",
    "function steady_state_k(model::GrowthModel)\n",
    "    @unpack β, α, A, δ = model\n",
    "    ((1/β-(1-δ))/(A*α))^(1/(α-1))\n",
    "end\n",
    "\n",
    "function f(model::GrowthModel, k)\n",
    "    @unpack α, A, δ = model\n",
    "    A*k.^α\n",
    "end\n",
    "\n",
    "function f_prime(model::GrowthModel, k)\n",
    "    @unpack α, A, δ = model\n",
    "    A*α*k.^(α-1)\n",
    "end\n",
    "\n",
    "u_crra_prime(c, γ) = c.^-γ\n",
    "u_crra_prime_inv(u, γ) = u.^(-1/γ)"
   ]
  },
  {
   "cell_type": "code",
   "execution_count": 92,
   "metadata": {},
   "outputs": [
    {
     "data": {
      "text/html": [
       "4.628988089138438"
      ],
      "text/plain": [
       "4.628988089138438"
      ]
     },
     "execution_count": 92,
     "metadata": {},
     "output_type": "execute_result"
    }
   ],
   "source": [
    "k_stst = steady_state_k(model)"
   ]
  },
  {
   "cell_type": "code",
   "execution_count": 93,
   "metadata": {},
   "outputs": [
    {
     "data": {
      "text/plain": [
       "solve_and_simulate (generic function with 1 method)"
      ]
     },
     "execution_count": 93,
     "metadata": {},
     "output_type": "execute_result"
    }
   ],
   "source": [
    "function solve_and_simulate(model, N; k0=1.)\n",
    "    @unpack β, α, A, δ, γ = model\n",
    "    \n",
    "    #solve\n",
    "\n",
    "    k_stst = steady_state_k(model)\n",
    "\n",
    "    basis = Basis(ChebParams(10, 0.2*k_stst, 2*k_stst))\n",
    "\n",
    "    Ψ = BasisMatrix(basis, Expanded()).vals[1]\n",
    "    K = nodes(basis)[1]\n",
    "\n",
    "    a = [1, 0, 0, 0, 0, 0, 0, 0, 0, 0]\n",
    "    a_old = zeros(a)\n",
    "    \n",
    "    stop = false\n",
    "    \n",
    "    @time while !stop\n",
    "\n",
    "        a_old = a\n",
    "    \n",
    "        Y = u_crra_prime_inv(β*u_crra_prime(BasisMatrix(basis, Expanded(), f(model,K) + (1-δ)*K - Ψ*a).vals[1]*a, γ) .* \n",
    "                (f_prime(model, f(model,K) + (1-δ)*K - Ψ*a) + 1-δ), γ)\n",
    "\n",
    "        a = Ψ \\ Y\n",
    "\n",
    "        if maximum(abs.(u_crra_prime(Y, γ)./u_crra_prime(Ψ*a_old, γ) - 1)) < 1e-10\n",
    "            stop = true\n",
    "        end\n",
    "    end\n",
    "    \n",
    "    #simulate\n",
    "    simK = zeros(N)\n",
    "    simC = zeros(N)\n",
    "    \n",
    "    simK[1] = k0\n",
    "    \n",
    "    \n",
    "    for t in 1:N-1\n",
    "        simC[t] = (BasisMatrix(basis, Expanded(), [simK[t]]).vals[1] * a)[1]\n",
    "        simK[t+1] = f(model,simK[t]) + (1-δ)*simK[t] - simC[t]\n",
    "    end\n",
    "    \n",
    "    simC[N] = (BasisMatrix(basis, Expanded(), [simK[N]]).vals[1] * a)[1]\n",
    "    \n",
    "    return (simK, simC, a)\n",
    "end\n"
   ]
  },
  {
   "cell_type": "code",
   "execution_count": 94,
   "metadata": {},
   "outputs": [
    {
     "name": "stdout",
     "output_type": "stream",
     "text": [
      "  0.001820 seconds (8.91 k allocations: 1.861 MiB)\n"
     ]
    },
    {
     "data": {
      "text/plain": [
       "10-element Array{Float64,1}:\n",
       "  1.35054    \n",
       "  0.544286   \n",
       " -0.0634735  \n",
       "  0.0167686  \n",
       " -0.00554682 \n",
       "  0.00203287 \n",
       " -0.000791507\n",
       "  0.000351972\n",
       " -0.000172349\n",
       "  5.71702e-5 "
      ]
     },
     "execution_count": 94,
     "metadata": {},
     "output_type": "execute_result"
    }
   ],
   "source": [
    "(dataK, dataC, true_coeff) = solve_and_simulate(model, 100; k0=1.);\n",
    "true_coeff"
   ]
  },
  {
   "cell_type": "code",
   "execution_count": 95,
   "metadata": {},
   "outputs": [
    {
     "data": {
      "text/html": [
       "<img src=\"data:image/png;base64,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\" />"
      ]
     },
     "execution_count": 95,
     "metadata": {},
     "output_type": "execute_result"
    }
   ],
   "source": [
    "plot(dataK, label=\"capital\")\n",
    "plot!(dataC, label=\"consumption\")"
   ]
  },
  {
   "cell_type": "markdown",
   "metadata": {},
   "source": [
    "## MPEC"
   ]
  },
  {
   "cell_type": "code",
   "execution_count": 96,
   "metadata": {
    "collapsed": true
   },
   "outputs": [],
   "source": [
    "using JuMP\n",
    "using Ipopt"
   ]
  },
  {
   "cell_type": "code",
   "execution_count": 97,
   "metadata": {},
   "outputs": [
    {
     "data": {
      "text/plain": [
       "f_prime (generic function with 2 methods)"
      ]
     },
     "execution_count": 97,
     "metadata": {},
     "output_type": "execute_result"
    }
   ],
   "source": [
    "function f(k, α, A)\n",
    "    A*k^α\n",
    "end\n",
    "\n",
    "function f_prime(k, α, A)\n",
    "    A*α*k^(α-1)\n",
    "end"
   ]
  },
  {
   "cell_type": "code",
   "execution_count": 98,
   "metadata": {},
   "outputs": [
    {
     "data": {
      "text/plain": [
       "1 dimensional Basis on the hypercube formed by (0.9257976178276875,) × (9.257976178276875,).\n",
       "Basis families are Cheb\n"
      ]
     },
     "execution_count": 98,
     "metadata": {},
     "output_type": "execute_result"
    }
   ],
   "source": [
    "basis = Basis(ChebParams(10, 0.2*k_stst, 2*k_stst))"
   ]
  },
  {
   "cell_type": "code",
   "execution_count": 99,
   "metadata": {
    "collapsed": true
   },
   "outputs": [],
   "source": [
    "K = nodes(basis)[1]\n",
    "Ψ = BasisMatrix(basis, Expanded(), K).vals[1];"
   ]
  },
  {
   "cell_type": "markdown",
   "metadata": {},
   "source": [
    "### Variante A\n",
    "\n",
    "EE on a grid as a constraint is problematic since next period's capital is a function of deep parameters!\n",
    "filling in realized consumption next period is infeasible (or maybe some form of rational expectations?!) in stochastic models!"
   ]
  },
  {
   "cell_type": "code",
   "execution_count": 109,
   "metadata": {
    "collapsed": true
   },
   "outputs": [],
   "source": [
    "m = Model(solver=IpoptSolver(print_level=5, max_iter = 115))\n",
    "\n",
    "@variable(m, β, start = 1)\n",
    "@variable(m, δ, start = 1)\n",
    "@variable(m, α, start = 0.6)\n",
    "@variable(m, A, start = 1)\n",
    "@variable(m, γ, start = 1)\n",
    "\n",
    "@variable(m, coeff[1:10], start = 0)\n",
    "setvalue(coeff[1], 1)\n",
    "\n",
    "@variable(m, predictedK[2:100], start = 1)\n",
    "@variable(m, predictedC[1:100], start = 1)\n",
    "@variable(m, EEerror[1:99])\n",
    "\n",
    "JuMP.register(m, :u_crra_prime, 2, u_crra_prime, autodiff=true)\n",
    "JuMP.register(m, :f, 3, f, autodiff=true)\n",
    "JuMP.register(m, :f_prime, 3, f_prime, autodiff=true)\n",
    "\n",
    "Φ = BasisMatrix(basis, Expanded(), dataK).vals[1];"
   ]
  },
  {
   "cell_type": "code",
   "execution_count": 110,
   "metadata": {
    "collapsed": true
   },
   "outputs": [],
   "source": [
    "@NLconstraint(m, LOM[t=2:100], predictedK[t] == f(dataK[t-1], α, A) + (1-δ)*dataK[t-1] - dataC[t-1]);\n",
    "@NLconstraint(m, consumption[t=1:100], predictedC[t] == sum(Φ[t, k] * coeff[k] for k in 1:10))\n",
    "\n",
    "@NLconstraint(m, fixedpoint[t=1:99], EEerror[t] == u_crra_prime(predictedC[t], γ) -\n",
    "    β * u_crra_prime(dataC[t+1], γ) * (f_prime(predictedK[t+1], α, A) + 1-δ));"
   ]
  },
  {
   "cell_type": "code",
   "execution_count": 111,
   "metadata": {
    "collapsed": true
   },
   "outputs": [],
   "source": [
    "@NLobjective(m, Min, sum((dataC[t] - predictedC[t])^2 for t in 1:100) + \n",
    "    sum((dataK[t] - predictedK[t])^2 for t in 2:100) + sum(EEerror[t]^2 for t in 1:99))"
   ]
  },
  {
   "cell_type": "code",
   "execution_count": 112,
   "metadata": {
    "scrolled": true
   },
   "outputs": [
    {
     "name": "stdout",
     "output_type": "stream",
     "text": [
      "This is Ipopt version 3.12.2, running with linear solver mumps.\n",
      "NOTE: Other linear solvers might be more efficient (see Ipopt documentation).\n",
      "\n",
      "Number of nonzeros in equality constraint Jacobian...:     2288\n",
      "Number of nonzeros in inequality constraint Jacobian.:        0\n",
      "Number of nonzeros in Lagrangian Hessian.............:        0\n",
      "\n",
      "Total number of variables............................:      313\n",
      "                     variables with only lower bounds:        0\n",
      "                variables with lower and upper bounds:        0\n",
      "                     variables with only upper bounds:        0\n",
      "Total number of equality constraints.................:      298\n",
      "Total number of inequality constraints...............:        0\n",
      "        inequality constraints with only lower bounds:        0\n",
      "   inequality constraints with lower and upper bounds:        0\n",
      "        inequality constraints with only upper bounds:        0\n",
      "\n",
      "iter    objective    inf_pr   inf_du lg(mu)  ||d||  lg(rg) alpha_du alpha_pr  ls\n",
      "   0 1.0420591e+003 7.37e-001 7.24e+000   0.0 0.00e+000    -  0.00e+000 0.00e+000   0\n",
      "   1 1.0404834e+003 2.75e+000 8.40e+000 -11.0 7.23e+000    -  1.00e+000 1.00e+000f  1\n",
      "   2 4.6943390e-001 1.19e+000 7.23e-001 -11.0 3.63e+000    -  1.00e+000 1.00e+000f  1\n",
      "   3 1.7764636e-001 1.80e-001 7.33e-001 -11.0 2.26e-001    -  1.00e+000 1.00e+000h  1\n",
      "   4 7.4315647e-002 9.23e-002 4.16e-001 -11.0 2.20e-001    -  1.00e+000 1.00e+000h  1\n",
      "   5 1.7205362e-002 1.17e-001 1.38e-001 -11.0 1.97e-001    -  1.00e+000 1.00e+000h  1\n",
      "   6 1.0629804e-002 1.60e-001 1.43e-001 -11.0 5.92e-001    -  1.00e+000 2.50e-001h  3\n",
      "   7 2.1228932e-003 8.98e-003 1.16e-001 -11.0 6.82e-002    -  1.00e+000 1.00e+000h  1\n",
      "   8 1.4035773e-003 6.20e-003 1.32e-002 -11.0 5.36e-002    -  1.00e+000 1.00e+000h  1\n",
      "   9 7.8591898e-004 7.11e-004 3.86e-003 -11.0 1.58e-002    -  1.00e+000 1.00e+000h  1\n",
      "iter    objective    inf_pr   inf_du lg(mu)  ||d||  lg(rg) alpha_du alpha_pr  ls\n",
      "  10 7.4178296e-004 7.64e-006 5.04e-003 -11.0 3.78e-003    -  1.00e+000 1.00e+000h  1\n",
      "  11 6.3735198e-004 2.27e-004 8.68e-003 -11.0 3.08e-002    -  1.00e+000 1.00e+000h  1\n",
      "  12 6.3496988e-004 4.20e-004 9.98e-003 -11.0 4.91e-002    -  1.00e+000 1.00e+000h  1\n",
      "  13 1.2516970e-003 2.36e-005 3.81e-002 -11.0 2.62e-002    -  1.00e+000 1.00e+000H  1\n",
      "  14 4.9683481e-004 5.87e-004 2.31e-003 -11.0 3.88e-002    -  1.00e+000 1.00e+000h  1\n",
      "  15 4.6023954e-004 2.11e-005 2.17e-003 -11.0 1.42e-002    -  1.00e+000 1.00e+000h  1\n",
      "  16 3.3981264e-004 7.90e-004 8.07e-003 -11.0 3.78e+000    -  1.00e+000 3.12e-002h  6\n",
      "  17 2.7212081e-004 9.39e-004 8.75e-003 -11.0 3.95e+000    -  1.00e+000 3.12e-002h  6\n",
      "  18 1.3777483e-003 4.53e-006 3.88e-002 -11.0 2.65e-001    -  1.00e+000 1.00e+000H  1\n",
      "  19 6.8368611e-003 3.65e-007 3.11e-002 -11.0 1.72e-001    -  1.00e+000 1.00e+000H  1\n",
      "iter    objective    inf_pr   inf_du lg(mu)  ||d||  lg(rg) alpha_du alpha_pr  ls\n",
      "  20 1.0287566e-003 1.12e-006 3.44e-002 -11.0 2.85e-001    -  1.00e+000 1.00e+000F  1\n",
      "  21 9.9690852e-004 1.01e-006 3.39e-002 -11.0 9.68e-002    -  1.00e+000 7.81e-003h  8\n",
      "  22 2.3761989e-004 3.05e-003 8.80e-003 -11.0 7.22e-002    -  1.00e+000 5.00e-001h  2\n",
      "  23 3.3978396e-005 1.53e-003 4.49e-003 -11.0 4.06e-002    -  1.00e+000 5.00e-001h  2\n",
      "  24 1.3751376e-005 5.44e-005 4.33e-003 -11.0 6.08e-003    -  1.00e+000 1.00e+000h  1\n",
      "  25 8.7006458e-006 1.06e-005 1.50e-003 -11.0 2.91e-003    -  1.00e+000 1.00e+000h  1\n",
      "  26 6.6466703e-006 4.08e-006 1.38e-004 -11.0 2.01e-003    -  1.00e+000 1.00e+000h  1\n",
      "  27 6.4570863e-006 7.95e-008 1.16e-004 -11.0 1.03e-003    -  1.00e+000 1.00e+000h  1\n",
      "  28 1.8660968e-005 3.94e-007 2.00e-003 -11.0 1.97e-002    -  1.00e+000 1.00e+000H  1\n",
      "  29 1.8777778e-005 1.45e-008 2.00e-003 -11.0 4.82e-003    -  1.00e+000 1.00e+000H  1\n",
      "iter    objective    inf_pr   inf_du lg(mu)  ||d||  lg(rg) alpha_du alpha_pr  ls\n",
      "  30 9.3241684e-006 1.38e-007 9.26e-004 -11.0 1.28e-002    -  1.00e+000 1.00e+000H  1\n",
      "  31 8.1830365e-006 4.78e-008 6.31e-004 -11.0 9.22e-003    -  1.00e+000 1.00e+000H  1\n",
      "  32 8.0294732e-005 3.65e-010 4.29e-003 -11.0 2.09e-002    -  1.00e+000 1.00e+000H  1\n",
      "  33 5.7566197e-006 5.20e-005 1.75e-004 -11.0 2.20e-002    -  1.00e+000 1.00e+000f  1\n",
      "  34 5.7532029e-006 3.89e-005 3.32e-004 -11.0 8.48e-004    -  1.00e+000 2.50e-001h  3\n",
      "  35 5.5088582e-006 5.13e-008 4.95e-005 -11.0 5.45e-004    -  1.00e+000 1.00e+000h  1\n",
      "  36 5.4870000e-006 1.08e-008 6.19e-005 -11.0 5.13e-004    -  1.00e+000 1.00e+000h  1\n",
      "  37 1.0022080e-005 2.92e-009 1.22e-003 -11.0 2.09e-002    -  1.00e+000 1.00e+000H  1\n",
      "  38 8.7528968e-005 3.11e-009 3.31e-003 -11.0 1.01e-001    -  1.00e+000 1.00e+000H  1\n",
      "  39 8.7475089e-005 3.12e-009 3.31e-003 -11.0 3.63e-002    -  1.00e+000 2.44e-004h 13\n",
      "iter    objective    inf_pr   inf_du lg(mu)  ||d||  lg(rg) alpha_du alpha_pr  ls\n",
      "  40 8.7427085e-005 3.16e-009 3.31e-003 -11.0 1.07e-001    -  1.00e+000 2.44e-004h 13\n",
      "  41 8.7371570e-005 3.12e-009 3.31e-003 -11.0 1.05e+000    -  1.00e+000 3.05e-005h 16\n",
      "  42 8.7368052e-005 3.12e-009 3.31e-003 -11.0 2.50e-001    -  1.00e+000 1.53e-005h 17\n",
      "  43 8.7359717e-005 3.12e-009 3.31e-003 -11.0 7.48e-001    -  1.00e+000 7.63e-006h 18\n",
      "  44 8.6795534e-005 1.75e-004 6.77e-003 -11.0 3.78e-001    -  1.00e+000 1.25e-001f  4\n",
      "  45 7.5229826e-005 3.75e-004 8.38e-003 -11.0 2.02e-001    -  1.00e+000 2.50e-001h  3\n",
      "  46 5.5720849e-005 3.81e-004 9.79e-003 -11.0 3.91e-002    -  1.00e+000 1.25e-001h  4\n",
      "  47 4.6238777e-006 3.67e-004 1.29e-003 -11.0 1.14e-002    -  1.00e+000 1.00e+000h  1\n",
      "  48 5.0906425e-006 2.73e-006 2.94e-004 -11.0 7.50e-003    -  1.00e+000 1.00e+000h  1\n",
      "  49 1.1218687e-005 1.23e-006 1.80e-003 -11.0 3.66e-002    -  1.00e+000 1.00e+000H  1\n",
      "iter    objective    inf_pr   inf_du lg(mu)  ||d||  lg(rg) alpha_du alpha_pr  ls\n",
      "  50 1.0869731e-005 6.10e-007 1.97e-003 -11.0 1.20e-001    -  1.00e+000 6.25e-002h  5\n",
      "  51 1.2863665e-004 4.20e-010 5.62e-003 -11.0 5.80e-002    -  1.00e+000 1.00e+000H  1\n",
      "  52 9.1228919e-005 1.17e-010 4.13e-003 -11.0 4.01e-002    -  1.00e+000 1.00e+000F  1\n",
      "  53 8.3670060e-005 1.00e-007 4.11e-003 -11.0 5.69e-002    -  1.00e+000 1.56e-002f  7\n",
      "  54 6.8944300e-005 3.27e-007 8.42e-003 -11.0 9.68e-002    -  1.00e+000 1.00e+000H  1\n",
      "  55 6.2487417e-005 6.35e-007 7.77e-003 -11.0 3.92e-001    -  1.00e+000 3.91e-003h  9\n",
      "  56 3.0557088e-005 2.24e-004 1.53e-003 -11.0 5.49e-002    -  1.00e+000 1.00e+000h  1\n",
      "  57 6.2225759e-003 2.31e-007 5.18e-002 -11.0 2.22e-001    -  1.00e+000 1.00e+000H  1\n",
      "  58 1.9976985e-005 8.07e-003 2.60e-003 -11.0 2.12e-001    -  1.00e+000 1.00e+000f  1\n",
      "  59 1.2590917e-005 6.06e-003 1.27e-003 -11.0 1.66e-002    -  1.00e+000 2.50e-001h  3\n",
      "iter    objective    inf_pr   inf_du lg(mu)  ||d||  lg(rg) alpha_du alpha_pr  ls\n",
      "  60 6.8056224e-006 1.03e-005 1.49e-003 -11.0 2.00e-003    -  1.00e+000 1.00e+000h  1\n",
      "  61 4.6061303e-006 8.71e-007 6.05e-004 -11.0 3.66e-003    -  1.00e+000 1.00e+000h  1\n",
      "  62 6.0238380e-006 1.98e-008 7.66e-004 -11.0 7.86e-003    -  1.00e+000 1.00e+000H  1\n",
      "  63 5.7792221e-006 8.49e-007 4.85e-004 -11.0 2.40e-003    -  1.00e+000 1.00e+000h  1\n",
      "  64 6.8549333e-006 8.22e-011 6.45e-004 -11.0 6.60e-003    -  1.00e+000 1.00e+000H  1\n",
      "  65 5.3027197e-006 1.28e-006 6.86e-004 -11.0 4.21e-003    -  1.00e+000 1.00e+000h  1\n",
      "  66 1.5967979e-005 9.41e-013 2.56e-003 -11.0 9.41e-003    -  1.00e+000 1.00e+000H  1\n",
      "  67 4.6036834e-006 2.20e-008 2.69e-004 -11.0 6.62e-003    -  1.00e+000 1.00e+000F  1\n",
      "  68 7.6255538e-006 2.10e-013 6.91e-004 -11.0 6.97e-003    -  1.00e+000 1.00e+000H  1\n",
      "  69 5.4201860e-006 3.40e-009 5.93e-004 -11.0 3.54e-003    -  1.00e+000 1.00e+000F  1\n",
      "iter    objective    inf_pr   inf_du lg(mu)  ||d||  lg(rg) alpha_du alpha_pr  ls\n",
      "  70 5.8002101e-006 1.04e-010 7.47e-004 -11.0 5.40e-003    -  1.00e+000 1.00e+000H  1\n",
      "  71 4.9796351e-006 1.12e-009 5.03e-004 -11.0 2.19e-003    -  1.00e+000 1.00e+000H  1\n",
      "  72 4.9559856e-006 2.73e-009 3.85e-004 -11.0 2.65e-003    -  1.00e+000 1.00e+000H  1\n",
      "  73 4.4442626e-006 2.39e-007 2.88e-004 -11.0 1.10e-003    -  1.00e+000 1.00e+000h  1\n",
      "  74 4.2745350e-006 4.84e-007 2.11e-004 -11.0 9.89e-004    -  1.00e+000 1.00e+000h  1\n",
      "  75 4.2938377e-006 1.33e-008 1.48e-004 -11.0 1.78e-004    -  1.00e+000 1.00e+000h  1\n",
      "  76 4.2272576e-006 2.42e-008 2.89e-005 -11.0 2.11e-004    -  1.00e+000 1.00e+000h  1\n",
      "  77 4.2244731e-006 1.28e-009 2.42e-005 -11.0 2.84e-005    -  1.00e+000 1.00e+000h  1\n",
      "  78 4.1978042e-006 1.84e-007 1.47e-004 -11.0 5.60e-004    -  1.00e+000 1.00e+000h  1\n",
      "  79 8.2808486e-006 2.33e-011 9.43e-004 -11.0 6.97e-003    -  1.00e+000 1.00e+000H  1\n",
      "iter    objective    inf_pr   inf_du lg(mu)  ||d||  lg(rg) alpha_du alpha_pr  ls\n",
      "  80 9.8824531e-006 4.24e-012 1.73e-003 -11.0 1.31e-002    -  1.00e+000 1.00e+000H  1\n",
      "  81 9.8764155e-006 6.39e-012 1.73e-003 -11.0 2.81e-002    -  1.00e+000 1.22e-004h 14\n",
      "  82 5.5305382e-006 6.64e-010 6.09e-004 -11.0 1.84e-002    -  1.00e+000 1.00e+000H  1\n",
      "  83 5.4579008e-006 8.39e-010 6.03e-004 -11.0 1.72e-002    -  1.00e+000 3.91e-003h  9\n",
      "  84 3.7725643e-006 1.24e-006 2.38e-004 -11.0 7.10e-003    -  1.00e+000 1.00e+000h  1\n",
      "  85 3.5543652e-006 2.72e-006 4.37e-004 -11.0 1.22e-001    -  1.00e+000 6.25e-002h  5\n",
      "  86 3.3375674e-006 3.41e-006 3.68e-004 -11.0 8.91e-001    -  1.00e+000 7.81e-003h  8\n",
      "  87 3.1940505e-006 4.95e-006 5.97e-004 -11.0 9.90e-001    -  1.00e+000 7.81e-003h  8\n",
      "  88 3.1448779e-006 1.05e-005 1.05e-003 -11.0 1.66e+000    -  1.00e+000 7.81e-003h  8\n",
      "  89 3.0975471e-006 1.04e-005 1.03e-003 -11.0 8.44e-002    -  1.00e+000 1.56e-002h  7\n",
      "iter    objective    inf_pr   inf_du lg(mu)  ||d||  lg(rg) alpha_du alpha_pr  ls\n",
      "  90 3.0864515e-006 9.74e-006 9.34e-004 -11.0 2.41e-002    -  1.00e+000 6.25e-002h  5\n",
      "  91 3.1445203e-006 9.16e-006 7.21e-004 -11.0 4.23e-002    -  1.00e+000 1.25e-001h  4\n",
      "  92 3.0673985e-006 9.54e-006 7.11e-004 -11.0 4.14e-001    -  1.00e+000 7.81e-003h  8\n",
      "  93 3.0194931e-006 9.75e-006 6.32e-004 -11.0 4.67e-001    -  1.00e+000 7.81e-003h  8\n",
      "  94 2.9863668e-006 1.06e-005 5.57e-004 -11.0 1.42e+000    -  1.00e+000 3.91e-003h  9\n",
      "  95 1.7206928e-002 4.91e-002 1.00e-001 -11.0 1.33e+000    -  1.00e+000 1.00e+000w  1\n",
      "  96 6.7156252e-004 7.23e-002 2.46e-002 -11.0 1.22e+000    -  1.00e+000 1.00e+000w  1\n",
      "  97 1.5127123e+001 7.61e+005 5.20e+004 -11.0 1.22e+001    -  1.00e+000 1.00e+000w  1\n",
      "  98 2.8686659e-006 1.15e-005 3.79e-004 -11.0 1.58e+000    -  1.00e+000 3.91e-003h  8\n",
      "  99 2.8329318e-006 6.81e-008 1.35e-003 -11.0 1.02e-003    -  1.00e+000 1.00e+000h  1\n",
      "iter    objective    inf_pr   inf_du lg(mu)  ||d||  lg(rg) alpha_du alpha_pr  ls\n",
      " 100 2.7144288e-006 2.49e-007 1.45e-003 -11.0 2.10e-001    -  1.00e+000 7.81e-003h  8\n",
      " 101 3.0720854e-004 1.47e-014 9.25e-003 -11.0 1.99e-002    -  1.00e+000 1.00e+000H  1\n",
      " 102 2.9856841e-006 3.58e-010 4.56e-004 -11.0 1.64e-002    -  1.00e+000 1.00e+000F  1\n",
      " 103 1.2283653e-005 5.18e-013 1.80e-003 -11.0 6.42e-003    -  1.00e+000 1.00e+000H  1\n",
      " 104 2.6135790e-006 1.53e-006 9.58e-004 -11.0 2.61e-003    -  1.00e+000 1.00e+000f  1\n",
      " 105 2.6402523e-006 2.57e-007 1.64e-004 -11.0 1.98e-003    -  1.00e+000 1.00e+000h  1\n",
      " 106 2.6061290e-006 2.32e-007 1.59e-004 -11.0 3.09e-002    -  1.00e+000 3.12e-002h  6\n",
      " 107 2.5688397e-006 8.30e-007 3.88e-004 -11.0 1.23e-001    -  1.00e+000 3.12e-002h  6\n",
      " 108 2.5575758e-006 9.50e-007 5.05e-004 -11.0 3.45e-001    -  1.00e+000 7.81e-003h  8\n",
      " 109 2.5445176e-006 4.02e-006 4.96e-004 -11.0 1.85e-001    -  1.00e+000 6.25e-002h  5\n",
      "iter    objective    inf_pr   inf_du lg(mu)  ||d||  lg(rg) alpha_du alpha_pr  ls\n",
      " 110 2.5493191e-006 4.00e-006 5.10e-004 -11.0 2.83e-001    -  1.00e+000 3.91e-003h  9\n",
      " 111 2.5340857e-006 3.50e-006 4.65e-004 -11.0 1.01e-002    -  1.00e+000 1.25e-001h  4\n",
      " 112 2.5274733e-006 9.69e-006 5.09e-004 -11.0 4.56e-002    -  1.00e+000 2.50e-001h  3\n",
      " 113 2.0637062e-006 1.61e-005 7.07e-004 -11.0 7.71e-001    -  1.00e+000 1.56e-002h  7\n",
      " 114 1.8804890e-006 1.58e-005 1.16e-003 -11.0 1.40e-001    -  1.00e+000 3.12e-002h  6\n",
      " 115 1.5201171e-006 1.62e-005 8.80e-004 -11.0 7.21e-001    -  1.00e+000 1.56e-002h  7\n",
      "\n",
      "Number of Iterations....: 115\n",
      "\n",
      "                                   (scaled)                 (unscaled)\n",
      "Objective...............:  1.5201171424574118e-006   1.5201171424574118e-006\n",
      "Dual infeasibility......:  8.8048320111291803e-004   8.8048320111291803e-004\n",
      "Constraint violation....:  1.6209350063158142e-005   1.6209350063158142e-005\n",
      "Complementarity.........:  0.0000000000000000e+000   0.0000000000000000e+000\n",
      "Overall NLP error.......:  8.8048320111291803e-004   8.8048320111291803e-004\n",
      "\n",
      "\n",
      "Number of objective function evaluations             = 598\n",
      "Number of objective gradient evaluations             = 116\n",
      "Number of equality constraint evaluations            = 598\n",
      "Number of inequality constraint evaluations          = 0\n",
      "Number of equality constraint Jacobian evaluations   = 116\n",
      "Number of inequality constraint Jacobian evaluations = 0\n",
      "Number of Lagrangian Hessian evaluations             = 0\n",
      "Total CPU secs in IPOPT (w/o function evaluations)   =      0.244\n",
      "Total CPU secs in NLP function evaluations           =      0.250\n",
      "\n",
      "EXIT: Maximum Number of Iterations Exceeded.\n"
     ]
    },
    {
     "name": "stderr",
     "output_type": "stream",
     "text": [
      "\u001b[1m\u001b[33mWARNING: \u001b[39m\u001b[22m\u001b[33mNot solved to optimality, status: UserLimit\u001b[39m\n"
     ]
    },
    {
     "data": {
      "text/plain": [
       ":UserLimit"
      ]
     },
     "execution_count": 112,
     "metadata": {},
     "output_type": "execute_result"
    }
   ],
   "source": [
    "solve(m)"
   ]
  },
  {
   "cell_type": "code",
   "execution_count": 113,
   "metadata": {},
   "outputs": [
    {
     "data": {
      "text/plain": [
       "99-element Array{Float64,1}:\n",
       " 1.21246\n",
       " 1.42047\n",
       " 1.62139\n",
       " 1.81398\n",
       " 1.99754\n",
       " 2.17172\n",
       " 2.33641\n",
       " 2.49168\n",
       " 2.6377 \n",
       " 2.77478\n",
       " 2.90323\n",
       " 3.02345\n",
       " 3.13584\n",
       " ⋮      \n",
       " 4.62441\n",
       " 4.62479\n",
       " 4.62515\n",
       " 4.62547\n",
       " 4.62578\n",
       " 4.62606\n",
       " 4.62632\n",
       " 4.62656\n",
       " 4.62678\n",
       " 4.62699\n",
       " 4.62718\n",
       " 4.62736"
      ]
     },
     "execution_count": 113,
     "metadata": {},
     "output_type": "execute_result"
    }
   ],
   "source": [
    "getvalue(predictedK).innerArray"
   ]
  },
  {
   "cell_type": "code",
   "execution_count": 114,
   "metadata": {},
   "outputs": [
    {
     "data": {
      "text/plain": [
       "5-element Array{Float64,1}:\n",
       " 0.950102 \n",
       " 0.0508327\n",
       " 0.301268 \n",
       " 1.00046  \n",
       " 1.99958  "
      ]
     },
     "execution_count": 114,
     "metadata": {},
     "output_type": "execute_result"
    }
   ],
   "source": [
    "[getvalue(β), getvalue(δ), getvalue(α), getvalue(A), getvalue(γ)]"
   ]
  },
  {
   "cell_type": "code",
   "execution_count": 115,
   "metadata": {},
   "outputs": [
    {
     "data": {
      "text/plain": [
       "10-element Array{Float64,1}:\n",
       " -0.256694  \n",
       " -0.419173  \n",
       " -0.204645  \n",
       " -0.00880642\n",
       "  0.0775088 \n",
       "  0.0660795 \n",
       "  0.0237237 \n",
       " -0.00167881\n",
       " -0.00523049\n",
       " -0.00171126"
      ]
     },
     "execution_count": 115,
     "metadata": {},
     "output_type": "execute_result"
    }
   ],
   "source": [
    "getvalue(coeff) - true_coeff"
   ]
  },
  {
   "cell_type": "code",
   "execution_count": 116,
   "metadata": {},
   "outputs": [
    {
     "data": {
      "text/html": [
       "<img src=\"data:image/png;base64,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\" />"
      ]
     },
     "execution_count": 116,
     "metadata": {},
     "output_type": "execute_result"
    }
   ],
   "source": [
    "plot(hcat(getvalue(predictedC), dataC))"
   ]
  },
  {
   "cell_type": "code",
   "execution_count": 117,
   "metadata": {},
   "outputs": [
    {
     "data": {
      "text/html": [
       "<img src=\"data:image/png;base64,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\" />"
      ]
     },
     "execution_count": 117,
     "metadata": {},
     "output_type": "execute_result"
    }
   ],
   "source": [
    "plot(K, hcat(Ψ * true_coeff, Ψ * getvalue(coeff)))"
   ]
  },
  {
   "cell_type": "markdown",
   "metadata": {},
   "source": [
    "The approximation is only good within the actually observed data, that is very bad! Macro is about what agent think can happen and what they would do."
   ]
  },
  {
   "cell_type": "markdown",
   "metadata": {},
   "source": [
    "### Variante B\n",
    "use 10 EE as constraints and gap between predition and data as objective function!\n",
    "makes more sense in order to target moments of data more easily\n",
    "but auto will not be able to differentiate through the function that creats the basis matrix!"
   ]
  },
  {
   "cell_type": "code",
   "execution_count": 44,
   "metadata": {},
   "outputs": [
    {
     "data": {
      "text/plain": [
       "u_crra_prime_inv (generic function with 1 method)"
      ]
     },
     "execution_count": 44,
     "metadata": {},
     "output_type": "execute_result"
    }
   ],
   "source": [
    "u_crra_prime(c, γ) = begin\n",
    "    if (c <= 0)\n",
    "        return -1000000.\n",
    "        else\n",
    "        return c.^-γ\n",
    "    end\n",
    "end\n",
    "u_crra_prime_inv(u, γ) = u.^(-1/γ)"
   ]
  },
  {
   "cell_type": "code",
   "execution_count": 119,
   "metadata": {},
   "outputs": [],
   "source": [
    "k_stst = 4.628988089138438 #reference point of the grid\n",
    "basis = Basis(ChebParams(10, 0.2*k_stst, 2*k_stst))\n",
    "K = nodes(basis)[1] #grid\n",
    "Ψ = BasisMatrix(basis, Expanded(), K).vals[1] #\\Psi(k)\n",
    "\n",
    "m = Model(solver=IpoptSolver(print_level=5, max_iter=110))\n",
    "\n",
    "@variable(m, 0 <= β <= 1, start = 1)\n",
    "@variable(m, 0 <= δ <= 1, start = 1)\n",
    "@variable(m, 0 <= α <= 1, start = 1)\n",
    "@variable(m, A >= 0, start = 1)\n",
    "@variable(m, γ >= 0, start = 1)\n",
    "\n",
    "@variable(m, θ[1:10], start = 0)\n",
    "setvalue(θ[1], 1)\n",
    "setvalue(θ[2], 0.12)\n",
    "setvalue(θ[3], -.26)\n",
    "\n",
    "@variable(m, Kprime[1:10] >= 0, start = 1)\n",
    "@variable(m, predictedK[2:100] >= 0, start = 0.01)\n",
    "@variable(m, predictedC[1:100] >= .001, start = 1)\n",
    "@variable(m, predictedCprime[1:10] >= .001, start = 1)\n",
    "\n",
    "JuMP.register(m, :u_crra_prime, 2, u_crra_prime, autodiff=true)\n",
    "JuMP.register(m, :f, 3, f, autodiff=true)\n",
    "JuMP.register(m, :f_prime, 3, f_prime, autodiff=true)"
   ]
  },
  {
   "cell_type": "code",
   "execution_count": 120,
   "metadata": {},
   "outputs": [
    {
     "data": {
      "text/plain": [
       "Ψprime (generic function with 1 method)"
      ]
     },
     "execution_count": 120,
     "metadata": {},
     "output_type": "execute_result"
    }
   ],
   "source": [
    "function Ψprime(x, order)\n",
    "    k_stst = 4.628988089138438\n",
    "    a = 0.2*k_stst\n",
    "    b = 2*k_stst\n",
    "        \n",
    "    z = (2/(b-a)) * (x-(a+b)/2)\n",
    "    \n",
    "    if (order == 1)\n",
    "        return 1.\n",
    "    elseif (order == 2)\n",
    "        return z\n",
    "    else\n",
    "\n",
    "        out1 = 1.\n",
    "        out2 = z\n",
    "        out3 = 0.\n",
    "\n",
    "        for j in 3:order\n",
    "            out3 = 2. * z * out2 - out1\n",
    "            out1 = out2\n",
    "            out2 = out3\n",
    "        end\n",
    "\n",
    "        return out3\n",
    "    end\n",
    "end"
   ]
  },
  {
   "cell_type": "code",
   "execution_count": 121,
   "metadata": {},
   "outputs": [],
   "source": [
    "JuMP.register(m, :Ψprime, 2, Ψprime, autodiff=true)"
   ]
  },
  {
   "cell_type": "code",
   "execution_count": 122,
   "metadata": {
    "scrolled": true
   },
   "outputs": [],
   "source": [
    "@NLconstraint(m, EE[i=1:10], u_crra_prime(sum(Ψ[i, k] * θ[k] for k in 1:10), γ) == \n",
    "    β*u_crra_prime(predictedCprime[i], γ) * \n",
    "    (f_prime(Kprime[i], α, A)));"
   ]
  },
  {
   "cell_type": "code",
   "execution_count": 123,
   "metadata": {},
   "outputs": [],
   "source": [
    "@NLconstraint(m, calcKprime[i=1:10], Kprime[i] == f(K[i], α, A) + (1-δ)*K[i] - sum(Ψ[i, k] * θ[k] for k in 1:10));\n",
    "@NLconstraint(m, LOM[t=2:100], predictedK[t] == f(dataK[t-1], α, A) + (1-δ)*dataK[t-1] - dataC[t-1])\n",
    "@NLconstraint(m, consumption[t=1:100], predictedC[t] == sum(Φ[t, k] * θ[k] for k in 1:10))\n",
    "@NLconstraint(m, consumptionprime[i=1:10], predictedCprime[i] == sum(Ψprime(Kprime[i], k) * θ[k] for k in 1:10));"
   ]
  },
  {
   "cell_type": "code",
   "execution_count": 124,
   "metadata": {},
   "outputs": [],
   "source": [
    "@NLobjective(m, Min, sum((dataC[t] - predictedC[t])^2 for t in 1:100) + \n",
    "    sum((dataK[t] - predictedK[t])^2 for t in 2:100))"
   ]
  },
  {
   "cell_type": "code",
   "execution_count": 125,
   "metadata": {
    "scrolled": true
   },
   "outputs": [
    {
     "name": "stdout",
     "output_type": "stream",
     "text": [
      "This is Ipopt version 3.12.2, running with linear solver mumps.\n",
      "NOTE: Other linear solvers might be more efficient (see Ipopt documentation).\n",
      "\n",
      "Number of nonzeros in equality constraint Jacobian...:     1916\n",
      "Number of nonzeros in inequality constraint Jacobian.:        0\n",
      "Number of nonzeros in Lagrangian Hessian.............:        0\n",
      "\n",
      "Total number of variables............................:      234\n",
      "                     variables with only lower bounds:      221\n",
      "                variables with lower and upper bounds:        3\n",
      "                     variables with only upper bounds:        0\n",
      "Total number of equality constraints.................:      229\n",
      "Total number of inequality constraints...............:        0\n",
      "        inequality constraints with only lower bounds:        0\n",
      "   inequality constraints with lower and upper bounds:        0\n",
      "        inequality constraints with only upper bounds:        0\n",
      "\n",
      "iter    objective    inf_pr   inf_du lg(mu)  ||d||  lg(rg) alpha_du alpha_pr  ls\n",
      "   0 1.7516951e+003 7.23e+000 9.10e+000   0.0 0.00e+000    -  0.00e+000 0.00e+000   0\n",
      "   1 1.5514745e+003 2.62e+000 6.56e+001  -0.8 1.02e+000    -  8.50e-002 9.67e-001f  1\n",
      "   2 9.6264174e+002 2.81e+000 9.59e+002  -0.7 5.77e+000    -  6.71e-002 2.19e-001f  1\n",
      "   3 7.8275681e+002 2.79e+000 3.51e+002   0.9 1.86e+001    -  1.00e+000 4.20e-002f  1\n",
      "   4 3.0315254e+002 6.23e-001 2.20e+003   0.8 2.09e+000    -  6.50e-001 1.00e+000f  1\n",
      "   5 3.9291067e+002 1.84e+000 2.84e+003   0.9 4.30e+000    -  6.81e-001 1.00e+000f  1\n",
      "   6 2.4527015e+002 1.33e-001 6.99e+001   0.8 1.28e+000    -  1.00e+000 1.00e+000f  1\n",
      "   7 6.7249715e+001 2.04e-001 1.87e+002   0.3 1.99e+000    -  9.95e-001 1.00e+000f  1\n",
      "   8 1.7767633e+001 3.30e-002 2.51e+002  -0.5 2.73e+000    -  1.00e+000 1.00e+000f  1\n",
      "   9 6.1732830e+000 1.34e+000 2.90e+003  -0.6 1.71e+000    -  1.00e+000 4.01e-001f  1\n",
      "iter    objective    inf_pr   inf_du lg(mu)  ||d||  lg(rg) alpha_du alpha_pr  ls\n",
      "  10 2.2744114e+000 4.08e+000 3.48e+003  -0.8 1.21e+000    -  1.00e+000 7.48e-001f  1\n",
      "  11 1.6486778e+000 1.48e+000 3.52e+002  -1.8 1.21e-001    -  1.00e+000 8.67e-001h  1\n",
      "  12 2.1915426e+000 3.34e-001 1.82e+002  -1.8 3.81e-001    -  1.00e+000 9.66e-001h  1\n",
      "  13 2.4701336e-001 4.45e+000 9.66e+001  -2.7 7.02e-001    -  1.00e+000 1.00e+000f  1\n",
      "  14 1.0516155e-001 2.57e-001 1.16e+001  -3.9 5.33e-002    -  1.00e+000 1.00e+000h  1\n",
      "  15 9.8105566e-002 1.90e-002 1.31e+000  -3.8 1.08e-002    -  1.00e+000 1.00e+000h  1\n",
      "  16 9.7482588e-002 5.93e-004 4.51e-001  -4.1 7.45e-003    -  1.00e+000 1.00e+000h  1\n",
      "  17 9.7212805e-002 1.09e-005 2.60e-002  -6.0 1.58e-002    -  1.00e+000 9.36e-001h  1\n",
      "  18 9.6429233e-002 2.99e-004 2.77e-001  -7.4 9.36e-002    -  1.00e+000 9.94e-001h  1\n",
      "  19 1.0149297e-001 5.55e-004 1.75e+000  -8.3 1.19e+000    -  1.00e+000 1.00e+000H  1\n",
      "iter    objective    inf_pr   inf_du lg(mu)  ||d||  lg(rg) alpha_du alpha_pr  ls\n",
      "  20 7.8058122e-002 1.94e-001 5.25e+000  -8.4 2.15e+000    -  1.00e+000 1.00e+000f  1\n",
      "  21 7.5992356e-002 2.13e-001 6.81e+000  -6.4 1.61e+002    -  1.00e+000 3.64e-003h  2\n",
      "  22 6.1057960e-002 2.12e-001 4.60e+000  -7.4 2.74e+000    -  1.00e+000 4.29e-001h  1\n",
      "  23 7.7278319e-002 1.30e-001 1.70e+000  -7.4 1.15e+000    -  1.00e+000 1.00e+000h  1\n",
      "  24 6.3419001e-002 7.28e-002 1.96e+000  -7.6 1.03e+000    -  1.00e+000 4.57e-001h  1\n",
      "  25 5.4425060e-002 5.60e-002 1.47e+000  -5.7 1.01e+000    -  1.00e+000 1.00e+000h  1\n",
      "  26 5.6873139e-002 3.07e-003 7.24e-001  -4.9 3.53e-001    -  1.00e+000 1.00e+000h  1\n",
      "  27 7.6059803e-002 1.95e-003 7.74e-001  -6.5 2.05e-001    -  1.00e+000 1.00e+000h  1\n",
      "  28 5.3798576e-002 2.81e-004 9.59e-002  -4.8 3.36e-002    -  1.00e+000 1.00e+000h  1\n",
      "  29 5.3611180e-002 2.30e-004 2.69e-002  -6.3 7.07e-002    -  1.00e+000 7.10e-001h  1\n",
      "iter    objective    inf_pr   inf_du lg(mu)  ||d||  lg(rg) alpha_du alpha_pr  ls\n",
      "  30 5.3607064e-002 4.15e-005 4.43e-003  -6.9 2.54e-002    -  1.00e+000 1.00e+000h  1\n",
      "  31 5.3604772e-002 3.78e-006 2.22e-003  -8.4 7.12e-003    -  1.00e+000 1.00e+000h  1\n",
      "  32 5.3604226e-002 5.65e-006 3.93e-004 -10.2 8.83e-003    -  1.00e+000 1.00e+000h  1\n",
      "  33 5.3604387e-002 6.97e-007 8.14e-004 -11.0 3.22e-003    -  1.00e+000 1.00e+000h  1\n",
      "  34 5.3604245e-002 3.51e-007 5.43e-007 -11.0 2.30e-003    -  1.00e+000 1.00e+000h  1\n",
      "  35 5.3604243e-002 3.72e-011 6.53e-007 -11.0 2.26e-005    -  1.00e+000 1.00e+000h  1\n",
      "  36 5.3604243e-002 2.66e-015 1.57e-006 -11.0 6.79e-005    -  1.00e+000 1.00e+000H  1\n",
      "  37 5.3604243e-002 6.16e-010 4.59e-007 -11.0 9.15e-005    -  1.00e+000 1.00e+000h  1\n",
      "  38 5.3604243e-002 6.06e-011 5.61e-007 -11.0 3.00e-005    -  1.00e+000 1.00e+000h  1\n",
      "  39 5.3604243e-002 5.76e-012 2.93e-008 -11.0 9.66e-006    -  1.00e+000 1.00e+000h  1\n",
      "iter    objective    inf_pr   inf_du lg(mu)  ||d||  lg(rg) alpha_du alpha_pr  ls\n",
      "  40 5.3604243e-002 9.77e-015 1.56e-009 -11.0 1.47e-007    -  1.00e+000 1.00e+000h  1\n",
      "\n",
      "Number of Iterations....: 40\n",
      "\n",
      "                                   (scaled)                 (unscaled)\n",
      "Objective...............:  5.3604243391456446e-002   5.3604243391456446e-002\n",
      "Dual infeasibility......:  1.5583359439472119e-009   1.5583359439472119e-009\n",
      "Constraint violation....:  9.7699626167013776e-015   9.7699626167013776e-015\n",
      "Complementarity.........:  1.0000000000000001e-011   1.0000000000000001e-011\n",
      "Overall NLP error.......:  1.5583359439472119e-009   1.5583359439472119e-009\n",
      "\n",
      "\n",
      "Number of objective function evaluations             = 47\n",
      "Number of objective gradient evaluations             = 41\n",
      "Number of equality constraint evaluations            = 47\n",
      "Number of inequality constraint evaluations          = 0\n",
      "Number of equality constraint Jacobian evaluations   = 41\n",
      "Number of inequality constraint Jacobian evaluations = 0\n",
      "Number of Lagrangian Hessian evaluations             = 0\n",
      "Total CPU secs in IPOPT (w/o function evaluations)   =      0.066\n",
      "Total CPU secs in NLP function evaluations           =      0.012\n",
      "\n",
      "EXIT: Optimal Solution Found.\n"
     ]
    },
    {
     "data": {
      "text/plain": [
       ":Optimal"
      ]
     },
     "execution_count": 125,
     "metadata": {},
     "output_type": "execute_result"
    }
   ],
   "source": [
    "solve(m)"
   ]
  },
  {
   "cell_type": "code",
   "execution_count": 126,
   "metadata": {},
   "outputs": [
    {
     "data": {
      "text/html": [
       "<img src=\"data:image/png;base64,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\" />"
      ]
     },
     "execution_count": 126,
     "metadata": {},
     "output_type": "execute_result"
    }
   ],
   "source": [
    "plot(K, hcat(Ψ * true_coeff, Ψ * getvalue(θ)))"
   ]
  },
  {
   "cell_type": "code",
   "execution_count": 127,
   "metadata": {},
   "outputs": [
    {
     "ename": "LoadError",
     "evalue": "\u001b[91msyntax: invalid assignment location \"1\"\u001b[39m",
     "output_type": "error",
     "traceback": [
      "\u001b[91msyntax: invalid assignment location \"1\"\u001b[39m",
      "",
      "Stacktrace:",
      " [1] \u001b[1minclude_string\u001b[22m\u001b[22m\u001b[1m(\u001b[22m\u001b[22m::String, ::String\u001b[1m)\u001b[22m\u001b[22m at \u001b[1m.\\loading.jl:515\u001b[22m\u001b[22m"
     ]
    }
   ],
   "source": [
    "β = 0.95, δ = 0.05, α = 0.3, A = 1, γ = 2"
   ]
  },
  {
   "cell_type": "code",
   "execution_count": 128,
   "metadata": {},
   "outputs": [
    {
     "data": {
      "text/plain": [
       "(1.0, 1.0, 0.7726128776676786, 1.8278183504589325, 4.871512047469304)"
      ]
     },
     "execution_count": 128,
     "metadata": {},
     "output_type": "execute_result"
    }
   ],
   "source": [
    "getvalue(β), getvalue(δ), getvalue(α), getvalue(A), getvalue(γ)"
   ]
  },
  {
   "cell_type": "code",
   "execution_count": 129,
   "metadata": {},
   "outputs": [
    {
     "data": {
      "text/plain": [
       "10-element Array{Float64,1}:\n",
       " 1.11405\n",
       " 1.53644\n",
       " 2.30882\n",
       " 3.32059\n",
       " 4.4535 \n",
       " 5.59383\n",
       " 6.63956\n",
       " 7.5045 \n",
       " 8.12045\n",
       " 8.44043"
      ]
     },
     "execution_count": 129,
     "metadata": {},
     "output_type": "execute_result"
    }
   ],
   "source": [
    "getvalue(Kprime)"
   ]
  },
  {
   "cell_type": "code",
   "execution_count": 130,
   "metadata": {},
   "outputs": [
    {
     "data": {
      "text/plain": [
       "10-element Array{Float64,1}:\n",
       " 0.977089\n",
       " 1.37987 \n",
       " 2.14602 \n",
       " 3.20052 \n",
       " 4.44017 \n",
       " 5.74361 \n",
       " 6.98325 \n",
       " 8.03776 \n",
       " 8.8039  \n",
       " 9.20668 "
      ]
     },
     "execution_count": 130,
     "metadata": {},
     "output_type": "execute_result"
    }
   ],
   "source": [
    "K"
   ]
  },
  {
   "cell_type": "code",
   "execution_count": null,
   "metadata": {
    "collapsed": true
   },
   "outputs": [],
   "source": []
  }
 ],
 "metadata": {
  "kernelspec": {
   "display_name": "Julia 0.6.0",
   "language": "julia",
   "name": "julia-0.6"
  },
  "language_info": {
   "file_extension": ".jl",
   "mimetype": "application/julia",
   "name": "julia",
   "version": "0.6.0"
  }
 },
 "nbformat": 4,
 "nbformat_minor": 2
}
