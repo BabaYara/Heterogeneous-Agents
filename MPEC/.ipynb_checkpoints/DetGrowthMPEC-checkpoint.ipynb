{
 "cells": [
  {
   "cell_type": "markdown",
   "metadata": {},
   "source": [
    "This notebook solves a household problem in a deterministic growth economy using am MPEC method.\n",
    "Model\n",
    "--\n",
    "The household chooses its consumption and savings while being constraint by its budget set. Saved capital is used for production next period. Produced goods and leftover capital are returned to the household.\n",
    "\n",
    "The sequence problem:\n",
    "$$\\underset{ \\left(c_t, k_{t+1}\\right)_{t=0}^\\infty } {max} \\sum_{t=0}^\\infty \\beta^t \\, u( c_t )$$\n",
    "s.t.\n",
    "$$k_{t+1} = f(k_t) + (1-\\delta) k_t - c_t \\quad \\forall t$$\n",
    "$$k_0 \\, \\text{given}$$\n",
    "\n",
    "can be written recursively as:\n",
    "\n",
    "$$V(k) = \\underset{ c } {max} \\, u( c ) + \\beta \\, V \\big( f(k) + (1-\\delta) k -c \\big)$$\n",
    "The solution of this Bellman equation is a policy function $c(k)$ for consumption."
   ]
  },
  {
   "cell_type": "markdown",
   "metadata": {},
   "source": [
    "Using the first-order condition and the envelope theorem yields:\n",
    "$$u'\\Big(\\Psi(k) \\cdot \\theta\\Big) =\\beta \\, u'\\Big( \\Psi \\big( f(k) +(1- \\delta)k- \\Psi(k) \\cdot \\theta\\big)\\cdot \\theta \\Big)  \\, \\Big( f'\\big(f(k) +(1- \\delta)k - \\Psi(k) \\cdot \\theta \\big) + (1-\\delta) \\Big)\\quad\\forall k$$\n"
   ]
  },
  {
   "cell_type": "markdown",
   "metadata": {},
   "source": [
    "Numerical Method\n",
    "--\n"
   ]
  },
  {
   "cell_type": "markdown",
   "metadata": {},
   "source": [
    "## Collocation Method and Simulation"
   ]
  },
  {
   "cell_type": "code",
   "execution_count": 1,
   "metadata": {},
   "outputs": [],
   "source": [
    "using Parameters\n",
    "using BasisMatrices\n",
    "using LaTeXStrings\n",
    "using Plots; pyplot();"
   ]
  },
  {
   "cell_type": "code",
   "execution_count": 2,
   "metadata": {},
   "outputs": [
    {
     "data": {
      "text/plain": [
       "u_crra_prime_inv (generic function with 1 method)"
      ]
     },
     "execution_count": 2,
     "metadata": {},
     "output_type": "execute_result"
    }
   ],
   "source": [
    "@with_kw immutable GrowthModel\n",
    "    β::Float64                           # discount factor\n",
    "    δ::Float64                           # depreciation of capital\n",
    "    α::Float64                           # capital share\n",
    "    A::Float64                           # productivity\n",
    "    γ::Float64                           # RRA\n",
    "end\n",
    "\n",
    "model = GrowthModel(β = 0.95, δ = 0.05, α = 0.3, A = 1, γ = 2)\n",
    "\n",
    "function steady_state_k(model::GrowthModel)\n",
    "    @unpack β, α, A, δ = model\n",
    "    ((1/β-(1-δ))/(A*α))^(1/(α-1))\n",
    "end\n",
    "\n",
    "function f(model::GrowthModel, k)\n",
    "    @unpack α, A, δ = model\n",
    "    A*k.^α\n",
    "end\n",
    "\n",
    "function f_prime(model::GrowthModel, k)\n",
    "    @unpack α, A, δ = model\n",
    "    A*α*k.^(α-1)\n",
    "end\n",
    "\n",
    "u_crra_prime(c, γ) = c.^-γ\n",
    "u_crra_prime_inv(u, γ) = u.^(-1/γ)"
   ]
  },
  {
   "cell_type": "code",
   "execution_count": 3,
   "metadata": {},
   "outputs": [
    {
     "data": {
      "text/html": [
       "4.628988089138438"
      ],
      "text/plain": [
       "4.628988089138438"
      ]
     },
     "execution_count": 3,
     "metadata": {},
     "output_type": "execute_result"
    }
   ],
   "source": [
    "k_stst = steady_state_k(model)"
   ]
  },
  {
   "cell_type": "code",
   "execution_count": 4,
   "metadata": {},
   "outputs": [
    {
     "data": {
      "text/plain": [
       "solve_and_simulate (generic function with 1 method)"
      ]
     },
     "execution_count": 4,
     "metadata": {},
     "output_type": "execute_result"
    }
   ],
   "source": [
    "function solve_and_simulate(model, N; k0=1.)\n",
    "    @unpack β, α, A, δ, γ = model\n",
    "    \n",
    "    #solve\n",
    "\n",
    "    k_stst = steady_state_k(model)\n",
    "\n",
    "    basis = Basis(ChebParams(10, 0.2*k_stst, 2*k_stst))\n",
    "\n",
    "    Ψ = BasisMatrix(basis, Expanded()).vals[1]\n",
    "    K = nodes(basis)[1]\n",
    "\n",
    "    a = [1, 0, 0, 0, 0, 0, 0, 0, 0, 0]\n",
    "    a_old = zeros(a)\n",
    "    \n",
    "    stop = false\n",
    "    \n",
    "    @time while !stop\n",
    "\n",
    "        a_old = a\n",
    "    \n",
    "        Y = u_crra_prime_inv(β*u_crra_prime(BasisMatrix(basis, Expanded(), f(model,K) + (1-δ)*K - Ψ*a).vals[1]*a, γ) .* \n",
    "                (f_prime(model, f(model,K) + (1-δ)*K - Ψ*a) + 1-δ), γ)\n",
    "\n",
    "        a = Ψ \\ Y\n",
    "\n",
    "        if maximum(abs.(u_crra_prime(Y, γ)./u_crra_prime(Ψ*a_old, γ) - 1)) < 1e-10\n",
    "            stop = true\n",
    "        end\n",
    "    end\n",
    "    \n",
    "    #simulate\n",
    "    simK = zeros(N)\n",
    "    simC = zeros(N)\n",
    "    \n",
    "    simK[1] = k0\n",
    "    \n",
    "    \n",
    "    for t in 1:N-1\n",
    "        simC[t] = (BasisMatrix(basis, Expanded(), [simK[t]]).vals[1] * a)[1]\n",
    "        simK[t+1] = f(model,simK[t]) + (1-δ)*simK[t] - simC[t]\n",
    "    end\n",
    "    \n",
    "    simC[N] = (BasisMatrix(basis, Expanded(), [simK[N]]).vals[1] * a)[1]\n",
    "    \n",
    "    return (simK, simC, a)\n",
    "end\n"
   ]
  },
  {
   "cell_type": "code",
   "execution_count": 5,
   "metadata": {},
   "outputs": [
    {
     "name": "stdout",
     "output_type": "stream",
     "text": [
      "  0.118015 seconds (10.03 k allocations: 1.933 MiB)\n"
     ]
    },
    {
     "data": {
      "text/plain": [
       "10-element Array{Float64,1}:\n",
       "  1.35054    \n",
       "  0.544286   \n",
       " -0.0634735  \n",
       "  0.0167686  \n",
       " -0.00554682 \n",
       "  0.00203287 \n",
       " -0.000791507\n",
       "  0.000351972\n",
       " -0.000172349\n",
       "  5.71702e-5 "
      ]
     },
     "execution_count": 5,
     "metadata": {},
     "output_type": "execute_result"
    }
   ],
   "source": [
    "(dataK, dataC, true_coeff) = solve_and_simulate(model, 100; k0=1.);\n",
    "true_coeff"
   ]
  },
  {
   "cell_type": "code",
   "execution_count": 6,
   "metadata": {},
   "outputs": [
    {
     "data": {
      "text/html": [
       "<img src=\"data:image/png;base64,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\" />"
      ]
     },
     "execution_count": 6,
     "metadata": {},
     "output_type": "execute_result"
    }
   ],
   "source": [
    "plot(dataK, label=\"capital\")\n",
    "plot!(dataC, label=\"consumption\")"
   ]
  },
  {
   "cell_type": "code",
   "execution_count": 7,
   "metadata": {},
   "outputs": [
    {
     "data": {
      "text/plain": [
       "10-element Array{Float64,1}:\n",
       " 1.19027\n",
       " 1.58223\n",
       " 2.31211\n",
       " 3.30116\n",
       " 4.45398\n",
       " 5.66037\n",
       " 6.80466\n",
       " 7.77679\n",
       " 8.48254\n",
       " 8.85344"
      ]
     },
     "execution_count": 7,
     "metadata": {},
     "output_type": "execute_result"
    }
   ],
   "source": [
    "basis = Basis(ChebParams(10, 0.2*k_stst, 2*k_stst))\n",
    "K = nodes(basis)[1]\n",
    "Ψ = BasisMatrix(basis, Expanded()).vals[1]\n",
    "f(model,K) + (1-model.δ)*K - Ψ * true_coeff"
   ]
  },
  {
   "cell_type": "markdown",
   "metadata": {},
   "source": [
    "## MPEC"
   ]
  },
  {
   "cell_type": "code",
   "execution_count": 8,
   "metadata": {},
   "outputs": [],
   "source": [
    "using JuMP\n",
    "using Ipopt"
   ]
  },
  {
   "cell_type": "code",
   "execution_count": 9,
   "metadata": {},
   "outputs": [
    {
     "data": {
      "text/plain": [
       "f_prime (generic function with 2 methods)"
      ]
     },
     "execution_count": 9,
     "metadata": {},
     "output_type": "execute_result"
    }
   ],
   "source": [
    "function f(k, α, A)\n",
    "    A*k^α\n",
    "end\n",
    "\n",
    "function f_prime(k, α, A)\n",
    "    A*α*k^(α-1)\n",
    "end"
   ]
  },
  {
   "cell_type": "code",
   "execution_count": 10,
   "metadata": {},
   "outputs": [
    {
     "data": {
      "text/plain": [
       "1 dimensional Basis on the hypercube formed by (0.9257976178276875,) × (9.257976178276875,).\n",
       "Basis families are Cheb\n"
      ]
     },
     "execution_count": 10,
     "metadata": {},
     "output_type": "execute_result"
    }
   ],
   "source": [
    "basis = Basis(ChebParams(10, 0.2*k_stst, 2*k_stst))"
   ]
  },
  {
   "cell_type": "code",
   "execution_count": 11,
   "metadata": {},
   "outputs": [],
   "source": [
    "K = nodes(basis)[1]\n",
    "Ψ = BasisMatrix(basis, Expanded(), K).vals[1];"
   ]
  },
  {
   "cell_type": "markdown",
   "metadata": {},
   "source": [
    "### Variante A\n",
    "\n",
    "EE on a grid as a constraint is problematic since next period's capital is a function of deep parameters!\n",
    "filling in realized consumption next period is infeasible (or maybe some form of rational expectations?!) in stochastic models!"
   ]
  },
  {
   "cell_type": "code",
   "execution_count": 22,
   "metadata": {},
   "outputs": [],
   "source": [
    "m = Model(solver=IpoptSolver(print_level=5, max_iter = 500))\n",
    "\n",
    "@variable(m, β, start = 1)\n",
    "@variable(m, δ, start = 1)\n",
    "@variable(m, α, start = 0.6)\n",
    "@variable(m, A, start = 1)\n",
    "@variable(m, γ, start = 1)\n",
    "\n",
    "@variable(m, coeff[1:10], start = 0)\n",
    "setvalue(coeff[1], 1)\n",
    "\n",
    "@variable(m, predictedK[2:100], start = 1)\n",
    "@variable(m, predictedC[1:100], start = 1)\n",
    "@variable(m, EEerror[1:99])\n",
    "\n",
    "JuMP.register(m, :u_crra_prime, 2, u_crra_prime, autodiff=true)\n",
    "JuMP.register(m, :f, 3, f, autodiff=true)\n",
    "JuMP.register(m, :f_prime, 3, f_prime, autodiff=true)\n",
    "\n",
    "Φ = BasisMatrix(basis, Expanded(), dataK).vals[1];"
   ]
  },
  {
   "cell_type": "code",
   "execution_count": 23,
   "metadata": {},
   "outputs": [],
   "source": [
    "@NLconstraint(m, LOM[t=2:100], predictedK[t] == f(dataK[t-1], α, A) + (1-δ)*dataK[t-1] - dataC[t-1]);\n",
    "@NLconstraint(m, consumption[t=1:100], predictedC[t] == sum(Φ[t, k] * coeff[k] for k in 1:10))\n",
    "\n",
    "@NLconstraint(m, fixedpoint[t=1:99], EEerror[t] == u_crra_prime(predictedC[t], γ) -\n",
    "    β * u_crra_prime(dataC[t+1], γ) * (f_prime(predictedK[t+1], α, A) + 1-δ));"
   ]
  },
  {
   "cell_type": "code",
   "execution_count": 24,
   "metadata": {},
   "outputs": [],
   "source": [
    "@NLobjective(m, Min, sum((dataC[t] - predictedC[t])^2 for t in 1:100) + \n",
    "    sum((dataK[t] - predictedK[t])^2 for t in 2:100) + sum(EEerror[t]^2 for t in 1:99))"
   ]
  },
  {
   "cell_type": "code",
   "execution_count": 25,
   "metadata": {
    "scrolled": true
   },
   "outputs": [
    {
     "name": "stdout",
     "output_type": "stream",
     "text": [
      "This is Ipopt version 3.12.1, running with linear solver mumps.\n",
      "NOTE: Other linear solvers might be more efficient (see Ipopt documentation).\n",
      "\n",
      "Number of nonzeros in equality constraint Jacobian...:     2288\n",
      "Number of nonzeros in inequality constraint Jacobian.:        0\n",
      "Number of nonzeros in Lagrangian Hessian.............:        0\n",
      "\n",
      "Total number of variables............................:      313\n",
      "                     variables with only lower bounds:        0\n",
      "                variables with lower and upper bounds:        0\n",
      "                     variables with only upper bounds:        0\n",
      "Total number of equality constraints.................:      298\n",
      "Total number of inequality constraints...............:        0\n",
      "        inequality constraints with only lower bounds:        0\n",
      "   inequality constraints with lower and upper bounds:        0\n",
      "        inequality constraints with only upper bounds:        0\n",
      "\n",
      "iter    objective    inf_pr   inf_du lg(mu)  ||d||  lg(rg) alpha_du alpha_pr  ls\n",
      "   0  1.0420591e+03 7.37e-01 7.24e+00   0.0 0.00e+00    -  0.00e+00 0.00e+00   0\n",
      "   1  1.0404834e+03 2.75e+00 8.40e+00 -11.0 7.23e+00    -  1.00e+00 1.00e+00f  1\n",
      "   2  4.6943390e-01 1.19e+00 7.23e-01 -11.0 3.63e+00    -  1.00e+00 1.00e+00f  1\n",
      "   3  1.7764636e-01 1.80e-01 7.33e-01 -11.0 2.26e-01    -  1.00e+00 1.00e+00h  1\n",
      "   4  7.4315647e-02 9.23e-02 4.16e-01 -11.0 2.20e-01    -  1.00e+00 1.00e+00h  1\n",
      "   5  1.7205362e-02 1.17e-01 1.38e-01 -11.0 1.97e-01    -  1.00e+00 1.00e+00h  1\n",
      "   6  1.0629804e-02 1.60e-01 1.43e-01 -11.0 5.92e-01    -  1.00e+00 2.50e-01h  3\n",
      "   7  2.1228932e-03 8.98e-03 1.16e-01 -11.0 6.82e-02    -  1.00e+00 1.00e+00h  1\n",
      "   8  1.4035773e-03 6.20e-03 1.32e-02 -11.0 5.36e-02    -  1.00e+00 1.00e+00h  1\n",
      "   9  7.8591898e-04 7.11e-04 3.86e-03 -11.0 1.58e-02    -  1.00e+00 1.00e+00h  1\n",
      "iter    objective    inf_pr   inf_du lg(mu)  ||d||  lg(rg) alpha_du alpha_pr  ls\n",
      "  10  7.4178296e-04 7.64e-06 5.04e-03 -11.0 3.78e-03    -  1.00e+00 1.00e+00h  1\n",
      "  11  6.3735198e-04 2.27e-04 8.68e-03 -11.0 3.08e-02    -  1.00e+00 1.00e+00h  1\n",
      "  12  6.3496988e-04 4.20e-04 9.98e-03 -11.0 4.91e-02    -  1.00e+00 1.00e+00h  1\n",
      "  13  1.2516970e-03 2.36e-05 3.81e-02 -11.0 2.62e-02    -  1.00e+00 1.00e+00H  1\n",
      "  14  4.9683481e-04 5.87e-04 2.31e-03 -11.0 3.88e-02    -  1.00e+00 1.00e+00h  1\n",
      "  15  4.6023954e-04 2.11e-05 2.17e-03 -11.0 1.42e-02    -  1.00e+00 1.00e+00h  1\n",
      "  16  3.3981264e-04 7.90e-04 8.07e-03 -11.0 3.78e+00    -  1.00e+00 3.12e-02h  6\n",
      "  17  2.7212081e-04 9.39e-04 8.75e-03 -11.0 3.95e+00    -  1.00e+00 3.12e-02h  6\n",
      "  18  1.3777483e-03 4.53e-06 3.88e-02 -11.0 2.65e-01    -  1.00e+00 1.00e+00H  1\n",
      "  19  6.8368611e-03 3.65e-07 3.11e-02 -11.0 1.72e-01    -  1.00e+00 1.00e+00H  1\n",
      "iter    objective    inf_pr   inf_du lg(mu)  ||d||  lg(rg) alpha_du alpha_pr  ls\n",
      "  20  1.0287566e-03 1.12e-06 3.44e-02 -11.0 2.85e-01    -  1.00e+00 1.00e+00F  1\n",
      "  21  9.9690852e-04 1.01e-06 3.39e-02 -11.0 9.68e-02    -  1.00e+00 7.81e-03h  8\n",
      "  22  2.3761989e-04 3.05e-03 8.80e-03 -11.0 7.22e-02    -  1.00e+00 5.00e-01h  2\n",
      "  23  3.3978396e-05 1.53e-03 4.49e-03 -11.0 4.06e-02    -  1.00e+00 5.00e-01h  2\n",
      "  24  1.3751376e-05 5.44e-05 4.33e-03 -11.0 6.08e-03    -  1.00e+00 1.00e+00h  1\n",
      "  25  8.7006458e-06 1.06e-05 1.50e-03 -11.0 2.91e-03    -  1.00e+00 1.00e+00h  1\n",
      "  26  6.6466703e-06 4.08e-06 1.38e-04 -11.0 2.01e-03    -  1.00e+00 1.00e+00h  1\n",
      "  27  6.4570863e-06 7.95e-08 1.16e-04 -11.0 1.03e-03    -  1.00e+00 1.00e+00h  1\n",
      "  28  1.8660968e-05 3.94e-07 2.00e-03 -11.0 1.97e-02    -  1.00e+00 1.00e+00H  1\n",
      "  29  1.8777778e-05 1.45e-08 2.00e-03 -11.0 4.82e-03    -  1.00e+00 1.00e+00H  1\n",
      "iter    objective    inf_pr   inf_du lg(mu)  ||d||  lg(rg) alpha_du alpha_pr  ls\n",
      "  30  9.3241684e-06 1.38e-07 9.26e-04 -11.0 1.28e-02    -  1.00e+00 1.00e+00H  1\n",
      "  31  8.1830365e-06 4.78e-08 6.31e-04 -11.0 9.22e-03    -  1.00e+00 1.00e+00H  1\n",
      "  32  8.0294731e-05 3.65e-10 4.29e-03 -11.0 2.09e-02    -  1.00e+00 1.00e+00H  1\n",
      "  33  5.7566197e-06 5.20e-05 1.75e-04 -11.0 2.20e-02    -  1.00e+00 1.00e+00f  1\n",
      "  34  5.7532029e-06 3.89e-05 3.32e-04 -11.0 8.48e-04    -  1.00e+00 2.50e-01h  3\n",
      "  35  5.5088582e-06 5.13e-08 4.95e-05 -11.0 5.45e-04    -  1.00e+00 1.00e+00h  1\n",
      "  36  5.4870000e-06 1.08e-08 6.19e-05 -11.0 5.13e-04    -  1.00e+00 1.00e+00h  1\n",
      "  37  1.0022080e-05 2.92e-09 1.22e-03 -11.0 2.09e-02    -  1.00e+00 1.00e+00H  1\n",
      "  38  8.7528967e-05 3.11e-09 3.31e-03 -11.0 1.01e-01    -  1.00e+00 1.00e+00H  1\n",
      "  39  8.7475088e-05 3.12e-09 3.31e-03 -11.0 3.63e-02    -  1.00e+00 2.44e-04h 13\n",
      "iter    objective    inf_pr   inf_du lg(mu)  ||d||  lg(rg) alpha_du alpha_pr  ls\n",
      "  40  8.7427084e-05 3.16e-09 3.31e-03 -11.0 1.07e-01    -  1.00e+00 2.44e-04h 13\n",
      "  41  8.7371568e-05 3.12e-09 3.31e-03 -11.0 1.05e+00    -  1.00e+00 3.05e-05h 16\n",
      "  42  8.7368051e-05 3.12e-09 3.31e-03 -11.0 2.50e-01    -  1.00e+00 1.53e-05h 17\n",
      "  43  8.7359716e-05 3.12e-09 3.31e-03 -11.0 7.48e-01    -  1.00e+00 7.63e-06h 18\n",
      "  44  8.6795528e-05 1.75e-04 6.77e-03 -11.0 3.78e-01    -  1.00e+00 1.25e-01f  4\n",
      "  45  7.5229829e-05 3.75e-04 8.38e-03 -11.0 2.02e-01    -  1.00e+00 2.50e-01h  3\n",
      "  46  5.5720857e-05 3.81e-04 9.79e-03 -11.0 3.91e-02    -  1.00e+00 1.25e-01h  4\n",
      "  47  4.6238777e-06 3.67e-04 1.29e-03 -11.0 1.14e-02    -  1.00e+00 1.00e+00h  1\n",
      "  48  5.0906422e-06 2.73e-06 2.94e-04 -11.0 7.50e-03    -  1.00e+00 1.00e+00h  1\n",
      "  49  1.1218698e-05 1.23e-06 1.80e-03 -11.0 3.66e-02    -  1.00e+00 1.00e+00H  1\n",
      "iter    objective    inf_pr   inf_du lg(mu)  ||d||  lg(rg) alpha_du alpha_pr  ls\n",
      "  50  1.0869739e-05 6.10e-07 1.97e-03 -11.0 1.20e-01    -  1.00e+00 6.25e-02h  5\n",
      "  51  1.2863697e-04 4.20e-10 5.62e-03 -11.0 5.80e-02    -  1.00e+00 1.00e+00H  1\n",
      "  52  9.1229027e-05 1.17e-10 4.13e-03 -11.0 4.01e-02    -  1.00e+00 1.00e+00F  1\n",
      "  53  8.3670174e-05 1.00e-07 4.11e-03 -11.0 5.69e-02    -  1.00e+00 1.56e-02f  7\n",
      "  54  6.8944662e-05 3.27e-07 8.42e-03 -11.0 9.68e-02    -  1.00e+00 1.00e+00H  1\n",
      "  55  6.2487773e-05 6.35e-07 7.77e-03 -11.0 3.92e-01    -  1.00e+00 3.91e-03h  9\n",
      "  56  3.0557350e-05 2.24e-04 1.53e-03 -11.0 5.49e-02    -  1.00e+00 1.00e+00h  1\n",
      "  57  6.2226109e-03 2.31e-07 5.18e-02 -11.0 2.22e-01    -  1.00e+00 1.00e+00H  1\n",
      "  58  1.9977225e-05 8.07e-03 2.60e-03 -11.0 2.12e-01    -  1.00e+00 1.00e+00f  1\n",
      "  59  1.2591031e-05 6.06e-03 1.27e-03 -11.0 1.66e-02    -  1.00e+00 2.50e-01h  3\n",
      "iter    objective    inf_pr   inf_du lg(mu)  ||d||  lg(rg) alpha_du alpha_pr  ls\n",
      "  60  6.8056344e-06 1.03e-05 1.49e-03 -11.0 2.00e-03    -  1.00e+00 1.00e+00h  1\n",
      "  61  4.6061314e-06 8.71e-07 6.05e-04 -11.0 3.66e-03    -  1.00e+00 1.00e+00h  1\n",
      "  62  6.0238568e-06 1.98e-08 7.66e-04 -11.0 7.86e-03    -  1.00e+00 1.00e+00H  1\n",
      "  63  5.7792005e-06 8.49e-07 4.85e-04 -11.0 2.40e-03    -  1.00e+00 1.00e+00h  1\n",
      "  64  6.8550866e-06 8.22e-11 6.45e-04 -11.0 6.60e-03    -  1.00e+00 1.00e+00H  1\n",
      "  65  5.3026825e-06 1.28e-06 6.86e-04 -11.0 4.21e-03    -  1.00e+00 1.00e+00h  1\n",
      "  66  1.5969572e-05 9.41e-13 2.56e-03 -11.0 9.41e-03    -  1.00e+00 1.00e+00H  1\n",
      "  67  4.6036263e-06 2.20e-08 2.69e-04 -11.0 6.62e-03    -  1.00e+00 1.00e+00F  1\n",
      "  68  7.6254496e-06 2.09e-13 6.91e-04 -11.0 6.96e-03    -  1.00e+00 1.00e+00H  1\n",
      "  69  5.4199160e-06 3.40e-09 5.93e-04 -11.0 3.54e-03    -  1.00e+00 1.00e+00F  1\n",
      "iter    objective    inf_pr   inf_du lg(mu)  ||d||  lg(rg) alpha_du alpha_pr  ls\n",
      "  70  5.8004410e-06 1.04e-10 7.47e-04 -11.0 5.40e-03    -  1.00e+00 1.00e+00H  1\n",
      "  71  4.9794906e-06 1.12e-09 5.03e-04 -11.0 2.19e-03    -  1.00e+00 1.00e+00H  1\n",
      "  72  4.9562321e-06 2.73e-09 3.85e-04 -11.0 2.65e-03    -  1.00e+00 1.00e+00H  1\n",
      "  73  4.4442486e-06 2.39e-07 2.88e-04 -11.0 1.10e-03    -  1.00e+00 1.00e+00h  1\n",
      "  74  4.2745519e-06 4.84e-07 2.11e-04 -11.0 9.89e-04    -  1.00e+00 1.00e+00h  1\n",
      "  75  4.2938660e-06 1.33e-08 1.48e-04 -11.0 1.78e-04    -  1.00e+00 1.00e+00h  1\n",
      "  76  4.2272565e-06 2.42e-08 2.89e-05 -11.0 2.11e-04    -  1.00e+00 1.00e+00h  1\n",
      "  77  4.2244711e-06 1.28e-09 2.42e-05 -11.0 2.84e-05    -  1.00e+00 1.00e+00h  1\n",
      "  78  4.1978129e-06 1.84e-07 1.47e-04 -11.0 5.59e-04    -  1.00e+00 1.00e+00h  1\n",
      "  79  8.2745589e-06 2.33e-11 9.42e-04 -11.0 6.97e-03    -  1.00e+00 1.00e+00H  1\n",
      "iter    objective    inf_pr   inf_du lg(mu)  ||d||  lg(rg) alpha_du alpha_pr  ls\n",
      "  80  9.8782560e-06 4.24e-12 1.73e-03 -11.0 1.31e-02    -  1.00e+00 1.00e+00H  1\n",
      "  81  9.8722195e-06 6.39e-12 1.73e-03 -11.0 2.81e-02    -  1.00e+00 1.22e-04h 14\n",
      "  82  5.4944652e-06 6.52e-10 6.01e-04 -11.0 1.84e-02    -  1.00e+00 1.00e+00H  1\n",
      "  83  5.4226164e-06 8.34e-10 5.96e-04 -11.0 1.73e-02    -  1.00e+00 3.91e-03h  9\n",
      "  84  3.7801714e-06 1.23e-06 2.41e-04 -11.0 7.06e-03    -  1.00e+00 1.00e+00h  1\n",
      "  85  3.5583445e-06 2.70e-06 4.42e-04 -11.0 1.22e-01    -  1.00e+00 6.25e-02h  5\n",
      "  86  3.3375731e-06 3.39e-06 3.68e-04 -11.0 8.93e-01    -  1.00e+00 7.81e-03h  8\n",
      "  87  3.1943071e-06 4.90e-06 5.94e-04 -11.0 9.78e-01    -  1.00e+00 7.81e-03h  8\n",
      "  88  3.1319242e-06 1.03e-05 1.04e-03 -11.0 1.63e+00    -  1.00e+00 7.81e-03h  8\n",
      "  89  3.1924181e-06 9.96e-06 9.96e-04 -11.0 8.51e-02    -  1.00e+00 3.12e-02h  6\n",
      "iter    objective    inf_pr   inf_du lg(mu)  ||d||  lg(rg) alpha_du alpha_pr  ls\n",
      "  90  3.1664837e-06 9.37e-06 9.00e-04 -11.0 2.30e-02    -  1.00e+00 6.25e-02h  5\n",
      "  91  3.1623359e-06 8.79e-06 7.11e-04 -11.0 4.23e-02    -  1.00e+00 1.25e-01h  4\n",
      "  92  3.0788008e-06 9.28e-06 7.11e-04 -11.0 4.67e-01    -  1.00e+00 7.81e-03h  8\n",
      "  93  3.0143351e-06 9.55e-06 6.08e-04 -11.0 5.40e-01    -  1.00e+00 7.81e-03h  8\n",
      "  94  2.9878501e-06 1.05e-05 5.10e-04 -11.0 1.58e+00    -  1.00e+00 3.91e-03h  9\n",
      "  95  1.5922074e-02 3.99e-02 9.58e-02 -11.0 1.18e+00    -  1.00e+00 1.00e+00w  1\n",
      "  96  1.5353265e-03 7.10e-02 2.72e-02 -11.0 1.10e+00    -  1.00e+00 1.00e+00w  1\n",
      "  97  4.1811145e+01 8.79e+05 5.75e+05 -11.0 1.56e+01    -  1.00e+00 1.00e+00w  1\n",
      "  98  2.8761283e-06 1.13e-05 3.60e-04 -11.0 2.83e+00    -  1.00e+00 3.91e-03h  8\n",
      "  99  2.7885454e-06 9.13e-07 4.53e-04 -11.0 4.61e-03    -  1.00e+00 1.00e+00h  1\n",
      "iter    objective    inf_pr   inf_du lg(mu)  ||d||  lg(rg) alpha_du alpha_pr  ls\n",
      " 100  2.7235310e-06 1.13e-06 5.42e-04 -11.0 2.34e+00    -  1.00e+00 9.77e-04h 11\n",
      " 101  2.6880615e-06 1.18e-06 5.39e-04 -11.0 2.47e-01    -  1.00e+00 3.91e-03h  9\n",
      " 102  5.5681211e-06 2.29e-11 6.22e-04 -11.0 4.59e-03    -  1.00e+00 1.00e+00H  1\n",
      " 103  6.6842803e-06 1.15e-12 1.32e-03 -11.0 4.92e-03    -  1.00e+00 1.00e+00H  1\n",
      " 104  6.6739231e-06 1.53e-11 1.32e-03 -11.0 3.26e-02    -  1.00e+00 4.88e-04h 12\n",
      " 105  6.6662567e-06 1.71e-11 1.31e-03 -11.0 4.13e-02    -  1.00e+00 1.22e-04h 14\n",
      " 106  2.4641110e-06 3.90e-06 1.10e-04 -11.0 7.99e-03    -  1.00e+00 1.00e+00h  1\n",
      " 107  5.4866728e-05 5.81e-14 2.93e-03 -11.0 9.41e-03    -  1.00e+00 1.00e+00H  1\n",
      " 108  2.4331033e-06 4.72e-06 6.18e-05 -11.0 8.18e-03    -  1.00e+00 1.00e+00f  1\n",
      " 109  2.7594281e-06 5.37e-08 3.51e-04 -11.0 2.11e-04    -  1.00e+00 1.00e+00h  1\n",
      "iter    objective    inf_pr   inf_du lg(mu)  ||d||  lg(rg) alpha_du alpha_pr  ls\n",
      " 110  2.4068599e-06 4.58e-08 5.20e-05 -11.0 2.57e-04    -  1.00e+00 1.00e+00h  1\n",
      " 111  2.4014967e-06 2.70e-11 5.25e-05 -11.0 1.00e-04    -  1.00e+00 1.00e+00h  1\n",
      " 112  2.3641400e-06 1.81e-07 3.30e-04 -11.0 2.38e-01    -  1.00e+00 3.12e-02h  6\n",
      " 113  2.3081026e-06 1.76e-07 3.13e-04 -11.0 6.56e-01    -  1.00e+00 3.91e-03h  9\n",
      " 114  2.1211004e-06 8.91e-07 3.79e-04 -11.0 4.06e-01    -  1.00e+00 3.12e-02h  6\n",
      " 115  2.0883289e-06 9.47e-07 3.84e-04 -11.0 4.94e-01    -  1.00e+00 3.91e-03h  9\n",
      " 116  2.0571232e-06 9.81e-07 3.83e-04 -11.0 9.22e-02    -  1.00e+00 1.56e-02h  7\n",
      " 117  1.5435502e-06 5.46e-06 8.64e-04 -11.0 1.46e+00    -  1.00e+00 3.12e-02h  6\n",
      " 118  1.5487991e-06 5.45e-06 9.78e-04 -11.0 1.49e+00    -  1.00e+00 9.77e-04h 11\n",
      " 119  1.5786019e-06 5.29e-06 7.82e-04 -11.0 1.41e-01    -  1.00e+00 6.25e-02h  5\n",
      "iter    objective    inf_pr   inf_du lg(mu)  ||d||  lg(rg) alpha_du alpha_pr  ls\n",
      " 120  1.5373450e-06 5.65e-06 6.62e-04 -11.0 2.14e-01    -  1.00e+00 1.56e-02h  7\n",
      " 121  4.8089700e-07 2.40e-05 7.11e-04 -11.0 1.92e-01    -  1.00e+00 1.25e-01h  4\n",
      " 122  3.4949456e-02 9.83e-02 1.10e-01 -11.0 1.58e+00    -  1.00e+00 1.00e+00w  1\n",
      " 123  2.7596691e-03 6.12e-02 2.77e-02 -11.0 1.14e+00    -  1.00e+00 1.00e+00w  1\n",
      " 124  1.7966085e+00 1.09e+01 9.61e-01 -11.0 6.66e+00    -  1.00e+00 1.00e+00w  1\n",
      " 125  3.4570062e-07 2.61e-05 8.18e-04 -11.0 1.97e+00    -  1.00e+00 3.91e-03h  8\n",
      " 126  3.8757226e-07 2.54e-05 7.40e-04 -11.0 4.97e-02    -  1.00e+00 3.12e-02h  6\n",
      " 127  5.8547518e-07 2.33e-05 7.35e-04 -11.0 3.22e-02    -  1.00e+00 1.25e-01h  4\n",
      " 128  9.8931767e-07 2.80e-05 7.08e-04 -11.0 9.32e-02    -  1.00e+00 1.25e-01h  4\n",
      " 129  9.4885283e-07 2.83e-05 7.14e-04 -11.0 5.61e-01    -  1.00e+00 7.81e-03h  8\n",
      "iter    objective    inf_pr   inf_du lg(mu)  ||d||  lg(rg) alpha_du alpha_pr  ls\n",
      " 130  9.0934290e-07 2.83e-05 7.67e-04 -11.0 3.11e-01    -  1.00e+00 3.91e-03h  9\n",
      " 131  2.5364636e-07 1.20e-05 3.93e-04 -11.0 1.28e-02    -  1.00e+00 1.00e+00h  1\n",
      " 132  2.0931336e-07 1.20e-05 2.20e-04 -11.0 4.46e-01    -  1.00e+00 3.91e-03h  9\n",
      " 133  2.7359610e-06 8.14e-12 7.20e-04 -11.0 1.90e-02    -  1.00e+00 1.00e+00H  1\n",
      " 134  2.7340588e-06 8.59e-12 7.20e-04 -11.0 2.17e-02    -  1.00e+00 2.44e-04h 13\n",
      " 135  1.2964616e-07 2.65e-05 7.39e-05 -11.0 1.98e-02    -  1.00e+00 1.00e+00h  1\n",
      " 136  1.9130734e-07 2.61e-05 2.11e-04 -11.0 5.24e-02    -  1.00e+00 1.56e-02h  7\n",
      " 137  3.3792046e-07 1.09e-07 1.83e-04 -11.0 1.23e-03    -  1.00e+00 1.00e+00h  1\n",
      " 138  5.7282513e-07 1.78e-09 3.35e-04 -11.0 3.70e-03    -  1.00e+00 1.00e+00H  1\n",
      " 139  9.0581566e-07 5.81e-09 4.84e-04 -11.0 4.68e-03    -  1.00e+00 1.00e+00H  1\n",
      "iter    objective    inf_pr   inf_du lg(mu)  ||d||  lg(rg) alpha_du alpha_pr  ls\n",
      " 140  8.9159634e-07 6.01e-09 4.77e-04 -11.0 3.74e-02    -  1.00e+00 1.95e-03h 10\n",
      " 141  2.0478866e-06 1.05e-09 9.62e-04 -11.0 2.13e-03    -  1.00e+00 1.00e+00H  1\n",
      " 142  1.2753816e-06 5.54e-10 7.84e-04 -11.0 1.06e-03    -  1.00e+00 1.00e+00H  1\n",
      " 143  1.3796606e-07 5.12e-07 9.61e-05 -11.0 1.94e-03    -  1.00e+00 1.00e+00h  1\n",
      " 144  4.2767981e-07 4.75e-10 2.12e-04 -11.0 2.15e-03    -  1.00e+00 1.00e+00H  1\n",
      " 145  9.6647592e-07 4.61e-12 6.79e-04 -11.0 2.27e-03    -  1.00e+00 1.00e+00H  1\n",
      " 146  2.4826601e-06 4.10e-15 5.55e-04 -11.0 2.82e-03    -  1.00e+00 1.00e+00H  1\n",
      " 147  5.7105120e-07 7.24e-10 3.24e-04 -11.0 1.61e-03    -  1.00e+00 1.00e+00F  1\n",
      " 148  1.0967769e-06 1.94e-14 4.77e-04 -11.0 2.74e-03    -  1.00e+00 1.00e+00H  1\n",
      " 149  5.3334590e-07 2.24e-10 4.14e-04 -11.0 1.39e-03    -  1.00e+00 1.00e+00F  1\n",
      "iter    objective    inf_pr   inf_du lg(mu)  ||d||  lg(rg) alpha_du alpha_pr  ls\n",
      " 150  1.3533311e-06 3.08e-14 7.97e-04 -11.0 4.08e-03    -  1.00e+00 1.00e+00H  1\n",
      " 151  1.3528210e-06 1.02e-13 7.96e-04 -11.0 9.42e-03    -  1.00e+00 1.22e-04h 14\n",
      " 152  8.4986779e-07 7.30e-08 5.95e-04 -11.0 2.29e-03    -  1.00e+00 2.50e-01h  3\n",
      " 153  2.2536459e-07 2.50e-07 4.30e-04 -11.0 1.04e-03    -  1.00e+00 1.00e+00h  1\n",
      " 154  1.3378493e-07 6.29e-08 6.12e-05 -11.0 5.34e-04    -  1.00e+00 1.00e+00h  1\n",
      " 155  2.8542822e-07 4.10e-11 1.96e-04 -11.0 8.76e-04    -  1.00e+00 1.00e+00H  1\n",
      " 156  1.1494638e-07 9.25e-08 2.91e-05 -11.0 7.07e-04    -  1.00e+00 1.00e+00h  1\n",
      " 157  1.1872354e-07 7.13e-08 3.61e-05 -11.0 4.74e-04    -  1.00e+00 2.50e-01h  3\n",
      " 158  1.0849579e-07 2.26e-09 1.06e-05 -11.0 1.10e-04    -  1.00e+00 1.00e+00h  1\n",
      " 159  1.0840382e-07 9.67e-11 1.05e-05 -11.0 3.29e-05    -  1.00e+00 1.00e+00h  1\n",
      "iter    objective    inf_pr   inf_du lg(mu)  ||d||  lg(rg) alpha_du alpha_pr  ls\n",
      " 160  1.0767588e-07 6.26e-11 1.03e-05 -11.0 4.95e-05    -  1.00e+00 1.00e+00h  1\n",
      " 161  1.2610518e-07 1.72e-11 8.10e-05 -11.0 7.01e-04    -  1.00e+00 1.00e+00H  1\n",
      " 162  1.1475695e-07 1.17e-11 6.17e-05 -11.0 1.03e-03    -  1.00e+00 1.00e+00H  1\n",
      " 163  8.5096025e-07 5.48e-13 5.27e-04 -11.0 6.75e-04    -  1.00e+00 1.00e+00H  1\n",
      " 164  9.4329948e-08 4.43e-07 2.91e-05 -11.0 1.01e-03    -  1.00e+00 1.00e+00h  1\n",
      " 165  9.2145992e-08 3.31e-09 1.68e-05 -11.0 3.42e-04    -  1.00e+00 1.00e+00h  1\n",
      " 166  9.1363018e-08 1.79e-07 6.34e-05 -11.0 6.39e-02    -  1.00e+00 3.12e-02h  6\n",
      " 167  9.0882049e-08 1.80e-07 7.35e-05 -11.0 1.85e-02    -  1.00e+00 7.81e-03h  8\n",
      " 168  9.0049268e-08 1.01e-08 2.08e-05 -11.0 2.11e-04    -  1.00e+00 1.00e+00h  1\n",
      " 169  8.9835104e-08 7.78e-08 4.56e-05 -11.0 9.09e-04    -  1.00e+00 1.00e+00h  1\n",
      "iter    objective    inf_pr   inf_du lg(mu)  ||d||  lg(rg) alpha_du alpha_pr  ls\n",
      " 170  2.1370903e-06 2.66e-15 8.21e-04 -11.0 7.27e-03    -  1.00e+00 1.00e+00H  1\n",
      " 171  9.2075207e-08 1.28e-08 5.33e-05 -11.0 7.55e-03    -  1.00e+00 1.00e+00F  1\n",
      " 172  3.4865275e-06 1.78e-15 1.42e-03 -11.0 1.74e-03    -  1.00e+00 1.00e+00H  1\n",
      " 173  8.4781586e-08 3.40e-07 2.10e-05 -11.0 1.62e-03    -  1.00e+00 1.00e+00f  1\n",
      " 174  8.4563975e-08 1.68e-10 5.68e-06 -11.0 3.48e-05    -  1.00e+00 1.00e+00h  1\n",
      " 175  8.5350264e-08 2.04e-13 1.22e-05 -11.0 1.19e-04    -  1.00e+00 1.00e+00H  1\n",
      " 176  8.9543931e-08 1.78e-15 3.20e-05 -11.0 9.00e-05    -  1.00e+00 1.00e+00H  1\n",
      " 177  8.3760691e-08 1.21e-08 1.53e-05 -11.0 1.12e-04    -  1.00e+00 1.00e+00h  1\n",
      " 178  8.3954268e-08 6.40e-09 2.44e-05 -11.0 5.99e-05    -  1.00e+00 5.00e-01h  2\n",
      " 179  8.2992308e-08 2.76e-10 4.34e-06 -11.0 4.15e-05    -  1.00e+00 1.00e+00h  1\n",
      "iter    objective    inf_pr   inf_du lg(mu)  ||d||  lg(rg) alpha_du alpha_pr  ls\n",
      " 180  8.2486658e-08 5.36e-10 1.31e-05 -11.0 8.42e-05    -  1.00e+00 1.00e+00h  1\n",
      " 181  1.6728438e-07 2.66e-15 1.83e-04 -11.0 2.33e-03    -  1.00e+00 1.00e+00H  1\n",
      " 182  7.0120820e-06 1.78e-15 1.00e-03 -11.0 1.30e-02    -  1.00e+00 1.00e+00H  1\n",
      " 183  7.0119743e-06 1.78e-15 1.00e-03 -11.0 6.05e-03    -  1.00e+00 7.63e-06h 18\n",
      " 184  7.0119147e-06 1.78e-15 1.00e-03 -11.0 9.07e-03    -  1.00e+00 3.81e-06h 19\n",
      " 185  7.0118659e-06 2.66e-15 1.00e-03 -11.0 1.08e-02    -  1.00e+00 9.54e-07h 21\n",
      " 186  2.7723200e-07 1.78e-15 3.15e-04 -11.0 2.13e-03    -  1.00e+00 1.00e+00F  1\n",
      " 187  7.4046473e-08 9.11e-08 2.97e-04 -11.0 3.97e-03    -  1.00e+00 5.00e-01f  2\n",
      " 188  5.6762044e-08 1.51e-07 1.73e-04 -11.0 1.15e-02    -  1.00e+00 6.25e-02h  5\n",
      " 189  4.1219651e-08 2.06e-07 2.21e-04 -11.0 4.19e-03    -  1.00e+00 1.25e-01h  4\n",
      "iter    objective    inf_pr   inf_du lg(mu)  ||d||  lg(rg) alpha_du alpha_pr  ls\n",
      " 190  3.9588069e-08 1.10e-07 1.06e-04 -11.0 1.16e-03    -  1.00e+00 5.00e-01h  2\n",
      " 191  3.7785484e-08 9.56e-08 1.55e-04 -11.0 2.02e-03    -  1.00e+00 1.25e-01h  4\n",
      " 192  3.8475119e-08 4.23e-11 6.29e-05 -11.0 2.85e-04    -  1.00e+00 1.00e+00H  1\n",
      " 193  5.4732593e-08 4.57e-14 5.75e-05 -11.0 2.11e-04    -  1.00e+00 1.00e+00H  1\n",
      " 194  1.8673310e-08 9.47e-08 5.56e-05 -11.0 1.87e-04    -  1.00e+00 1.00e+00h  1\n",
      " 195  1.9712421e-08 7.87e-09 6.14e-05 -11.0 8.71e-05    -  1.00e+00 1.00e+00h  1\n",
      " 196  1.6729175e-08 9.91e-10 1.60e-05 -11.0 4.24e-05    -  1.00e+00 1.00e+00h  1\n",
      " 197  1.6029290e-08 9.08e-10 4.72e-06 -11.0 2.02e-05    -  1.00e+00 1.00e+00h  1\n",
      " 198  1.5934022e-08 4.57e-11 4.62e-06 -11.0 5.45e-06    -  1.00e+00 1.00e+00h  1\n",
      " 199  1.5889799e-08 1.21e-11 4.54e-06 -11.0 7.71e-06    -  1.00e+00 1.00e+00h  1\n",
      "iter    objective    inf_pr   inf_du lg(mu)  ||d||  lg(rg) alpha_du alpha_pr  ls\n",
      " 200  1.6729165e-08 5.40e-13 1.32e-05 -11.0 2.00e-04    -  1.00e+00 1.00e+00H  1\n",
      " 201  2.8264238e-08 1.78e-15 7.07e-05 -11.0 4.90e-04    -  1.00e+00 1.00e+00H  1\n",
      " 202  2.6287923e-08 1.97e-15 6.36e-05 -11.0 3.60e-04    -  1.00e+00 1.00e+00H  1\n",
      " 203  1.4146160e-08 6.39e-08 3.28e-05 -11.0 4.75e-04    -  1.00e+00 1.00e+00h  1\n",
      " 204  1.3947473e-08 5.66e-08 2.85e-05 -11.0 3.94e-04    -  1.00e+00 1.25e-01h  4\n",
      " 205  1.3097549e-08 2.31e-09 4.82e-06 -11.0 1.81e-04    -  1.00e+00 1.00e+00h  1\n",
      " 206  1.2917178e-08 3.09e-09 6.79e-06 -11.0 7.77e-04    -  1.00e+00 6.25e-02h  5\n",
      " 207  1.3305223e-08 2.69e-13 1.74e-05 -11.0 2.12e-04    -  1.00e+00 1.00e+00H  1\n",
      " 208  2.1238298e-08 1.37e-14 9.58e-05 -11.0 9.01e-04    -  1.00e+00 1.00e+00H  1\n",
      " 209  2.1227540e-08 1.04e-13 9.56e-05 -11.0 3.52e-03    -  1.00e+00 2.44e-04h 13\n",
      "iter    objective    inf_pr   inf_du lg(mu)  ||d||  lg(rg) alpha_du alpha_pr  ls\n",
      " 210  2.1202323e-08 9.82e-14 9.55e-05 -11.0 2.42e-04    -  1.00e+00 9.77e-04h 11\n",
      " 211  2.2367698e-08 2.66e-15 9.76e-05 -11.0 2.95e-04    -  1.00e+00 1.00e+00H  1\n",
      " 212  2.1991401e-08 1.78e-15 9.86e-05 -11.0 2.39e-04    -  1.00e+00 1.00e+00H  1\n",
      " 213  2.5062390e-08 1.78e-15 5.68e-05 -11.0 2.63e-04    -  1.00e+00 1.00e+00H  1\n",
      " 214  1.3724657e-08 2.66e-15 1.96e-05 -11.0 2.53e-04    -  1.00e+00 1.00e+00H  1\n",
      " 215  2.2322922e-08 1.78e-15 5.03e-05 -11.0 9.79e-05    -  1.00e+00 1.00e+00H  1\n",
      " 216  1.1978430e-08 8.69e-10 5.90e-06 -11.0 2.95e-05    -  1.00e+00 1.00e+00h  1\n",
      " 217  1.1954573e-08 2.49e-11 6.22e-07 -11.0 1.03e-05    -  1.00e+00 1.00e+00h  1\n",
      " 218  1.1950082e-08 4.12e-13 6.15e-07 -11.0 3.19e-06    -  1.00e+00 1.00e+00h  1\n",
      " 219  1.1860564e-08 7.22e-10 7.61e-06 -11.0 3.14e-03    -  1.00e+00 6.25e-02h  5\n",
      "iter    objective    inf_pr   inf_du lg(mu)  ||d||  lg(rg) alpha_du alpha_pr  ls\n",
      " 220  1.1832365e-08 1.24e-09 1.49e-05 -11.0 3.99e-03    -  1.00e+00 3.12e-02h  6\n",
      " 221  1.1803770e-08 1.27e-09 1.43e-05 -11.0 3.42e-03    -  1.00e+00 7.81e-03h  8\n",
      " 222  1.1708962e-08 1.28e-10 9.31e-06 -11.0 1.33e-04    -  1.00e+00 1.00e+00h  1\n",
      " 223  1.1490784e-08 2.30e-10 6.57e-06 -11.0 3.62e-03    -  1.00e+00 3.12e-02h  6\n",
      " 224  1.1422307e-08 1.01e-09 1.44e-05 -11.0 6.57e-03    -  1.00e+00 1.56e-02h  7\n",
      " 225  1.1374904e-08 1.01e-09 1.82e-05 -11.0 3.07e-03    -  1.00e+00 1.56e-02h  7\n",
      " 226  1.1294936e-08 1.18e-09 1.34e-05 -11.0 1.84e-03    -  1.00e+00 1.25e-01h  4\n",
      " 227  1.1169682e-08 5.99e-09 1.82e-05 -11.0 5.81e-02    -  1.00e+00 3.12e-02h  6\n",
      " 228  1.0876560e-08 6.78e-09 1.61e-05 -11.0 4.62e-01    -  1.00e+00 9.77e-04h 11\n",
      " 229  1.0730711e-08 8.29e-09 1.10e-05 -11.0 2.00e-01    -  1.00e+00 1.95e-03h 10\n",
      "iter    objective    inf_pr   inf_du lg(mu)  ||d||  lg(rg) alpha_du alpha_pr  ls\n",
      " 230  1.0814724e-08 8.27e-09 8.69e-06 -11.0 1.00e-02    -  1.00e+00 7.81e-03h  8\n",
      " 231  1.0752181e-08 7.95e-09 1.98e-05 -11.0 2.88e-03    -  1.00e+00 6.25e-02h  5\n",
      " 232  1.0693170e-08 8.07e-09 8.18e-06 -11.0 4.92e-02    -  1.00e+00 3.91e-03h  9\n",
      " 233  5.1829796e-06 3.26e-06 1.65e-03 -11.0 1.19e-02    -  1.00e+00 1.00e+00w  1\n",
      " 234  9.0262247e-07 3.17e-06 7.36e-04 -11.0 7.87e-03    -  1.00e+00 1.00e+00w  1\n",
      " 235  6.0224982e-04 1.28e-03 1.63e-02 -11.0 2.47e-01    -  1.00e+00 1.00e+00w  1\n",
      " 236  1.0734024e-08 8.06e-09 9.56e-06 -11.0 5.13e-02    -  1.00e+00 7.81e-03h  7\n",
      " 237  1.0600648e-08 8.00e-09 1.56e-05 -11.0 1.75e-02    -  1.00e+00 7.81e-03h  8\n",
      " 238  1.0562675e-08 7.89e-09 1.58e-05 -11.0 1.11e-02    -  1.00e+00 1.56e-02h  7\n",
      " 239  1.0577489e-08 7.82e-09 9.23e-06 -11.0 9.00e-03    -  1.00e+00 1.56e-02h  7\n",
      "iter    objective    inf_pr   inf_du lg(mu)  ||d||  lg(rg) alpha_du alpha_pr  ls\n",
      " 240  1.0340470e-08 4.65e-09 5.30e-06 -11.0 1.89e-03    -  1.00e+00 5.00e-01h  2\n",
      " 241  1.0236486e-08 4.64e-09 5.17e-06 -11.0 1.01e-01    -  1.00e+00 4.88e-04h 12\n",
      " 242  1.0218489e-08 7.75e-10 6.72e-06 -11.0 1.07e-04    -  1.00e+00 1.00e+00h  1\n",
      " 243  1.0190412e-08 8.15e-10 4.28e-06 -11.0 1.95e-03    -  1.00e+00 6.25e-02h  5\n",
      " 244  1.0177106e-08 8.02e-10 4.44e-06 -11.0 1.95e-03    -  1.00e+00 1.56e-02h  7\n",
      " 245  1.0153753e-08 9.02e-10 1.10e-05 -11.0 7.37e-04    -  1.00e+00 6.25e-02h  5\n",
      " 246  1.0121334e-08 9.38e-10 4.46e-06 -11.0 3.81e-04    -  1.00e+00 3.12e-02h  6\n",
      " 247  9.9885275e-09 4.15e-10 2.07e-06 -11.0 4.77e-05    -  1.00e+00 1.00e+00h  1\n",
      " 248  1.7596544e-08 1.78e-15 2.63e-05 -11.0 1.39e-04    -  1.00e+00 1.00e+00H  1\n",
      " 249  9.9349444e-09 8.22e-10 3.05e-07 -11.0 7.81e-05    -  1.00e+00 1.00e+00h  1\n",
      "iter    objective    inf_pr   inf_du lg(mu)  ||d||  lg(rg) alpha_du alpha_pr  ls\n",
      " 250  9.9360832e-09 1.56e-13 4.20e-07 -11.0 7.07e-06    -  1.00e+00 1.00e+00h  1\n",
      " 251  1.0009532e-08 1.78e-15 1.07e-05 -11.0 1.62e-05    -  1.00e+00 1.00e+00H  1\n",
      " 252  9.9339824e-09 2.75e-11 1.54e-07 -11.0 1.32e-05    -  1.00e+00 1.00e+00h  1\n",
      " 253  9.9351557e-09 1.65e-13 6.60e-07 -11.0 2.15e-06    -  1.00e+00 1.00e+00h  1\n",
      " 254  9.9337191e-09 4.06e-13 2.60e-07 -11.0 3.02e-06    -  1.00e+00 1.00e+00h  1\n",
      " 255  9.9679281e-09 1.78e-15 4.63e-06 -11.0 1.09e-05    -  1.00e+00 1.00e+00H  1\n",
      " 256  9.9334872e-09 4.32e-12 1.15e-07 -11.0 6.57e-06    -  1.00e+00 1.00e+00h  1\n",
      " 257  9.9359549e-09 2.60e-13 3.58e-07 -11.0 8.21e-07    -  1.00e+00 1.00e+00h  1\n",
      " 258  9.9333164e-09 1.51e-13 5.90e-08 -11.0 2.24e-07    -  1.00e+00 1.00e+00h  1\n",
      " 259  9.9332982e-09 1.78e-15 5.82e-08 -11.0 3.96e-07    -  1.00e+00 1.00e+00h  1\n",
      "iter    objective    inf_pr   inf_du lg(mu)  ||d||  lg(rg) alpha_du alpha_pr  ls\n",
      " 260  9.9330950e-09 1.57e-12 6.89e-07 -11.0 2.20e-03    -  1.00e+00 7.81e-03h  8\n",
      " 261  9.9329670e-09 1.52e-12 6.67e-07 -11.0 3.07e-03    -  1.00e+00 3.91e-03h  9\n",
      " 262  9.9329016e-09 3.55e-12 6.56e-07 -11.0 2.82e-03    -  1.00e+00 3.91e-03h  9\n",
      " 263  1.0536690e-08 1.78e-15 3.15e-05 -11.0 7.07e-05    -  1.00e+00 1.00e+00H  1\n",
      " 264  9.9337361e-09 1.78e-15 1.00e-06 -11.0 6.40e-05    -  1.00e+00 1.00e+00H  1\n",
      " 265  1.0038044e-08 1.78e-15 8.85e-06 -11.0 1.19e-04    -  1.00e+00 1.00e+00H  1\n",
      " 266  1.0038023e-08 1.78e-15 8.85e-06 -11.0 1.04e-03    -  1.00e+00 6.10e-05h 15\n",
      " 267  1.0037963e-08 1.78e-15 8.85e-06 -11.0 1.79e-03    -  1.00e+00 1.22e-04h 14\n",
      " 268  1.0037958e-08 1.78e-15 8.85e-06 -11.0 1.38e-01    -  1.00e+00 1.19e-07h 24\n",
      "Restoration phase is called at almost feasible point,\n",
      "  but acceptable point from iteration 262 could be restored.\n",
      "\n",
      "Number of Iterations....: 268\n",
      "\n",
      "                                   (scaled)                 (unscaled)\n",
      "Objective...............:   9.9329016310000795e-09    9.9329016310000795e-09\n",
      "Dual infeasibility......:   6.5611882668121339e-07    6.5611882668121339e-07\n",
      "Constraint violation....:   3.5500491435414006e-12    3.5500491435414006e-12\n",
      "Complementarity.........:   0.0000000000000000e+00    0.0000000000000000e+00\n",
      "Overall NLP error.......:   6.5611882668121339e-07    6.5611882668121339e-07\n",
      "\n",
      "\n",
      "Number of objective function evaluations             = 1538\n",
      "Number of objective gradient evaluations             = 270\n",
      "Number of equality constraint evaluations            = 1538\n",
      "Number of inequality constraint evaluations          = 0\n",
      "Number of equality constraint Jacobian evaluations   = 270\n",
      "Number of inequality constraint Jacobian evaluations = 0\n",
      "Number of Lagrangian Hessian evaluations             = 0\n",
      "Total CPU secs in IPOPT (w/o function evaluations)   =      1.136\n",
      "Total CPU secs in NLP function evaluations           =      1.300\n",
      "\n",
      "EXIT: Solved To Acceptable Level.\n"
     ]
    },
    {
     "data": {
      "text/plain": [
       ":Optimal"
      ]
     },
     "execution_count": 25,
     "metadata": {},
     "output_type": "execute_result"
    }
   ],
   "source": [
    "solve(m)"
   ]
  },
  {
   "cell_type": "code",
   "execution_count": 26,
   "metadata": {},
   "outputs": [
    {
     "data": {
      "text/plain": [
       "99-element Array{Float64,1}:\n",
       " 1.21283\n",
       " 1.42073\n",
       " 1.62156\n",
       " 1.81408\n",
       " 1.99759\n",
       " 2.17174\n",
       " 2.33639\n",
       " 2.49163\n",
       " 2.63764\n",
       " 2.77471\n",
       " 2.90316\n",
       " 3.02337\n",
       " 3.13576\n",
       " ⋮      \n",
       " 4.62445\n",
       " 4.62483\n",
       " 4.62519\n",
       " 4.62551\n",
       " 4.62582\n",
       " 4.6261 \n",
       " 4.62636\n",
       " 4.6266 \n",
       " 4.62682\n",
       " 4.62703\n",
       " 4.62722\n",
       " 4.6274 "
      ]
     },
     "execution_count": 26,
     "metadata": {},
     "output_type": "execute_result"
    }
   ],
   "source": [
    "getvalue(predictedK).innerArray"
   ]
  },
  {
   "cell_type": "code",
   "execution_count": 27,
   "metadata": {},
   "outputs": [
    {
     "data": {
      "text/plain": [
       "5-element Array{Float64,1}:\n",
       " 0.950001 \n",
       " 0.0499987\n",
       " 0.299998 \n",
       " 0.999999 \n",
       " 1.99991  "
      ]
     },
     "execution_count": 27,
     "metadata": {},
     "output_type": "execute_result"
    }
   ],
   "source": [
    "[getvalue(β), getvalue(δ), getvalue(α), getvalue(A), getvalue(γ)]"
   ]
  },
  {
   "cell_type": "code",
   "execution_count": 28,
   "metadata": {},
   "outputs": [
    {
     "data": {
      "text/plain": [
       "10-element Array{Float64,1}:\n",
       " -0.236393  \n",
       " -0.400215  \n",
       " -0.225332  \n",
       " -0.0429154 \n",
       "  0.0695975 \n",
       "  0.0957278 \n",
       "  0.0692258 \n",
       "  0.0331543 \n",
       "  0.0103012 \n",
       "  0.00170368"
      ]
     },
     "execution_count": 28,
     "metadata": {},
     "output_type": "execute_result"
    }
   ],
   "source": [
    "getvalue(coeff) - true_coeff"
   ]
  },
  {
   "cell_type": "code",
   "execution_count": 29,
   "metadata": {},
   "outputs": [
    {
     "data": {
      "text/html": [
       "<img src=\"data:image/png;base64,iVBORw0KGgoAAAANSUhEUgAAAlgAAAGQCAYAAAByNR6YAAAABHNCSVQICAgIfAhkiAAAAAlwSFlzAAAPYQAAD2EBqD+naQAAIABJREFUeJzt3Xl8VPWh///3LMlknYRAgIRshBC2CGFHpYCCgrWCrbTXtralFaF6rW29/UJ7W29tb2u93v68V/v91V1a6161LUWtGy4gKGvCGkICIQlJWLJN1snMnPP9A6RGFAgkc2Ymr+fjMY9kJnNy3snHIW8/5zPn2EzTNAUAAIBeY7c6AAAAQKShYAEAAPSyPi9YpmnK4/GII5EAAKC/cPb1DlpaWpSUlKTm5ma53e6+3h16QXNzs5KSkqyOgQvAGEaGcB5HwzDkDxjq6vLJ6/Wpy+eTz+eXr8t/6nO/3ye/z6+Az6dAIKCAz6+A3yfD75fhD8gI+GQE/DL9gRMfA36ZRkAK+KXAyY+GIRl+yQjIFjj50TRkM/yyGYETN9OQ3fDL/tHnZkB2I3DioxmQ/aPHTn7uMI2TH0/eV+DEYzLkNAOyK/QnDAzZZMomQzYZNpt06nP7icdtJ+ZXzI8/JptkO/nx49ud/Gh+4nHTJpkn52lM24mvmx9/rk0nH/vnvmSznXy+/eT306lt/vm5Tn1/6aN9ffzxk5/bbKe+x0f3uz/35PY224kR+9j3OJXjk49/yn1TkumK16Lv3XqOv/0T+rxgIfwEAgGrI+ACMYaR4ULH0TAMdXp9au/wqrOjUx2dXfJ2euXt7FSX1ytfV5f83i75fV4FvF0yfF4Zvi6ZPp9Mf5fk65L8XbL5u2QLdMke8Mke8MkR8MkR6JLD8Ml58hZ18uY0/Io2fYo2facVEbsk18nbufLLLr/NKZ/NKb/NoYDdqYDNcfLmVMDukGFzyDj5uGl3KGB3yDz5mGl3yLBFyW+Pk+zOE3/s7Q7JceI5sp+8b7NLDodsH923n/jcZj/xHJvdLpvDIZvt5OOOk4/Z7LKffJ7Nbpf95ON2+z8/dnR2KiEhQXa7TXa748RzbCeeaz+5/Ymv2WU7+dFx8mvd7tttJ59vk91uk002OZz2jz124qPNduJzWIuCBQAWMwxD7R1etbS2q62tQ22tHepob1dTY4OcknydnQp0dsjwdsjs6pC6OqWuTjl8nXL4O+X0dcoZ8CrK36low6uYgFcuw6tYw9ut5MSevH2WTlu0vPYTN589Wn5HlPz2aPkd0Qo4ohRwRMtwuuR3Jch0RMl0RkuOKMnplJxRsp282Z1Rsjuj5Yhyyu6MksPplMMZJWd0lBxRTjmdTjmdUXJGRckZ5VRUlFPRJx+Pjv74fYccDkdf//r7XENDg1JSUqyOgSCjYAHABTAMQ23tnWpqbpXH06q2llZ1tLbK29omX0erAh3tMjvbpM42Obra5ehqV7TvxC3W3664QLviAx1yyJAkxZy8SVLGx/bTZo9Rhz1GXkeMvM4Y+Rwx8jtjFIiKUWfCQJnOGJnRMbJFuWRzxcge7ZIjOkYOl0tR0S45XS5Fx7gU7Tpxi4k5cYt1RSk21qXo6ChmPYBeRMECgJNa2zpU3+BRU6NHrZ5mdXg88rZ6FGhtkdnukb2zRU5vq1zeFsX4WpXga1Wiv1VRCsgmKenk7SNeW5RaHfFqd8apMypeXVFx8kfHqy1ugFpdcZIrTvaYODliYhUVG6fo2DjFxMUqJi5OcXGx8gW6lJE2VHFxLjmd/HON0NPV1aVDhw5FxLIEh8Oh7OxsRUdH98r34xULIGJ1+fw6erxJ9cca5WlqVHtTk7o8TQq0Nsne2qiojmbFej1K6GqW2+dRnOmVQ9LAkzdJ6rI55XEmqjUqUR3RbvlcCWpNzlRLbKKOxyXKGZ+g6PhExcTHKy4hQQnuRLkT45XkjldsbE9WG52uoaFBbnf8hf4agD5RXV2tr33ta2pvb7c6Sq+Ji4vTM888o2HDhl3w96JgAQg7nV6vausaVH/suJrrG9TR2KBAc71sLfWKbm9UfGeTkroalez3yC6zW2HyOOLliUpSqytZ3pgkNbvz1ByXpLoEt1zuZMUlJSnB7VZyslspAxIVHx/LoTPgEwzD0C9/+UslJyfr/vvvV0xMzNk3CnGdnZ2644479Itf/EIPPvjgBb/uKVgAQkqXz6ea2nodrTui5qPH1FF/VGbzcUW1Hld8+3EN6KxXir9ZUZKGnrx12qJVH52ilpgUdcYNUENKhpoSB6g2KUVxyQPkHjBAAwcO0KDUJGW4LmxWCYB0/Phxbdu2Tb/+9a9VWFhodZxec+utt+qnP/2p6uvrlZqaekHfi4IFIKi6fH5V1xzTkcO1aj5yRN76I7I31Sm25agGdBzVoK4GOWUoXVK6pGZHgupjUtUWN0jNg0fJ4x6kupRBSkgZqJTUQRoyOEXpSQnKY5YJCJqmpiZJUkZGxlmeGV4++nkaGxspWABCT0enVxWHanWk+rBa6mpk1NfK1Vyr5NY6DfEeVbQCypQ0TDYdj0pRQ9wQdSQOUVvmeB1NGazE1FSlDh2sYWmpykiIs/rHAfAJhnHiXa+RcBqNj/vo5/no57sQFCwA58UwDNUcaVDlwUo1VlXKd+ywXI2HNbD1sIZ4jylRhhIltdtdOhKTJk9imo4Mv1gNg9KUNDRNQ9KHKmNYqrI4ZAegD1VUVGjJkiXavn27hg8frqKioqDsl4IF4IwMw1BN7XFVlFeosbJC5tFKJTRWKa2tSolGu7IkDbU5VRuTpib3MNUOn6mGIcM0cNgwZWRlKG/wAOVz+A6ARdxut371q1+publZP/3pT4O2XwoWgFNaWttVuu+gjhw8IF/NQcXXVyi99ZDcgTblSEq1x6gmPlMtyZkqGzlDicOyNCw7SznZacqN4p8TANb57W9/q9LSUj388MOSTqwTy8vLU2lpqWbOnKl33nknqHn4FxHop47XN2vf3v1qOLBftroDGthwQMM6azREplLkUHVchpoG5Kh8xFS5M3KUNSJHeRmDNSrC1lwA6D0HPKaaunr/+yZHS7lu2xmfs3TpUuXn5+uee+5RcnKyVq1apUWLFll2mSIKFtAPeDxt2r1rn46Xl8pWs1+DG/Yr3XtU2ZJS7HGqdufqaOZkeTK+rPQRIzRyZJaGszYKQA8c7zQ18nm/DPPsz+0ph02qu8GpQTGfXbKSk5O1ePFiPf744/rhD3+oBx54QM8991zvhzlHFCwgwgQCAZWVH1bDux+o61CJBhzdp+z2SmXKVIo9VpXuEarNuVSe7JHKGZ2v/Ow0jWFWCsAFGhRj0/6vOPtsButM5eojt912mxYuXKgxY8YoNTVVEydO7P0w54iCBYS5jg6vdu7cpyMlu+Ws2q3shr1KD7RpiOw6FJ+lhiFj1Jb9ReWMHa2RIzI5xAegz5ztMF5fGz16tHJzc7Vs2TLdc889lmahYAFhpr2jU8Xb9+jo7mLFV+/UcE+p0k2/3PZYVQwYo7KLvqT4zBxNmz5R2ZxDCkA/c9NNN+nWW2/V4sWLJUnt7e3Kz8+X1+tVc3OzMjIy9I1vfEO/+c1v+jQHBQsIcV0+n4q271XdriLFVu5QbnOJMk2/EpxuHUq9SCVjb1TWuAKNHjVco0++k6+hoUGJlCsA/dDbb7+tW265RVFRUZJOXMC5uro66DkoWECIMQxDBypqVLplq1S2TSOO71C60aF4R4IqBhWoZPqNypkwQWPzs3URh/sAQJJUU1Ojyy+/XCkpKXrttdesjkPBAkJBR4dXWzYXqaF4k9Kqtyjde0Rj5FBZ8hjtm/BlZRVOUsG4PI1z8pIFgE+Tnp6ukpISq2Ocwr/WgEUO1xzTzg82ySj5UHnHizXc8MrlGqzajGnqLJiswsnjNdwdb3VMAMB5oGABQVR+oFp73l+vhNINGtlSqtGya3/yWO2b9DWNnDZdU/KyZOeyMgAQ9ihYQB8yDEMl+ypUtnGdUso2KKf9kEbZXNo/ZLL2Tl+oSZdM0xUpbqtjAgB6GQUL6ANl5VXa8947Glj6nrI7qjTCEa/ytGnyXf4NTbtksvLjYq2OCADoQxQsoJdU1xxT0dtvK3HvuxrRWq5R9ljtS5+hwJSlmn7xRI1zRVsdEQD6nbVr1+rHP/6xWltbZbPZdPXVV+vuu+/u8+UYFCzgArS3d2jjOxvk2/qmxtYXaYzNqb1Dpqr0c/+i6bOmaVRsjNURAaBfGzBggJ599lnl5uaqs7NT8+bN0xNPPKElS5b06X4pWEAPGYah7dv36PC6NzSycp1GGe0qSRqr3bO/p4svn6UvJCVYHREA+p3f/va3Ki0t1cMPPyxJampqUl5enkpLS5WSkiJJiomJUWFhoSoqKvo8T7eCddttt2n16tU6dOiQtm/frsLCwtM22Lhxo26++WZJks/n08yZM3X//ffL5XL1eVjASo2NHm147S0l73hF2e1VMqNTtW/sQhVcfoXm5Q6zOh4A9GtLly5Vfn6+7rnnHiUnJ2vVqlVatGjRqXIlSXV1dXrhhRe0Zs2aPs/TrWAtXrxYK1as0MyZMz9zgwkTJmjz5s2KioqSYRi67rrr9Pvf/14//OEP+zwsEGyGYaiouETVb7+iMVXvaawZ0O6h06XPL9eMiydqCmdSB4BT/MdrZXS09vr3tccmyDko7YzPSU5O1uLFi/X444/rhz/8oR544AE999xzp77u8Xh0zTXXaMWKFZoyZUqvZ/ykbgVr1qxZZ90gLu6f1zfr6upSR0eHbDZrr54N9LbOTq/ee/0duTb9TSNaD8jvGqy9hddryoL5+sKQgVbHA4CQE2htVt2vb5RMo/e/ud2utF8+I0dC0hmfdtttt2nhwoUaM2aMUlNTNXHiRElSS0uLFixYoEWLFun222/v/Xyf4rzWYFVUVGjRokUqLy/X1VdfrVtuueWs23g8nm73XS4XhxURcuqO1GvTyy8re88rGutv0s7UKTp4xbd08aWT5eQyNQDwmRwJSRr608f6bAbrbOVKkkaPHq3c3FwtW7ZM99xzjySptbVVCxYs0IIFC/Szn/2s17N9lvP6i5GTk6Pi4mK1trbqhhtu0EsvvaTrr7/+jNtkZmZ2u79ixQqtXLnyfHaPPtbY2Gh1hKDbX1al2ndf1fia9Rplc2pX1hz5Zl2p6TlDJZ3+Pwihrj+OYSRiHCNDJI5jU1OTDMOQ3++X3+//5xeSU2VPTu2TfXbbzxl85zvf0fe//31de+218vv9+p//+R9t2rRJra2tevHFFyWdWBL1k5/85FP3YRiGmpqa1NDQ0O1rH1/LdS4u6H/JExISdP311+upp546a8GqqqqS2/3PM1YzgxXaevofUrjavHmH6l97TgXHt8oePVi7p3xLl169QNclJ1od7YL1lzGMdIxjZIi0cUxOTpbdbpfT6Qy52f333ntPt9xyi2JjT5zQ+Y477tAdd9xxTts6nU7Z7XYlJydf8Jj1+LdSVlam7OxsRUVFqaurS3/5y180fvz4s27ndru7FSzAKoZh6P33PpT37T9rdPMedcZla8+8/6M582dralRo/UMBADg3NTU1uvzyy5WSkqLXXnvN6jjdC9by5cv18ssvq66uTvPnz1diYqLKysq0dOlSLVy4UAsXLtTatWt1//33y+FwyO/3a+7cuefcDAErBQIBvffW+3K+87SGt1eoxD1GZYt+rs/NmiYH7wYEgLCWnp6ukpISq2Oc0q1gPfTQQ5/6pEcfffTU58uWLdOyZcv6NhXQiwzD0Pp3NkpvPamRbQe1a+BEVS+6WZdPvajPL5UAAOifOB6CiGUYhjas2yz/G39SXmuZdg8Yr8PX/rcWTL3I6mgAgAhHwUJE2rJ1p5r/9phGeUpUkjRWVf/yG105o5BztgFAL/ho9t/n81mcpHd99PP0xtENChYiSll5lfb9+XFNqNuotoRcVVz3K11+6SQOBQJAL0pPT1d0dLQeeeQR3XTTTYqKirI60gXz+Xx65JFHFB0drfT09Av+fhQsRIRjxxu14dmnNL7sVQ2JTtGeeT/S3KsuY/E6APSBhIQE3Xvvvbr99tu1YcMGq+P0mujoaN17771KSEi44O9FwUJY83q79Maf/6K8bc9qpOzaNfmbmrv4WsXFco41AOhLM2bM0Ouvv66amhoZRh9cHifI7Ha70tPTe6VcSRQshLEN72+R1jyggo5aFeVdrUu/+nWNHZhsdSwA6DcSEhKUn59vdYyQRMFC2KmqqtOOpx7WhLoN2ptcoLZv/FTXjs21OhYAAKdQsBA2vF6vXn/mBY0ufk5pzgTtuXKF5i2YwwJ2AEDIoWAhLGzbuksdL9yngo4aFY++Vpd97Wua5I63OhYAAJ+KgoWQ1tLarrf/uEqF+9eoLHGk2pf9jsOBAICQR8FCyHp/3Sa5/v47jfZ5VDztRi34yrWKCrGrtgMA8Gn4a4WQ09TconWPPqCJVWu1K6VQA751j67JTrM6FgAA54yChZDy4Qfb5Xjp/9MIf4d2zvmB5i+8kkXsAICwQ8FCSOjs9Or1P/xBhSV/VcmAAqV+50e6KnOI1bEAADgvFCxYbs/eA6r/0z0a11Gt4qnf0VX/8iU5nVziBgAQvihYsIxhGHr1uZc0etMfpNgMddx0v67hHYIAgAhAwYIlGhs92vjgvZpw5ANtyb9W87/9bcVy/UAAQISgYCHoiotL1PX0Xcr2t6ts4c917eUXWx0JAIBeRcFC0BiGoX+8sFqjNz6qioRcDbrlHs3JHmp1LAAAeh0FC0Hh8bTqvQf+V4W167Vl5CItWHqjYlzRVscCAKBPULDQ58oPHlbdI3dqRGe9Sj//77r2yllWRwIAoE9RsNCnNr6/Ve6XfiN7VJLsN/+vLh+ZZXUkAAD6HAULfcIwDL36/N807oNHtHdgoaZ/7ydKSU60OhYAAEFBwUKv6/R69frv/68mHXpDW0Z9UVffdCMXaQYA9Cv81UOvOlbfpB33/0LjPGXaffm/6dqFV1gdCQCAoKNgodccqDisIw/eoUH+djV94780f9JYqyMBAGAJChZ6RXHxPulPP5eccUq49V6NyEm3OhIAAJaxWx0A4W/dex8q5o8rdTxuiEb8iHIFAAAzWLggr/31VY1653faPXiq5vzgx4qPi7U6EgAAlqNg4bwYhqE1TzytSUVPauvwz+vzt9yiqCj+cwIAQKJg4TwYhqG/P/KYJu99UdsKv6FrvvlV2e0cbQYA4CMULPRIIBDQmgce0OSyNSqavkwLv/olqyMBABByKFg4Z36/X6/87n5NPPSGdn7ue/rCdVdbHQkAgJBEwcI58fl8+sf//lYTDq9Tybx/01VfmGd1JAAAQhYFC2fl9Xr15r13q+DIJpVd9WNdOX+W1ZEAAAhpFCycUZfPpzfv/Y1GH92qykU/09zLLrY6EgAAIY+3fuEz+f1+vf6//60xR7fo8KKfaTblCgCAc0LBwqcKBAJ65f7/VcHh9aq4aoVmzZludSQAAMIGBQunMQxTL//+/1dh5VsqnfdvuvxK1lwBANATFCx0YxiG3nvmWU0qf0W7Z39PV35hrtWRAAAIOxQsdLNm1ROaVv53Fc9Yrqu++Hmr4wAAEJYoWDjllef+okk7n9WHF31dV1//RavjAAAQtihYkCS988Y6FWx8WFvyv6jLvsgZ2gEAuBAULGjL1p3KeOW/tSN9pq5ZvtTqOAAAhD0KVj9Xur9SMU//UgeT8jX3ez+Sw+GwOhIAAGGPM7n3Y7VH6tX06M/U5Rqgyd//D8XGuqyOBABARGAGq59qaWnTvt/9h5yGX1m3/KdSBritjgQAQMSgYPVDfr9f6++7S0PbaxS95D+VlTHE6kgAAEQUClY/9PKjj2vs8e2q/9JPVTBuhNVxAACIOBSsfuaNNW9ocslL2jn9Rl06c4rVcQAAiEgUrH6kqGivct+6X9uy5unz/8KJRAEA6CsUrH6ipq5exlP/qYrEXF1xy/dktzP0AAD0Ff7K9gMdHV6V/P6Xkmwac8t/KDaG0zEAANCXuhWs2267TTk5ObLZbCoqKvrUDdauXatp06Zp7NixGjdunFasWCHDMIISFj1nGIbeeOB+ZbcckP2GO5Q+dKDVkQAAiHjdCtbixYu1fv16ZWdnf+YGAwYM0LPPPqs9e/Zo69at2rBhg5544ok+D4rz8+rzf9Okyrd0YN4PVDhhtNVxAADoF7qdyX3WrFln3WDixImnPo+JiVFhYaEqKip6PRguXFHRXo358DFtyV+ka6+ea3UcAAD6jQu6VE5dXZ1eeOEFrVmz5qzP9Xg83e67XC65XKwF6isNjR51PfMbVSTk6qobb7Q6DgAA/cp5FyyPx6NrrrlGK1as0JQpZz+fUmZmZrf7K1as0MqVK8939zgDwzD1wUP3abi/TTHf/Jna2lrV1nbu2zc2NvZdOAQFYxgZGMfIwDhGhpSUlB49/7wKVktLixYsWKBFixbp9ttvP6dtqqqq5Hb/83p3zGD1nTXPvKjCY5tUds1/aM64/PP6Hj39DwmhhzGMDIxjZGAc+58eF6zW1lYtWLBACxYs0M9+9rNz3s7tdncrWOgb27fv0bgPH9fWUV/UormXWB0HAIB+qdu7CJcvX66MjAxVV1dr/vz5ysvLkyQtXbpUq1evliTdd9992rRpk1566SUVFhaqsLBQv/71r4OfHKepb/DI/8zdOuDO04Ibv2N1HAAA+i2baZpmX+7A4/EoKSlJzc3NzGD1IcMw9I+7f6Hs+t1K+MH/VXbm0PP+Xg0NDUxnhznGMDIwjpGBceyfOJN7hPjHi3/X+KMf6vjVt19QuQIAABeOghUB9pdVaeSGx7Q19/OafTnrrgAAsNoFnQcL1vP5/Kr6438rzjVQc2+8yeo4AABAzGCFvVeffEYjWsoU/ZX/o4T4WKvjAAAAUbDCWnHxPo0vfkZFBV/RpEljrY4DAABO4hBhmGrv6FTbs/+txoThWvDNr1sdBwAAfAwzWGHqjccf15DOIxr6zf8jV3SU1XEAAMDHULDC0Ib3t2ry/tXaO22JRufnWB0HAAB8AgUrzHg8bYr+2/9od8p4XfWVa62OAwAAPgUFK8y8/cQf5Pa3aNSS2+VwOKyOAwAAPgUFK4xs275HE8vWqHTKN5STxdnaAQAIVRSsMNHV1aX2P9+nAwkjNP/LHBoEACCUUbDCxGvP/FkZ7VUa+NUfKCqKs2sAABDKKFhhYH9ZlcYWPaviMV/URePyrI4DAADOgqmQEGcYhiqevE/u6IGa940brI4DAADOATNYIe71v72mMU27FFj4PcXHca1BAADCAQUrhNUeqVfW+ke1LXOuLrl0stVxAADAOaJghbAtf3pEfptTlyxZZnUUAADQAxSsELVly05NrH5HNTO/rUEDk6yOAwAAeoCCFYL8fr/a/vqA9ieO1BXXXGF1HAAA0EMUrBD0xurXNaL1gJK+eDOXwwEAIAxRsEJMQ6NHGRv+oG2ZczVp0lir4wAAgPNAwQox655+UtGGT1O+/h2rowAAgPNEwQohe0oOasL+NSqd9FWlDx1odRwAAHCeOJN7iDAMQ1XPPyB3TJqu5GLOAACENWawQsQ7b67XuIYd8n9+mVyuaKvjAACAC0DBCgHtHZ1KfPNR7Uidqs/Nmm51HAAAcIEoWCHgrRf+qkFd9cr/6nKrowAAgF5AwbJYfYNHI4r+rB0jrlJebobVcQAAQC+gYFls/fPPyWEGNP0rX7M6CgAA6CUULAtVVR9Vwb7V2lfwJQ0dkmJ1HAAA0EsoWBba/uc/qc0RpzmLr7M6CgAA6EUULIvs3VehCYfeUtXU6+V2x1sdBwAA9CJONGqRAy/9QamuVM279mqrowAAgF7GDJYFtmzZqQlHPlDzrG9yUlEAACIQM1hBZhiGmv6+Sm3xubp8wRyr4wAAgD7ADFaQrXvnQ41u3iPngm/L4XBYHQcAAPQBClYQBQIBOd5cpd0p43XxpZOtjgMAAPoIBSuI3nlzvXLaK5V69bdkt/OrBwAgUvFXPkgCgYCi331GuwdO1KTJ46yOAwAA+hAFK0jeW7tBw9srNPAqLokDAECko2AFQcAw5Hjnae1JGa8pUy6yOg4AAOhjFKwgWPf2B8ptO6jk+V+3OgoAAAgCClYfMwxDevsp7U0u0LTpE6yOAwAAgoCC1cfWv7tJea3lSpzP2isAAPoLClYfMgxD/rVPqyRprKZNL7Q6DgAACBIKVh/asH6L8ltKFXfF1zjvFQAA/Qh/9fuIYRjqevMplbpHacYlk6yOAwAAgoiC1Uc+2LBN+Z59ip7H7BUAAP0Nf/n7SOtbz2t/4khdMnOq1VEAAECQUbD6QPGO/RrbuEPGzMXMXgEA0A85rQ4QiSpfe0Fe1xDNuvxSq6MAAAALdJteue2225STkyObzaaioqJP3aCiokJz5sxRUlKSCgs59cAnHao6oosOr9OxidcqKor+CgBAf9StYC1evFjr169Xdnb2Z27gdrv1q1/9Sk8//XSfhwtH2//+V7U7YjXrC/OtjgIAACzSrWDNmjVLGRkZZ9wgJSVFM2fOVHx8fJ8GC0eNTS0aU/YPlY2+WokJcVbHAQAAFgnaMSyPx9PtvsvlksvlCtbug2L9mlc1zvRpyjWLrI4CAAAsFLSClZmZ2e3+ihUrtHLlymDtvs95fX6lF/9NO4bN0qxomxoaGqyOdN4aGxutjoALxBhGBsYxMjCOkSElJaVHzw9awaqqqpLb7T51P9JmsF5f86bG+uoV94Wv9HgQQlEk/Az9HWMYGRjHyMA49j9BK1hut7tbwYokhmEoZuOL2jVoshaMzrE6DgAAsFi3Re7Lly9XRkaGqqurNX/+fOXl5UmSli5dqtWrV0uS2tvblZGRoS9/+cvas2ePMjIy9JOf/CT4yUPIxo3bldt2UEmXX2d1FAAAEAK6zWA99NBDn/qkRx999NTncXFxqq6u7ttUYcaz9kUdiM/VzBmcFwwAAHCpnAu2p+SgLqrfpq5LruOyOAAAQBIF64Ltf/3vOhaVollXzrI6CgAACBEUrAvQ5GnV6Iq1qhqzQNFRUVbHAQAAIYKCdQHe/8dbchldmrzgKqujAACAEEKCOYC8AAAZ+klEQVTBOk+GYShp+xrtHjpDw9JTrY4DAABCCAXrPG3atFM5HVUaOPsLVkcBAAAhJmgnGo00x95dIyN2mGZM59QMAACgO2awzsPh2noV1G5Q44QvcGoGAABwGtrBedjy2qvy2Z269Kp5VkcBAAAhiILVQ10+vzJ3v6qS7MuUnJRodRwAABCCWIPVQ++/84FG+uoVPY/F7QAA4NMxg9VD3o1rtC9pjArG5VkdBQAAhCgKVg/sK6tSQUORzGnMXgEAgM9GweqBva+tUaPTrZnzZlodBQAAhDAK1jlq6+jUyANv6kD+lYpxuayOAwAAQhgF6xxtWPu+kgJtKriC6w4CAIAzo2Cdo8DWN1SSPE4jhg+zOgoAAAhxFKxzcKjqiMY2FCsw8QqrowAAgDBAwToHRW+9oQ67S5fMnWV1FAAAEAYoWGcRCAQ0dO+bKs2YqcSEOKvjAACAMEDBOovNm3dpmLdOQz93pdVRAABAmOBSOWdx9P3XpZg0TZtcYHUUAAAQJpjBOoNmT5tGV6/XsTHzZLfzqwIAAOeG1nAGG9auU4zZpYlzefcgAAA4dxSsM4ja/rr2DCxURsZgq6MAAIAwQsH6DKVlVRrdvEdRU1jcDgAAeoaC9Rn2rn1DHke8LplzidVRAABAmKFgfQq/36/M/W+pLGe2YmO5sDMAAOgZTtPwKTZu2KbhvnrZZ3F4EAAA9BwzWJ+i6YM3VRGXpfEX5VsdBQAAhCEK1ie0tLZrdO0Hahx9Gee+AgAA54UG8QkfvPeBYs0uXTTnMqujAACAMEXB+gRf0TsqdY9STtZQq6MAAIAwRcH6mPoGj0Yf26aOsXOsjgIAAMIYBetjNr37vhymoUmXzbI6CgAACGMUrI+x73xH+1IKlDZkoNVRAABAGKNgnVRzpF6jG3bKuGiO1VEAAECYo2CdtO2d9xSw2TVtzkyrowAAgDBHwTopdve7KkmdpJQBbqujAACAMEfBknTwUJ1GeUoUPWG21VEAAEAEoGBJ2vneO+qwRWvG7IutjgIAACIABUtScsm7KkmbroSEOKujAACACNDvC1ZJ6SHlth1U4iQODwIAgN7R7wvWvnXvyOOI14zPTbU6CgAAiBD9umAZhqHB+99V2bCLFeNyWR0HAABEiH5dsHbuKldmZ40GTZtjdRQAABBBnFYHsFLFB+tkdyRq6vRCq6MAAIAI0q9nsAYd3KCDw6YrKqpf90wAANDL+m3B2re/Utkd1UoqvNTqKAAAIML034K18X212WM07eJJVkcBAAARpt8WrMT9G7R/yGTFxvLuQQAA0Lv6ZcGqOnxUI1v2K6bgEqujAACACNQvC9aO9zfIJ4emzJxmdRQAABCBuhWs2267TTk5ObLZbCoqKvrMjR577DGNHDlSI0aM0E033SSfz9fnQXuTs2SD9g0cr+SkRKujAACACNStYC1evFjr169Xdnb2Z25w8OBB3XHHHVq3bp3Kysp05MgRPfzww30etLccr2/WqIZdMsZweBAAAPSNbgVr1qxZysjIOOMGL7zwghYuXKihQ4fKZrPpu9/9rp555pk+Ddmbtr7/oewyVTiTggUAAPpGj8+wWVlZ2W2GKycnR5WVlWfdzuPxdLvvcrnksuD6f/7dG7TfPUpzhw4M+r4BAED/ELRTmGdmZna7v2LFCq1cuTJYu5cktbV3atTRbdox/itqaGgI6r7DSWNjo9URcIEYw8jAOEYGxjEypKSk9Oj5PS5YWVlZKi8vP3W/oqJCWVlZZ92uqqpKbrf71H0rZrCKt67TSLNLE2Zf1uNfVH/D7yf8MYaRgXGMDIxj/9Pj0zRcd911Wr16terq6mSaph588EFdf/31Z93O7XZ3u1lxeLC1eIMOxmVrRO6woO8bAAD0H90K1vLly5WRkaHq6mrNnz9feXl5kqSlS5dq9erVkqTc3Fz94he/0KWXXqq8vDylpqZq+fLlwU/eQ10+n0bUblLDiIutjgIAACKczTRNsy934PF4lJSUpObm5m6HCINtw/otynrhZ2q88Xe66KKRluUIBw0NDUxnhznGMDIwjpGBceyfgrbI3WrHtm1QVPRgTR43wuooAAAgwvWLS+UEAgFlVn2gmuyLZbf3ix8ZAABYqF/MYO3ec0CDfQ3yTpxudRQAANAP9IuCVbF1k6LtsZo0ucDqKAAAoB/oF8fL4g9sVvngiXK5oq2OAgAA+oGIL1jH65uV5ymVY9QUq6MAAIB+IuILVtGHW+WQoYLpU62OAgAA+omIL1gdezbrQPxwZaSnWh0FAAD0ExFdsAKBgHLqtqoxm9krAAAQPBFdsHbsLNUAv0dphay/AgAAwRPRp2mo2rZZLke8Jk4ca3UUAADQj0T0DFbCwS0qHzxJUVER3SMBAECIidiCdfRYo/Ja9it6DIcHAQBAcEVswSr+cIvsMjV+OgULAAAEV8QWrM69W1SWkKe0IQOtjgIAAPqZiCxYfr9fuXVb1ZzD7BUAAAi+iCxYxcUlSgq0KmMi578CAADBF5Fvr6vevkUuR6ImTBhldRQAANAPReQMVlLFZh0cOklOZ0T2RwAAEOIirmDVHqlXXmu5YsZweBAAAFgj4grWjg+3yJBNE6ZPtjoKAADopyKuYPn2blZZ4kgNTh1gdRQAANBPRVTBCgQCyj5arJbsSVZHAQAA/VhEFaw9ew9oQKBFQwsKrY4CAAD6sYh6m92h4u2KsUVrwsQxVkcBAAD9WETNYDkPFqs8ZZxiXC6rowAAgH4sYgqW19ul3IZd6sqZYHUUAADQz0VMwdqxo0RxhldZ41l/BQAArBUxa7BqdxYr3hGvgnF5VkcBAAD9XMTMYMVWFungoPFcHgcAAFguIgpWa1uHRjTvk0ZweBAAAFgvIgpW8dadijb9yps40eooAAAAkbEG6/ieIsVGpahwRIbVUQAAACJjBiu5ukjVQybIbo+IHwcAAIS5sG8k9fXNGt56UK58Dg8CAIDQEPYFa8fWYtllaswkFrgDAIDQEPYFq6WkSFUx6crKGGx1FAAAAEkRULAG1xTpaBqzVwAAIHSEdcGqrj6qjM4aJYymYAEAgNAR1gVrz7btMmTT+Clc4BkAAISOsC5Y3tIiHUwYrtSBSVZHAQAAOCVsC5ZhGMo4UqzGDA4PAgCA0BK2Z3IvK69Wqq9BrWMpWAAAILSE7QxWWdF2+eRQ4eSLrI4CAADQTdgWLKNitw6485QYH2t1FAAAgG7CsmCZpqn0o7vVkl5gdRQAAIDThOUarMqqIxrsq5dn5DirowAAAJwmLGewSnfslCSNK6RgAQCA0BOWBaujfLcqYjM5/xUAAAhJYVmwBtbtVv1Q1l8BAIDQFHYF63h9k7I7qhQ7gsODAAAgNIVdwdpdvFuSlD+BGSwAABCawq5gNZfuUl30IGVnDLE6CgAAwKc6rWDt379fl1xyifLz8zV16lTt3r37tI0Mw9CPfvQjFRQUaPTo0brxxhvV1dUVlMAJNXtUmzpONpstKPsDAADoqdMK1vLly7Vs2TKVlpZq5cqVWrJkyWkbPfbYY9q2bZu2bdumvXv3ym6367777uvzsG1tHRruKZM9h/VXAAAgdHUrWEePHtWWLVt0ww03SJKuu+46VVVVqaysrNtGxcXFmjdvnqKjo2Wz2XTVVVfpT3/6U5+H3bWjRFEKKGcc668AAEDo6lawqqqqlJaWJqfzxAnebTabsrKyVFlZ2W2jyZMna/Xq1fJ4PPL5fHr++edVUVFxxh15PJ5uN6/X2+OwR0p2qdkRr9Gjsnu8LQAAQLCc16VylixZokOHDmn27NmKjY3VvHnz9Prrr59xm8zMzG73V6xYoZUrV/Zov1GVu1SRPFppzc09zoxz19jYaHUEXCDGMDIwjpGBcYwMKSkpPXp+t4KVmZmp2tpa+f1+OZ1OmaapyspKZWVlddvIZrPpzjvv1J133ilJevbZZzVu3JnXRVVVVcntdp+673K55HK5zjmoz+dXbnOp9k38lx7/kOg5fsfhjzGMDIxjZGAc+59uhwgHDx6sSZMm6cknn5Qkvfjii8rIyFBeXl63jTo7O0818uPHj+vuu+/WihUrzrgjt9vd7daTciVJe/eWK97oUNoY1l8BAIDQdtohwoceekhLlizRXXfdJbfbrVWrVkmSli5dqoULF2rhwoVqbm7WnDlzZLfbZRiGvv/97+uaa67p06BVe3Yp3haliy4a2af7AQAAuFCnFaxRo0Zp48aNpz3x0UcfPfX5kCFDtHfv3r5N9kkVu3UgaZRG9HDmCwAAINjC4kzuhmEo4/getQ8ba3UUAACAszqvdxEG24GDhzXQ3yTPKNZfAQCA0BcWM1jlO3fLkE0F45nBAgAAoS8sCpb3wC4djB+uAckJVkcBAAA4q7AoWEOO7FZjGtcfBAAA4SHkC9aRo/Ua5q1VwggODwIAgPAQ8gWrZNc+SdLIAgoWAAAIDyFfsJrLS3Q8aoAyh6VaHQUAAOCchHzBctWW6vCAfNntIR8VAABAUogXrEAgoKymUgWGjbI6CgAAwDkL6YJVfqBaiUa7BuZRsAAAQPgI6YJVsXefDNk0dhwFCwAAhI+QLlidh0pUFZvBCUYBAEBYCemC5T5SqvpB+VbHAAAA6JGQLVgdHZ3Kbj0oZzaHBwEAQHgJ2YK1d0+5ohRQej4FCwAAhJeQLVi1+0vUaYvWmNG5VkcBAADokZAtWEZVqSoSR8gVHWV1FAAAgB4J2YI1+Pg+tQ5lgTsAAAg/IVmwjh1v1DBvnRJyRlsdBQAAoMdCsmCV7CqVJOWOZYE7AAAIPyFZsBoPlKjR6VZO1lCrowAAAPRYSBasqJpSVQ0YJbs9JOMBAACcUcg1GMMwlNlYKl86C9wBAEB4CrmCdbCiVsmBFg3MY4E7AAAITyFXsA7sLZEkjRnHAncAABCeQq5gtR8sUVVMugamuK2OAgAAcF5CrmAlHi3V8UGsvwIAAOErpAqW1+tVdku57JkcHgQAAOErpArW3pKDcpl+pY1igTsAAAhfIVWwDu8rkdfm1NgxuVZHAQAAOG8hVbAClft0KCFXMS6X1VEAAADOW0gVrEH1+9UymAXuAAAgvIVMwWpt61BGx2G5MkZYHQUAAOCChEzB2ldyQHaZSs/LszoKAADABQmZgnXkQJl8cig/P8vqKAAAABckZAqW/3C5quKzWOAOAADCXsgULPfxA2oayPorAAAQ/kKiYHX5fMpsq5AjnYIFAADCX0gUrP37q+Qy/UrNpWABAIDwFxIFq7qsTJI0ajRncAcAAOEvJApWZ1W5qmPSlOROsDoKAADABQuJghV3rFzHB3B4EAAARAbLC1YgEFCG54DMNAoWAACIDJYXrIqqOiUa7RqQQ8ECAACRwfKCdWhfuSQpbxSXyAEAAJHB8oLVUlmmY1EpGjokxeooAAAAvcLyghV9pFx1yZyeAQAARA7LC1Za8wH5hrD+CgAARA5LC1bNkXoN8jUqMYuCBQAAIoelBau85MQZ3HPyWeAOAAAih6UFq7GiXB5HvLKzhloZAwAAoFedVrD279+vSy65RPn5+Zo6dap279592kaGYej222/X2LFjNX78eF122WUqO3k9wR7tvK5chxOHy263fCkYAABArzmt2SxfvlzLli1TaWmpVq5cqSVLlpy20erVq/X++++ruLhYO3bs0Ny5c/Xv//7vPd75oIYDah/M+isAABBZuhWso0ePasuWLbrhhhskSdddd52qqqpOm52y2Wzyer3q7OyUaZryeDzKyMjo0Y6bmluV4a1VbCbrrwAAQGRxfvxOVVWV0tLS5HSeeNhmsykrK0uVlZXKy/tnEbrmmmv09ttva+jQoUpMTNSwYcP07rvvnnFHHo+n2/1du8qUIykjjxksAAAQWZxnf8rptmzZol27dunw4cNyu9368Y9/rO9+97t68sknP3ObzMzMbvd/89NfKM0WpYEpCWpoaDifGOgjjY2NVkfABWIMIwPjGBkYx8iQktKzK850K1iZmZmqra2V3++X0+mUaZqqrKxUVlZWt42eeOIJXX755UpOTpYkfetb39KVV155xh1VVVXJ7Xafuv/2ww+qypajOUMG9ygwgqOn/yEh9DCGkYFxjAyMY//TbQ3W4MGDNWnSpFMzUS+++KIyMjK6HR6UpNzcXK1du1ZdXV2SpDVr1qigoOCMO3K73d1uAxoPyDOQS+QAAIDIc9ohwoceekhLlizRXXfdJbfbrVWrVkmSli5dqoULF2rhwoX613/9V+3du1cTJkxQVFSUhg4dqgcffPCcd9rR6VVmW5XaJn6+934SAACAEHFawRo1apQ2btx42hMfffTRU5+7XC498sgj573TfaUVGqSAhozgHYQAACDyWHKGz9rycgVk16hRw63YPQAAQJ+ypGB5aypUE5Om+LhYK3YPAADQpywpWLHHK9SQnG3FrgEAAPqcJQVrSEulAoMpWAAAIDIFvWAdOdaoQf4mJQzLCfauAQAAgiLoBetg+SFJ0rDcnGDvGgAAICiCXrDqD1XIa3MqNyc92LsGAAAIiqAXLH/dIdXEZigqKirYuwYAAAiKoBes+IZDahrAAncAABC5glqwDMNQWushaQgFCwAARK6gFqyaunolBdrkzsgJ5m4BAACCKqgFq6K8QpKUxTsIAQBABAtqwWqsOqR2u0tZmUOCuVsAAICgCu4arLoK1cRnyeFwBHO3AAAAQRXUguVuPCQP7yAEAAARLmgFKxAIaFhbpey8gxAAAES4oBWsyuqjijO8GpBJwQIAAJEtaAXrcEWVJCk7LydYuwQAALBE0AqWp+aQPI54pQ8dFKxdAgAAWCJoBct2tFI1Cdmy24N+dR4AAICgClrbcTdXqT0lK1i7AwAAsEzQClZa+2E5h7LAHQAARL6gFSyXGdDArJxg7Q4AAMAyQV0QNZx3EAIAgH4gaAWrwZmkwakDgrU7AAAAywStYB1NyAjWrgAAACwVtILVmZIZrF0BAABYKmgFKzqNdxACAID+IWgFa1AmM1gAAKB/CFrBGp5LwQoHXq9X//Vf/yWv12t1FJwnxjAyMI6RgXGMDF6vV3feeWePxtFmmqbZh5nk8XiUlJSk5uZmud3uvtwVegHjFf4Yw8jAOEYGxjEynM84cmFAAACAXkbBAgAA6GXOvt7BR0cgPR5PX+8KveCjcWK8whdjGBkYx8jAOEaGj8avJ6uq+nwNVnV1tTJ5ByEAAAhzR48eVWpq6jk9t88LlmEYqqmpUWJiomw2W1/uCgAAoM/0pMv0ecECAADob1jkDgAA0MsoWAAAAL2MgtVPdXZ26tprr1V+fr4mTJigK664QmVlZZJOLOJbsGCBRo4cqYKCAr333nsWp8W5WLVqlWw2m/76179KYhzDjdfr1a233qqRI0fqoosu0g033CBJ2r9/vy655BLl5+dr6tSp2r17t8VJcSavvPKKJk2apMLCQhUUFOiPf/yjJF6Poey2225TTk6ObDabioqKTj1+ptfeOb0uTfRLHR0d5ssvv2wahmGapmn+7ne/M2fPnm2apml++9vfNn/+85+bpmmamzZtMocNG2Z2dXVZlBTn4uDBg+bFF19szpgxw/zLX/5imibjGG5+8IMfmLfeeuup12Rtba1pmqZ52WWXmatWrTJN0zT//Oc/m1OmTLEqIs7CMAxzwIABZnFxsWmaJ16XLpfL9Hg8vB5D2LvvvmtWVVWZ2dnZ5vbt2089fqbX3rm8LilYME3TNDdv3mxmZ2ebpmma8fHxp/5xN03TnDp1qvnGG29YlAxnEwgEzLlz55pbtmwxZ8+efapgMY7ho7W11UxMTDSbm5u7PX7kyBEzMTHR9Pl8pmme+AM+ZMgQc//+/VbExFkYhmGmpKSY7777rmmapllcXGymp6ebXq+X12MY+HjBOtNr71xfl31+olGEh/vuu0+LFi1SfX29fD6fhg4deuprOTk5qqystDAdzuTee+/VpZdeqsmTJ596jHEML+Xl5UpJSdFdd92lN998U7GxsbrzzjuVnJystLQ0OZ0n/qm22WzKyspSZWWl8vLyLE6NT7LZbHruuef0pS99SfHx8WpsbNRLL72klpYWXo9hpqqq6jNfe0lJSef0uqRgQXfddZfKysr01ltvqaOjw+o46IFdu3bpxRdfZD1HmPP7/Tp06JDGjh2ru+++W9u3b9cVV1yhl19+2epo6AG/369f/epXeumllzRr1ixt3rxZCxcu7LauB/0Hi9z7ud/+9rd66aWX9OqrryouLk4DBw6U0+lUXV3dqedUVFQoKyvLwpT4LOvWrVNFRYVGjhypnJwcffDBB1q2bJmef/55xjGMZGVlyW636+tf/7okaeLEiRo+fLgOHTqk2tpa+f1+SScu01FZWck4hqiioiLV1NRo1qxZkqSpU6cqIyNDO3bs4PUYZjIzMz/ztXemr30cBasfu/fee/XMM8/ojTfeUHJy8qnHv/zlL+vBBx+UJG3evFmHDx/W7NmzrYqJM7j55ptVW1uriooKVVRUaMaMGXr44Yd18803M45hZNCgQZo7d65ee+01SdLBgwd18OBBXXrppZo0aZKefPJJSdKLL76ojIwMDg+GqI/+8O7du1eSVFZWpvLyco0aNYrXY5gZPHjwZ772zvS1boK4fgwhpKqqypRk5ubmmhMmTDAnTJhgTps2zTRN06yrqzOvuOIKMy8vzxw7dqy5du1ai9PiXH18kTvjGF7Ky8vNOXPmmAUFBeb48ePNF154wTRN0ywpKTFnzJhhjhw50pw8ebK5Y8cOi5PiTJ5++ulTY1hQUGA+9dRTpmnyegxly5YtM4cNG2Y6HA5z8ODB5ogRI0zTPPNr71xel1wqBwAAoJdxiBAAAKCXUbAAAAB6GQULAACgl/0/3n9jtW9FtAIAAAAASUVORK5CYII=\" />"
      ]
     },
     "execution_count": 29,
     "metadata": {},
     "output_type": "execute_result"
    }
   ],
   "source": [
    "plot(hcat(getvalue(predictedC), dataC))"
   ]
  },
  {
   "cell_type": "code",
   "execution_count": 30,
   "metadata": {},
   "outputs": [
    {
     "data": {
      "text/html": [
       "<img src=\"data:image/png;base64,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\" />"
      ]
     },
     "execution_count": 30,
     "metadata": {},
     "output_type": "execute_result"
    }
   ],
   "source": [
    "plot(K, hcat(Ψ * true_coeff, Ψ * getvalue(coeff)))"
   ]
  },
  {
   "cell_type": "markdown",
   "metadata": {},
   "source": [
    "The approximation is only good within the actually observed data, that is very bad! Macro is about what agent think can happen and what they would do."
   ]
  },
  {
   "cell_type": "markdown",
   "metadata": {},
   "source": [
    "### Variante B\n",
    "use 10 EE as constraints and gap between predition and data as objective function!\n",
    "makes more sense in order to target moments of data more easily\n",
    "but auto will not be able to differentiate through the function that creats the basis matrix!"
   ]
  },
  {
   "cell_type": "code",
   "execution_count": 193,
   "metadata": {},
   "outputs": [
    {
     "data": {
      "text/plain": [
       "f_prime (generic function with 2 methods)"
      ]
     },
     "execution_count": 193,
     "metadata": {},
     "output_type": "execute_result"
    }
   ],
   "source": [
    "u_crra_prime(c, γ) = begin\n",
    "    if (c <= 0)\n",
    "        return -1000000.\n",
    "        else\n",
    "        return c.^-γ\n",
    "    end\n",
    "end\n",
    "\n",
    "u_crra_prime_inv(u, γ) = begin\n",
    "    if (u <= 0)\n",
    "        return -100000.\n",
    "    else\n",
    "        return u.^(-1/γ) \n",
    "    end\n",
    "end\n",
    "\n",
    "function f(k, α, A)\n",
    "    A*k^α\n",
    "end\n",
    "\n",
    "function f_prime(k, α, A)\n",
    "    if (k <= 0)\n",
    "        return zero(k)\n",
    "    else\n",
    "        A*α*k^(α-1)\n",
    "    end\n",
    "end"
   ]
  },
  {
   "cell_type": "code",
   "execution_count": 194,
   "metadata": {},
   "outputs": [],
   "source": [
    "k_stst = 4.628988089138438 #reference point of the grid\n",
    "basis = Basis(ChebParams(10, 0.5*k_stst, 1.5*k_stst))\n",
    "K = nodes(basis)[1] #grid\n",
    "Ψ = BasisMatrix(basis, Expanded(), K).vals[1] #\\Psi(k)\n",
    "\n",
    "m = Model(solver=IpoptSolver(print_level=5, max_iter=500))\n",
    "\n",
    "#@variable(m, 0 <= β <= 1, start = 0.95)\n",
    "#@variable(m, 0 <= δ <= 1, start = 0.05)\n",
    "#@variable(m, 0 <= α <= 1, start = 0.3)\n",
    "#@variable(m, A >= 0, start = 1)\n",
    "#@variable(m, γ >= 0, start = 2)\n",
    "\n",
    "@variable(m, 0 <= β <= 1, start = 0.0)\n",
    "@variable(m, 0 <= δ <= 1, start = 0.00)\n",
    "@variable(m, 0 <= α <= 1, start = 0.9)\n",
    "@variable(m, A >= 0, start = 5)\n",
    "@variable(m, γ >= 0, start = 10)\n",
    "\n",
    "@variable(m, θ[1:10], start = 0)\n",
    "setvalue(θ[1], true_coeff[1])\n",
    "\n",
    "@variable(m, modelC[i=1:10], start = 1)\n",
    "@variable(m, modelCprime[i=1:10], start = 1)\n",
    "@variable(m, modelKprime[i=1:10], start = 1)\n",
    "\n",
    "JuMP.register(m, :u_crra_prime, 2, u_crra_prime, autodiff=true)\n",
    "JuMP.register(m, :f, 3, f, autodiff=true)\n",
    "JuMP.register(m, :f_prime, 3, f_prime, autodiff=true)\n",
    "JuMP.register(m, :u_crra_prime_inv, 2, u_crra_prime_inv, autodiff=true)"
   ]
  },
  {
   "cell_type": "code",
   "execution_count": 195,
   "metadata": {},
   "outputs": [
    {
     "data": {
      "text/plain": [
       "Ψprime (generic function with 1 method)"
      ]
     },
     "execution_count": 195,
     "metadata": {},
     "output_type": "execute_result"
    }
   ],
   "source": [
    "function Ψprime(x, order)\n",
    "    k_stst = 4.628988089138438\n",
    "    a = 0.2*k_stst\n",
    "    b = 2*k_stst\n",
    "        \n",
    "    z = (2/(b-a)) * (x-(a+b)/2)\n",
    "    \n",
    "    if (order == 1)\n",
    "        return 1.\n",
    "    elseif (order == 2)\n",
    "        return z\n",
    "    else\n",
    "\n",
    "        out1 = 1.\n",
    "        out2 = z\n",
    "        out3 = 0.\n",
    "\n",
    "        for j in 3:order\n",
    "            out3 = 2. * z * out2 - out1\n",
    "            out1 = out2\n",
    "            out2 = out3\n",
    "        end\n",
    "\n",
    "        return out3\n",
    "    end\n",
    "end"
   ]
  },
  {
   "cell_type": "code",
   "execution_count": 196,
   "metadata": {},
   "outputs": [],
   "source": [
    "JuMP.register(m, :Ψprime, 2, Ψprime, autodiff=true)"
   ]
  },
  {
   "cell_type": "code",
   "execution_count": 197,
   "metadata": {},
   "outputs": [],
   "source": [
    "@NLconstraint(m, a[i=1:10], modelC[i] == sum(Ψ[i, k] * θ[k] for k in 1:10))\n",
    "@NLconstraint(m, b[i=1:10], modelCprime[i] == sum(Ψprime(modelKprime[i], k) * θ[k] for k in 1:10))\n",
    "@NLconstraint(m, c[i=1:10], modelKprime[i] == f(K[i], α, A) + (1-δ)*K[i] - modelC[i])\n",
    "\n",
    "@NLconstraint(m, EE[i=1:10], modelC[i] == u_crra_prime_inv(\n",
    "    β * u_crra_prime(modelCprime[i], γ) * (f_prime(modelKprime[i], α, A) + 1-δ), γ));"
   ]
  },
  {
   "cell_type": "code",
   "execution_count": 198,
   "metadata": {},
   "outputs": [],
   "source": [
    "@NLexpression(m, predictedK[t=2:100], f(dataK[t-1], α, A) + (1-δ)*dataK[t-1] - dataC[t-1])\n",
    "@NLexpression(m, predictedC[t=1:100], sum(Φ[t, k] * θ[k] for k in 1:10));"
   ]
  },
  {
   "cell_type": "code",
   "execution_count": 199,
   "metadata": {},
   "outputs": [],
   "source": [
    "@NLobjective(m, Min, sum((dataC[t] - predictedC[t])^2 for t in 1:100) +\n",
    "    sum((dataK[t] - predictedK[t])^2 for t in 2:100))"
   ]
  },
  {
   "cell_type": "code",
   "execution_count": 189,
   "metadata": {},
   "outputs": [],
   "source": [
    "@NLobjective(m, Min, (β-0.95)^2 + (δ-0.05)^2 + (α-0.3)^2 + (A-1)^2 + (γ-2)^2)"
   ]
  },
  {
   "cell_type": "code",
   "execution_count": 200,
   "metadata": {
    "scrolled": true
   },
   "outputs": [
    {
     "name": "stdout",
     "output_type": "stream",
     "text": [
      "This is Ipopt version 3.12.1, running with linear solver mumps.\n",
      "NOTE: Other linear solvers might be more efficient (see Ipopt documentation).\n",
      "\n",
      "Number of nonzeros in equality constraint Jacobian...:      360\n",
      "Number of nonzeros in inequality constraint Jacobian.:        0\n",
      "Number of nonzeros in Lagrangian Hessian.............:        0\n",
      "\n",
      "Total number of variables............................:       45\n",
      "                     variables with only lower bounds:        2\n",
      "                variables with lower and upper bounds:        3\n",
      "                     variables with only upper bounds:        0\n",
      "Total number of equality constraints.................:       40\n",
      "Total number of inequality constraints...............:        0\n",
      "        inequality constraints with only lower bounds:        0\n",
      "   inequality constraints with lower and upper bounds:        0\n",
      "        inequality constraints with only upper bounds:        0\n",
      "\n",
      "iter    objective    inf_pr   inf_du lg(mu)  ||d||  lg(rg) alpha_du alpha_pr  ls\n",
      "   0  2.7658299e+04 3.33e+01 1.00e+00   0.0 0.00e+00    -  0.00e+00 0.00e+00   0\n",
      "   1  7.5649948e+00 7.03e+00 2.95e+02   0.0 3.13e+00    -  5.84e-01 9.69e-01f  1\n",
      "   2  8.4994896e+01 8.56e+00 3.00e+02   1.0 5.96e+00    -  7.62e-01 1.65e-01f  1\n",
      "   3  7.9627112e+02 1.36e+00 6.92e+02   0.9 8.84e-01    -  1.00e+00 8.58e-01f  1\n",
      "   4  1.2630113e+03 2.59e-01 1.35e+03   0.9 9.12e-01    -  9.98e-01 1.00e+00f  1\n",
      "   5  1.0954321e+03 5.54e-02 5.46e+02  -0.4 3.78e-01    -  1.00e+00 1.00e+00h  1\n",
      "   6  1.1032873e+03 4.24e-02 2.46e+03  -0.7 3.83e-01    -  1.00e+00 1.00e+00h  1\n",
      "   7  6.9619281e+02 4.88e-02 9.66e+01  -1.1 7.56e-01    -  1.00e+00 1.00e+00h  1\n",
      "   8  2.4368928e+02 1.42e+00 1.31e+02  -1.0 3.74e+00    -  1.00e+00 1.00e+00f  1\n",
      "   9  1.6021728e+02 4.04e-02 1.22e+02  -1.7 9.50e-01    -  1.00e+00 1.00e+00h  1\n",
      "iter    objective    inf_pr   inf_du lg(mu)  ||d||  lg(rg) alpha_du alpha_pr  ls\n",
      "  10  1.6068333e+02 4.96e-02 7.24e+01  -1.3 2.88e+00    -  1.00e+00 4.56e-01h  2\n",
      "  11  1.2930679e+02 5.66e-03 9.27e+01  -2.0 7.53e-01    -  1.00e+00 1.00e+00h  1\n",
      "  12  1.0473156e+02 3.88e-01 7.71e+01  -2.6 7.82e-01    -  1.00e+00 1.00e+00h  1\n",
      "  13  4.2100262e+01 1.20e+00 9.33e+01  -0.9 1.04e+01    -  1.00e+00 1.30e-01f  2\n",
      "  14  2.1353786e+01 2.22e-01 1.71e+00  -1.5 2.36e+00    -  1.00e+00 1.00e+00h  1\n",
      "  15  9.2046736e+01 4.03e-02 5.06e+00  -1.7 3.69e+00    -  9.96e-01 6.63e-01h  1\n",
      "  16  1.0228233e+01 5.88e-01 1.34e+01  -1.4 2.24e+00    -  1.00e+00 1.00e+00f  1\n",
      "  17  1.6995105e+01 2.37e-01 1.89e+01  -1.7 9.83e-01    -  1.00e+00 1.00e+00h  1\n",
      "  18  2.5448239e+00 6.46e-02 1.72e+00  -2.1 5.98e-01    -  1.00e+00 1.00e+00h  1\n",
      "  19  1.3517158e+01 5.75e-03 1.13e+00  -2.8 2.15e+00    -  1.00e+00 1.00e+00h  1\n",
      "iter    objective    inf_pr   inf_du lg(mu)  ||d||  lg(rg) alpha_du alpha_pr  ls\n",
      "  20  1.9875706e+00 3.46e-02 3.68e-01  -3.0 1.96e+00    -  1.00e+00 1.00e+00h  1\n",
      "  21  4.5277081e+00 1.67e-02 2.08e-01  -3.1 5.39e-01    -  1.00e+00 9.59e-01H  1\n",
      "  22  1.7696050e+00 2.75e-02 9.04e-02  -3.2 5.09e-01    -  1.00e+00 1.00e+00h  1\n",
      "  23  1.7349830e+00 6.84e-04 5.84e-03  -4.4 6.04e-02    -  1.00e+00 1.00e+00h  1\n",
      "  24  2.0065776e+00 5.26e-04 3.37e-02  -4.9 1.71e-01    -  1.00e+00 1.00e+00H  1\n",
      "  25  1.8394197e+00 2.82e-03 3.64e-02  -5.8 2.90e-01    -  1.00e+00 1.00e+00h  1\n",
      "  26  4.4705392e+00 2.19e-03 1.48e-01  -5.9 2.83e-01    -  2.33e-01 1.00e+00H  1\n",
      "  27  4.4101321e+00 2.60e-03 1.47e-01  -5.9 1.66e+01    -  3.59e-02 1.49e-03h  6\n",
      "  28  1.7844854e+00 3.97e-05 2.18e-02  -5.9 6.20e-01    -  1.00e+00 8.25e-01H  1\n",
      "  29  1.7624261e+00 3.30e-02 3.58e-03  -6.0 2.33e-01    -  1.00e+00 1.00e+00f  1\n",
      "iter    objective    inf_pr   inf_du lg(mu)  ||d||  lg(rg) alpha_du alpha_pr  ls\n",
      "  30  1.7205377e+00 2.71e-03 7.79e-03  -6.0 1.98e-01    -  1.00e+00 1.00e+00h  1\n",
      "  31  1.9136644e+00 1.14e-04 4.05e-02  -6.8 1.27e+00    -  1.00e+00 1.00e+00H  1\n",
      "  32  1.7105095e+00 4.54e-03 1.89e-03  -6.9 9.33e-01    -  2.96e-01 1.00e+00h  1\n",
      "  33  1.7360760e+00 2.28e-05 8.62e-03  -8.2 2.88e-01    -  1.00e+00 1.00e+00H  1\n",
      "  34  1.7054178e+00 3.60e-03 1.15e-03  -8.8 3.74e-01    -  1.00e+00 1.00e+00h  1\n",
      "  35  1.6891418e+00 1.57e-03 1.41e-03 -10.1 2.79e+00    -  1.00e+00 1.00e+00h  1\n",
      "  36  1.6746017e+00 6.49e+01 3.59e+00  -8.0 6.79e+05    -  7.50e-05 1.83e-05h  1\n",
      "  37  6.1260177e+00 3.26e+00 2.07e-01  -8.2 7.60e+02    -  1.00e+00 2.51e-03h  1\n",
      "Warning: Cutting back alpha due to evaluation error\n",
      "  38  5.8138359e+00 3.26e+00 1.99e-01  -8.2 8.37e+00    -  1.06e-03 8.96e-04h  2\n",
      "  39  5.5471243e+00 3.24e+00 1.94e-01  -8.2 4.61e+00    -  1.80e-03 5.43e-03h  1\n",
      "iter    objective    inf_pr   inf_du lg(mu)  ||d||  lg(rg) alpha_du alpha_pr  ls\n",
      "  40  4.5470320e+01 1.79e+00 1.45e+00  -8.2 2.73e+00    -  1.28e-01 5.00e-01h  2\n",
      "  41  1.1209776e+01 1.63e+00 1.90e+00  -8.2 3.02e+00    -  5.19e-01 4.15e-01h  1\n",
      "  42  1.6489222e+01 5.74e-01 1.33e+00  -8.2 2.30e+00    -  5.04e-01 4.01e-01h  1\n",
      "  43  5.7543173e+00 2.75e-01 3.29e-01  -8.2 9.65e-01    -  1.00e+00 1.00e+00h  1\n",
      "  44  4.4768976e+00 3.08e-02 4.22e-02  -8.2 2.85e-01    -  1.00e+00 1.00e+00h  1\n",
      "  45  2.6346431e+00 5.58e-03 9.36e-02  -8.2 2.29e-01    -  5.10e-01 1.00e+00h  1\n",
      "  46  1.5669943e+00 1.58e-01 4.01e-02  -8.2 6.95e-01    -  3.87e-01 5.00e-01h  2\n",
      "  47  1.1986309e+00 2.24e-02 4.00e-02  -4.1 1.16e-01    -  9.97e-01 1.00e+00h  1\n",
      "  48  9.3466887e+00 8.23e-03 2.93e-01  -3.6 2.82e-01    -  8.48e-01 1.00e+00H  1\n",
      "  49  6.9233259e-01 4.58e-01 7.75e-02  -3.8 9.93e-01    -  1.00e+00 1.00e+00h  1\n",
      "iter    objective    inf_pr   inf_du lg(mu)  ||d||  lg(rg) alpha_du alpha_pr  ls\n",
      "  50  9.1523072e-01 9.19e-02 2.73e-02  -3.9 2.34e-01    -  1.00e+00 1.00e+00h  1\n",
      "  51  2.5732509e-01 1.71e-02 1.66e-02  -4.5 1.38e-01    -  1.00e+00 1.00e+00h  1\n",
      "  52  7.3474070e-02 3.33e-02 2.22e-03  -4.6 1.78e-01    -  1.00e+00 1.00e+00h  1\n",
      "  53  3.2774982e-02 3.24e-03 1.25e-03  -5.8 7.89e-02    -  1.00e+00 1.00e+00h  1\n",
      "  54  1.9568875e-02 8.41e-03 7.57e-03  -7.8 6.19e-02    -  1.00e+00 1.00e+00h  1\n",
      "  55  1.3091827e-02 1.03e-02 1.79e-03  -4.9 9.71e-01    -  1.00e+00 6.13e-02h  5\n",
      "  56  1.1532961e-02 7.61e-03 7.20e-04  -6.2 2.34e-02    -  1.00e+00 1.00e+00h  1\n",
      "  57  1.1359736e-02 1.04e-03 1.17e-03  -7.5 9.11e-03    -  1.00e+00 1.00e+00h  1\n",
      "  58  1.1186586e-02 1.06e-02 5.31e-04  -8.9 2.53e-02    -  1.00e+00 1.00e+00h  1\n",
      "  59  1.0830942e-02 2.56e-04 4.57e-04  -8.7 4.06e-03    -  1.00e+00 1.00e+00h  1\n",
      "iter    objective    inf_pr   inf_du lg(mu)  ||d||  lg(rg) alpha_du alpha_pr  ls\n",
      "  60  1.2063956e-02 1.64e-04 3.63e-03 -10.2 2.32e-02    -  1.00e+00 1.00e+00H  1\n",
      "  61  1.0811851e-02 5.58e-03 1.27e-04 -10.4 2.63e-02    -  1.00e+00 1.00e+00h  1\n",
      "  62  1.1366911e-02 2.23e-03 1.44e-03 -10.6 1.99e-02    -  1.00e+00 1.00e+00h  1\n",
      "  63  1.0616943e-02 7.75e-05 3.50e-04 -10.6 1.01e-02    -  1.00e+00 1.00e+00h  1\n",
      "  64  1.0557721e-02 8.48e-04 3.31e-05 -11.0 7.76e-03    -  1.00e+00 1.00e+00h  1\n",
      "  65  1.0552460e-02 1.06e-03 7.59e-05 -11.0 2.21e-02    -  1.00e+00 2.50e-01h  3\n",
      "  66  1.0544908e-02 1.31e-03 2.62e-04 -11.0 1.13e-01    -  1.00e+00 3.95e-02h  5\n",
      "  67  1.0540683e-02 1.10e-04 2.03e-04 -11.0 3.64e-03    -  1.00e+00 1.00e+00h  1\n",
      "  68  1.0550725e-02 1.20e-05 8.29e-05 -11.0 2.15e-03    -  1.00e+00 1.00e+00h  1\n",
      "  69  1.0529168e-02 8.50e-05 1.23e-05 -11.0 3.37e-03    -  1.00e+00 1.00e+00h  1\n",
      "iter    objective    inf_pr   inf_du lg(mu)  ||d||  lg(rg) alpha_du alpha_pr  ls\n",
      "  70  1.0527556e-02 7.69e-06 8.86e-06 -11.0 9.00e-04    -  1.00e+00 1.00e+00h  1\n",
      "  71  1.0531588e-02 6.35e-06 1.11e-04 -11.0 2.38e-03    -  1.00e+00 1.00e+00H  1\n",
      "  72  1.0527542e-02 5.54e-05 3.43e-06 -11.0 2.04e-03    -  1.00e+00 1.00e+00h  1\n",
      "  73  1.0531954e-02 4.50e-07 1.03e-04 -11.0 3.29e-04    -  1.00e+00 1.00e+00h  1\n",
      "  74  1.0527512e-02 2.53e-07 4.26e-06 -11.0 3.49e-04    -  1.00e+00 1.00e+00h  1\n",
      "  75  1.0527513e-02 9.61e-10 2.64e-08 -11.0 2.09e-05    -  1.00e+00 1.00e+00h  1\n",
      "  76  1.0527512e-02 4.44e-09 2.07e-08 -11.0 1.69e-05    -  1.00e+00 1.00e+00h  1\n",
      "  77  1.0527522e-02 1.07e-09 2.35e-07 -11.0 1.66e-04    -  1.00e+00 1.00e+00H  1\n",
      "  78  1.0527527e-02 1.40e-10 1.07e-07 -11.0 1.76e-04    -  1.00e+00 1.00e+00H  1\n",
      "  79  1.0527528e-02 3.01e-12 1.44e-07 -11.0 3.49e-04    -  1.00e+00 1.00e+00H  1\n",
      "iter    objective    inf_pr   inf_du lg(mu)  ||d||  lg(rg) alpha_du alpha_pr  ls\n",
      "  80  1.0528582e-02 4.43e-12 6.31e-07 -11.0 7.41e-04    -  1.00e+00 1.00e+00H  1\n",
      "  81  1.0527505e-02 7.11e-07 1.73e-06 -11.0 7.55e-04    -  1.00e+00 1.00e+00h  1\n",
      "  82  1.0527922e-02 4.08e-07 3.41e-05 -11.0 3.42e-04    -  1.00e+00 5.00e-01h  2\n",
      "  83  1.0527509e-02 4.49e-08 1.24e-09 -11.0 1.57e-04    -  1.00e+00 1.00e+00h  1\n",
      "  84  1.0527509e-02 1.23e-11 1.31e-10 -11.0 9.84e-07    -  1.00e+00 1.00e+00h  1\n",
      "\n",
      "Number of Iterations....: 84\n",
      "\n",
      "                                   (scaled)                 (unscaled)\n",
      "Objective...............:   1.2012702960347219e-05    1.0527509068439512e-02\n",
      "Dual infeasibility......:   1.3085943364066904e-10    1.1468059094530234e-07\n",
      "Constraint violation....:   1.2317258324401337e-11    1.2317258324401337e-11\n",
      "Complementarity.........:   9.9999999999999590e-12    8.7636472017911107e-09\n",
      "Overall NLP error.......:   1.3085943364066904e-10    1.1468059094530234e-07\n",
      "\n",
      "\n",
      "Number of objective function evaluations             = 142\n",
      "Number of objective gradient evaluations             = 85\n",
      "Number of equality constraint evaluations            = 145\n",
      "Number of inequality constraint evaluations          = 0\n",
      "Number of equality constraint Jacobian evaluations   = 85\n",
      "Number of inequality constraint Jacobian evaluations = 0\n",
      "Number of Lagrangian Hessian evaluations             = 0\n",
      "Total CPU secs in IPOPT (w/o function evaluations)   =      0.116\n",
      "Total CPU secs in NLP function evaluations           =      0.060\n",
      "\n",
      "EXIT: Optimal Solution Found.\n"
     ]
    },
    {
     "data": {
      "text/plain": [
       ":Optimal"
      ]
     },
     "execution_count": 200,
     "metadata": {},
     "output_type": "execute_result"
    }
   ],
   "source": [
    "solve(m)"
   ]
  },
  {
   "cell_type": "code",
   "execution_count": 201,
   "metadata": {},
   "outputs": [
    {
     "data": {
      "text/html": [
       "<img src=\"data:image/png;base64,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\" />"
      ]
     },
     "execution_count": 201,
     "metadata": {},
     "output_type": "execute_result"
    }
   ],
   "source": [
    "plot(K, hcat(Ψ * true_coeff, Ψ * getvalue(θ)))"
   ]
  },
  {
   "cell_type": "code",
   "execution_count": 202,
   "metadata": {},
   "outputs": [
    {
     "data": {
      "text/plain": [
       "(0.9417939201325926, 0.04465443608079825, 0.2919778321595607, 0.9966774632008574, 0.11386282555594235)"
      ]
     },
     "execution_count": 202,
     "metadata": {},
     "output_type": "execute_result"
    }
   ],
   "source": [
    "getvalue(β), getvalue(δ), getvalue(α), getvalue(A), getvalue(γ)"
   ]
  },
  {
   "cell_type": "code",
   "execution_count": 203,
   "metadata": {},
   "outputs": [],
   "source": [
    "d = JuMP.NLPEvaluator(m)\n",
    "MathProgBase.initialize(d, [:Grad, :Jac])"
   ]
  },
  {
   "cell_type": "code",
   "execution_count": 204,
   "metadata": {},
   "outputs": [],
   "source": [
    "g = zeros(40)\n",
    "MathProgBase.eval_g(d, g, m.colVal)"
   ]
  },
  {
   "cell_type": "code",
   "execution_count": 205,
   "metadata": {},
   "outputs": [
    {
     "data": {
      "text/plain": [
       "10-element Array{Float64,1}:\n",
       " 4.67137e-12\n",
       " 5.06539e-12\n",
       " 5.8038e-12 \n",
       " 6.79945e-12\n",
       " 7.96185e-12\n",
       " 9.16911e-12\n",
       " 1.03049e-11\n",
       " 1.12628e-11\n",
       " 1.19573e-11\n",
       " 1.23173e-11"
      ]
     },
     "execution_count": 205,
     "metadata": {},
     "output_type": "execute_result"
    }
   ],
   "source": [
    "g[31:end]"
   ]
  },
  {
   "cell_type": "code",
   "execution_count": 210,
   "metadata": {},
   "outputs": [
    {
     "data": {
      "text/plain": [
       "10-element Array{Float64,1}:\n",
       " 4.6716e-12 \n",
       " 5.0655e-12 \n",
       " 5.80391e-12\n",
       " 6.79945e-12\n",
       " 7.9623e-12 \n",
       " 9.16911e-12\n",
       " 1.03044e-11\n",
       " 1.1263e-11 \n",
       " 1.19573e-11\n",
       " 1.23173e-11"
      ]
     },
     "execution_count": 210,
     "metadata": {},
     "output_type": "execute_result"
    }
   ],
   "source": [
    "Ψ * getvalue(θ) .- u_crra_prime_inv.(\n",
    "    getvalue(β) * u_crra_prime.(getvalue(modelCprime), getvalue(γ)) .* (f_prime.(getvalue(modelKprime), getvalue(α), getvalue(A)) + 1-getvalue(δ)), getvalue(γ))"
   ]
  },
  {
   "cell_type": "code",
   "execution_count": 211,
   "metadata": {},
   "outputs": [
    {
     "data": {
      "text/plain": [
       "10-element Array{Float64,1}:\n",
       "  1.41822    \n",
       "  0.625775   \n",
       " -0.00783473 \n",
       "  0.00103747 \n",
       " -0.000158287\n",
       "  2.64828e-5 \n",
       " -4.77674e-6 \n",
       "  9.20817e-7 \n",
       " -1.87509e-7 \n",
       "  3.81801e-8 "
      ]
     },
     "execution_count": 211,
     "metadata": {},
     "output_type": "execute_result"
    }
   ],
   "source": [
    "getvalue(θ)"
   ]
  },
  {
   "cell_type": "code",
   "execution_count": 212,
   "metadata": {},
   "outputs": [
    {
     "data": {
      "text/plain": [
       "10-element Array{Float64,1}:\n",
       "  1.41822    \n",
       "  0.625775   \n",
       " -0.00783473 \n",
       "  0.00103747 \n",
       " -0.000158287\n",
       "  2.64828e-5 \n",
       " -4.77674e-6 \n",
       "  9.20817e-7 \n",
       " -1.87509e-7 \n",
       "  3.81801e-8 "
      ]
     },
     "execution_count": 212,
     "metadata": {},
     "output_type": "execute_result"
    }
   ],
   "source": [
    "a = getvalue(θ)"
   ]
  },
  {
   "cell_type": "code",
   "execution_count": 213,
   "metadata": {},
   "outputs": [
    {
     "data": {
      "text/plain": [
       "10-element Array{Float64,1}:\n",
       " 0.977089\n",
       " 1.37987 \n",
       " 2.14602 \n",
       " 3.20052 \n",
       " 4.44017 \n",
       " 5.74361 \n",
       " 6.98325 \n",
       " 8.03776 \n",
       " 8.8039  \n",
       " 9.20668 "
      ]
     },
     "execution_count": 213,
     "metadata": {},
     "output_type": "execute_result"
    }
   ],
   "source": [
    "#solve\n",
    "\n",
    "    k_stst = steady_state_k(model)\n",
    "\n",
    "    basis = Basis(ChebParams(10, 0.2*k_stst, 2*k_stst))\n",
    "\n",
    "    Ψ = BasisMatrix(basis, Expanded()).vals[1]\n",
    "    K = nodes(basis)[1]"
   ]
  },
  {
   "cell_type": "code",
   "execution_count": 215,
   "metadata": {},
   "outputs": [
    {
     "data": {
      "text/plain": [
       "10-element Array{Float64,1}:\n",
       "  1.39888    \n",
       "  0.613729   \n",
       " -0.0261356  \n",
       "  0.00825837 \n",
       " -0.0032288  \n",
       "  0.0013907  \n",
       " -0.000630003\n",
       "  0.000292366\n",
       " -0.000133819\n",
       "  5.23653e-5 "
      ]
     },
     "execution_count": 215,
     "metadata": {},
     "output_type": "execute_result"
    }
   ],
   "source": [
    " @unpack β, α, A, δ, γ = model\n",
    "Y = u_crra_prime_inv.(β*u_crra_prime.(BasisMatrix(basis, Expanded(), f(model,K) + (1-δ)*K - Ψ*a).vals[1]*a, γ) .* \n",
    "                (f_prime.(model, f(model,K) + (1-δ)*K - Ψ*a) + 1-δ), γ)\n",
    "\n",
    "        a = Ψ \\ Y"
   ]
  },
  {
   "cell_type": "code",
   "execution_count": 161,
   "metadata": {},
   "outputs": [
    {
     "data": {
      "text/plain": [
       "(0.95, 0.3, 1.0, 0.05, 2.0)"
      ]
     },
     "execution_count": 161,
     "metadata": {},
     "output_type": "execute_result"
    }
   ],
   "source": [
    "β, α, A, δ, γ"
   ]
  },
  {
   "cell_type": "code",
   "execution_count": null,
   "metadata": {},
   "outputs": [],
   "source": []
  }
 ],
 "metadata": {
  "kernelspec": {
   "display_name": "Julia 0.6.0",
   "language": "julia",
   "name": "julia-0.6"
  },
  "language_info": {
   "file_extension": ".jl",
   "mimetype": "application/julia",
   "name": "julia",
   "version": "0.6.0"
  }
 },
 "nbformat": 4,
 "nbformat_minor": 2
}
